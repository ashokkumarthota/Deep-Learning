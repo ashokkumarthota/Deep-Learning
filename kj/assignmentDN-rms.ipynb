{
 "cells": [
  {
   "cell_type": "code",
   "execution_count": 1,
   "metadata": {},
   "outputs": [],
   "source": [
    "import numpy as np\n",
    "import pandas as pd\n",
    "import sys\n",
    "import matplotlib.pyplot as plt\n",
    "sys.path.append('../fashnMnist/')\n",
    "from fashnMnist.FashnMnist import FashnMnist\n",
    "from fashnMnist.Preprocessor import Preprocessor\n"
   ]
  },
  {
   "cell_type": "code",
   "execution_count": 2,
   "metadata": {},
   "outputs": [],
   "source": [
    "np.random.seed(20)"
   ]
  },
  {
   "cell_type": "markdown",
   "metadata": {},
   "source": [
    "#Load Mnist fafashion dataset using keras"
   ]
  },
  {
   "cell_type": "code",
   "execution_count": 3,
   "metadata": {},
   "outputs": [],
   "source": [
    "from keras.datasets import fashion_mnist\n",
    "(x_train, y_train), (x_test, y_test) = fashion_mnist.load_data()\n"
   ]
  },
  {
   "cell_type": "code",
   "execution_count": 4,
   "metadata": {},
   "outputs": [
    {
     "data": {
      "text/plain": [
       "<matplotlib.image.AxesImage at 0x1e2a0835588>"
      ]
     },
     "execution_count": 4,
     "metadata": {},
     "output_type": "execute_result"
    },
    {
     "data": {
      "image/png": "[encoded data removed]",
      "text/plain": [
       "<Figure size 432x288 with 1 Axes>"
      ]
     },
     "metadata": {},
     "output_type": "display_data"
    }
   ],
   "source": [
    "\n",
    "classes = ['T-shirt/top','Trouser','Pullover','Dress','Coat','Sandal','Shirt','Sneaker','Bag','Ankle boot']\n",
    "plt.figure()\n",
    "plt.imshow(x_test[10])\n"
   ]
  },
  {
   "cell_type": "markdown",
   "metadata": {},
   "source": [
    "#Data preprocessing\n",
    "-verify dataset \n",
    "-perform one hot encoding"
   ]
  },
  {
   "cell_type": "code",
   "execution_count": 5,
   "metadata": {},
   "outputs": [],
   "source": [
    "preprocess=Preprocessor()\n",
    "x_train, y_train, x_test, y_test=preprocess.Process_Fashon_mnistDataSet(x_train, y_train, x_test, y_test)"
   ]
  },
  {
   "cell_type": "code",
   "execution_count": 7,
   "metadata": {},
   "outputs": [
    {
     "name": "stdout",
     "output_type": "stream",
     "text": [
      "Starting RMSProp\n",
      ".....................................\n",
      " steps=10/10 , Accuraacy =86.28 ,Loss=0.3842 \n",
      "Completed\n",
      ".....................................\n",
      "Test accuracy=83.67999999999999\n"
     ]
    },
    {
     "data": {
      "text/plain": [
       "array([0, 0, 0, ..., 0, 0, 0], dtype=int64)"
      ]
     },
     "execution_count": 7,
     "metadata": {},
     "output_type": "execute_result"
    }
   ],
   "source": [
    "rows=x_train.shape[0]\n",
    "network=FashnMnist(x=x_train,y=y_train,decay_rate=0.1,dropout_rate=0.01,lr=.001,epochs =10,batch=int(rows/200),HiddenLayerNuron=[32,64,10],optimizer='rms',activation='tanh')\n",
    "network.train()\n",
    "network.predict(x_test,y_test)"
   ]
  },
  {
   "cell_type": "code",
   "execution_count": 12,
   "metadata": {},
   "outputs": [
    {
     "name": "stdout",
     "output_type": "stream",
     "text": [
      "Starting RMSProp\n",
      ".....................................\n",
      " steps=10/10 , Accuraacy =87.32 ,Loss=0.34623 \n",
      "Completed\n",
      ".....................................\n",
      "Test accuracy=84.19\n"
     ]
    },
    {
     "data": {
      "text/plain": [
       "array([0, 0, 0, ..., 0, 0, 0], dtype=int64)"
      ]
     },
     "execution_count": 12,
     "metadata": {},
     "output_type": "execute_result"
    }
   ],
   "source": [
    "\n",
    "network=FashnMnist(x=x_train,y=y_train,decay_rate=0.1,lr=.001,dropout_rate=0,initializer='he',epochs =10,batch=64,HiddenLayerNuron=[128,64,10],optimizer='rms',activation='tanh')\n",
    "network.train()\n",
    "network.predict(x_test,y_test)"
   ]
  },
  {
   "cell_type": "code",
   "execution_count": 11,
   "metadata": {},
   "outputs": [
    {
     "name": "stdout",
     "output_type": "stream",
     "text": [
      "Starting RMSProp\n",
      ".....................................\n",
      " steps=10/10 , Accuraacy =84.58 ,Loss=0.43097 \n",
      "Completed\n",
      ".....................................\n",
      "Test accuracy=82.47\n"
     ]
    },
    {
     "data": {
      "text/plain": [
       "array([0, 0, 0, ..., 0, 0, 0], dtype=int64)"
      ]
     },
     "execution_count": 11,
     "metadata": {},
     "output_type": "execute_result"
    }
   ],
   "source": [
    "\n",
    "network=FashnMnist(x=x_train,y=y_train,decay_rate=0.1,lr=.001,dropout_rate=0,initializer='he',epochs =10,batch=64,HiddenLayerNuron=[32,64,10],optimizer='rms',activation='tanh')\n",
    "network.train()\n",
    "network.predict(x_test,y_test)"
   ]
  },
  {
   "cell_type": "code",
   "execution_count": 12,
   "metadata": {},
   "outputs": [
    {
     "name": "stdout",
     "output_type": "stream",
     "text": [
      "Starting RMSProp\n",
      ".....................................\n",
      " steps=10/10 , Accuraacy =83.29 ,Loss=0.46688 \n",
      "Completed\n",
      ".....................................\n",
      "Test accuracy=81.36\n"
     ]
    },
    {
     "data": {
      "text/plain": [
       "array([0, 0, 0, ..., 0, 0, 0], dtype=int64)"
      ]
     },
     "execution_count": 12,
     "metadata": {},
     "output_type": "execute_result"
    }
   ],
   "source": [
    "\n",
    "network=FashnMnist(x=x_train,y=y_train,decay_rate=0.1,lr=.001,initializer='xavier',epochs =10,batch=int(rows/100),HiddenLayerNuron=[32,64,10],optimizer='rms',activation='tanh')\n",
    "network.train()\n",
    "network.predict(x_test,y_test)"
   ]
  },
  {
   "cell_type": "code",
   "execution_count": 6,
   "metadata": {},
   "outputs": [
    {
     "name": "stdout",
     "output_type": "stream",
     "text": [
      "Starting RMSProp\n",
      ".....................................\n",
      " steps=10/10 , Accuraacy =85.04 ,Loss=0.41664 \n",
      "Completed\n",
      ".....................................\n",
      "Test accuracy=83.25\n"
     ]
    },
    {
     "data": {
      "text/plain": [
       "array([0, 0, 0, ..., 0, 0, 0], dtype=int64)"
      ]
     },
     "execution_count": 6,
     "metadata": {},
     "output_type": "execute_result"
    }
   ],
   "source": [
    "\n",
    "network=FashnMnist(x=x_train,y=y_train,decay_rate=0.1,lr=.0001,initializer='xavier',epochs =10,batch=16,HiddenLayerNuron=[32,64,10],optimizer='rms',activation='tanh')\n",
    "network.train()\n",
    "network.predict(x_test,y_test)"
   ]
  },
  {
   "cell_type": "code",
   "execution_count": 7,
   "metadata": {},
   "outputs": [
    {
     "name": "stdout",
     "output_type": "stream",
     "text": [
      "Starting RMSProp\n",
      ".....................................\n",
      " steps=10/10 , Accuraacy =84.61 ,Loss=0.43135 \n",
      "Completed\n",
      ".....................................\n",
      "Test accuracy=82.82000000000001\n"
     ]
    },
    {
     "data": {
      "text/plain": [
       "array([0, 0, 0, ..., 0, 0, 0], dtype=int64)"
      ]
     },
     "execution_count": 7,
     "metadata": {},
     "output_type": "execute_result"
    }
   ],
   "source": [
    "\n",
    "network=FashnMnist(x=x_train,y=y_train,decay_rate=0.1,lr=.0001,initializer='he',epochs =10,batch=16,HiddenLayerNuron=[32,64,10],optimizer='rms',activation='tanh')\n",
    "network.train()\n",
    "network.predict(x_test,y_test)"
   ]
  },
  {
   "cell_type": "code",
   "execution_count": 15,
   "metadata": {},
   "outputs": [
    {
     "name": "stdout",
     "output_type": "stream",
     "text": [
      "Starting RMSProp\n",
      ".....................................\n",
      " steps=10/10 , Accuraacy =85.35 ,Loss=0.40179 \n",
      "Completed\n",
      ".....................................\n",
      "Test accuracy=83.36\n"
     ]
    },
    {
     "data": {
      "text/plain": [
       "array([0, 0, 0, ..., 0, 0, 0], dtype=int64)"
      ]
     },
     "execution_count": 15,
     "metadata": {},
     "output_type": "execute_result"
    }
   ],
   "source": [
    "\n",
    "network=FashnMnist(x=x_trainNorm,y=y_train,decay_rate=0.1,lr=.0001,initializer='he',epochs =10,batch=16,HiddenLayerNuron=[32,64,10],optimizer='rms',activation='tanh')\n",
    "network.train()\n",
    "network.predict(x_testNorm,y_test)"
   ]
  },
  {
   "cell_type": "code",
   "execution_count": 15,
   "metadata": {},
   "outputs": [
    {
     "name": "stdout",
     "output_type": "stream",
     "text": [
      "Starting RMSProp\n",
      ".....................................\n",
      " steps=10/10 , Accuraacy =83.95 ,Loss=0.4417 \n",
      "Completed\n",
      ".....................................\n",
      "Test accuracy=82.0\n"
     ]
    },
    {
     "data": {
      "text/plain": [
       "array([2, 0, 0, ..., 0, 0, 0], dtype=int64)"
      ]
     },
     "execution_count": 15,
     "metadata": {},
     "output_type": "execute_result"
    }
   ],
   "source": [
    "\n",
    "network=FashnMnist(x=x_train,y=y_train,decay_rate=0.1,lr=.0001,initializer='he',epochs =10,batch=16,HiddenLayerNuron=[64,64,10],optimizer='rms',activation='tanh')\n",
    "network.train()\n",
    "network.predict(x_test,y_test)"
   ]
  },
  {
   "cell_type": "code",
   "execution_count": 16,
   "metadata": {},
   "outputs": [
    {
     "name": "stdout",
     "output_type": "stream",
     "text": [
      "Starting RMSProp\n",
      ".....................................\n",
      " steps=10/10 , Accuraacy =85.44 ,Loss=0.3951 \n",
      "Completed\n",
      ".....................................\n",
      "Test accuracy=83.39999999999999\n"
     ]
    },
    {
     "data": {
      "text/plain": [
       "array([0, 0, 0, ..., 0, 0, 0], dtype=int64)"
      ]
     },
     "execution_count": 16,
     "metadata": {},
     "output_type": "execute_result"
    }
   ],
   "source": [
    "\n",
    "network=FashnMnist(x=x_train,y=y_train,decay_rate=0.1,lr=.0001,initializer='he',epochs =10,batch=16,HiddenLayerNuron=[128,64,10],optimizer='rms',activation='tanh')\n",
    "network.train()\n",
    "network.predict(x_test,y_test)"
   ]
  },
  {
   "cell_type": "code",
   "execution_count": 17,
   "metadata": {},
   "outputs": [
    {
     "name": "stdout",
     "output_type": "stream",
     "text": [
      "Starting RMSProp\n",
      ".....................................\n",
      " steps=10/10 , Accuraacy =84.87 ,Loss=0.41239 \n",
      "Completed\n",
      ".....................................\n",
      "Test accuracy=82.31\n"
     ]
    },
    {
     "data": {
      "text/plain": [
       "array([0, 0, 0, ..., 0, 0, 0], dtype=int64)"
      ]
     },
     "execution_count": 17,
     "metadata": {},
     "output_type": "execute_result"
    }
   ],
   "source": [
    "\n",
    "network=FashnMnist(x=x_train,y=y_train,decay_rate=0.1,lr=.0001,initializer='he',epochs =10,batch=16,HiddenLayerNuron=[128,128,10],optimizer='rms',activation='tanh')\n",
    "network.train()\n",
    "network.predict(x_test,y_test)"
   ]
  },
  {
   "cell_type": "code",
   "execution_count": null,
   "metadata": {},
   "outputs": [],
   "source": []
  }
 ],
 "metadata": {
  "kernelspec": {
   "display_name": "Python 3",
   "language": "python",
   "name": "python3"
  },
  "language_info": {
   "codemirror_mode": {
    "name": "ipython",
    "version": 3
   },
   "file_extension": ".py",
   "mimetype": "text/x-python",
   "name": "python",
   "nbconvert_exporter": "python",
   "pygments_lexer": "ipython3",
   "version": "3.6.5"
  }
 },
 "nbformat": 4,
 "nbformat_minor": 2
}
