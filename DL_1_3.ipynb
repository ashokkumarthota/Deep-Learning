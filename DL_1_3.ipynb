{
  "cells": [
    {
      "cell_type": "markdown",
      "metadata": {
        "id": "fcLcjwAwvKsE"
      },
      "source": [
        "## Used Libraries"
      ]
    },
    {
      "cell_type": "code",
      "execution_count": null,
      "metadata": {
        "id": "id7DewAiu4b8"
      },
      "outputs": [],
      "source": [
        "#Real Code\n",
        "import numpy as np\n",
        "from keras.datasets import fashion_mnist\n",
        "import matplotlib.pyplot as plt\n",
        "import matplotlib.colors\n",
        "import pandas as pd\n",
        "from sklearn.model_selection import train_test_split\n",
        "from sklearn.metrics import accuracy_score, mean_squared_error\n",
        "from tqdm import tqdm_notebook \n",
        "\n",
        "from sklearn.preprocessing import OneHotEncoder"
      ]
    },
    {
      "cell_type": "markdown",
      "metadata": {
        "id": "evaPcBEBvDTV"
      },
      "source": [
        "## Preparing the Data"
      ]
    },
    {
      "cell_type": "code",
      "execution_count": null,
      "metadata": {
        "colab": {
          "base_uri": "https://localhost:8080/"
        },
        "id": "_41Yo1TUvAmT",
        "outputId": "bd2a6457-1e66-4b81-f56a-f16dc100d60e"
      },
      "outputs": [
        {
          "name": "stdout",
          "output_type": "stream",
          "text": [
            "(60000, 28, 28) (10000, 28, 28) (60000,) (10000,) <class 'numpy.ndarray'> [0. 0. 0. 0. 0. 0. 0. 0. 0. 0. 0. 0. 0. 0. 0. 0. 0. 0. 0. 0. 0. 0. 0. 0.\n",
            " 0. 0. 0. 0.]\n",
            "(60000, 784) (10000, 784) (60000,) (10000,) <class 'numpy.float64'> 0.0\n"
          ]
        }
      ],
      "source": [
        "(x_train,y_train),(x_test,y_test)=fashion_mnist.load_data()\n",
        "x_train = x_train.astype('float')/ 255.0\n",
        "x_test = x_test.astype('float')/ 255.0\n",
        "print(x_train.shape, x_test.shape,y_train.shape,y_test.shape,type(x_train[0][0]),x_train[0][0])\n",
        "x_train = x_train.reshape(60000,784)\n",
        "x_test = x_test.reshape(10000,784)\n",
        "print(x_train.shape, x_test.shape,y_train.shape,y_test.shape,type(x_train[0][0]),x_train[0][0])"
      ]
    },
    {
      "cell_type": "markdown",
      "metadata": {
        "id": "bm9JTddcvfv7"
      },
      "source": [
        "## One Hot Encoding"
      ]
    },
    {
      "cell_type": "code",
      "execution_count": null,
      "metadata": {
        "colab": {
          "base_uri": "https://localhost:8080/"
        },
        "id": "GPGyZwbQvfC2",
        "outputId": "6bb573c8-1cdc-4fc9-905a-a2135f049c1d"
      },
      "outputs": [
        {
          "name": "stdout",
          "output_type": "stream",
          "text": [
            "(60000, 10) (10000, 10)\n"
          ]
        }
      ],
      "source": [
        "enc = OneHotEncoder()\n",
        "# 0 -> (1, 0, 0, 0), 1 -> (0, 1, 0, 0), 2 -> (0, 0, 1, 0), 3 -> (0, 0, 0, 1)\n",
        "y_OH_train = enc.fit_transform(np.expand_dims(y_train,1)).toarray()\n",
        "y_OH_val = enc.fit_transform(np.expand_dims(y_test,1)).toarray()\n",
        "print(y_OH_train.shape, y_OH_val.shape)"
      ]
    },
    {
      "cell_type": "markdown",
      "metadata": {
        "id": "0rs2wI3svlsz"
      },
      "source": [
        "## Main class"
      ]
    },
    {
      "cell_type": "code",
      "execution_count": 157,
      "metadata": {
        "id": "ZlaETVm_votL"
      },
      "outputs": [],
      "source": [
        "#sgd gradient descent\n",
        "class FFSN_MultiClass:\n",
        "  \n",
        "  def __init__(self, n_inputs, n_outputs, hidden_sizes=[3]):\n",
        "    self.nx = n_inputs\n",
        "    self.ny = n_outputs\n",
        "    self.nh = len(hidden_sizes)\n",
        "    self.sizes = [self.nx] + hidden_sizes + [self.ny] \n",
        "\n",
        "    self.W = {}\n",
        "    self.B = {}\n",
        "    for i in range(self.nh+1):\n",
        "      self.W[i+1] = np.random.randn(self.sizes[i], self.sizes[i+1])\n",
        "      self.B[i+1] = np.zeros((1, self.sizes[i+1]))\n",
        "      \n",
        "  def sigmoid(self, x):\n",
        "    return 1.0/(1.0 + np.exp(-x))\n",
        "  \n",
        "  def softmax(self, x):\n",
        "    exps = np.exp(x)\n",
        "    return exps / np.sum(exps)\n",
        "\n",
        "  def forward_pass(self, x):\n",
        "    self.A = {}\n",
        "    self.H = {}\n",
        "    self.H[0] = x.reshape(1, -1)\n",
        "    for i in range(self.nh):\n",
        "      self.A[i+1] = np.matmul(self.H[i], self.W[i+1]) + self.B[i+1]\n",
        "      self.H[i+1] = self.sigmoid(self.A[i+1])\n",
        "    self.A[self.nh+1] = np.matmul(self.H[self.nh], self.W[self.nh+1]) + self.B[self.nh+1]\n",
        "    self.H[self.nh+1] = self.softmax(self.A[self.nh+1])\n",
        "    return self.H[self.nh+1]\n",
        "  \n",
        "  def predict(self, X):\n",
        "    Y_pred = []\n",
        "    for x in X:\n",
        "      y_pred = self.forward_pass(x)\n",
        "      Y_pred.append(y_pred)\n",
        "    return np.array(Y_pred).squeeze()\n",
        " \n",
        "  def grad_sigmoid(self, x):\n",
        "    return x*(1-x) \n",
        "  \n",
        "  def cross_entropy(self,label,pred):\n",
        "    yl=np.multiply(pred,label)\n",
        "    yl=yl[yl!=0]\n",
        "    yl=-np.log(yl)\n",
        "    yl=np.mean(yl)\n",
        "    return yl\n",
        " \n",
        "  def grad(self, x, y):\n",
        "    self.forward_pass(x)\n",
        "    self.dW = {}\n",
        "    self.dB = {}\n",
        "    self.dH = {}\n",
        "    self.dA = {}\n",
        "    L = self.nh + 1\n",
        "    self.dA[L] = (self.H[L] - y)\n",
        "    for k in range(L, 0, -1):\n",
        "      self.dW[k] = np.matmul(self.H[k-1].T, self.dA[k])\n",
        "      self.dB[k] = self.dA[k]\n",
        "      self.dH[k-1] = np.matmul(self.dA[k], self.W[k].T)\n",
        "      self.dA[k-1] = np.multiply(self.dH[k-1], self.grad_sigmoid(self.H[k-1])) \n",
        "    \n",
        "  def fit(self, X, Y, algo= \"GD\", epochs=100, initialize='True', learning_rate=0.01, display_loss=False,\n",
        "          mini_batch_size=100, eps=1e-8, beta=0.9, beta1=0.9, beta2=0.9, gamma=0.9):\n",
        "      \n",
        "    if display_loss:\n",
        "      loss = {}\n",
        "    V_W = {}\n",
        "    V_B = {}\n",
        "      \n",
        "    if initialize:\n",
        "      for i in range(self.nh+1):\n",
        "        self.W[i+1] = np.random.randn(self.sizes[i], self.sizes[i+1])\n",
        "        self.B[i+1] = np.zeros((1, self.sizes[i+1]))\n",
        "        V_W[i+1] = np.zeros((self.sizes[i], self.sizes[i+1]))\n",
        "        V_B[i+1] = np.zeros((1, self.sizes[i+1]))\n",
        "    if algo == 'SGD':\n",
        "        for epoch in tqdm_notebook(range(epochs), total=epochs, unit=\"epoch\"):\n",
        "          dW = {}\n",
        "          dB = {}\n",
        "          points_seen = 0\n",
        "          for i in range(self.nh+1):\n",
        "            dW[i+1] = np.zeros((self.sizes[i], self.sizes[i+1]))\n",
        "            dB[i+1] = np.zeros((1, self.sizes[i+1]))\n",
        "          for x, y in zip(X, Y):\n",
        "            self.grad(x, y)\n",
        "            for i in range(self.nh+1):\n",
        "              dW[i+1] += self.dW[i+1]\n",
        "              dB[i+1] += self.dB[i+1]\n",
        "            points_seen += 1\n",
        "            if points_seen % mini_batch_size == 0:\n",
        "              m = X.shape[1]\n",
        "              for i in range(self.nh+1):\n",
        "                self.W[i+1] -= learning_rate * (dW[i+1]/m)\n",
        "                self.B[i+1] -= learning_rate * (dB[i+1]/m)\n",
        "                dW[i+1] = np.zeros((self.sizes[i], self.sizes[i+1]))\n",
        "                dB[i+1] = np.zeros((1, self.sizes[i+1]))\n",
        "            \n",
        "          if display_loss:\n",
        "            Y_pred = self.predict(X) \n",
        "            loss[epoch] = self.cross_entropy(Y, Y_pred)\n",
        "    \n",
        "    \n",
        "    if algo == 'Momentum':\n",
        "      for epoch in tqdm_notebook(range(epochs), total=epochs, unit=\"epoch\"):\n",
        "        dW = {}\n",
        "        dB = {}\n",
        "        points_seen = 0\n",
        "        for i in range(self.nh+1):\n",
        "          dW[i+1] = np.zeros((self.sizes[i], self.sizes[i+1]))\n",
        "          dB[i+1] = np.zeros((1, self.sizes[i+1]))\n",
        "        for x, y in zip(X, Y):\n",
        "          self.grad(x, y)\n",
        "          for i in range(self.nh+1):\n",
        "            dW[i+1] += self.dW[i+1]\n",
        "            dB[i+1] += self.dB[i+1]\n",
        "          points_seen += 1\n",
        "          if points_seen % mini_batch_size == 0:\n",
        "            m = X.shape[1]\n",
        "            for i in range(self.nh+1):\n",
        "              V_W[i+1] = gamma * V_W[i+1] + learning_rate * (dW[i+1]/m)\n",
        "              V_B[i+1] = gamma * V_B[i+1] + learning_rate * (dB[i+1]/m)\n",
        "                    \n",
        "            m = X.shape[1]\n",
        "            for i in range(self.nh+1):\n",
        "              self.W[i+1] -= V_W[i+1]\n",
        "              self.B[i+1] -= V_B[i+1]\n",
        "              dW[i+1] = np.zeros((self.sizes[i], self.sizes[i+1]))\n",
        "              dB[i+1] = np.zeros((1, self.sizes[i+1]))\n",
        "\n",
        "\n",
        "        '''m = X.shape[1]\n",
        "        for i in range(self.nh+1):\n",
        "          V_W[i+1] = gamma * V_W[i+1] + learning_rate * (dW[i+1]/m)\n",
        "          V_B[i+1] = gamma * V_B[i+1] + learning_rate * (dB[i+1]/m)\n",
        "                    \n",
        "        m = X.shape[1]\n",
        "        for i in range(self.nh+1):\n",
        "          self.W[i+1] -= V_W[i+1]\n",
        "          self.B[i+1] -= V_B[i+1]'''\n",
        "            \n",
        "        if display_loss:\n",
        "          Y_pred = self.predict(X) \n",
        "          loss[epoch] = self.cross_entropy(Y, Y_pred)\n",
        "\n",
        "    if algo == 'NAG':\n",
        "      for epoch in tqdm_notebook(range(epochs), total=epochs, unit=\"epoch\"):\n",
        "        dW = {}\n",
        "        dB = {}\n",
        "        points_seen = 0\n",
        "        for i in range(self.nh+1):\n",
        "          dW[i+1] = np.zeros((self.sizes[i], self.sizes[i+1]))\n",
        "          dB[i+1] = np.zeros((1, self.sizes[i+1]))\n",
        "        m = X.shape[1]\n",
        "        for i in range(self.nh+1):\n",
        "          self.W[i+1] -= gamma*V_W[i+1]\n",
        "          self.B[i+1] -= gamma*V_B[i+1]\n",
        "      \n",
        "        for x, y in zip(X, Y):\n",
        "          self.grad(x, y)\n",
        "          for i in range(self.nh+1):\n",
        "            dW[i+1] += self.dW[i+1]\n",
        "            dB[i+1] += self.dB[i+1]\n",
        "          points_seen += 1\n",
        "          if points_seen % mini_batch_size == 0:\n",
        "            m = X.shape[1]\n",
        "            for i in range(self.nh+1):\n",
        "              self.W[i+1] -= learning_rate * (dW[i+1]/m)\n",
        "              self.B[i+1] -= learning_rate * (dB[i+1]/m)\n",
        "            m = X.shape[1]\n",
        "            for i in range(self.nh+1):\n",
        "              V_W[i+1] = gamma*V_W[i+1] + learning_rate * (dW[i+1]/m)\n",
        "              V_B[i+1] = gamma*V_B[i+1] + learning_rate * (dB[i+1]/m)\n",
        "            m = X.shape[1]\n",
        "            for i in range(self.nh+1):\n",
        "              dW[i+1] = np.zeros((self.sizes[i], self.sizes[i+1]))\n",
        "              dB[i+1] = np.zeros((1, self.sizes[i+1]))\n",
        "              self.W[i+1] -= gamma*V_W[i+1]\n",
        "              self.B[i+1] -= gamma*V_B[i+1]\n",
        "\n",
        "\n",
        "\n",
        "        '''m = X.shape[1]\n",
        "        for i in range(self.nh+1):\n",
        "          self.W[i+1] -= learning_rate * (dW[i+1]/m)\n",
        "          self.B[i+1] -= learning_rate * (dB[i+1]/m)\n",
        "        m = X.shape[1]\n",
        "        for i in range(self.nh+1):\n",
        "          V_W[i+1] = gamma*V_W[i+1] + learning_rate * (dW[i+1]/m)\n",
        "          V_B[i+1] = gamma*V_B[i+1] + learning_rate * (dB[i+1]/m)'''\n",
        "        \n",
        "        if display_loss:\n",
        "          Y_pred = self.predict(X) \n",
        "          loss[epoch] = self.cross_entropy(Y, Y_pred)  \n",
        "\n",
        "    if algo == 'RMSProp':\n",
        "      for epoch in tqdm_notebook(range(epochs), total=epochs, unit=\"epoch\"):\n",
        "        dW = {}\n",
        "        dB = {}\n",
        "        points_seen = 0\n",
        "        for i in range(self.nh+1):\n",
        "          dW[i+1] = np.zeros((self.sizes[i], self.sizes[i+1]))\n",
        "          dB[i+1] = np.zeros((1, self.sizes[i+1]))\n",
        "      \n",
        "        for x, y in zip(X, Y):\n",
        "          self.grad(x, y)\n",
        "          for i in range(self.nh+1):\n",
        "            dW[i+1] += self.dW[i+1]\n",
        "            dB[i+1] += self.dB[i+1]\n",
        "          points_seen += 1\n",
        "          if points_seen % mini_batch_size == 0:\n",
        "            m = X.shape[1]\n",
        "            for i in range(self.nh+1):\n",
        "              V_W[i+1] = beta*V_W[i+1] + (1-beta) * ((dW[i+1]/m)**2)\n",
        "              V_B[i+1] = beta*V_B[i+1] + (1-beta) * ((dB[i+1]/m)**2)\n",
        "            m = X.shape[1]\n",
        "            for i in range(self.nh+1):\n",
        "              self.W[i+1] -= (learning_rate / np.sqrt(V_W[i+1]+ eps))* (dW[i+1]/m)\n",
        "              self.B[i+1] -= (learning_rate / np.sqrt(V_B[i+1]+ eps))* (dB[i+1]/m)\n",
        "              dW[i+1] = np.zeros((self.sizes[i], self.sizes[i+1]))\n",
        "              dB[i+1] = np.zeros((1, self.sizes[i+1]))\n",
        "\n",
        "\n",
        "\n",
        "        '''m = X.shape[1]\n",
        "        for i in range(self.nh+1):\n",
        "          V_W[i+1] = beta*V_W[i+1] + (1-beta) * (dW[i+1]/m)**2\n",
        "          V_B[i+1] = beta*V_B[i+1] + (1-beta) * (dB[i+1]/m)**2\n",
        "        m = X.shape[1]\n",
        "        for i in range(self.nh+1):\n",
        "          self.W[i+1] -= (learning_rate / np.sqrt(V_W[i+1]+ eps))* (dW[i+1]/m)\n",
        "          self.B[i+1] -= (learning_rate / np.sqrt(V_B[i+1]+ eps))* (dB[i+1]/m)'''\n",
        "        \n",
        "        if display_loss:\n",
        "          Y_pred = self.predict(X) \n",
        "          loss[epoch] = self.cross_entropy(Y, Y_pred)\n",
        "    \n",
        "    if display_loss:\n",
        "        plt.plot(np.array(list(loss.values())).astype(float))\n",
        "        plt.xlabel('Epochs')\n",
        "        plt.ylabel('CE')\n",
        "        plt.show()"
      ]
    },
    {
      "cell_type": "markdown",
      "metadata": {
        "id": "Jpp0YLPqvyY8"
      },
      "source": [
        "## Creating Instance of the class and calling fit function"
      ]
    },
    {
      "cell_type": "markdown",
      "metadata": {
        "id": "T4dSnpuGv8Ac"
      },
      "source": [
        "## Accuracy"
      ]
    },
    {
      "cell_type": "code",
      "execution_count": 167,
      "metadata": {
        "colab": {
          "base_uri": "https://localhost:8080/",
          "height": 348,
          "referenced_widgets": [
            "018d15b40550402d81b847c15d2221f7",
            "a1c36139371e4fac882f52f3d8beac82",
            "b0423d7ff49543f49e943673c490825a",
            "c998402c480b43d98b137ef77a9b3131",
            "c9798bbd057c47c0a6a4c50b935e87f8",
            "bab862e8130e4f4383ed4db31a1fc55a",
            "fb91ebb7d6a34aa2a2918d433499038a",
            "b98f7bf56d8f46d3a8f319cb9c9e171b",
            "c0cc5b0cea8d49af9fb329fd1d77d99e",
            "420fae1d229145d3a4472126093a10f9",
            "3637124e531448d1836d8098cc446558"
          ]
        },
        "id": "WZmgl7-1vx2V",
        "outputId": "c4d749cd-d3ea-41b3-93a9-a5c41fe9fcef"
      },
      "outputs": [
        {
          "output_type": "stream",
          "name": "stderr",
          "text": [
            "/usr/local/lib/python3.7/dist-packages/ipykernel_launcher.py:199: TqdmDeprecationWarning: This function will be removed in tqdm==5.0.0\n",
            "Please use `tqdm.notebook.tqdm` instead of `tqdm.tqdm_notebook`\n"
          ]
        },
        {
          "output_type": "display_data",
          "data": {
            "application/vnd.jupyter.widget-view+json": {
              "model_id": "018d15b40550402d81b847c15d2221f7",
              "version_minor": 0,
              "version_major": 2
            },
            "text/plain": [
              "  0%|          | 0/20 [00:00<?, ?epoch/s]"
            ]
          },
          "metadata": {}
        },
        {
          "output_type": "display_data",
          "data": {
            "image/png": "[encoded data removed]",
            "text/plain": [
              "<Figure size 432x288 with 1 Axes>"
            ]
          },
          "metadata": {
            "needs_background": "light"
          }
        }
      ],
      "source": [
        "ffsn_multi = FFSN_MultiClass(784,10,[10])\n",
        "ffsn_multi.fit(x_train,y_OH_train,epochs=20,learning_rate=0.01,display_loss=True,algo= \"RMSProp\",mini_batch_size=256)"
      ]
    },
    {
      "cell_type": "code",
      "execution_count": 168,
      "metadata": {
        "colab": {
          "base_uri": "https://localhost:8080/"
        },
        "id": "KOEPFb52v-5X",
        "outputId": "8122b94a-eef3-4bd2-f072-6c989800936a"
      },
      "outputs": [
        {
          "output_type": "stream",
          "name": "stdout",
          "text": [
            "Training accuracy 0.85\n",
            "Validation accuracy 0.83\n"
          ]
        }
      ],
      "source": [
        "Y_pred_train = ffsn_multi.predict(x_train)\n",
        "Y_pred_train = np.argmax(Y_pred_train,1)\n",
        "\n",
        "Y_pred_val = ffsn_multi.predict(x_test)\n",
        "Y_pred_val = np.argmax(Y_pred_val,1)\n",
        "\n",
        "\n",
        "accuracy_train = accuracy_score(Y_pred_train, y_train)\n",
        "accuracy_val = accuracy_score(Y_pred_val, y_test)\n",
        "\n",
        "print(\"Training accuracy\", round(accuracy_train, 2))\n",
        "print(\"Validation accuracy\", round(accuracy_val, 2))"
      ]
    },
    {
      "cell_type": "code",
      "execution_count": null,
      "metadata": {
        "id": "2i4A4PFeQoa3"
      },
      "outputs": [],
      "source": [
        ""
      ]
    }
  ],
  "metadata": {
    "colab": {
      "collapsed_sections": [],
      "name": "DL 1.3.ipynb",
      "provenance": []
    },
    "kernelspec": {
      "display_name": "Python 3",
      "name": "python3"
    },
    "language_info": {
      "name": "python"
    },
    "widgets": {
      "application/vnd.jupyter.widget-state+json": {
        "018d15b40550402d81b847c15d2221f7": {
          "model_module": "@jupyter-widgets/controls",
          "model_name": "HBoxModel",
          "model_module_version": "1.5.0",
          "state": {
            "_view_name": "HBoxView",
            "_dom_classes": [],
            "_model_name": "HBoxModel",
            "_view_module": "@jupyter-widgets/controls",
            "_model_module_version": "1.5.0",
            "_view_count": null,
            "_view_module_version": "1.5.0",
            "box_style": "",
            "layout": "IPY_MODEL_a1c36139371e4fac882f52f3d8beac82",
            "_model_module": "@jupyter-widgets/controls",
            "children": [
              "IPY_MODEL_b0423d7ff49543f49e943673c490825a",
              "IPY_MODEL_c998402c480b43d98b137ef77a9b3131",
              "IPY_MODEL_c9798bbd057c47c0a6a4c50b935e87f8"
            ]
          }
        },
        "a1c36139371e4fac882f52f3d8beac82": {
          "model_module": "@jupyter-widgets/base",
          "model_name": "LayoutModel",
          "model_module_version": "1.2.0",
          "state": {
            "_view_name": "LayoutView",
            "grid_template_rows": null,
            "right": null,
            "justify_content": null,
            "_view_module": "@jupyter-widgets/base",
            "overflow": null,
            "_model_module_version": "1.2.0",
            "_view_count": null,
            "flex_flow": null,
            "width": null,
            "min_width": null,
            "border": null,
            "align_items": null,
            "bottom": null,
            "_model_module": "@jupyter-widgets/base",
            "top": null,
            "grid_column": null,
            "overflow_y": null,
            "overflow_x": null,
            "grid_auto_flow": null,
            "grid_area": null,
            "grid_template_columns": null,
            "flex": null,
            "_model_name": "LayoutModel",
            "justify_items": null,
            "grid_row": null,
            "max_height": null,
            "align_content": null,
            "visibility": null,
            "align_self": null,
            "height": null,
            "min_height": null,
            "padding": null,
            "grid_auto_rows": null,
            "grid_gap": null,
            "max_width": null,
            "order": null,
            "_view_module_version": "1.2.0",
            "grid_template_areas": null,
            "object_position": null,
            "object_fit": null,
            "grid_auto_columns": null,
            "margin": null,
            "display": null,
            "left": null
          }
        },
        "b0423d7ff49543f49e943673c490825a": {
          "model_module": "@jupyter-widgets/controls",
          "model_name": "HTMLModel",
          "model_module_version": "1.5.0",
          "state": {
            "_view_name": "HTMLView",
            "style": "IPY_MODEL_bab862e8130e4f4383ed4db31a1fc55a",
            "_dom_classes": [],
            "description": "",
            "_model_name": "HTMLModel",
            "placeholder": "​",
            "_view_module": "@jupyter-widgets/controls",
            "_model_module_version": "1.5.0",
            "value": "100%",
            "_view_count": null,
            "_view_module_version": "1.5.0",
            "description_tooltip": null,
            "_model_module": "@jupyter-widgets/controls",
            "layout": "IPY_MODEL_fb91ebb7d6a34aa2a2918d433499038a"
          }
        },
        "c998402c480b43d98b137ef77a9b3131": {
          "model_module": "@jupyter-widgets/controls",
          "model_name": "FloatProgressModel",
          "model_module_version": "1.5.0",
          "state": {
            "_view_name": "ProgressView",
            "style": "IPY_MODEL_b98f7bf56d8f46d3a8f319cb9c9e171b",
            "_dom_classes": [],
            "description": "",
            "_model_name": "FloatProgressModel",
            "bar_style": "success",
            "max": 20,
            "_view_module": "@jupyter-widgets/controls",
            "_model_module_version": "1.5.0",
            "value": 20,
            "_view_count": null,
            "_view_module_version": "1.5.0",
            "orientation": "horizontal",
            "min": 0,
            "description_tooltip": null,
            "_model_module": "@jupyter-widgets/controls",
            "layout": "IPY_MODEL_c0cc5b0cea8d49af9fb329fd1d77d99e"
          }
        },
        "c9798bbd057c47c0a6a4c50b935e87f8": {
          "model_module": "@jupyter-widgets/controls",
          "model_name": "HTMLModel",
          "model_module_version": "1.5.0",
          "state": {
            "_view_name": "HTMLView",
            "style": "IPY_MODEL_420fae1d229145d3a4472126093a10f9",
            "_dom_classes": [],
            "description": "",
            "_model_name": "HTMLModel",
            "placeholder": "​",
            "_view_module": "@jupyter-widgets/controls",
            "_model_module_version": "1.5.0",
            "value": " 20/20 [02:29&lt;00:00,  7.48s/epoch]",
            "_view_count": null,
            "_view_module_version": "1.5.0",
            "description_tooltip": null,
            "_model_module": "@jupyter-widgets/controls",
            "layout": "IPY_MODEL_3637124e531448d1836d8098cc446558"
          }
        },
        "bab862e8130e4f4383ed4db31a1fc55a": {
          "model_module": "@jupyter-widgets/controls",
          "model_name": "DescriptionStyleModel",
          "model_module_version": "1.5.0",
          "state": {
            "_view_name": "StyleView",
            "_model_name": "DescriptionStyleModel",
            "description_width": "",
            "_view_module": "@jupyter-widgets/base",
            "_model_module_version": "1.5.0",
            "_view_count": null,
            "_view_module_version": "1.2.0",
            "_model_module": "@jupyter-widgets/controls"
          }
        },
        "fb91ebb7d6a34aa2a2918d433499038a": {
          "model_module": "@jupyter-widgets/base",
          "model_name": "LayoutModel",
          "model_module_version": "1.2.0",
          "state": {
            "_view_name": "LayoutView",
            "grid_template_rows": null,
            "right": null,
            "justify_content": null,
            "_view_module": "@jupyter-widgets/base",
            "overflow": null,
            "_model_module_version": "1.2.0",
            "_view_count": null,
            "flex_flow": null,
            "width": null,
            "min_width": null,
            "border": null,
            "align_items": null,
            "bottom": null,
            "_model_module": "@jupyter-widgets/base",
            "top": null,
            "grid_column": null,
            "overflow_y": null,
            "overflow_x": null,
            "grid_auto_flow": null,
            "grid_area": null,
            "grid_template_columns": null,
            "flex": null,
            "_model_name": "LayoutModel",
            "justify_items": null,
            "grid_row": null,
            "max_height": null,
            "align_content": null,
            "visibility": null,
            "align_self": null,
            "height": null,
            "min_height": null,
            "padding": null,
            "grid_auto_rows": null,
            "grid_gap": null,
            "max_width": null,
            "order": null,
            "_view_module_version": "1.2.0",
            "grid_template_areas": null,
            "object_position": null,
            "object_fit": null,
            "grid_auto_columns": null,
            "margin": null,
            "display": null,
            "left": null
          }
        },
        "b98f7bf56d8f46d3a8f319cb9c9e171b": {
          "model_module": "@jupyter-widgets/controls",
          "model_name": "ProgressStyleModel",
          "model_module_version": "1.5.0",
          "state": {
            "_view_name": "StyleView",
            "_model_name": "ProgressStyleModel",
            "description_width": "",
            "_view_module": "@jupyter-widgets/base",
            "_model_module_version": "1.5.0",
            "_view_count": null,
            "_view_module_version": "1.2.0",
            "bar_color": null,
            "_model_module": "@jupyter-widgets/controls"
          }
        },
        "c0cc5b0cea8d49af9fb329fd1d77d99e": {
          "model_module": "@jupyter-widgets/base",
          "model_name": "LayoutModel",
          "model_module_version": "1.2.0",
          "state": {
            "_view_name": "LayoutView",
            "grid_template_rows": null,
            "right": null,
            "justify_content": null,
            "_view_module": "@jupyter-widgets/base",
            "overflow": null,
            "_model_module_version": "1.2.0",
            "_view_count": null,
            "flex_flow": null,
            "width": null,
            "min_width": null,
            "border": null,
            "align_items": null,
            "bottom": null,
            "_model_module": "@jupyter-widgets/base",
            "top": null,
            "grid_column": null,
            "overflow_y": null,
            "overflow_x": null,
            "grid_auto_flow": null,
            "grid_area": null,
            "grid_template_columns": null,
            "flex": null,
            "_model_name": "LayoutModel",
            "justify_items": null,
            "grid_row": null,
            "max_height": null,
            "align_content": null,
            "visibility": null,
            "align_self": null,
            "height": null,
            "min_height": null,
            "padding": null,
            "grid_auto_rows": null,
            "grid_gap": null,
            "max_width": null,
            "order": null,
            "_view_module_version": "1.2.0",
            "grid_template_areas": null,
            "object_position": null,
            "object_fit": null,
            "grid_auto_columns": null,
            "margin": null,
            "display": null,
            "left": null
          }
        },
        "420fae1d229145d3a4472126093a10f9": {
          "model_module": "@jupyter-widgets/controls",
          "model_name": "DescriptionStyleModel",
          "model_module_version": "1.5.0",
          "state": {
            "_view_name": "StyleView",
            "_model_name": "DescriptionStyleModel",
            "description_width": "",
            "_view_module": "@jupyter-widgets/base",
            "_model_module_version": "1.5.0",
            "_view_count": null,
            "_view_module_version": "1.2.0",
            "_model_module": "@jupyter-widgets/controls"
          }
        },
        "3637124e531448d1836d8098cc446558": {
          "model_module": "@jupyter-widgets/base",
          "model_name": "LayoutModel",
          "model_module_version": "1.2.0",
          "state": {
            "_view_name": "LayoutView",
            "grid_template_rows": null,
            "right": null,
            "justify_content": null,
            "_view_module": "@jupyter-widgets/base",
            "overflow": null,
            "_model_module_version": "1.2.0",
            "_view_count": null,
            "flex_flow": null,
            "width": null,
            "min_width": null,
            "border": null,
            "align_items": null,
            "bottom": null,
            "_model_module": "@jupyter-widgets/base",
            "top": null,
            "grid_column": null,
            "overflow_y": null,
            "overflow_x": null,
            "grid_auto_flow": null,
            "grid_area": null,
            "grid_template_columns": null,
            "flex": null,
            "_model_name": "LayoutModel",
            "justify_items": null,
            "grid_row": null,
            "max_height": null,
            "align_content": null,
            "visibility": null,
            "align_self": null,
            "height": null,
            "min_height": null,
            "padding": null,
            "grid_auto_rows": null,
            "grid_gap": null,
            "max_width": null,
            "order": null,
            "_view_module_version": "1.2.0",
            "grid_template_areas": null,
            "object_position": null,
            "object_fit": null,
            "grid_auto_columns": null,
            "margin": null,
            "display": null,
            "left": null
          }
        }
      }
    }
  },
  "nbformat": 4,
  "nbformat_minor": 0
}