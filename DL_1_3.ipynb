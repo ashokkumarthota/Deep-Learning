{
  "cells": [
    {
      "cell_type": "markdown",
      "metadata": {
        "id": "fcLcjwAwvKsE"
      },
      "source": [
        "## Used Libraries"
      ]
    },
    {
      "cell_type": "code",
      "execution_count": null,
      "metadata": {
        "id": "id7DewAiu4b8"
      },
      "outputs": [],
      "source": [
        "#Real Code\n",
        "import numpy as np\n",
        "from keras.datasets import fashion_mnist\n",
        "import matplotlib.pyplot as plt\n",
        "import matplotlib.colors\n",
        "import pandas as pd\n",
        "from sklearn.model_selection import train_test_split\n",
        "from sklearn.metrics import accuracy_score, mean_squared_error\n",
        "from tqdm import tqdm_notebook \n",
        "\n",
        "from sklearn.preprocessing import OneHotEncoder"
      ]
    },
    {
      "cell_type": "markdown",
      "metadata": {
        "id": "evaPcBEBvDTV"
      },
      "source": [
        "## Preparing the Data"
      ]
    },
    {
      "cell_type": "code",
      "execution_count": null,
      "metadata": {
        "colab": {
          "base_uri": "https://localhost:8080/"
        },
        "id": "_41Yo1TUvAmT",
        "outputId": "505c8037-733c-42f9-b0cf-1526c217d9e4"
      },
      "outputs": [
        {
          "output_type": "stream",
          "name": "stdout",
          "text": [
            "Downloading data from https://storage.googleapis.com/tensorflow/tf-keras-datasets/train-labels-idx1-ubyte.gz\n",
            "32768/29515 [=================================] - 0s 0us/step\n",
            "40960/29515 [=========================================] - 0s 0us/step\n",
            "Downloading data from https://storage.googleapis.com/tensorflow/tf-keras-datasets/train-images-idx3-ubyte.gz\n",
            "26427392/26421880 [==============================] - 0s 0us/step\n",
            "26435584/26421880 [==============================] - 0s 0us/step\n",
            "Downloading data from https://storage.googleapis.com/tensorflow/tf-keras-datasets/t10k-labels-idx1-ubyte.gz\n",
            "16384/5148 [===============================================================================================] - 0s 0us/step\n",
            "Downloading data from https://storage.googleapis.com/tensorflow/tf-keras-datasets/t10k-images-idx3-ubyte.gz\n",
            "4423680/4422102 [==============================] - 0s 0us/step\n",
            "4431872/4422102 [==============================] - 0s 0us/step\n",
            "(60000, 28, 28) (10000, 28, 28) (60000,) (10000,) <class 'numpy.ndarray'> [0. 0. 0. 0. 0. 0. 0. 0. 0. 0. 0. 0. 0. 0. 0. 0. 0. 0. 0. 0. 0. 0. 0. 0.\n",
            " 0. 0. 0. 0.]\n",
            "(60000, 784) (10000, 784) (60000,) (10000,) <class 'numpy.float64'> 0.0\n"
          ]
        }
      ],
      "source": [
        "(x_train,y_train),(x_test,y_test)=fashion_mnist.load_data()\n",
        "x_train = x_train.astype('float')/ 255.0\n",
        "x_test = x_test.astype('float')/ 255.0\n",
        "print(x_train.shape, x_test.shape,y_train.shape,y_test.shape,type(x_train[0][0]),x_train[0][0])\n",
        "x_train = x_train.reshape(60000,784)\n",
        "x_test = x_test.reshape(10000,784)\n",
        "print(x_train.shape, x_test.shape,y_train.shape,y_test.shape,type(x_train[0][0]),x_train[0][0])"
      ]
    },
    {
      "cell_type": "markdown",
      "metadata": {
        "id": "bm9JTddcvfv7"
      },
      "source": [
        "## One Hot Encoding"
      ]
    },
    {
      "cell_type": "code",
      "execution_count": null,
      "metadata": {
        "colab": {
          "base_uri": "https://localhost:8080/"
        },
        "id": "GPGyZwbQvfC2",
        "outputId": "15dd132d-7a49-41f4-b4bc-5f3d730673d5"
      },
      "outputs": [
        {
          "output_type": "stream",
          "name": "stdout",
          "text": [
            "(60000, 10) (10000, 10)\n"
          ]
        }
      ],
      "source": [
        "enc = OneHotEncoder()\n",
        "# 0 -> (1, 0, 0, 0), 1 -> (0, 1, 0, 0), 2 -> (0, 0, 1, 0), 3 -> (0, 0, 0, 1)\n",
        "y_OH_train = enc.fit_transform(np.expand_dims(y_train,1)).toarray()\n",
        "y_OH_val = enc.fit_transform(np.expand_dims(y_test,1)).toarray()\n",
        "print(y_OH_train.shape, y_OH_val.shape)"
      ]
    },
    {
      "cell_type": "markdown",
      "metadata": {
        "id": "0rs2wI3svlsz"
      },
      "source": [
        "## Main class"
      ]
    },
    {
      "cell_type": "code",
      "execution_count": null,
      "metadata": {
        "id": "ZlaETVm_votL"
      },
      "outputs": [],
      "source": [
        "#sgd gradient descent\n",
        "class FFSN_MultiClass:\n",
        "  \n",
        "  def __init__(self, n_inputs, n_outputs, hidden_sizes=[3]):\n",
        "    self.nx = n_inputs\n",
        "    self.ny = n_outputs\n",
        "    self.nh = len(hidden_sizes)\n",
        "    self.sizes = [self.nx] + hidden_sizes + [self.ny] \n",
        "\n",
        "    self.W = {}\n",
        "    self.B = {}\n",
        "    for i in range(self.nh+1):\n",
        "      self.W[i+1] = np.random.randn(self.sizes[i], self.sizes[i+1])\n",
        "      self.B[i+1] = np.zeros((1, self.sizes[i+1]))\n",
        "      \n",
        "  def sigmoid(self, x):\n",
        "    return 1.0/(1.0 + np.exp(-x))\n",
        "  \n",
        "  def softmax(self, x):\n",
        "    exps = np.exp(x)\n",
        "    return exps / np.sum(exps)\n",
        "\n",
        "  def forward_pass(self, x):\n",
        "    self.A = {}\n",
        "    self.H = {}\n",
        "    self.H[0] = x.reshape(1, -1)\n",
        "    for i in range(self.nh):\n",
        "      self.A[i+1] = np.matmul(self.H[i], self.W[i+1]) + self.B[i+1]\n",
        "      self.H[i+1] = self.sigmoid(self.A[i+1])\n",
        "    self.A[self.nh+1] = np.matmul(self.H[self.nh], self.W[self.nh+1]) + self.B[self.nh+1]\n",
        "    self.H[self.nh+1] = self.softmax(self.A[self.nh+1])\n",
        "    return self.H[self.nh+1]\n",
        "  \n",
        "  def predict(self, X):\n",
        "    Y_pred = []\n",
        "    for x in X:\n",
        "      y_pred = self.forward_pass(x)\n",
        "      Y_pred.append(y_pred)\n",
        "    return np.array(Y_pred).squeeze()\n",
        " \n",
        "  def grad_sigmoid(self, x):\n",
        "    return x*(1-x) \n",
        "  \n",
        "  def cross_entropy(self,label,pred):\n",
        "    yl=np.multiply(pred,label)\n",
        "    yl=yl[yl!=0]\n",
        "    yl=-np.log(yl)\n",
        "    yl=np.mean(yl)\n",
        "    return yl\n",
        " \n",
        "  def grad(self, x, y):\n",
        "    self.forward_pass(x)\n",
        "    self.dW = {}\n",
        "    self.dB = {}\n",
        "    self.dH = {}\n",
        "    self.dA = {}\n",
        "    L = self.nh + 1\n",
        "    self.dA[L] = (self.H[L] - y)\n",
        "    for k in range(L, 0, -1):\n",
        "      self.dW[k] = np.matmul(self.H[k-1].T, self.dA[k])\n",
        "      self.dB[k] = self.dA[k]\n",
        "      self.dH[k-1] = np.matmul(self.dA[k], self.W[k].T)\n",
        "      self.dA[k-1] = np.multiply(self.dH[k-1], self.grad_sigmoid(self.H[k-1])) \n",
        "    \n",
        "  def fit(self, X, Y, algo= \"GD\", epochs=100, initialize='True', learning_rate=0.01, display_loss=False,\n",
        "          mini_batch_size=60000, eps=1e-8, beta=0.9, beta1=0.9, beta2=0.9, gamma=0.9):\n",
        "      \n",
        "    if display_loss:\n",
        "      loss = {}\n",
        "    V_W = {}\n",
        "    V_B = {}\n",
        "    M_W = {}\n",
        "    M_B = {}\n",
        "    num_updates = 0\n",
        "    if initialize:\n",
        "      for i in range(self.nh+1):\n",
        "        V_W[i+1] = np.zeros((self.sizes[i], self.sizes[i+1]))\n",
        "        V_B[i+1] = np.zeros((1, self.sizes[i+1]))\n",
        "        M_W[i+1] = np.zeros((self.sizes[i], self.sizes[i+1]))\n",
        "        M_B[i+1] = np.zeros((1, self.sizes[i+1]))\n",
        "    if algo == 'SGD':\n",
        "        for epoch in tqdm_notebook(range(epochs), total=epochs, unit=\"epoch\"):\n",
        "          dW = {}\n",
        "          dB = {}\n",
        "          points_seen = 0\n",
        "          for i in range(self.nh+1):\n",
        "            dW[i+1] = np.zeros((self.sizes[i], self.sizes[i+1]))\n",
        "            dB[i+1] = np.zeros((1, self.sizes[i+1]))\n",
        "          for x, y in zip(X, Y):\n",
        "            self.grad(x, y)\n",
        "            for i in range(self.nh+1):\n",
        "              dW[i+1] += self.dW[i+1]\n",
        "              dB[i+1] += self.dB[i+1]\n",
        "            points_seen += 1\n",
        "            if points_seen % mini_batch_size == 0:\n",
        "              m = X.shape[1]\n",
        "              for i in range(self.nh+1):\n",
        "                self.W[i+1] -= learning_rate * (dW[i+1]/m)\n",
        "                self.B[i+1] -= learning_rate * (dB[i+1]/m)\n",
        "                dW[i+1] = np.zeros((self.sizes[i], self.sizes[i+1]))\n",
        "                dB[i+1] = np.zeros((1, self.sizes[i+1]))\n",
        "            \n",
        "          if display_loss:\n",
        "            Y_pred = self.predict(X) \n",
        "            loss[epoch] = self.cross_entropy(Y, Y_pred)\n",
        "    \n",
        "    \n",
        "    if algo == 'Momentum':\n",
        "      for epoch in tqdm_notebook(range(epochs), total=epochs, unit=\"epoch\"):\n",
        "        dW = {}\n",
        "        dB = {}\n",
        "        points_seen = 0\n",
        "        for i in range(self.nh+1):\n",
        "          dW[i+1] = np.zeros((self.sizes[i], self.sizes[i+1]))\n",
        "          dB[i+1] = np.zeros((1, self.sizes[i+1]))\n",
        "        for x, y in zip(X, Y):\n",
        "          self.grad(x, y)\n",
        "          for i in range(self.nh+1):\n",
        "            dW[i+1] += self.dW[i+1]\n",
        "            dB[i+1] += self.dB[i+1]\n",
        "          points_seen += 1\n",
        "          if points_seen % mini_batch_size == 0:\n",
        "            m = X.shape[1]\n",
        "            for i in range(self.nh+1):\n",
        "              V_W[i+1] = gamma * V_W[i+1] + learning_rate * (dW[i+1]/m)\n",
        "              V_B[i+1] = gamma * V_B[i+1] + learning_rate * (dB[i+1]/m)\n",
        "                    \n",
        "            m = X.shape[1]\n",
        "            for i in range(self.nh+1):\n",
        "              self.W[i+1] -= V_W[i+1]\n",
        "              self.B[i+1] -= V_B[i+1]\n",
        "              dW[i+1] = np.zeros((self.sizes[i], self.sizes[i+1]))\n",
        "              dB[i+1] = np.zeros((1, self.sizes[i+1]))\n",
        "\n",
        "\n",
        "        '''m = X.shape[1]\n",
        "        for i in range(self.nh+1):\n",
        "          V_W[i+1] = gamma * V_W[i+1] + learning_rate * (dW[i+1]/m)\n",
        "          V_B[i+1] = gamma * V_B[i+1] + learning_rate * (dB[i+1]/m)\n",
        "                    \n",
        "        m = X.shape[1]\n",
        "        for i in range(self.nh+1):\n",
        "          self.W[i+1] -= V_W[i+1]\n",
        "          self.B[i+1] -= V_B[i+1]'''\n",
        "            \n",
        "        if display_loss:\n",
        "          Y_pred = self.predict(X) \n",
        "          loss[epoch] = self.cross_entropy(Y, Y_pred)\n",
        "\n",
        "    if algo == 'NAG':\n",
        "      for epoch in tqdm_notebook(range(epochs), total=epochs, unit=\"epoch\"):\n",
        "        dW = {}\n",
        "        dB = {}\n",
        "        points_seen = 0\n",
        "        for i in range(self.nh+1):\n",
        "          dW[i+1] = np.zeros((self.sizes[i], self.sizes[i+1]))\n",
        "          dB[i+1] = np.zeros((1, self.sizes[i+1]))\n",
        "        m = X.shape[1]\n",
        "        for i in range(self.nh+1):\n",
        "          self.W[i+1] -= gamma*V_W[i+1]\n",
        "          self.B[i+1] -= gamma*V_B[i+1]\n",
        "      \n",
        "        for x, y in zip(X, Y):\n",
        "          self.grad(x, y)\n",
        "          for i in range(self.nh+1):\n",
        "            dW[i+1] += self.dW[i+1]\n",
        "            dB[i+1] += self.dB[i+1]\n",
        "          points_seen += 1\n",
        "          if points_seen % mini_batch_size == 0:\n",
        "            m = X.shape[1]\n",
        "            for i in range(self.nh+1):\n",
        "              self.W[i+1] -= learning_rate * (dW[i+1]/m)\n",
        "              self.B[i+1] -= learning_rate * (dB[i+1]/m)\n",
        "            m = X.shape[1]\n",
        "            for i in range(self.nh+1):\n",
        "              V_W[i+1] = gamma*V_W[i+1] + learning_rate * (dW[i+1]/m)\n",
        "              V_B[i+1] = gamma*V_B[i+1] + learning_rate * (dB[i+1]/m)\n",
        "            m = X.shape[1]\n",
        "            for i in range(self.nh+1):\n",
        "              dW[i+1] = np.zeros((self.sizes[i], self.sizes[i+1]))\n",
        "              dB[i+1] = np.zeros((1, self.sizes[i+1]))\n",
        "              self.W[i+1] -= gamma*V_W[i+1]\n",
        "              self.B[i+1] -= gamma*V_B[i+1]\n",
        "\n",
        "\n",
        "\n",
        "        '''m = X.shape[1]\n",
        "        for i in range(self.nh+1):\n",
        "          self.W[i+1] -= learning_rate * (dW[i+1]/m)\n",
        "          self.B[i+1] -= learning_rate * (dB[i+1]/m)\n",
        "        m = X.shape[1]\n",
        "        for i in range(self.nh+1):\n",
        "          V_W[i+1] = gamma*V_W[i+1] + learning_rate * (dW[i+1]/m)\n",
        "          V_B[i+1] = gamma*V_B[i+1] + learning_rate * (dB[i+1]/m)'''\n",
        "        \n",
        "        if display_loss:\n",
        "          Y_pred = self.predict(X) \n",
        "          loss[epoch] = self.cross_entropy(Y, Y_pred)  \n",
        "\n",
        "    if algo == 'RMSProp':\n",
        "      for epoch in tqdm_notebook(range(epochs), total=epochs, unit=\"epoch\"):\n",
        "        dW = {}\n",
        "        dB = {}\n",
        "        points_seen = 0\n",
        "        for i in range(self.nh+1):\n",
        "          dW[i+1] = np.zeros((self.sizes[i], self.sizes[i+1]))\n",
        "          dB[i+1] = np.zeros((1, self.sizes[i+1]))\n",
        "      \n",
        "        for x, y in zip(X, Y):\n",
        "          self.grad(x, y)\n",
        "          for i in range(self.nh+1):\n",
        "            dW[i+1] += self.dW[i+1]\n",
        "            dB[i+1] += self.dB[i+1]\n",
        "          points_seen += 1\n",
        "          if points_seen % mini_batch_size == 0:\n",
        "            m = X.shape[1]\n",
        "            for i in range(self.nh+1):\n",
        "              V_W[i+1] = beta*V_W[i+1] + (1-beta) * ((dW[i+1]/m)**2)\n",
        "              V_B[i+1] = beta*V_B[i+1] + (1-beta) * ((dB[i+1]/m)**2)\n",
        "            m = X.shape[1]\n",
        "            for i in range(self.nh+1):\n",
        "              self.W[i+1] -= (learning_rate / np.sqrt(V_W[i+1]+ eps))* (dW[i+1]/m)\n",
        "              self.B[i+1] -= (learning_rate / np.sqrt(V_B[i+1]+ eps))* (dB[i+1]/m)\n",
        "              dW[i+1] = np.zeros((self.sizes[i], self.sizes[i+1]))\n",
        "              dB[i+1] = np.zeros((1, self.sizes[i+1]))\n",
        "\n",
        "\n",
        "\n",
        "        '''m = X.shape[1]\n",
        "        for i in range(self.nh+1):\n",
        "          V_W[i+1] = beta*V_W[i+1] + (1-beta) * (dW[i+1]/m)**2\n",
        "          V_B[i+1] = beta*V_B[i+1] + (1-beta) * (dB[i+1]/m)**2\n",
        "        m = X.shape[1]\n",
        "        for i in range(self.nh+1):\n",
        "          self.W[i+1] -= (learning_rate / np.sqrt(V_W[i+1]+ eps))* (dW[i+1]/m)\n",
        "          self.B[i+1] -= (learning_rate / np.sqrt(V_B[i+1]+ eps))* (dB[i+1]/m)'''\n",
        "        \n",
        "        if display_loss:\n",
        "          Y_pred = self.predict(X) \n",
        "          loss[epoch] = self.cross_entropy(Y, Y_pred)\n",
        "    if algo == 'Adam':\n",
        "      for epoch in tqdm_notebook(range(epochs), total=epochs, unit=\"epoch\"):\n",
        "        dW = {}\n",
        "        dB = {}\n",
        "        points_seen = 0\n",
        "        for i in range(self.nh+1):\n",
        "          dW[i+1] = np.zeros((self.sizes[i], self.sizes[i+1]))\n",
        "          dB[i+1] = np.zeros((1, self.sizes[i+1]))\n",
        "      \n",
        "        for x, y in zip(X, Y):\n",
        "          self.grad(x, y)\n",
        "          for i in range(self.nh+1):\n",
        "            dW[i+1] += self.dW[i+1]\n",
        "            dB[i+1] += self.dB[i+1]\n",
        "          points_seen += 1\n",
        "          if points_seen % mini_batch_size == 0:\n",
        "            m = X.shape[1]\n",
        "            num_updates += 1\n",
        "            for i in range(self.nh+1):\n",
        "              M_W[i+1] = beta1*M_W[i+1] + (1-beta1) * (dW[i+1]/m)\n",
        "              M_B[i+1] = beta1*M_B[i+1] + (1-beta1) * (dB[i+1]/m)\n",
        "              V_W[i+1] = beta2*V_W[i+1] + (1-beta2) * ((dW[i+1]/m)**2)\n",
        "              V_B[i+1] = beta2*V_B[i+1] + (1-beta2) * ((dB[i+1]/m)**2)\n",
        "              M_W_C = M_W[i+1] / (1 - np.power(beta1, num_updates))\n",
        "              M_B_C = M_B[i+1] / (1 - np.power(beta1, num_updates))\n",
        "              V_W_C = V_W[i+1] / (1 - np.power(beta2, num_updates))\n",
        "              V_B_C = V_B[i+1] / (1 - np.power(beta2, num_updates))\n",
        "              self.W[i+1] -= (learning_rate / np.sqrt(V_W_C + eps))* M_W_C\n",
        "              self.B[i+1] -= (learning_rate / np.sqrt(V_B_C + eps)) * M_B_C\n",
        "              dW[i+1] = np.zeros((self.sizes[i], self.sizes[i+1]))\n",
        "              dB[i+1] = np.zeros((1, self.sizes[i+1]))\n",
        "        \n",
        "        if display_loss:\n",
        "          Y_pred = self.predict(X) \n",
        "          loss[epoch] = self.cross_entropy(Y, Y_pred)\n",
        "\n",
        "\n",
        "    \n",
        "    if display_loss:\n",
        "        plt.plot(np.array(list(loss.values())).astype(float))\n",
        "        plt.xlabel('Epochs')\n",
        "        plt.ylabel('CE')\n",
        "        plt.show()"
      ]
    },
    {
      "cell_type": "markdown",
      "metadata": {
        "id": "Jpp0YLPqvyY8"
      },
      "source": [
        "## Creating Instance of the class and calling fit function"
      ]
    },
    {
      "cell_type": "markdown",
      "metadata": {
        "id": "T4dSnpuGv8Ac"
      },
      "source": [
        "## Accuracy"
      ]
    },
    {
      "cell_type": "code",
      "execution_count": null,
      "metadata": {
        "colab": {
          "base_uri": "https://localhost:8080/",
          "height": 348,
          "referenced_widgets": [
            "7ea770da573440a3a4e48e909e80a6af",
            "058b535b28dc41fb8c9e5c75822e68dc",
            "f5b357eae27d4248adb4b957e65ad2c3",
            "f2cc6dfdb7124c038e3379f9a8aff13a",
            "8230df54728f4cb1be99d20ab7ae5502",
            "0730fcc8f1f945b895427a357e52d6a4",
            "c5b2dc0e66334e56a9d3ed6a97632c6e",
            "62842507983a4030a965c424055324bd",
            "f0beab32015044e4a48df4aab2913f0d",
            "de23d98aaeb642a5948eb23e9d173ea2",
            "90511bf010da45918b24b859cd46f024"
          ]
        },
        "id": "WZmgl7-1vx2V",
        "outputId": "a5e8ed89-6e4c-4620-b45c-e7f23a03804b"
      },
      "outputs": [
        {
          "output_type": "stream",
          "name": "stderr",
          "text": [
            "/usr/local/lib/python3.7/dist-packages/ipykernel_launcher.py:242: TqdmDeprecationWarning: This function will be removed in tqdm==5.0.0\n",
            "Please use `tqdm.notebook.tqdm` instead of `tqdm.tqdm_notebook`\n"
          ]
        },
        {
          "output_type": "display_data",
          "data": {
            "application/vnd.jupyter.widget-view+json": {
              "model_id": "7ea770da573440a3a4e48e909e80a6af",
              "version_minor": 0,
              "version_major": 2
            },
            "text/plain": [
              "  0%|          | 0/20 [00:00<?, ?epoch/s]"
            ]
          },
          "metadata": {}
        },
        {
          "output_type": "display_data",
          "data": {
            "image/png": "[encoded data removed]",
            "text/plain": [
              "<Figure size 432x288 with 1 Axes>"
            ]
          },
          "metadata": {
            "needs_background": "light"
          }
        }
      ],
      "source": [
        "ffsn_multi = FFSN_MultiClass(784,10,[10])\n",
        "ffsn_multi.fit(x_train,y_OH_train,epochs=20,learning_rate=0.01,display_loss=True,algo= \"Adam\",mini_batch_size=256)"
      ]
    },
    {
      "cell_type": "code",
      "execution_count": null,
      "metadata": {
        "colab": {
          "base_uri": "https://localhost:8080/"
        },
        "id": "KOEPFb52v-5X",
        "outputId": "6925a6bc-0562-472f-ed8f-2f33aa1ab1a0"
      },
      "outputs": [
        {
          "output_type": "stream",
          "name": "stdout",
          "text": [
            "Training accuracy 0.85\n",
            "Validation accuracy 0.83\n"
          ]
        }
      ],
      "source": [
        "Y_pred_train = ffsn_multi.predict(x_train)\n",
        "Y_pred_train = np.argmax(Y_pred_train,1)\n",
        "\n",
        "Y_pred_val = ffsn_multi.predict(x_test)\n",
        "Y_pred_val = np.argmax(Y_pred_val,1)\n",
        "\n",
        "\n",
        "accuracy_train = accuracy_score(Y_pred_train, y_train)\n",
        "accuracy_val = accuracy_score(Y_pred_val, y_test)\n",
        "\n",
        "print(\"Training accuracy\", round(accuracy_train, 2))\n",
        "print(\"Validation accuracy\", round(accuracy_val, 2))"
      ]
    },
    {
      "cell_type": "code",
      "execution_count": null,
      "metadata": {
        "id": "2i4A4PFeQoa3"
      },
      "outputs": [],
      "source": [
        ""
      ]
    }
  ],
  "metadata": {
    "colab": {
      "collapsed_sections": [],
      "name": "DL 1.3.ipynb",
      "provenance": []
    },
    "kernelspec": {
      "display_name": "Python 3",
      "name": "python3"
    },
    "language_info": {
      "name": "python"
    },
    "widgets": {
      "application/vnd.jupyter.widget-state+json": {
        "7ea770da573440a3a4e48e909e80a6af": {
          "model_module": "@jupyter-widgets/controls",
          "model_name": "HBoxModel",
          "model_module_version": "1.5.0",
          "state": {
            "_view_name": "HBoxView",
            "_dom_classes": [],
            "_model_name": "HBoxModel",
            "_view_module": "@jupyter-widgets/controls",
            "_model_module_version": "1.5.0",
            "_view_count": null,
            "_view_module_version": "1.5.0",
            "box_style": "",
            "layout": "IPY_MODEL_058b535b28dc41fb8c9e5c75822e68dc",
            "_model_module": "@jupyter-widgets/controls",
            "children": [
              "IPY_MODEL_f5b357eae27d4248adb4b957e65ad2c3",
              "IPY_MODEL_f2cc6dfdb7124c038e3379f9a8aff13a",
              "IPY_MODEL_8230df54728f4cb1be99d20ab7ae5502"
            ]
          }
        },
        "058b535b28dc41fb8c9e5c75822e68dc": {
          "model_module": "@jupyter-widgets/base",
          "model_name": "LayoutModel",
          "model_module_version": "1.2.0",
          "state": {
            "_view_name": "LayoutView",
            "grid_template_rows": null,
            "right": null,
            "justify_content": null,
            "_view_module": "@jupyter-widgets/base",
            "overflow": null,
            "_model_module_version": "1.2.0",
            "_view_count": null,
            "flex_flow": null,
            "width": null,
            "min_width": null,
            "border": null,
            "align_items": null,
            "bottom": null,
            "_model_module": "@jupyter-widgets/base",
            "top": null,
            "grid_column": null,
            "overflow_y": null,
            "overflow_x": null,
            "grid_auto_flow": null,
            "grid_area": null,
            "grid_template_columns": null,
            "flex": null,
            "_model_name": "LayoutModel",
            "justify_items": null,
            "grid_row": null,
            "max_height": null,
            "align_content": null,
            "visibility": null,
            "align_self": null,
            "height": null,
            "min_height": null,
            "padding": null,
            "grid_auto_rows": null,
            "grid_gap": null,
            "max_width": null,
            "order": null,
            "_view_module_version": "1.2.0",
            "grid_template_areas": null,
            "object_position": null,
            "object_fit": null,
            "grid_auto_columns": null,
            "margin": null,
            "display": null,
            "left": null
          }
        },
        "f5b357eae27d4248adb4b957e65ad2c3": {
          "model_module": "@jupyter-widgets/controls",
          "model_name": "HTMLModel",
          "model_module_version": "1.5.0",
          "state": {
            "_view_name": "HTMLView",
            "style": "IPY_MODEL_0730fcc8f1f945b895427a357e52d6a4",
            "_dom_classes": [],
            "description": "",
            "_model_name": "HTMLModel",
            "placeholder": "​",
            "_view_module": "@jupyter-widgets/controls",
            "_model_module_version": "1.5.0",
            "value": "100%",
            "_view_count": null,
            "_view_module_version": "1.5.0",
            "description_tooltip": null,
            "_model_module": "@jupyter-widgets/controls",
            "layout": "IPY_MODEL_c5b2dc0e66334e56a9d3ed6a97632c6e"
          }
        },
        "f2cc6dfdb7124c038e3379f9a8aff13a": {
          "model_module": "@jupyter-widgets/controls",
          "model_name": "FloatProgressModel",
          "model_module_version": "1.5.0",
          "state": {
            "_view_name": "ProgressView",
            "style": "IPY_MODEL_62842507983a4030a965c424055324bd",
            "_dom_classes": [],
            "description": "",
            "_model_name": "FloatProgressModel",
            "bar_style": "success",
            "max": 20,
            "_view_module": "@jupyter-widgets/controls",
            "_model_module_version": "1.5.0",
            "value": 20,
            "_view_count": null,
            "_view_module_version": "1.5.0",
            "orientation": "horizontal",
            "min": 0,
            "description_tooltip": null,
            "_model_module": "@jupyter-widgets/controls",
            "layout": "IPY_MODEL_f0beab32015044e4a48df4aab2913f0d"
          }
        },
        "8230df54728f4cb1be99d20ab7ae5502": {
          "model_module": "@jupyter-widgets/controls",
          "model_name": "HTMLModel",
          "model_module_version": "1.5.0",
          "state": {
            "_view_name": "HTMLView",
            "style": "IPY_MODEL_de23d98aaeb642a5948eb23e9d173ea2",
            "_dom_classes": [],
            "description": "",
            "_model_name": "HTMLModel",
            "placeholder": "​",
            "_view_module": "@jupyter-widgets/controls",
            "_model_module_version": "1.5.0",
            "value": " 20/20 [02:22&lt;00:00,  7.09s/epoch]",
            "_view_count": null,
            "_view_module_version": "1.5.0",
            "description_tooltip": null,
            "_model_module": "@jupyter-widgets/controls",
            "layout": "IPY_MODEL_90511bf010da45918b24b859cd46f024"
          }
        },
        "0730fcc8f1f945b895427a357e52d6a4": {
          "model_module": "@jupyter-widgets/controls",
          "model_name": "DescriptionStyleModel",
          "model_module_version": "1.5.0",
          "state": {
            "_view_name": "StyleView",
            "_model_name": "DescriptionStyleModel",
            "description_width": "",
            "_view_module": "@jupyter-widgets/base",
            "_model_module_version": "1.5.0",
            "_view_count": null,
            "_view_module_version": "1.2.0",
            "_model_module": "@jupyter-widgets/controls"
          }
        },
        "c5b2dc0e66334e56a9d3ed6a97632c6e": {
          "model_module": "@jupyter-widgets/base",
          "model_name": "LayoutModel",
          "model_module_version": "1.2.0",
          "state": {
            "_view_name": "LayoutView",
            "grid_template_rows": null,
            "right": null,
            "justify_content": null,
            "_view_module": "@jupyter-widgets/base",
            "overflow": null,
            "_model_module_version": "1.2.0",
            "_view_count": null,
            "flex_flow": null,
            "width": null,
            "min_width": null,
            "border": null,
            "align_items": null,
            "bottom": null,
            "_model_module": "@jupyter-widgets/base",
            "top": null,
            "grid_column": null,
            "overflow_y": null,
            "overflow_x": null,
            "grid_auto_flow": null,
            "grid_area": null,
            "grid_template_columns": null,
            "flex": null,
            "_model_name": "LayoutModel",
            "justify_items": null,
            "grid_row": null,
            "max_height": null,
            "align_content": null,
            "visibility": null,
            "align_self": null,
            "height": null,
            "min_height": null,
            "padding": null,
            "grid_auto_rows": null,
            "grid_gap": null,
            "max_width": null,
            "order": null,
            "_view_module_version": "1.2.0",
            "grid_template_areas": null,
            "object_position": null,
            "object_fit": null,
            "grid_auto_columns": null,
            "margin": null,
            "display": null,
            "left": null
          }
        },
        "62842507983a4030a965c424055324bd": {
          "model_module": "@jupyter-widgets/controls",
          "model_name": "ProgressStyleModel",
          "model_module_version": "1.5.0",
          "state": {
            "_view_name": "StyleView",
            "_model_name": "ProgressStyleModel",
            "description_width": "",
            "_view_module": "@jupyter-widgets/base",
            "_model_module_version": "1.5.0",
            "_view_count": null,
            "_view_module_version": "1.2.0",
            "bar_color": null,
            "_model_module": "@jupyter-widgets/controls"
          }
        },
        "f0beab32015044e4a48df4aab2913f0d": {
          "model_module": "@jupyter-widgets/base",
          "model_name": "LayoutModel",
          "model_module_version": "1.2.0",
          "state": {
            "_view_name": "LayoutView",
            "grid_template_rows": null,
            "right": null,
            "justify_content": null,
            "_view_module": "@jupyter-widgets/base",
            "overflow": null,
            "_model_module_version": "1.2.0",
            "_view_count": null,
            "flex_flow": null,
            "width": null,
            "min_width": null,
            "border": null,
            "align_items": null,
            "bottom": null,
            "_model_module": "@jupyter-widgets/base",
            "top": null,
            "grid_column": null,
            "overflow_y": null,
            "overflow_x": null,
            "grid_auto_flow": null,
            "grid_area": null,
            "grid_template_columns": null,
            "flex": null,
            "_model_name": "LayoutModel",
            "justify_items": null,
            "grid_row": null,
            "max_height": null,
            "align_content": null,
            "visibility": null,
            "align_self": null,
            "height": null,
            "min_height": null,
            "padding": null,
            "grid_auto_rows": null,
            "grid_gap": null,
            "max_width": null,
            "order": null,
            "_view_module_version": "1.2.0",
            "grid_template_areas": null,
            "object_position": null,
            "object_fit": null,
            "grid_auto_columns": null,
            "margin": null,
            "display": null,
            "left": null
          }
        },
        "de23d98aaeb642a5948eb23e9d173ea2": {
          "model_module": "@jupyter-widgets/controls",
          "model_name": "DescriptionStyleModel",
          "model_module_version": "1.5.0",
          "state": {
            "_view_name": "StyleView",
            "_model_name": "DescriptionStyleModel",
            "description_width": "",
            "_view_module": "@jupyter-widgets/base",
            "_model_module_version": "1.5.0",
            "_view_count": null,
            "_view_module_version": "1.2.0",
            "_model_module": "@jupyter-widgets/controls"
          }
        },
        "90511bf010da45918b24b859cd46f024": {
          "model_module": "@jupyter-widgets/base",
          "model_name": "LayoutModel",
          "model_module_version": "1.2.0",
          "state": {
            "_view_name": "LayoutView",
            "grid_template_rows": null,
            "right": null,
            "justify_content": null,
            "_view_module": "@jupyter-widgets/base",
            "overflow": null,
            "_model_module_version": "1.2.0",
            "_view_count": null,
            "flex_flow": null,
            "width": null,
            "min_width": null,
            "border": null,
            "align_items": null,
            "bottom": null,
            "_model_module": "@jupyter-widgets/base",
            "top": null,
            "grid_column": null,
            "overflow_y": null,
            "overflow_x": null,
            "grid_auto_flow": null,
            "grid_area": null,
            "grid_template_columns": null,
            "flex": null,
            "_model_name": "LayoutModel",
            "justify_items": null,
            "grid_row": null,
            "max_height": null,
            "align_content": null,
            "visibility": null,
            "align_self": null,
            "height": null,
            "min_height": null,
            "padding": null,
            "grid_auto_rows": null,
            "grid_gap": null,
            "max_width": null,
            "order": null,
            "_view_module_version": "1.2.0",
            "grid_template_areas": null,
            "object_position": null,
            "object_fit": null,
            "grid_auto_columns": null,
            "margin": null,
            "display": null,
            "left": null
          }
        }
      }
    }
  },
  "nbformat": 4,
  "nbformat_minor": 0
}