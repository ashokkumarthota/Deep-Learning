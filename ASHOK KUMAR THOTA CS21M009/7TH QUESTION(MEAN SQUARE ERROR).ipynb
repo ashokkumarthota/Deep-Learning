{
  "cells": [
    {
      "cell_type": "markdown",
      "source": [
        "## Required Packages"
      ],
      "metadata": {
        "id": "ieGdgnLcDJYv"
      }
    },
    {
      "cell_type": "code",
      "execution_count": 19,
      "metadata": {
        "id": "mhx7ACF64r1J"
      },
      "outputs": [],
      "source": [
        "#Real Code\n",
        "import numpy as np\n",
        "from keras.datasets import fashion_mnist\n",
        "import matplotlib.pyplot as plt\n",
        "import pandas as pd\n",
        "from sklearn.model_selection import train_test_split\n",
        "from sklearn.metrics import accuracy_score, mean_squared_error\n",
        "from tqdm import tqdm_notebook \n",
        "from sklearn.preprocessing import OneHotEncoder\n",
        "from numpy.linalg import norm"
      ]
    },
    {
      "cell_type": "markdown",
      "source": [
        "## Setting random seed"
      ],
      "metadata": {
        "id": "3uRBEDbEDQ7e"
      }
    },
    {
      "cell_type": "code",
      "execution_count": 20,
      "metadata": {
        "id": "PZkuZF9tO1nP"
      },
      "outputs": [],
      "source": [
        "np.random.seed(0)"
      ]
    },
    {
      "cell_type": "markdown",
      "source": [
        "## Splitting and Normalising"
      ],
      "metadata": {
        "id": "VJ5EAI99DVG8"
      }
    },
    {
      "cell_type": "code",
      "execution_count": 21,
      "metadata": {
        "colab": {
          "base_uri": "https://localhost:8080/"
        },
        "id": "CPhLysrE4yXL",
        "outputId": "1a7e70aa-baa2-470a-9556-2e0e80a8b538"
      },
      "outputs": [
        {
          "output_type": "stream",
          "name": "stdout",
          "text": [
            "(60000, 28, 28) (10000, 28, 28) (60000,) (10000,) <class 'numpy.ndarray'> [0. 0. 0. 0. 0. 0. 0. 0. 0. 0. 0. 0. 0. 0. 0. 0. 0. 0. 0. 0. 0. 0. 0. 0.\n",
            " 0. 0. 0. 0.]\n",
            "(60000, 784) (10000, 784) (60000,) (10000,) <class 'numpy.float64'> 0.0\n"
          ]
        }
      ],
      "source": [
        "(x_train,y_train),(x_val,y_val)=fashion_mnist.load_data()\n",
        "x_train = x_train.astype('float')/ 255.0\n",
        "x_val = x_val.astype('float')/ 255.0\n",
        "print(x_train.shape, x_val.shape,y_train.shape,y_val.shape,type(x_train[0][0]),x_train[0][0])\n",
        "x_train = x_train.reshape(60000,784)\n",
        "x_val = x_val.reshape(10000,784)\n",
        "print(x_train.shape, x_val.shape,y_train.shape,y_val.shape,type(x_train[0][0]),x_train[0][0])"
      ]
    },
    {
      "cell_type": "markdown",
      "source": [
        "## 10% for testing from training data"
      ],
      "metadata": {
        "id": "whMSoRgmDamG"
      }
    },
    {
      "cell_type": "code",
      "source": [
        "x_train, x_test, y_train, y_test = train_test_split(x_train, y_train, test_size=0.1,stratify=y_train, random_state=0)\n",
        "print(x_train.shape, x_test.shape,y_train.shape,y_test.shape,type(x_train[0][0]),x_train[0][0])"
      ],
      "metadata": {
        "colab": {
          "base_uri": "https://localhost:8080/"
        },
        "id": "6qcOe9ME-E1O",
        "outputId": "8a8090ad-9e5b-479b-bf2b-7e983736b3ac"
      },
      "execution_count": 22,
      "outputs": [
        {
          "output_type": "stream",
          "name": "stdout",
          "text": [
            "(54000, 784) (6000, 784) (54000,) (6000,) <class 'numpy.float64'> 0.0\n"
          ]
        }
      ]
    },
    {
      "cell_type": "code",
      "source": [
        "print(x_train.dtype) #arr = arr.astype('float128')"
      ],
      "metadata": {
        "colab": {
          "base_uri": "https://localhost:8080/"
        },
        "id": "2yE0CD9lekr4",
        "outputId": "fb23eb8f-8ec5-47c0-d9c3-2f978f9c3940"
      },
      "execution_count": 23,
      "outputs": [
        {
          "output_type": "stream",
          "name": "stdout",
          "text": [
            "float64\n"
          ]
        }
      ]
    },
    {
      "cell_type": "markdown",
      "source": [
        "## One Hot Encoding"
      ],
      "metadata": {
        "id": "8m2jEJWgDlSa"
      }
    },
    {
      "cell_type": "code",
      "execution_count": 24,
      "metadata": {
        "colab": {
          "base_uri": "https://localhost:8080/"
        },
        "id": "L91K_2Yt40Wq",
        "outputId": "b23d671c-5590-43b4-e70c-756560c470fc"
      },
      "outputs": [
        {
          "output_type": "stream",
          "name": "stdout",
          "text": [
            "(54000, 10) (6000, 10)\n"
          ]
        }
      ],
      "source": [
        "enc = OneHotEncoder()\n",
        "# 0 -> (1, 0, 0, 0), 1 -> (0, 1, 0, 0), 2 -> (0, 0, 1, 0), 3 -> (0, 0, 0, 1)\n",
        "y_OH_train = enc.fit_transform(np.expand_dims(y_train,1)).toarray()\n",
        "y_OH_val = enc.fit_transform(np.expand_dims(y_test,1)).toarray()\n",
        "print(y_OH_train.shape, y_OH_val.shape)"
      ]
    },
    {
      "cell_type": "markdown",
      "source": [
        "## Wandb Configuration"
      ],
      "metadata": {
        "id": "uadXKvvRDpwk"
      }
    },
    {
      "cell_type": "code",
      "execution_count": 25,
      "metadata": {
        "colab": {
          "base_uri": "https://localhost:8080/"
        },
        "id": "uzfvtWfX5uCj",
        "outputId": "1566c399-ea67-4304-831f-2bcf493a9c47"
      },
      "outputs": [
        {
          "output_type": "stream",
          "name": "stdout",
          "text": [
            "Requirement already satisfied: wandb in /usr/local/lib/python3.7/dist-packages (0.12.10)\n",
            "Requirement already satisfied: yaspin>=1.0.0 in /usr/local/lib/python3.7/dist-packages (from wandb) (2.1.0)\n",
            "Requirement already satisfied: PyYAML in /usr/local/lib/python3.7/dist-packages (from wandb) (3.13)\n",
            "Requirement already satisfied: pathtools in /usr/local/lib/python3.7/dist-packages (from wandb) (0.1.2)\n",
            "Requirement already satisfied: six>=1.13.0 in /usr/local/lib/python3.7/dist-packages (from wandb) (1.15.0)\n",
            "Requirement already satisfied: requests<3,>=2.0.0 in /usr/local/lib/python3.7/dist-packages (from wandb) (2.23.0)\n",
            "Requirement already satisfied: GitPython>=1.0.0 in /usr/local/lib/python3.7/dist-packages (from wandb) (3.1.27)\n",
            "Requirement already satisfied: docker-pycreds>=0.4.0 in /usr/local/lib/python3.7/dist-packages (from wandb) (0.4.0)\n",
            "Requirement already satisfied: python-dateutil>=2.6.1 in /usr/local/lib/python3.7/dist-packages (from wandb) (2.8.2)\n",
            "Requirement already satisfied: protobuf>=3.12.0 in /usr/local/lib/python3.7/dist-packages (from wandb) (3.17.3)\n",
            "Requirement already satisfied: shortuuid>=0.5.0 in /usr/local/lib/python3.7/dist-packages (from wandb) (1.0.8)\n",
            "Requirement already satisfied: Click!=8.0.0,>=7.0 in /usr/local/lib/python3.7/dist-packages (from wandb) (7.1.2)\n",
            "Requirement already satisfied: promise<3,>=2.0 in /usr/local/lib/python3.7/dist-packages (from wandb) (2.3)\n",
            "Requirement already satisfied: sentry-sdk>=1.0.0 in /usr/local/lib/python3.7/dist-packages (from wandb) (1.5.5)\n",
            "Requirement already satisfied: psutil>=5.0.0 in /usr/local/lib/python3.7/dist-packages (from wandb) (5.4.8)\n",
            "Requirement already satisfied: typing-extensions>=3.7.4.3 in /usr/local/lib/python3.7/dist-packages (from GitPython>=1.0.0->wandb) (3.10.0.2)\n",
            "Requirement already satisfied: gitdb<5,>=4.0.1 in /usr/local/lib/python3.7/dist-packages (from GitPython>=1.0.0->wandb) (4.0.9)\n",
            "Requirement already satisfied: smmap<6,>=3.0.1 in /usr/local/lib/python3.7/dist-packages (from gitdb<5,>=4.0.1->GitPython>=1.0.0->wandb) (5.0.0)\n",
            "Requirement already satisfied: idna<3,>=2.5 in /usr/local/lib/python3.7/dist-packages (from requests<3,>=2.0.0->wandb) (2.10)\n",
            "Requirement already satisfied: certifi>=2017.4.17 in /usr/local/lib/python3.7/dist-packages (from requests<3,>=2.0.0->wandb) (2021.10.8)\n",
            "Requirement already satisfied: urllib3!=1.25.0,!=1.25.1,<1.26,>=1.21.1 in /usr/local/lib/python3.7/dist-packages (from requests<3,>=2.0.0->wandb) (1.24.3)\n",
            "Requirement already satisfied: chardet<4,>=3.0.2 in /usr/local/lib/python3.7/dist-packages (from requests<3,>=2.0.0->wandb) (3.0.4)\n",
            "Requirement already satisfied: termcolor<2.0.0,>=1.1.0 in /usr/local/lib/python3.7/dist-packages (from yaspin>=1.0.0->wandb) (1.1.0)\n"
          ]
        },
        {
          "output_type": "execute_result",
          "data": {
            "text/plain": [
              "True"
            ]
          },
          "metadata": {},
          "execution_count": 25
        }
      ],
      "source": [
        "!pip install wandb --upgrade\n",
        "import wandb\n",
        "wandb.login()"
      ]
    },
    {
      "cell_type": "markdown",
      "source": [
        "## sweep configuration"
      ],
      "metadata": {
        "id": "wGua_Q-xDuRm"
      }
    },
    {
      "cell_type": "code",
      "execution_count": 37,
      "metadata": {
        "id": "haCcBWa952Yq"
      },
      "outputs": [],
      "source": [
        "# These are the parameters for whch the model is giving 91.6 accuracy with cross entropy loss funcion\n",
        "sweep_config = {\n",
        "    'method': 'grid',\n",
        "    'metric' : {\n",
        "    'name': 'accuracy',\n",
        "    'goal': 'maximize'   \n",
        "    },\n",
        "    'parameters' : {\n",
        "        'epochs' : {\n",
        "            'values' : [10]\n",
        "        },\n",
        "        'batch_size' : {\n",
        "            'values' : [128]\n",
        "        },\n",
        "        'optimizer' : {\n",
        "            'values' : ['Adam']\n",
        "        },\n",
        "        'learing_rate' : {\n",
        "            'values' : [0.0005]\n",
        "        },\n",
        "        'weight_initialisation' : {\n",
        "            'values' : ['he']\n",
        "        },\n",
        "        'activation_functions' : {\n",
        "            'values' : ['sigmoid']\n",
        "        },\n",
        "        'weight_decay' : {\n",
        "            'values' : [0]\n",
        "        },\n",
        "        'noof_hidden' : {\n",
        "            'values' : [3]\n",
        "        },\n",
        "        'size_of_every_hidden' : {\n",
        "            'values' : [128]\n",
        "        }\n",
        "    }\n",
        "}"
      ]
    },
    {
      "cell_type": "code",
      "execution_count": 38,
      "metadata": {
        "colab": {
          "base_uri": "https://localhost:8080/"
        },
        "id": "OyizsYkN6hbZ",
        "outputId": "33199e99-67da-4f56-9485-7233fc3fa23e"
      },
      "outputs": [
        {
          "output_type": "stream",
          "name": "stdout",
          "text": [
            "Create sweep with ID: bfuxqtip\n",
            "Sweep URL: https://wandb.ai/026-and-009/DL%201.1%20mse/sweeps/bfuxqtip\n"
          ]
        }
      ],
      "source": [
        "sweep_id = wandb.sweep(sweep_config, project=\"DL 1.1 mse\")"
      ]
    },
    {
      "cell_type": "code",
      "execution_count": 39,
      "metadata": {
        "id": "PTcJFnLf42iK"
      },
      "outputs": [],
      "source": [
        "#sgd gradient descent\n",
        "class FFSN_MultiClass:\n",
        "  \n",
        "  def __init__(self, n_inputs, n_outputs, noof_hidden, size_of_every_hidden, \n",
        "               init_method = 'random', activation_function = 'sigmoid'):\n",
        "    hidden_sizes=[]\n",
        "    for i in range(noof_hidden):\n",
        "        hidden_sizes.append(size_of_every_hidden)\n",
        "    self.nx = n_inputs\n",
        "    self.ny = n_outputs\n",
        "    self.nh = len(hidden_sizes)\n",
        "    self.sizes = [self.nx] + hidden_sizes + [self.ny]\n",
        "    self.activation_function = activation_function\n",
        "\n",
        "    self.W = {}\n",
        "    self.B = {}\n",
        "    np.random.seed(0)\n",
        "\n",
        "    if init_method == \"random\":\n",
        "      for i in range(self.nh+1):\n",
        "        self.W[i+1] = np.random.randn(self.sizes[i], self.sizes[i+1])\n",
        "        self.B[i+1] = np.random.randn(1, self.sizes[i+1])\n",
        "    elif init_method == \"xavier\":\n",
        "      for i in range(self.nh+1):\n",
        "        self.W[i+1] = np.random.randn(self.sizes[i], self.sizes[i+1])*np.sqrt(1/self.sizes[i])\n",
        "        self.B[i+1] = np.random.randn(1, self.sizes[i+1])\n",
        "    elif init_method == \"he\":\n",
        "      for i in range(self.nh+1):\n",
        "        self.W[i+1] = np.random.randn(self.sizes[i], self.sizes[i+1])*np.sqrt(2/self.sizes[i])\n",
        "        self.B[i+1] = np.random.randn(1, self.sizes[i+1])\n",
        "\n",
        "  def forward_activation(self, X): \n",
        "    if self.activation_function == \"sigmoid\":\n",
        "      return 1.0/(1.0 + np.exp(-X))\n",
        "    elif self.activation_function == \"tanh\":\n",
        "      return np.tanh(X)\n",
        "    elif self.activation_function == \"relu\":\n",
        "      return np.maximum(0,X)\n",
        "    elif self.activation_function == \"leaky_relu\":\n",
        "      return np.maximum(self.leaky_slope*X,X)\n",
        "      \n",
        "  def grad_activation(self, X):\n",
        "    if self.activation_function == \"sigmoid\":\n",
        "      return X*(1-X) \n",
        "    elif self.activation_function == \"tanh\":\n",
        "      return (1-np.square(X))\n",
        "    elif self.activation_function == \"relu\":\n",
        "      return 1.0*(X>0)\n",
        "    elif self.activation_function == \"leaky_relu\":\n",
        "      d=np.zeros_like(X)\n",
        "      d[X<=0]=self.leaky_slope\n",
        "      d[X>0]=1\n",
        "      return d\n",
        "  \n",
        "  def softmax(self, x):\n",
        "    exps = np.exp(x)\n",
        "    return exps / np.sum(exps)\n",
        "\n",
        "  def forward_pass(self, x):\n",
        "    self.A = {}\n",
        "    self.H = {}\n",
        "    self.H[0] = x.reshape(1, -1)\n",
        "    for i in range(self.nh):\n",
        "      self.A[i+1] = np.matmul(self.H[i], self.W[i+1]) + self.B[i+1]\n",
        "      self.H[i+1] = self.forward_activation(self.A[i+1])\n",
        "    self.A[self.nh+1] = np.matmul(self.H[self.nh], self.W[self.nh+1]) + self.B[self.nh+1]\n",
        "    self.H[self.nh+1] = self.forward_activation(self.A[self.nh+1])\n",
        "    return self.H[self.nh+1]\n",
        "  \n",
        "  def predict(self, X):\n",
        "    Y_pred = []\n",
        "    for x in X:\n",
        "      y_pred = self.forward_pass(x)\n",
        "      Y_pred.append(y_pred)\n",
        "    return np.array(Y_pred).squeeze()\n",
        "  \n",
        "  def cross_entropy(self,label,pred):\n",
        "    yl=np.multiply(pred,label)\n",
        "    yl=yl[yl!=0]\n",
        "    yl=-np.log(yl)\n",
        "    yl=np.mean(yl)\n",
        "    return yl\n",
        " \n",
        "  def grad(self, x, y):\n",
        "    self.forward_pass(x)\n",
        "    self.dW = {}\n",
        "    self.dB = {}\n",
        "    self.dH = {}\n",
        "    self.dA = {}\n",
        "    L = self.nh + 1\n",
        "    self.dA[L] = (self.H[L] - y)*self.H[L]*(1-self.H[L])\n",
        "    for k in range(L, 0, -1):\n",
        "      self.dW[k] = np.matmul(self.H[k-1].T, self.dA[k])\n",
        "      self.dB[k] = self.dA[k]\n",
        "      self.dH[k-1] = np.matmul(self.dA[k], self.W[k].T)\n",
        "      self.dA[k-1] = np.multiply(self.dH[k-1], self.grad_activation(self.H[k-1])) \n",
        "    \n",
        "  def fit(self, X, Y, epochs=100, algo= \"GD\", learning_rate=0.01, display_loss=True,\n",
        "          mini_batch_size=60000, eps=1e-8, beta=0.9, beta1=0.9, beta2=0.9, gamma=0.9,lambda_val=0.5,l2_norm=True):\n",
        "      \n",
        "    if display_loss:\n",
        "      loss = {}\n",
        "    V_W = {}\n",
        "    V_B = {}\n",
        "    M_W = {}\n",
        "    M_B = {}\n",
        "    num_updates = 0\n",
        "    for i in range(self.nh+1):\n",
        "      V_W[i+1] = np.zeros((self.sizes[i], self.sizes[i+1]))\n",
        "      V_B[i+1] = np.zeros((1, self.sizes[i+1]))\n",
        "      M_W[i+1] = np.zeros((self.sizes[i], self.sizes[i+1]))\n",
        "      M_B[i+1] = np.zeros((1, self.sizes[i+1]))\n",
        "    if algo == 'SGD':\n",
        "        for epoch in tqdm_notebook(range(epochs), total=epochs, unit=\"epoch\"):\n",
        "          dW = {}\n",
        "          dB = {}\n",
        "          points_seen = 0\n",
        "          for i in range(self.nh+1):\n",
        "            dW[i+1] = np.zeros((self.sizes[i], self.sizes[i+1]))\n",
        "            dB[i+1] = np.zeros((1, self.sizes[i+1]))\n",
        "          for x, y in zip(X, Y):\n",
        "            self.grad(x, y)\n",
        "            for i in range(self.nh+1):\n",
        "              dW[i+1] += self.dW[i+1]\n",
        "              dB[i+1] += self.dB[i+1]\n",
        "            points_seen += 1\n",
        "            if points_seen % mini_batch_size == 0:\n",
        "              m = X.shape[1]\n",
        "              for i in range(self.nh+1):\n",
        "                if l2_norm:\n",
        "                  self.W[i+1] -= (learning_rate * lambda_val)/m * self.W[i+1] + learning_rate * (dW[i+1]/m)\n",
        "                else:\n",
        "                  self.W[i+1] -= learning_rate * (dW[i+1]/m)\n",
        "                self.B[i+1] -= learning_rate * (dB[i+1]/m)\n",
        "                dW[i+1] = np.zeros((self.sizes[i], self.sizes[i+1]))\n",
        "                dB[i+1] = np.zeros((1, self.sizes[i+1]))\n",
        "            \n",
        "          if display_loss:\n",
        "            Y_pred = self.predict(X) \n",
        "            loss[epoch] = mean_squared_error(Y_pred,Y)\n",
        "          Y_pred_train = self.predict(x_train)\n",
        "          train_loss = mean_squared_error(Y_pred_train,y_OH_train)\n",
        "          Y_pred_train = np.argmax(Y_pred_train,1)\n",
        "\n",
        "          Y_pred_val = self.predict(x_test)\n",
        "          test_loss = mean_squared_error(Y_pred_val,y_OH_val)\n",
        "          Y_pred_val = np.argmax(Y_pred_val,1)\n",
        "\n",
        "\n",
        "          accuracy_train = accuracy_score(Y_pred_train, y_train)\n",
        "          accuracy_val = accuracy_score(Y_pred_val, y_test)\n",
        "          #print(accuracy_train,accuracy_val)\n",
        "          wandb.log({\"val_accuracy\": accuracy_val,\"val_loss\": test_loss, \n",
        "               \"loss\": train_loss,\"epochs\": epoch+1, \"accuracy\": accuracy_train})\n",
        "    \n",
        "    \n",
        "    if algo == 'Momentum':\n",
        "      for epoch in tqdm_notebook(range(epochs), total=epochs, unit=\"epoch\"):\n",
        "        dW = {}\n",
        "        dB = {}\n",
        "        points_seen = 0\n",
        "        for i in range(self.nh+1):\n",
        "          dW[i+1] = np.zeros((self.sizes[i], self.sizes[i+1]))\n",
        "          dB[i+1] = np.zeros((1, self.sizes[i+1]))\n",
        "        for x, y in zip(X, Y):\n",
        "          self.grad(x, y)\n",
        "          for i in range(self.nh+1):\n",
        "            dW[i+1] += self.dW[i+1]\n",
        "            dB[i+1] += self.dB[i+1]\n",
        "          points_seen += 1\n",
        "          if points_seen % mini_batch_size == 0:\n",
        "            m = X.shape[1]\n",
        "            for i in range(self.nh+1):\n",
        "              V_W[i+1] = gamma * V_W[i+1] + learning_rate * (dW[i+1]/m)\n",
        "              V_B[i+1] = gamma * V_B[i+1] + learning_rate * (dB[i+1]/m)\n",
        "                    \n",
        "            m = X.shape[1]\n",
        "            for i in range(self.nh+1):\n",
        "              if l2_norm:\n",
        "                self.W[i+1] -= (learning_rate * lambda_val)/m * self.W[i+1] + V_W[i+1]\n",
        "              else:\n",
        "                self.W[i+1] -= V_W[i+1]\n",
        "              self.B[i+1] -= V_B[i+1]\n",
        "              dW[i+1] = np.zeros((self.sizes[i], self.sizes[i+1]))\n",
        "              dB[i+1] = np.zeros((1, self.sizes[i+1]))\n",
        "            \n",
        "        if display_loss:\n",
        "          Y_pred = self.predict(X) \n",
        "          loss[epoch] = mean_squared_error(Y_pred,Y)\n",
        "        Y_pred_train = self.predict(x_train)\n",
        "        train_loss = mean_squared_error(Y_pred_train,y_OH_train)\n",
        "        Y_pred_train = np.argmax(Y_pred_train,1)\n",
        "\n",
        "        Y_pred_val = self.predict(x_test)\n",
        "        test_loss = mean_squared_error(Y_pred_val,y_OH_val)\n",
        "        Y_pred_val = np.argmax(Y_pred_val,1)\n",
        "\n",
        "\n",
        "        accuracy_train = accuracy_score(Y_pred_train, y_train)\n",
        "        accuracy_val = accuracy_score(Y_pred_val, y_test)\n",
        "        #print(accuracy_train,accuracy_val)\n",
        "        wandb.log({\"val_accuracy\": accuracy_val,\"val_loss\": test_loss, \n",
        "               \"loss\": train_loss,\"epochs\": epoch+1, \"accuracy\": accuracy_train})\n",
        "\n",
        "    if algo == 'NAG':\n",
        "      for epoch in tqdm_notebook(range(epochs), total=epochs, unit=\"epoch\"):\n",
        "        dW = {}\n",
        "        dB = {}\n",
        "        points_seen = 0\n",
        "        for i in range(self.nh+1):\n",
        "          dW[i+1] = np.zeros((self.sizes[i], self.sizes[i+1]))\n",
        "          dB[i+1] = np.zeros((1, self.sizes[i+1]))\n",
        "        m = X.shape[1]\n",
        "        for i in range(self.nh+1):\n",
        "          self.W[i+1] -= gamma*V_W[i+1]\n",
        "          self.B[i+1] -= gamma*V_B[i+1]\n",
        "      \n",
        "        for x, y in zip(X, Y):\n",
        "          self.grad(x, y)\n",
        "          for i in range(self.nh+1):\n",
        "            dW[i+1] += self.dW[i+1]\n",
        "            dB[i+1] += self.dB[i+1]\n",
        "          points_seen += 1\n",
        "          if points_seen % mini_batch_size == 0:\n",
        "            m = X.shape[1]\n",
        "            for i in range(self.nh+1):\n",
        "              self.W[i+1] -= learning_rate * (dW[i+1]/m)\n",
        "              self.B[i+1] -= learning_rate * (dB[i+1]/m)\n",
        "            m = X.shape[1]\n",
        "            for i in range(self.nh+1):\n",
        "              V_W[i+1] = gamma*V_W[i+1] + learning_rate * (dW[i+1]/m)\n",
        "              V_B[i+1] = gamma*V_B[i+1] + learning_rate * (dB[i+1]/m)\n",
        "            m = X.shape[1]\n",
        "            for i in range(self.nh+1):\n",
        "              dW[i+1] = np.zeros((self.sizes[i], self.sizes[i+1]))\n",
        "              dB[i+1] = np.zeros((1, self.sizes[i+1]))\n",
        "              if l2_norm:\n",
        "                self.W[i+1] -= (learning_rate * lambda_val)/m * self.W[i+1] + gamma*V_W[i+1]\n",
        "              else:\n",
        "                self.W[i+1] -= gamma*V_W[i+1]\n",
        "              self.B[i+1] -= gamma*V_B[i+1]\n",
        "        \n",
        "        if display_loss:\n",
        "          Y_pred = self.predict(X) \n",
        "          loss[epoch] = mean_squared_error(Y_pred,Y)\n",
        "        Y_pred_train = self.predict(x_train)\n",
        "        train_loss = mean_squared_error(Y_pred_train,y_OH_train)\n",
        "        Y_pred_train = np.argmax(Y_pred_train,1)\n",
        "\n",
        "        Y_pred_val = self.predict(x_test)\n",
        "        test_loss = mean_squared_error(Y_pred_val,y_OH_val)\n",
        "        Y_pred_val = np.argmax(Y_pred_val,1)\n",
        "\n",
        "\n",
        "        accuracy_train = accuracy_score(Y_pred_train, y_train)\n",
        "        accuracy_val = accuracy_score(Y_pred_val, y_test)\n",
        "        #print(accuracy_train,accuracy_val)\n",
        "        wandb.log({\"val_accuracy\": accuracy_val,\"val_loss\": test_loss, \n",
        "               \"loss\": train_loss,\"epochs\": epoch+1, \"accuracy\": accuracy_train})\n",
        "\n",
        "    if algo == 'RMSProp':\n",
        "      for epoch in tqdm_notebook(range(epochs), total=epochs, unit=\"epoch\"):\n",
        "        dW = {}\n",
        "        dB = {}\n",
        "        points_seen = 0\n",
        "        for i in range(self.nh+1):\n",
        "          dW[i+1] = np.zeros((self.sizes[i], self.sizes[i+1]))\n",
        "          dB[i+1] = np.zeros((1, self.sizes[i+1]))\n",
        "      \n",
        "        for x, y in zip(X, Y):\n",
        "          self.grad(x, y)\n",
        "          for i in range(self.nh+1):\n",
        "            dW[i+1] += self.dW[i+1]\n",
        "            dB[i+1] += self.dB[i+1]\n",
        "          points_seen += 1\n",
        "          if points_seen % mini_batch_size == 0:\n",
        "            m = X.shape[1]\n",
        "            for i in range(self.nh+1):\n",
        "              V_W[i+1] = beta*V_W[i+1] + (1-beta) * ((dW[i+1]/m)**2)\n",
        "              V_B[i+1] = beta*V_B[i+1] + (1-beta) * ((dB[i+1]/m)**2)\n",
        "            m = X.shape[1]\n",
        "            for i in range(self.nh+1):\n",
        "              if l2_norm:\n",
        "                self.W[i+1] -= (learning_rate * lambda_val)/m * self.W[i+1] + (learning_rate / np.sqrt(V_W[i+1]+ eps))* (dW[i+1]/m)\n",
        "              else:\n",
        "                self.W[i+1] -= (learning_rate / np.sqrt(V_W[i+1]+ eps))* (dW[i+1]/m)\n",
        "              self.B[i+1] -= (learning_rate / np.sqrt(V_B[i+1]+ eps))* (dB[i+1]/m)\n",
        "              dW[i+1] = np.zeros((self.sizes[i], self.sizes[i+1]))\n",
        "              dB[i+1] = np.zeros((1, self.sizes[i+1]))\n",
        "        \n",
        "        if display_loss:\n",
        "          Y_pred = self.predict(X) \n",
        "          loss[epoch] = mean_squared_error(Y_pred,Y)\n",
        "        Y_pred_train = self.predict(x_train)\n",
        "        train_loss = mean_squared_error(Y_pred_train,y_OH_train)\n",
        "        Y_pred_train = np.argmax(Y_pred_train,1)\n",
        "\n",
        "        Y_pred_val = self.predict(x_test)\n",
        "        test_loss = mean_squared_error(Y_pred_val,y_OH_val)\n",
        "        Y_pred_val = np.argmax(Y_pred_val,1)\n",
        "\n",
        "\n",
        "        accuracy_train = accuracy_score(Y_pred_train, y_train)\n",
        "        accuracy_val = accuracy_score(Y_pred_val, y_test)\n",
        "        #print(accuracy_train,accuracy_val)\n",
        "        wandb.log({\"val_accuracy\": accuracy_val,\"val_loss\": test_loss, \n",
        "               \"loss\": train_loss,\"epochs\": epoch+1, \"accuracy\": accuracy_train})\n",
        "\n",
        "    if algo == 'Adam':\n",
        "      for epoch in tqdm_notebook(range(epochs), total=epochs, unit=\"epoch\"):\n",
        "        dW = {}\n",
        "        dB = {}\n",
        "        points_seen = 0\n",
        "        for i in range(self.nh+1):\n",
        "          dW[i+1] = np.zeros((self.sizes[i], self.sizes[i+1]))\n",
        "          dB[i+1] = np.zeros((1, self.sizes[i+1]))\n",
        "      \n",
        "        for x, y in zip(X, Y):\n",
        "          self.grad(x, y)\n",
        "          for i in range(self.nh+1):\n",
        "            dW[i+1] += self.dW[i+1]\n",
        "            dB[i+1] += self.dB[i+1]\n",
        "          points_seen += 1\n",
        "          if points_seen % mini_batch_size == 0:\n",
        "            m = X.shape[1]\n",
        "            num_updates += 1\n",
        "            for i in range(self.nh+1):\n",
        "              M_W[i+1] = beta1*M_W[i+1] + (1-beta1) * (dW[i+1]/m)\n",
        "              M_B[i+1] = beta1*M_B[i+1] + (1-beta1) * (dB[i+1]/m)\n",
        "              V_W[i+1] = beta2*V_W[i+1] + (1-beta2) * ((dW[i+1]/m)**2)\n",
        "              V_B[i+1] = beta2*V_B[i+1] + (1-beta2) * ((dB[i+1]/m)**2)\n",
        "              M_W_C = M_W[i+1] / (1 - np.power(beta1, num_updates))\n",
        "              M_B_C = M_B[i+1] / (1 - np.power(beta1, num_updates))\n",
        "              V_W_C = V_W[i+1] / (1 - np.power(beta2, num_updates))\n",
        "              V_B_C = V_B[i+1] / (1 - np.power(beta2, num_updates))\n",
        "              if l2_norm:\n",
        "                self.W[i+1] -= (learning_rate * lambda_val)/m * self.W[i+1] + (learning_rate / np.sqrt(V_W_C + eps))* M_W_C\n",
        "              else:\n",
        "                self.W[i+1] -= (learning_rate / np.sqrt(V_W_C + eps))* M_W_C\n",
        "              self.B[i+1] -= (learning_rate / np.sqrt(V_B_C + eps)) * M_B_C\n",
        "              dW[i+1] = np.zeros((self.sizes[i], self.sizes[i+1]))\n",
        "              dB[i+1] = np.zeros((1, self.sizes[i+1]))\n",
        "        \n",
        "        if display_loss:\n",
        "          Y_pred = self.predict(X) \n",
        "          loss[epoch] = mean_squared_error(Y_pred,Y)\n",
        "        Y_pred_train = self.predict(x_train)\n",
        "        train_loss = mean_squared_error(Y_pred_train,y_OH_train)\n",
        "        Y_pred_train = np.argmax(Y_pred_train,1)\n",
        "\n",
        "        Y_pred_val = self.predict(x_test)\n",
        "        test_loss = mean_squared_error(Y_pred_val,y_OH_val)\n",
        "        Y_pred_val = np.argmax(Y_pred_val,1)\n",
        "\n",
        "\n",
        "        accuracy_train = accuracy_score(Y_pred_train, y_train)\n",
        "        accuracy_val = accuracy_score(Y_pred_val, y_test)\n",
        "        #print(accuracy_train,accuracy_val)\n",
        "        wandb.log({\"val_accuracy\": accuracy_val,\"val_loss\": test_loss, \n",
        "               \"loss\": train_loss,\"epochs\": epoch+1, \"accuracy\": accuracy_train})\n",
        "    if algo == 'Nadam':\n",
        "      for epoch in tqdm_notebook(range(epochs), total=epochs, unit=\"epoch\"):\n",
        "        dW = {}\n",
        "        dB = {}\n",
        "        points_seen = 0\n",
        "        for i in range(self.nh+1):\n",
        "          dW[i+1] = np.zeros((self.sizes[i], self.sizes[i+1]))\n",
        "          dB[i+1] = np.zeros((1, self.sizes[i+1]))\n",
        "      \n",
        "        for x, y in zip(X, Y):\n",
        "          self.grad(x, y)\n",
        "          for i in range(self.nh+1):\n",
        "            dW[i+1] += self.dW[i+1]\n",
        "            dB[i+1] += self.dB[i+1]\n",
        "          points_seen += 1\n",
        "          if points_seen % mini_batch_size == 0:\n",
        "            m = X.shape[1]\n",
        "            num_updates += 1\n",
        "            for i in range(self.nh+1):\n",
        "              M_W[i+1] = beta1*M_W[i+1] + (1-beta1) * (dW[i+1]/m)\n",
        "              M_B[i+1] = beta1*M_B[i+1] + (1-beta1) * (dB[i+1]/m)\n",
        "              V_W[i+1] = beta2*V_W[i+1] + (1-beta2) * ((dW[i+1]/m)**2)\n",
        "              V_B[i+1] = beta2*V_B[i+1] + (1-beta2) * ((dB[i+1]/m)**2)\n",
        "              M_W_C = M_W[i+1] / (1 - np.power(beta1, num_updates))\n",
        "              M_B_C = M_B[i+1] / (1 - np.power(beta1, num_updates))\n",
        "              V_W_C = V_W[i+1] / (1 - np.power(beta2, num_updates))\n",
        "              V_B_C = V_B[i+1] / (1 - np.power(beta2, num_updates))\n",
        "              if l2_norm:\n",
        "                self.W[i+1] -= (learning_rate * lambda_val)/m * self.W[i+1] + (learning_rate / np.sqrt(V_W_C + eps))* (beta1*M_W_C + (1-beta1)/(1-np.power(beta1,num_updates))* (dW[i+1]/m))\n",
        "              else:\n",
        "                self.W[i+1] -= (learning_rate / np.sqrt(V_W_C + eps))* (beta1*M_W_C + (1-beta1)/(1-np.power(beta1,num_updates))* (dW[i+1]/m) )\n",
        "              self.B[i+1] -= (learning_rate / np.sqrt(V_B_C + eps)) * (beta1*M_B_C + (1-beta1)/(1-np.power(beta1,num_updates))* (dB[i+1]/m))\n",
        "              dW[i+1] = np.zeros((self.sizes[i], self.sizes[i+1]))\n",
        "              dB[i+1] = np.zeros((1, self.sizes[i+1]))\n",
        "       \n",
        "        if display_loss:\n",
        "          Y_pred = self.predict(X) \n",
        "          loss[epoch] = mean_squared_error(Y_pred,Y)\n",
        "        Y_pred_train = self.predict(x_train)\n",
        "        train_loss = mean_squared_error(Y_pred_train,y_OH_train)\n",
        "        Y_pred_train = np.argmax(Y_pred_train,1)\n",
        "\n",
        "        Y_pred_val = self.predict(x_test)\n",
        "        test_loss = mean_squared_error(Y_pred_val,y_OH_val)\n",
        "        Y_pred_val = np.argmax(Y_pred_val,1)\n",
        "\n",
        "\n",
        "        accuracy_train = accuracy_score(Y_pred_train, y_train)\n",
        "        accuracy_val = accuracy_score(Y_pred_val, y_test)\n",
        "        #print(accuracy_train,accuracy_val)\n",
        "        wandb.log({\"val_accuracy\": accuracy_val,\"val_loss\": test_loss, \n",
        "               \"loss\": train_loss,\"epochs\": epoch+1, \"accuracy\": accuracy_train})\n",
        "    \n",
        "    if display_loss:\n",
        "        plt.plot(np.array(list(loss.values())).astype(float))\n",
        "        plt.xlabel('Epochs')\n",
        "        plt.ylabel('CE')\n",
        "        plt.show()\n",
        "    print(accuracy_train,accuracy_val)"
      ]
    },
    {
      "cell_type": "code",
      "execution_count": 40,
      "metadata": {
        "id": "NY7TfY6S6qRe"
      },
      "outputs": [],
      "source": [
        "#code\n",
        "def train():\n",
        "    config_defaluts = {\n",
        "        'epochs' :5,\n",
        "        'learing_rate' : 1e-3,\n",
        "        'batch_size' : 64,\n",
        "        'optimizer' : 'RMSProp',\n",
        "        'weight_initialisation' : 'random',\n",
        "        'activation_functions' : 'sigmoid',\n",
        "        'weight_decay' : 0.0005,\n",
        "        'noof_hidden' : 2,\n",
        "        'size_of_every_hidden' : 10\n",
        "\n",
        "    }\n",
        "    wandb.init(config=config_defaluts)\n",
        "    config=wandb.config\n",
        "    wandb.init(name=\"hl_\"+str(config.noof_hidden)+\"_bs_\"+str(config.batch_size)+\"_ac_\"+str(config.activation_functions)+\"_MSE_\")\n",
        "    ffsn_multi = FFSN_MultiClass(784,10,config.noof_hidden,config.size_of_every_hidden,init_method=config.weight_initialisation, \n",
        "                                 activation_function=config.activation_functions)\n",
        "    ffsn_multi.fit(x_train,y_OH_train,epochs=config.epochs,learning_rate=config.learing_rate,\n",
        "                   algo= config.optimizer,mini_batch_size=config.batch_size,lambda_val=config.weight_decay)"
      ]
    },
    {
      "cell_type": "code",
      "execution_count": 41,
      "metadata": {
        "colab": {
          "base_uri": "https://localhost:8080/",
          "height": 1000,
          "referenced_widgets": [
            "3ee67fd73e4d49e3b6ea86c1828de4e5",
            "9562ffda1b7f45d78ed2b750ea6f829a",
            "8717a45d0c984b608969ef069dd7ce0c",
            "66951eba05cb441cb125deba164f0213",
            "23eb11e7e82a4d7fb800703661edb150",
            "35f75f45a944469499d2732074585a44",
            "8cdc8fb8c4e54c6084ec8a07e802339f",
            "a80cad417d47404da84e46d1eb88c0ee",
            "65b839e6272e468a8c3a6319b1e4b3a9",
            "f97b877705414318b2e86604b87ee929",
            "44a3ad9aee52445da0780ab7c986ccda",
            "f654f0fc3b0548a18da04aebb85ac8d4",
            "656252fa7fd54c1ab59aa07576de5399",
            "48313410462d4f849acd934141bebb0d",
            "72d952a31d7f44078b0eb2062b9f055b",
            "963e8f913d19482dac0814f2e495af38",
            "dbf468c41e8f4f509b481dd38ca62c7c",
            "a84ead17b168482893cac9c02341b337",
            "54d3bb5ee9b14d66854afb1c42972361",
            "3c9a0803f51248fea0710d7842e509a8",
            "e2af8e0bf5f448c2b7b8705706a740a9",
            "31c40b66a2314bf19fedee35edc5a96e",
            "4ec28c79993e4388a130157a7abfeef0",
            "e091b816b56d485f8a7e405450f9a154",
            "880f69d18935436eb363cc5920fd32c4",
            "f6dc0b75def94fa4b14cfd147c10b400",
            "33ae99fe12d74386ba0e9279bcd1bb15"
          ]
        },
        "id": "GNCOAdHG7WK6",
        "outputId": "381ebb46-a948-4e02-eaa7-2a917d273592"
      },
      "outputs": [
        {
          "output_type": "stream",
          "name": "stderr",
          "text": [
            "\u001b[34m\u001b[1mwandb\u001b[0m: Agent Starting Run: o5l40koq with config:\n",
            "\u001b[34m\u001b[1mwandb\u001b[0m: \tactivation_functions: sigmoid\n",
            "\u001b[34m\u001b[1mwandb\u001b[0m: \tbatch_size: 128\n",
            "\u001b[34m\u001b[1mwandb\u001b[0m: \tepochs: 10\n",
            "\u001b[34m\u001b[1mwandb\u001b[0m: \tlearing_rate: 0.0005\n",
            "\u001b[34m\u001b[1mwandb\u001b[0m: \tnoof_hidden: 3\n",
            "\u001b[34m\u001b[1mwandb\u001b[0m: \toptimizer: Adam\n",
            "\u001b[34m\u001b[1mwandb\u001b[0m: \tsize_of_every_hidden: 128\n",
            "\u001b[34m\u001b[1mwandb\u001b[0m: \tweight_decay: 0\n",
            "\u001b[34m\u001b[1mwandb\u001b[0m: \tweight_initialisation: he\n"
          ]
        },
        {
          "output_type": "display_data",
          "data": {
            "text/html": [
              "\n",
              "                    Syncing run <strong><a href=\"https://wandb.ai/026-and-009/DL%201.1%20mse/runs/o5l40koq\" target=\"_blank\">woven-sweep-1</a></strong> to <a href=\"https://wandb.ai/026-and-009/DL%201.1%20mse\" target=\"_blank\">Weights & Biases</a> (<a href=\"https://docs.wandb.com/integrations/jupyter.html\" target=\"_blank\">docs</a>).<br/>\n",
              "Sweep page: <a href=\"https://wandb.ai/026-and-009/DL%201.1%20mse/sweeps/bfuxqtip\" target=\"_blank\">https://wandb.ai/026-and-009/DL%201.1%20mse/sweeps/bfuxqtip</a><br/>\n",
              "\n",
              "                "
            ],
            "text/plain": [
              "<IPython.core.display.HTML object>"
            ]
          },
          "metadata": {}
        },
        {
          "output_type": "display_data",
          "data": {
            "text/html": [
              "Finishing last run (ID:o5l40koq) before initializing another..."
            ],
            "text/plain": [
              "<IPython.core.display.HTML object>"
            ]
          },
          "metadata": {}
        },
        {
          "output_type": "display_data",
          "data": {
            "text/html": [
              "<br/>Waiting for W&B process to finish, PID 384... <strong style=\"color:green\">(success).</strong>"
            ],
            "text/plain": [
              "<IPython.core.display.HTML object>"
            ]
          },
          "metadata": {}
        },
        {
          "output_type": "display_data",
          "data": {
            "application/vnd.jupyter.widget-view+json": {
              "model_id": "3ee67fd73e4d49e3b6ea86c1828de4e5",
              "version_minor": 0,
              "version_major": 2
            },
            "text/plain": [
              "VBox(children=(Label(value=' 0.00MB of 0.00MB uploaded (0.00MB deduped)\\r'), FloatProgress(value=1.0, max=1.0)…"
            ]
          },
          "metadata": {}
        },
        {
          "output_type": "display_data",
          "data": {
            "text/html": [
              "<style>\n",
              "    table.wandb td:nth-child(1) { padding: 0 10px; text-align: right }\n",
              "    .wandb-row { display: flex; flex-direction: row; flex-wrap: wrap; width: 100% }\n",
              "    .wandb-col { display: flex; flex-direction: column; flex-basis: 100%; flex: 1; padding: 10px; }\n",
              "    </style>\n",
              "<div class=\"wandb-row\"><div class=\"wandb-col\">\n",
              "</div><div class=\"wandb-col\">\n",
              "</div></div>\n",
              "Synced 4 W&B file(s), 0 media file(s), 0 artifact file(s) and 0 other file(s)\n",
              "<br/>Synced <strong style=\"color:#cdcd00\">woven-sweep-1</strong>: <a href=\"https://wandb.ai/026-and-009/DL%201.1%20mse/runs/o5l40koq\" target=\"_blank\">https://wandb.ai/026-and-009/DL%201.1%20mse/runs/o5l40koq</a><br/>\n",
              "Find logs at: <code>./wandb/run-20220222_095344-o5l40koq/logs</code><br/>\n"
            ],
            "text/plain": [
              "<IPython.core.display.HTML object>"
            ]
          },
          "metadata": {}
        },
        {
          "output_type": "display_data",
          "data": {
            "text/html": [
              "Successfully finished last run (ID:o5l40koq). Initializing new run:<br/>"
            ],
            "text/plain": [
              "<IPython.core.display.HTML object>"
            ]
          },
          "metadata": {}
        },
        {
          "output_type": "display_data",
          "data": {
            "text/html": [
              "\n",
              "                    Syncing run <strong><a href=\"https://wandb.ai/026-and-009/DL%201.1%20mse/runs/o5l40koq\" target=\"_blank\">hl_3_bs_128_ac_sigmoid_MSE_</a></strong> to <a href=\"https://wandb.ai/026-and-009/DL%201.1%20mse\" target=\"_blank\">Weights & Biases</a> (<a href=\"https://docs.wandb.com/integrations/jupyter.html\" target=\"_blank\">docs</a>).<br/>\n",
              "Sweep page: <a href=\"https://wandb.ai/026-and-009/DL%201.1%20mse/sweeps/bfuxqtip\" target=\"_blank\">https://wandb.ai/026-and-009/DL%201.1%20mse/sweeps/bfuxqtip</a><br/>\n",
              "\n",
              "                "
            ],
            "text/plain": [
              "<IPython.core.display.HTML object>"
            ]
          },
          "metadata": {}
        },
        {
          "output_type": "stream",
          "name": "stderr",
          "text": [
            "/usr/local/lib/python3.7/dist-packages/ipykernel_launcher.py:310: TqdmDeprecationWarning: This function will be removed in tqdm==5.0.0\n",
            "Please use `tqdm.notebook.tqdm` instead of `tqdm.tqdm_notebook`\n"
          ]
        },
        {
          "output_type": "display_data",
          "data": {
            "application/vnd.jupyter.widget-view+json": {
              "model_id": "65b839e6272e468a8c3a6319b1e4b3a9",
              "version_minor": 0,
              "version_major": 2
            },
            "text/plain": [
              "  0%|          | 0/10 [00:00<?, ?epoch/s]"
            ]
          },
          "metadata": {}
        },
        {
          "output_type": "display_data",
          "data": {
            "image/png": "[encoded data removed]",
            "text/plain": [
              "<Figure size 432x288 with 1 Axes>"
            ]
          },
          "metadata": {
            "needs_background": "light"
          }
        },
        {
          "output_type": "stream",
          "name": "stdout",
          "text": [
            "0.8272407407407407 0.823\n"
          ]
        },
        {
          "output_type": "display_data",
          "data": {
            "text/html": [
              "<br/>Waiting for W&B process to finish, PID 419... <strong style=\"color:green\">(success).</strong>"
            ],
            "text/plain": [
              "<IPython.core.display.HTML object>"
            ]
          },
          "metadata": {}
        },
        {
          "output_type": "display_data",
          "data": {
            "application/vnd.jupyter.widget-view+json": {
              "model_id": "3c9a0803f51248fea0710d7842e509a8",
              "version_minor": 0,
              "version_major": 2
            },
            "text/plain": [
              "VBox(children=(Label(value=' 0.00MB of 0.00MB uploaded (0.00MB deduped)\\r'), FloatProgress(value=1.0, max=1.0)…"
            ]
          },
          "metadata": {}
        },
        {
          "output_type": "display_data",
          "data": {
            "text/html": [
              "<style>\n",
              "    table.wandb td:nth-child(1) { padding: 0 10px; text-align: right }\n",
              "    .wandb-row { display: flex; flex-direction: row; flex-wrap: wrap; width: 100% }\n",
              "    .wandb-col { display: flex; flex-direction: column; flex-basis: 100%; flex: 1; padding: 10px; }\n",
              "    </style>\n",
              "<div class=\"wandb-row\"><div class=\"wandb-col\">\n",
              "<h3>Run history:</h3><br/><table class=\"wandb\"><tr><td>accuracy</td><td>▁▃▆▇▇▇████</td></tr><tr><td>epochs</td><td>▁▂▃▃▄▅▆▆▇█</td></tr><tr><td>loss</td><td>█▇▅▄▃▂▂▁▁▁</td></tr><tr><td>val_accuracy</td><td>▁▃▆▇▇▇████</td></tr><tr><td>val_loss</td><td>█▇▅▄▂▂▂▁▁▁</td></tr></table><br/></div><div class=\"wandb-col\">\n",
              "<h3>Run summary:</h3><br/><table class=\"wandb\"><tr><td>accuracy</td><td>0.82724</td></tr><tr><td>epochs</td><td>10</td></tr><tr><td>loss</td><td>0.02578</td></tr><tr><td>val_accuracy</td><td>0.823</td></tr><tr><td>val_loss</td><td>0.02639</td></tr></table>\n",
              "</div></div>\n",
              "Synced 5 W&B file(s), 0 media file(s), 0 artifact file(s) and 0 other file(s)\n",
              "<br/>Synced <strong style=\"color:#cdcd00\">hl_3_bs_128_ac_sigmoid_MSE_</strong>: <a href=\"https://wandb.ai/026-and-009/DL%201.1%20mse/runs/o5l40koq\" target=\"_blank\">https://wandb.ai/026-and-009/DL%201.1%20mse/runs/o5l40koq</a><br/>\n",
              "Find logs at: <code>./wandb/run-20220222_095349-o5l40koq/logs</code><br/>\n"
            ],
            "text/plain": [
              "<IPython.core.display.HTML object>"
            ]
          },
          "metadata": {}
        },
        {
          "output_type": "stream",
          "name": "stderr",
          "text": [
            "\u001b[34m\u001b[1mwandb\u001b[0m: Sweep Agent: Waiting for job.\n",
            "\u001b[34m\u001b[1mwandb\u001b[0m: Sweep Agent: Exiting.\n"
          ]
        }
      ],
      "source": [
        "wandb.agent(sweep_id, train)"
      ]
    },
    {
      "cell_type": "code",
      "execution_count": null,
      "metadata": {
        "id": "iFxs32Wd44o9"
      },
      "outputs": [],
      "source": [
        "#ffsn_multi = FFSN_MultiClass(784,10,2,32,init_method='xavier', activation_function='sigmoid')\n",
        "#ffsn_multi.fit(x_train,y_OH_train,epochs=10,learning_rate=0.001,algo= \"RMSProp\",mini_batch_size=256)"
      ]
    },
    {
      "cell_type": "code",
      "execution_count": null,
      "metadata": {
        "id": "gWw9G9MZa4rO"
      },
      "outputs": [],
      "source": [
        "'''\n",
        "reasons :\n",
        "increasing learning rate will lead to fluctuations in the epochs vs loss curve\n",
        "'''"
      ]
    },
    {
      "cell_type": "code",
      "source": [
        ""
      ],
      "metadata": {
        "id": "mUfQtv2UbXM0"
      },
      "execution_count": null,
      "outputs": []
    },
    {
      "cell_type": "code",
      "source": [
        ""
      ],
      "metadata": {
        "id": "hD00YqZmbfJE"
      },
      "execution_count": null,
      "outputs": []
    }
  ],
  "metadata": {
    "colab": {
      "collapsed_sections": [],
      "name": "DL_1_7.ipynb",
      "provenance": []
    },
    "kernelspec": {
      "display_name": "Python 3",
      "name": "python3"
    },
    "language_info": {
      "name": "python"
    },
    "widgets": {
      "application/vnd.jupyter.widget-state+json": {
        "3ee67fd73e4d49e3b6ea86c1828de4e5": {
          "model_module": "@jupyter-widgets/controls",
          "model_name": "VBoxModel",
          "model_module_version": "1.5.0",
          "state": {
            "_view_name": "VBoxView",
            "_dom_classes": [],
            "_model_name": "VBoxModel",
            "_view_module": "@jupyter-widgets/controls",
            "_model_module_version": "1.5.0",
            "_view_count": null,
            "_view_module_version": "1.5.0",
            "box_style": "",
            "layout": "IPY_MODEL_9562ffda1b7f45d78ed2b750ea6f829a",
            "_model_module": "@jupyter-widgets/controls",
            "children": [
              "IPY_MODEL_8717a45d0c984b608969ef069dd7ce0c",
              "IPY_MODEL_66951eba05cb441cb125deba164f0213"
            ]
          }
        },
        "9562ffda1b7f45d78ed2b750ea6f829a": {
          "model_module": "@jupyter-widgets/base",
          "model_name": "LayoutModel",
          "model_module_version": "1.2.0",
          "state": {
            "_view_name": "LayoutView",
            "grid_template_rows": null,
            "right": null,
            "justify_content": null,
            "_view_module": "@jupyter-widgets/base",
            "overflow": null,
            "_model_module_version": "1.2.0",
            "_view_count": null,
            "flex_flow": null,
            "width": null,
            "min_width": null,
            "border": null,
            "align_items": null,
            "bottom": null,
            "_model_module": "@jupyter-widgets/base",
            "top": null,
            "grid_column": null,
            "overflow_y": null,
            "overflow_x": null,
            "grid_auto_flow": null,
            "grid_area": null,
            "grid_template_columns": null,
            "flex": null,
            "_model_name": "LayoutModel",
            "justify_items": null,
            "grid_row": null,
            "max_height": null,
            "align_content": null,
            "visibility": null,
            "align_self": null,
            "height": null,
            "min_height": null,
            "padding": null,
            "grid_auto_rows": null,
            "grid_gap": null,
            "max_width": null,
            "order": null,
            "_view_module_version": "1.2.0",
            "grid_template_areas": null,
            "object_position": null,
            "object_fit": null,
            "grid_auto_columns": null,
            "margin": null,
            "display": null,
            "left": null
          }
        },
        "8717a45d0c984b608969ef069dd7ce0c": {
          "model_module": "@jupyter-widgets/controls",
          "model_name": "LabelModel",
          "model_module_version": "1.5.0",
          "state": {
            "_view_name": "LabelView",
            "style": "IPY_MODEL_23eb11e7e82a4d7fb800703661edb150",
            "_dom_classes": [],
            "description": "",
            "_model_name": "LabelModel",
            "placeholder": "​",
            "_view_module": "@jupyter-widgets/controls",
            "_model_module_version": "1.5.0",
            "value": " 0.01MB of 0.01MB uploaded (0.00MB deduped)\r",
            "_view_count": null,
            "_view_module_version": "1.5.0",
            "description_tooltip": null,
            "_model_module": "@jupyter-widgets/controls",
            "layout": "IPY_MODEL_35f75f45a944469499d2732074585a44"
          }
        },
        "66951eba05cb441cb125deba164f0213": {
          "model_module": "@jupyter-widgets/controls",
          "model_name": "FloatProgressModel",
          "model_module_version": "1.5.0",
          "state": {
            "_view_name": "ProgressView",
            "style": "IPY_MODEL_8cdc8fb8c4e54c6084ec8a07e802339f",
            "_dom_classes": [],
            "description": "",
            "_model_name": "FloatProgressModel",
            "bar_style": "",
            "max": 1,
            "_view_module": "@jupyter-widgets/controls",
            "_model_module_version": "1.5.0",
            "value": 1,
            "_view_count": null,
            "_view_module_version": "1.5.0",
            "orientation": "horizontal",
            "min": 0,
            "description_tooltip": null,
            "_model_module": "@jupyter-widgets/controls",
            "layout": "IPY_MODEL_a80cad417d47404da84e46d1eb88c0ee"
          }
        },
        "23eb11e7e82a4d7fb800703661edb150": {
          "model_module": "@jupyter-widgets/controls",
          "model_name": "DescriptionStyleModel",
          "model_module_version": "1.5.0",
          "state": {
            "_view_name": "StyleView",
            "_model_name": "DescriptionStyleModel",
            "description_width": "",
            "_view_module": "@jupyter-widgets/base",
            "_model_module_version": "1.5.0",
            "_view_count": null,
            "_view_module_version": "1.2.0",
            "_model_module": "@jupyter-widgets/controls"
          }
        },
        "35f75f45a944469499d2732074585a44": {
          "model_module": "@jupyter-widgets/base",
          "model_name": "LayoutModel",
          "model_module_version": "1.2.0",
          "state": {
            "_view_name": "LayoutView",
            "grid_template_rows": null,
            "right": null,
            "justify_content": null,
            "_view_module": "@jupyter-widgets/base",
            "overflow": null,
            "_model_module_version": "1.2.0",
            "_view_count": null,
            "flex_flow": null,
            "width": null,
            "min_width": null,
            "border": null,
            "align_items": null,
            "bottom": null,
            "_model_module": "@jupyter-widgets/base",
            "top": null,
            "grid_column": null,
            "overflow_y": null,
            "overflow_x": null,
            "grid_auto_flow": null,
            "grid_area": null,
            "grid_template_columns": null,
            "flex": null,
            "_model_name": "LayoutModel",
            "justify_items": null,
            "grid_row": null,
            "max_height": null,
            "align_content": null,
            "visibility": null,
            "align_self": null,
            "height": null,
            "min_height": null,
            "padding": null,
            "grid_auto_rows": null,
            "grid_gap": null,
            "max_width": null,
            "order": null,
            "_view_module_version": "1.2.0",
            "grid_template_areas": null,
            "object_position": null,
            "object_fit": null,
            "grid_auto_columns": null,
            "margin": null,
            "display": null,
            "left": null
          }
        },
        "8cdc8fb8c4e54c6084ec8a07e802339f": {
          "model_module": "@jupyter-widgets/controls",
          "model_name": "ProgressStyleModel",
          "model_module_version": "1.5.0",
          "state": {
            "_view_name": "StyleView",
            "_model_name": "ProgressStyleModel",
            "description_width": "",
            "_view_module": "@jupyter-widgets/base",
            "_model_module_version": "1.5.0",
            "_view_count": null,
            "_view_module_version": "1.2.0",
            "bar_color": null,
            "_model_module": "@jupyter-widgets/controls"
          }
        },
        "a80cad417d47404da84e46d1eb88c0ee": {
          "model_module": "@jupyter-widgets/base",
          "model_name": "LayoutModel",
          "model_module_version": "1.2.0",
          "state": {
            "_view_name": "LayoutView",
            "grid_template_rows": null,
            "right": null,
            "justify_content": null,
            "_view_module": "@jupyter-widgets/base",
            "overflow": null,
            "_model_module_version": "1.2.0",
            "_view_count": null,
            "flex_flow": null,
            "width": null,
            "min_width": null,
            "border": null,
            "align_items": null,
            "bottom": null,
            "_model_module": "@jupyter-widgets/base",
            "top": null,
            "grid_column": null,
            "overflow_y": null,
            "overflow_x": null,
            "grid_auto_flow": null,
            "grid_area": null,
            "grid_template_columns": null,
            "flex": null,
            "_model_name": "LayoutModel",
            "justify_items": null,
            "grid_row": null,
            "max_height": null,
            "align_content": null,
            "visibility": null,
            "align_self": null,
            "height": null,
            "min_height": null,
            "padding": null,
            "grid_auto_rows": null,
            "grid_gap": null,
            "max_width": null,
            "order": null,
            "_view_module_version": "1.2.0",
            "grid_template_areas": null,
            "object_position": null,
            "object_fit": null,
            "grid_auto_columns": null,
            "margin": null,
            "display": null,
            "left": null
          }
        },
        "65b839e6272e468a8c3a6319b1e4b3a9": {
          "model_module": "@jupyter-widgets/controls",
          "model_name": "HBoxModel",
          "model_module_version": "1.5.0",
          "state": {
            "_view_name": "HBoxView",
            "_dom_classes": [],
            "_model_name": "HBoxModel",
            "_view_module": "@jupyter-widgets/controls",
            "_model_module_version": "1.5.0",
            "_view_count": null,
            "_view_module_version": "1.5.0",
            "box_style": "",
            "layout": "IPY_MODEL_f97b877705414318b2e86604b87ee929",
            "_model_module": "@jupyter-widgets/controls",
            "children": [
              "IPY_MODEL_44a3ad9aee52445da0780ab7c986ccda",
              "IPY_MODEL_f654f0fc3b0548a18da04aebb85ac8d4",
              "IPY_MODEL_656252fa7fd54c1ab59aa07576de5399"
            ]
          }
        },
        "f97b877705414318b2e86604b87ee929": {
          "model_module": "@jupyter-widgets/base",
          "model_name": "LayoutModel",
          "model_module_version": "1.2.0",
          "state": {
            "_view_name": "LayoutView",
            "grid_template_rows": null,
            "right": null,
            "justify_content": null,
            "_view_module": "@jupyter-widgets/base",
            "overflow": null,
            "_model_module_version": "1.2.0",
            "_view_count": null,
            "flex_flow": null,
            "width": null,
            "min_width": null,
            "border": null,
            "align_items": null,
            "bottom": null,
            "_model_module": "@jupyter-widgets/base",
            "top": null,
            "grid_column": null,
            "overflow_y": null,
            "overflow_x": null,
            "grid_auto_flow": null,
            "grid_area": null,
            "grid_template_columns": null,
            "flex": null,
            "_model_name": "LayoutModel",
            "justify_items": null,
            "grid_row": null,
            "max_height": null,
            "align_content": null,
            "visibility": null,
            "align_self": null,
            "height": null,
            "min_height": null,
            "padding": null,
            "grid_auto_rows": null,
            "grid_gap": null,
            "max_width": null,
            "order": null,
            "_view_module_version": "1.2.0",
            "grid_template_areas": null,
            "object_position": null,
            "object_fit": null,
            "grid_auto_columns": null,
            "margin": null,
            "display": null,
            "left": null
          }
        },
        "44a3ad9aee52445da0780ab7c986ccda": {
          "model_module": "@jupyter-widgets/controls",
          "model_name": "HTMLModel",
          "model_module_version": "1.5.0",
          "state": {
            "_view_name": "HTMLView",
            "style": "IPY_MODEL_48313410462d4f849acd934141bebb0d",
            "_dom_classes": [],
            "description": "",
            "_model_name": "HTMLModel",
            "placeholder": "​",
            "_view_module": "@jupyter-widgets/controls",
            "_model_module_version": "1.5.0",
            "value": "100%",
            "_view_count": null,
            "_view_module_version": "1.5.0",
            "description_tooltip": null,
            "_model_module": "@jupyter-widgets/controls",
            "layout": "IPY_MODEL_72d952a31d7f44078b0eb2062b9f055b"
          }
        },
        "f654f0fc3b0548a18da04aebb85ac8d4": {
          "model_module": "@jupyter-widgets/controls",
          "model_name": "FloatProgressModel",
          "model_module_version": "1.5.0",
          "state": {
            "_view_name": "ProgressView",
            "style": "IPY_MODEL_963e8f913d19482dac0814f2e495af38",
            "_dom_classes": [],
            "description": "",
            "_model_name": "FloatProgressModel",
            "bar_style": "success",
            "max": 10,
            "_view_module": "@jupyter-widgets/controls",
            "_model_module_version": "1.5.0",
            "value": 10,
            "_view_count": null,
            "_view_module_version": "1.5.0",
            "orientation": "horizontal",
            "min": 0,
            "description_tooltip": null,
            "_model_module": "@jupyter-widgets/controls",
            "layout": "IPY_MODEL_dbf468c41e8f4f509b481dd38ca62c7c"
          }
        },
        "656252fa7fd54c1ab59aa07576de5399": {
          "model_module": "@jupyter-widgets/controls",
          "model_name": "HTMLModel",
          "model_module_version": "1.5.0",
          "state": {
            "_view_name": "HTMLView",
            "style": "IPY_MODEL_a84ead17b168482893cac9c02341b337",
            "_dom_classes": [],
            "description": "",
            "_model_name": "HTMLModel",
            "placeholder": "​",
            "_view_module": "@jupyter-widgets/controls",
            "_model_module_version": "1.5.0",
            "value": " 10/10 [13:33&lt;00:00, 81.29s/epoch]",
            "_view_count": null,
            "_view_module_version": "1.5.0",
            "description_tooltip": null,
            "_model_module": "@jupyter-widgets/controls",
            "layout": "IPY_MODEL_54d3bb5ee9b14d66854afb1c42972361"
          }
        },
        "48313410462d4f849acd934141bebb0d": {
          "model_module": "@jupyter-widgets/controls",
          "model_name": "DescriptionStyleModel",
          "model_module_version": "1.5.0",
          "state": {
            "_view_name": "StyleView",
            "_model_name": "DescriptionStyleModel",
            "description_width": "",
            "_view_module": "@jupyter-widgets/base",
            "_model_module_version": "1.5.0",
            "_view_count": null,
            "_view_module_version": "1.2.0",
            "_model_module": "@jupyter-widgets/controls"
          }
        },
        "72d952a31d7f44078b0eb2062b9f055b": {
          "model_module": "@jupyter-widgets/base",
          "model_name": "LayoutModel",
          "model_module_version": "1.2.0",
          "state": {
            "_view_name": "LayoutView",
            "grid_template_rows": null,
            "right": null,
            "justify_content": null,
            "_view_module": "@jupyter-widgets/base",
            "overflow": null,
            "_model_module_version": "1.2.0",
            "_view_count": null,
            "flex_flow": null,
            "width": null,
            "min_width": null,
            "border": null,
            "align_items": null,
            "bottom": null,
            "_model_module": "@jupyter-widgets/base",
            "top": null,
            "grid_column": null,
            "overflow_y": null,
            "overflow_x": null,
            "grid_auto_flow": null,
            "grid_area": null,
            "grid_template_columns": null,
            "flex": null,
            "_model_name": "LayoutModel",
            "justify_items": null,
            "grid_row": null,
            "max_height": null,
            "align_content": null,
            "visibility": null,
            "align_self": null,
            "height": null,
            "min_height": null,
            "padding": null,
            "grid_auto_rows": null,
            "grid_gap": null,
            "max_width": null,
            "order": null,
            "_view_module_version": "1.2.0",
            "grid_template_areas": null,
            "object_position": null,
            "object_fit": null,
            "grid_auto_columns": null,
            "margin": null,
            "display": null,
            "left": null
          }
        },
        "963e8f913d19482dac0814f2e495af38": {
          "model_module": "@jupyter-widgets/controls",
          "model_name": "ProgressStyleModel",
          "model_module_version": "1.5.0",
          "state": {
            "_view_name": "StyleView",
            "_model_name": "ProgressStyleModel",
            "description_width": "",
            "_view_module": "@jupyter-widgets/base",
            "_model_module_version": "1.5.0",
            "_view_count": null,
            "_view_module_version": "1.2.0",
            "bar_color": null,
            "_model_module": "@jupyter-widgets/controls"
          }
        },
        "dbf468c41e8f4f509b481dd38ca62c7c": {
          "model_module": "@jupyter-widgets/base",
          "model_name": "LayoutModel",
          "model_module_version": "1.2.0",
          "state": {
            "_view_name": "LayoutView",
            "grid_template_rows": null,
            "right": null,
            "justify_content": null,
            "_view_module": "@jupyter-widgets/base",
            "overflow": null,
            "_model_module_version": "1.2.0",
            "_view_count": null,
            "flex_flow": null,
            "width": null,
            "min_width": null,
            "border": null,
            "align_items": null,
            "bottom": null,
            "_model_module": "@jupyter-widgets/base",
            "top": null,
            "grid_column": null,
            "overflow_y": null,
            "overflow_x": null,
            "grid_auto_flow": null,
            "grid_area": null,
            "grid_template_columns": null,
            "flex": null,
            "_model_name": "LayoutModel",
            "justify_items": null,
            "grid_row": null,
            "max_height": null,
            "align_content": null,
            "visibility": null,
            "align_self": null,
            "height": null,
            "min_height": null,
            "padding": null,
            "grid_auto_rows": null,
            "grid_gap": null,
            "max_width": null,
            "order": null,
            "_view_module_version": "1.2.0",
            "grid_template_areas": null,
            "object_position": null,
            "object_fit": null,
            "grid_auto_columns": null,
            "margin": null,
            "display": null,
            "left": null
          }
        },
        "a84ead17b168482893cac9c02341b337": {
          "model_module": "@jupyter-widgets/controls",
          "model_name": "DescriptionStyleModel",
          "model_module_version": "1.5.0",
          "state": {
            "_view_name": "StyleView",
            "_model_name": "DescriptionStyleModel",
            "description_width": "",
            "_view_module": "@jupyter-widgets/base",
            "_model_module_version": "1.5.0",
            "_view_count": null,
            "_view_module_version": "1.2.0",
            "_model_module": "@jupyter-widgets/controls"
          }
        },
        "54d3bb5ee9b14d66854afb1c42972361": {
          "model_module": "@jupyter-widgets/base",
          "model_name": "LayoutModel",
          "model_module_version": "1.2.0",
          "state": {
            "_view_name": "LayoutView",
            "grid_template_rows": null,
            "right": null,
            "justify_content": null,
            "_view_module": "@jupyter-widgets/base",
            "overflow": null,
            "_model_module_version": "1.2.0",
            "_view_count": null,
            "flex_flow": null,
            "width": null,
            "min_width": null,
            "border": null,
            "align_items": null,
            "bottom": null,
            "_model_module": "@jupyter-widgets/base",
            "top": null,
            "grid_column": null,
            "overflow_y": null,
            "overflow_x": null,
            "grid_auto_flow": null,
            "grid_area": null,
            "grid_template_columns": null,
            "flex": null,
            "_model_name": "LayoutModel",
            "justify_items": null,
            "grid_row": null,
            "max_height": null,
            "align_content": null,
            "visibility": null,
            "align_self": null,
            "height": null,
            "min_height": null,
            "padding": null,
            "grid_auto_rows": null,
            "grid_gap": null,
            "max_width": null,
            "order": null,
            "_view_module_version": "1.2.0",
            "grid_template_areas": null,
            "object_position": null,
            "object_fit": null,
            "grid_auto_columns": null,
            "margin": null,
            "display": null,
            "left": null
          }
        },
        "3c9a0803f51248fea0710d7842e509a8": {
          "model_module": "@jupyter-widgets/controls",
          "model_name": "VBoxModel",
          "model_module_version": "1.5.0",
          "state": {
            "_view_name": "VBoxView",
            "_dom_classes": [],
            "_model_name": "VBoxModel",
            "_view_module": "@jupyter-widgets/controls",
            "_model_module_version": "1.5.0",
            "_view_count": null,
            "_view_module_version": "1.5.0",
            "box_style": "",
            "layout": "IPY_MODEL_e2af8e0bf5f448c2b7b8705706a740a9",
            "_model_module": "@jupyter-widgets/controls",
            "children": [
              "IPY_MODEL_31c40b66a2314bf19fedee35edc5a96e",
              "IPY_MODEL_4ec28c79993e4388a130157a7abfeef0"
            ]
          }
        },
        "e2af8e0bf5f448c2b7b8705706a740a9": {
          "model_module": "@jupyter-widgets/base",
          "model_name": "LayoutModel",
          "model_module_version": "1.2.0",
          "state": {
            "_view_name": "LayoutView",
            "grid_template_rows": null,
            "right": null,
            "justify_content": null,
            "_view_module": "@jupyter-widgets/base",
            "overflow": null,
            "_model_module_version": "1.2.0",
            "_view_count": null,
            "flex_flow": null,
            "width": null,
            "min_width": null,
            "border": null,
            "align_items": null,
            "bottom": null,
            "_model_module": "@jupyter-widgets/base",
            "top": null,
            "grid_column": null,
            "overflow_y": null,
            "overflow_x": null,
            "grid_auto_flow": null,
            "grid_area": null,
            "grid_template_columns": null,
            "flex": null,
            "_model_name": "LayoutModel",
            "justify_items": null,
            "grid_row": null,
            "max_height": null,
            "align_content": null,
            "visibility": null,
            "align_self": null,
            "height": null,
            "min_height": null,
            "padding": null,
            "grid_auto_rows": null,
            "grid_gap": null,
            "max_width": null,
            "order": null,
            "_view_module_version": "1.2.0",
            "grid_template_areas": null,
            "object_position": null,
            "object_fit": null,
            "grid_auto_columns": null,
            "margin": null,
            "display": null,
            "left": null
          }
        },
        "31c40b66a2314bf19fedee35edc5a96e": {
          "model_module": "@jupyter-widgets/controls",
          "model_name": "LabelModel",
          "model_module_version": "1.5.0",
          "state": {
            "_view_name": "LabelView",
            "style": "IPY_MODEL_e091b816b56d485f8a7e405450f9a154",
            "_dom_classes": [],
            "description": "",
            "_model_name": "LabelModel",
            "placeholder": "​",
            "_view_module": "@jupyter-widgets/controls",
            "_model_module_version": "1.5.0",
            "value": " 0.01MB of 0.01MB uploaded (0.00MB deduped)\r",
            "_view_count": null,
            "_view_module_version": "1.5.0",
            "description_tooltip": null,
            "_model_module": "@jupyter-widgets/controls",
            "layout": "IPY_MODEL_880f69d18935436eb363cc5920fd32c4"
          }
        },
        "4ec28c79993e4388a130157a7abfeef0": {
          "model_module": "@jupyter-widgets/controls",
          "model_name": "FloatProgressModel",
          "model_module_version": "1.5.0",
          "state": {
            "_view_name": "ProgressView",
            "style": "IPY_MODEL_f6dc0b75def94fa4b14cfd147c10b400",
            "_dom_classes": [],
            "description": "",
            "_model_name": "FloatProgressModel",
            "bar_style": "",
            "max": 1,
            "_view_module": "@jupyter-widgets/controls",
            "_model_module_version": "1.5.0",
            "value": 1,
            "_view_count": null,
            "_view_module_version": "1.5.0",
            "orientation": "horizontal",
            "min": 0,
            "description_tooltip": null,
            "_model_module": "@jupyter-widgets/controls",
            "layout": "IPY_MODEL_33ae99fe12d74386ba0e9279bcd1bb15"
          }
        },
        "e091b816b56d485f8a7e405450f9a154": {
          "model_module": "@jupyter-widgets/controls",
          "model_name": "DescriptionStyleModel",
          "model_module_version": "1.5.0",
          "state": {
            "_view_name": "StyleView",
            "_model_name": "DescriptionStyleModel",
            "description_width": "",
            "_view_module": "@jupyter-widgets/base",
            "_model_module_version": "1.5.0",
            "_view_count": null,
            "_view_module_version": "1.2.0",
            "_model_module": "@jupyter-widgets/controls"
          }
        },
        "880f69d18935436eb363cc5920fd32c4": {
          "model_module": "@jupyter-widgets/base",
          "model_name": "LayoutModel",
          "model_module_version": "1.2.0",
          "state": {
            "_view_name": "LayoutView",
            "grid_template_rows": null,
            "right": null,
            "justify_content": null,
            "_view_module": "@jupyter-widgets/base",
            "overflow": null,
            "_model_module_version": "1.2.0",
            "_view_count": null,
            "flex_flow": null,
            "width": null,
            "min_width": null,
            "border": null,
            "align_items": null,
            "bottom": null,
            "_model_module": "@jupyter-widgets/base",
            "top": null,
            "grid_column": null,
            "overflow_y": null,
            "overflow_x": null,
            "grid_auto_flow": null,
            "grid_area": null,
            "grid_template_columns": null,
            "flex": null,
            "_model_name": "LayoutModel",
            "justify_items": null,
            "grid_row": null,
            "max_height": null,
            "align_content": null,
            "visibility": null,
            "align_self": null,
            "height": null,
            "min_height": null,
            "padding": null,
            "grid_auto_rows": null,
            "grid_gap": null,
            "max_width": null,
            "order": null,
            "_view_module_version": "1.2.0",
            "grid_template_areas": null,
            "object_position": null,
            "object_fit": null,
            "grid_auto_columns": null,
            "margin": null,
            "display": null,
            "left": null
          }
        },
        "f6dc0b75def94fa4b14cfd147c10b400": {
          "model_module": "@jupyter-widgets/controls",
          "model_name": "ProgressStyleModel",
          "model_module_version": "1.5.0",
          "state": {
            "_view_name": "StyleView",
            "_model_name": "ProgressStyleModel",
            "description_width": "",
            "_view_module": "@jupyter-widgets/base",
            "_model_module_version": "1.5.0",
            "_view_count": null,
            "_view_module_version": "1.2.0",
            "bar_color": null,
            "_model_module": "@jupyter-widgets/controls"
          }
        },
        "33ae99fe12d74386ba0e9279bcd1bb15": {
          "model_module": "@jupyter-widgets/base",
          "model_name": "LayoutModel",
          "model_module_version": "1.2.0",
          "state": {
            "_view_name": "LayoutView",
            "grid_template_rows": null,
            "right": null,
            "justify_content": null,
            "_view_module": "@jupyter-widgets/base",
            "overflow": null,
            "_model_module_version": "1.2.0",
            "_view_count": null,
            "flex_flow": null,
            "width": null,
            "min_width": null,
            "border": null,
            "align_items": null,
            "bottom": null,
            "_model_module": "@jupyter-widgets/base",
            "top": null,
            "grid_column": null,
            "overflow_y": null,
            "overflow_x": null,
            "grid_auto_flow": null,
            "grid_area": null,
            "grid_template_columns": null,
            "flex": null,
            "_model_name": "LayoutModel",
            "justify_items": null,
            "grid_row": null,
            "max_height": null,
            "align_content": null,
            "visibility": null,
            "align_self": null,
            "height": null,
            "min_height": null,
            "padding": null,
            "grid_auto_rows": null,
            "grid_gap": null,
            "max_width": null,
            "order": null,
            "_view_module_version": "1.2.0",
            "grid_template_areas": null,
            "object_position": null,
            "object_fit": null,
            "grid_auto_columns": null,
            "margin": null,
            "display": null,
            "left": null
          }
        }
      }
    }
  },
  "nbformat": 4,
  "nbformat_minor": 0
}