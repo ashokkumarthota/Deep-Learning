{
  "cells": [
    {
      "cell_type": "markdown",
      "source": [
        "## For plotting Confusion Matrix"
      ],
      "metadata": {
        "id": "giH23w7mQGxN"
      }
    },
    {
      "cell_type": "code",
      "execution_count": 1,
      "metadata": {
        "id": "mhx7ACF64r1J"
      },
      "outputs": [],
      "source": [
        "import numpy as np\n",
        "from keras.datasets import fashion_mnist\n",
        "import matplotlib.pyplot as plt\n",
        "import pandas as pd\n",
        "from sklearn.model_selection import train_test_split\n",
        "from sklearn.metrics import accuracy_score, mean_squared_error\n",
        "from tqdm import tqdm_notebook \n",
        "from sklearn.preprocessing import OneHotEncoder\n",
        "from numpy.linalg import norm"
      ]
    },
    {
      "cell_type": "code",
      "execution_count": 2,
      "metadata": {
        "id": "PZkuZF9tO1nP"
      },
      "outputs": [],
      "source": [
        "np.random.seed(0)"
      ]
    },
    {
      "cell_type": "code",
      "execution_count": 3,
      "metadata": {
        "colab": {
          "base_uri": "https://localhost:8080/"
        },
        "id": "CPhLysrE4yXL",
        "outputId": "62a83801-ea83-4a63-b964-7801a9e09149"
      },
      "outputs": [
        {
          "output_type": "stream",
          "name": "stdout",
          "text": [
            "Downloading data from https://storage.googleapis.com/tensorflow/tf-keras-datasets/train-labels-idx1-ubyte.gz\n",
            "32768/29515 [=================================] - 0s 0us/step\n",
            "40960/29515 [=========================================] - 0s 0us/step\n",
            "Downloading data from https://storage.googleapis.com/tensorflow/tf-keras-datasets/train-images-idx3-ubyte.gz\n",
            "26427392/26421880 [==============================] - 0s 0us/step\n",
            "26435584/26421880 [==============================] - 0s 0us/step\n",
            "Downloading data from https://storage.googleapis.com/tensorflow/tf-keras-datasets/t10k-labels-idx1-ubyte.gz\n",
            "16384/5148 [===============================================================================================] - 0s 0us/step\n",
            "Downloading data from https://storage.googleapis.com/tensorflow/tf-keras-datasets/t10k-images-idx3-ubyte.gz\n",
            "4423680/4422102 [==============================] - 0s 0us/step\n",
            "4431872/4422102 [==============================] - 0s 0us/step\n",
            "(60000, 28, 28) (10000, 28, 28) (60000,) (10000,) <class 'numpy.ndarray'> [0. 0. 0. 0. 0. 0. 0. 0. 0. 0. 0. 0. 0. 0. 0. 0. 0. 0. 0. 0. 0. 0. 0. 0.\n",
            " 0. 0. 0. 0.]\n",
            "(60000, 784) (10000, 784) (60000,) (10000,) <class 'numpy.float64'> 0.0\n"
          ]
        }
      ],
      "source": [
        "(x_train,y_train),(x_test,y_test)=fashion_mnist.load_data()\n",
        "x_train = x_train.astype('float')/ 255.0\n",
        "x_test = x_test.astype('float')/ 255.0\n",
        "print(x_train.shape, x_test.shape,y_train.shape,y_test.shape,type(x_train[0][0]),x_train[0][0])\n",
        "x_train = x_train.reshape(60000,784)\n",
        "x_test = x_test.reshape(10000,784)\n",
        "print(x_train.shape, x_test.shape,y_train.shape,y_test.shape,type(x_train[0][0]),x_train[0][0])"
      ]
    },
    {
      "cell_type": "code",
      "source": [
        "x_train, x_test, y_train, y_test = train_test_split(x_train, y_train, test_size=0.1,stratify=y_train, random_state=0)\n",
        "print(x_train.shape, x_test.shape,y_train.shape,y_test.shape,type(x_train[0][0]),x_train[0][0])"
      ],
      "metadata": {
        "colab": {
          "base_uri": "https://localhost:8080/"
        },
        "id": "v_69PvQEsaSE",
        "outputId": "f0c771b8-46ae-45f8-fd92-63813efecee0"
      },
      "execution_count": 4,
      "outputs": [
        {
          "output_type": "stream",
          "name": "stdout",
          "text": [
            "(54000, 784) (6000, 784) (54000,) (6000,) <class 'numpy.float64'> 0.0\n"
          ]
        }
      ]
    },
    {
      "cell_type": "code",
      "source": [
        "print(x_train.dtype) #arr = arr.astype('float128')"
      ],
      "metadata": {
        "colab": {
          "base_uri": "https://localhost:8080/"
        },
        "id": "2yE0CD9lekr4",
        "outputId": "0d236bfe-708d-49d9-d4d0-44ad22430c19"
      },
      "execution_count": 5,
      "outputs": [
        {
          "output_type": "stream",
          "name": "stdout",
          "text": [
            "float64\n"
          ]
        }
      ]
    },
    {
      "cell_type": "code",
      "execution_count": 6,
      "metadata": {
        "colab": {
          "base_uri": "https://localhost:8080/"
        },
        "id": "L91K_2Yt40Wq",
        "outputId": "b3f33060-3c0b-448c-bb45-95e76645bcb8"
      },
      "outputs": [
        {
          "output_type": "stream",
          "name": "stdout",
          "text": [
            "(54000, 10) (6000, 10)\n"
          ]
        }
      ],
      "source": [
        "enc = OneHotEncoder()\n",
        "# 0 -> (1, 0, 0, 0), 1 -> (0, 1, 0, 0), 2 -> (0, 0, 1, 0), 3 -> (0, 0, 0, 1)\n",
        "y_OH_train = enc.fit_transform(np.expand_dims(y_train,1)).toarray()\n",
        "y_OH_val = enc.fit_transform(np.expand_dims(y_test,1)).toarray()\n",
        "print(y_OH_train.shape, y_OH_val.shape)"
      ]
    },
    {
      "cell_type": "code",
      "execution_count": 7,
      "metadata": {
        "colab": {
          "base_uri": "https://localhost:8080/",
          "height": 918
        },
        "id": "uzfvtWfX5uCj",
        "outputId": "7565147f-9bd4-4af9-a78f-dc8cd115fd0d"
      },
      "outputs": [
        {
          "output_type": "stream",
          "name": "stdout",
          "text": [
            "Collecting wandb\n",
            "  Downloading wandb-0.12.10-py2.py3-none-any.whl (1.7 MB)\n",
            "\u001b[K     |████████████████████████████████| 1.7 MB 4.1 MB/s \n",
            "\u001b[?25hCollecting shortuuid>=0.5.0\n",
            "  Downloading shortuuid-1.0.8-py3-none-any.whl (9.5 kB)\n",
            "Requirement already satisfied: six>=1.13.0 in /usr/local/lib/python3.7/dist-packages (from wandb) (1.15.0)\n",
            "Collecting GitPython>=1.0.0\n",
            "  Downloading GitPython-3.1.27-py3-none-any.whl (181 kB)\n",
            "\u001b[K     |████████████████████████████████| 181 kB 60.4 MB/s \n",
            "\u001b[?25hRequirement already satisfied: psutil>=5.0.0 in /usr/local/lib/python3.7/dist-packages (from wandb) (5.4.8)\n",
            "Requirement already satisfied: requests<3,>=2.0.0 in /usr/local/lib/python3.7/dist-packages (from wandb) (2.23.0)\n",
            "Requirement already satisfied: python-dateutil>=2.6.1 in /usr/local/lib/python3.7/dist-packages (from wandb) (2.8.2)\n",
            "Requirement already satisfied: Click!=8.0.0,>=7.0 in /usr/local/lib/python3.7/dist-packages (from wandb) (7.1.2)\n",
            "Collecting yaspin>=1.0.0\n",
            "  Downloading yaspin-2.1.0-py3-none-any.whl (18 kB)\n",
            "Requirement already satisfied: PyYAML in /usr/local/lib/python3.7/dist-packages (from wandb) (3.13)\n",
            "Requirement already satisfied: protobuf>=3.12.0 in /usr/local/lib/python3.7/dist-packages (from wandb) (3.17.3)\n",
            "Collecting pathtools\n",
            "  Downloading pathtools-0.1.2.tar.gz (11 kB)\n",
            "Collecting docker-pycreds>=0.4.0\n",
            "  Downloading docker_pycreds-0.4.0-py2.py3-none-any.whl (9.0 kB)\n",
            "Collecting sentry-sdk>=1.0.0\n",
            "  Downloading sentry_sdk-1.5.6-py2.py3-none-any.whl (144 kB)\n",
            "\u001b[K     |████████████████████████████████| 144 kB 38.9 MB/s \n",
            "\u001b[?25hRequirement already satisfied: promise<3,>=2.0 in /usr/local/lib/python3.7/dist-packages (from wandb) (2.3)\n",
            "Requirement already satisfied: typing-extensions>=3.7.4.3 in /usr/local/lib/python3.7/dist-packages (from GitPython>=1.0.0->wandb) (3.10.0.2)\n",
            "Collecting gitdb<5,>=4.0.1\n",
            "  Downloading gitdb-4.0.9-py3-none-any.whl (63 kB)\n",
            "\u001b[K     |████████████████████████████████| 63 kB 1.7 MB/s \n",
            "\u001b[?25hCollecting smmap<6,>=3.0.1\n",
            "  Downloading smmap-5.0.0-py3-none-any.whl (24 kB)\n",
            "Requirement already satisfied: idna<3,>=2.5 in /usr/local/lib/python3.7/dist-packages (from requests<3,>=2.0.0->wandb) (2.10)\n",
            "Requirement already satisfied: chardet<4,>=3.0.2 in /usr/local/lib/python3.7/dist-packages (from requests<3,>=2.0.0->wandb) (3.0.4)\n",
            "Requirement already satisfied: urllib3!=1.25.0,!=1.25.1,<1.26,>=1.21.1 in /usr/local/lib/python3.7/dist-packages (from requests<3,>=2.0.0->wandb) (1.24.3)\n",
            "Requirement already satisfied: certifi>=2017.4.17 in /usr/local/lib/python3.7/dist-packages (from requests<3,>=2.0.0->wandb) (2021.10.8)\n",
            "Requirement already satisfied: termcolor<2.0.0,>=1.1.0 in /usr/local/lib/python3.7/dist-packages (from yaspin>=1.0.0->wandb) (1.1.0)\n",
            "Building wheels for collected packages: pathtools\n",
            "  Building wheel for pathtools (setup.py) ... \u001b[?25l\u001b[?25hdone\n",
            "  Created wheel for pathtools: filename=pathtools-0.1.2-py3-none-any.whl size=8806 sha256=296778d0fa9f43ef8c9e4439275232b62100a0ed91fdd39b8914ac56b72b2fb8\n",
            "  Stored in directory: /root/.cache/pip/wheels/3e/31/09/fa59cef12cdcfecc627b3d24273699f390e71828921b2cbba2\n",
            "Successfully built pathtools\n",
            "Installing collected packages: smmap, gitdb, yaspin, shortuuid, sentry-sdk, pathtools, GitPython, docker-pycreds, wandb\n",
            "Successfully installed GitPython-3.1.27 docker-pycreds-0.4.0 gitdb-4.0.9 pathtools-0.1.2 sentry-sdk-1.5.6 shortuuid-1.0.8 smmap-5.0.0 wandb-0.12.10 yaspin-2.1.0\n"
          ]
        },
        {
          "output_type": "display_data",
          "data": {
            "application/javascript": [
              "\n",
              "        window._wandbApiKey = new Promise((resolve, reject) => {\n",
              "            function loadScript(url) {\n",
              "            return new Promise(function(resolve, reject) {\n",
              "                let newScript = document.createElement(\"script\");\n",
              "                newScript.onerror = reject;\n",
              "                newScript.onload = resolve;\n",
              "                document.body.appendChild(newScript);\n",
              "                newScript.src = url;\n",
              "            });\n",
              "            }\n",
              "            loadScript(\"https://cdn.jsdelivr.net/npm/postmate/build/postmate.min.js\").then(() => {\n",
              "            const iframe = document.createElement('iframe')\n",
              "            iframe.style.cssText = \"width:0;height:0;border:none\"\n",
              "            document.body.appendChild(iframe)\n",
              "            const handshake = new Postmate({\n",
              "                container: iframe,\n",
              "                url: 'https://wandb.ai/authorize'\n",
              "            });\n",
              "            const timeout = setTimeout(() => reject(\"Couldn't auto authenticate\"), 5000)\n",
              "            handshake.then(function(child) {\n",
              "                child.on('authorize', data => {\n",
              "                    clearTimeout(timeout)\n",
              "                    resolve(data)\n",
              "                });\n",
              "            });\n",
              "            })\n",
              "        });\n",
              "    "
            ],
            "text/plain": [
              "<IPython.core.display.Javascript object>"
            ]
          },
          "metadata": {}
        },
        {
          "output_type": "stream",
          "name": "stderr",
          "text": [
            "\u001b[34m\u001b[1mwandb\u001b[0m: You can find your API key in your browser here: https://wandb.ai/authorize\n"
          ]
        },
        {
          "name": "stdout",
          "output_type": "stream",
          "text": [
            "wandb: Paste an API key from your profile and hit enter, or press ctrl+c to quit: ··········\n"
          ]
        },
        {
          "output_type": "stream",
          "name": "stderr",
          "text": [
            "\u001b[34m\u001b[1mwandb\u001b[0m: Appending key for api.wandb.ai to your netrc file: /root/.netrc\n"
          ]
        },
        {
          "output_type": "execute_result",
          "data": {
            "text/plain": [
              "True"
            ]
          },
          "metadata": {},
          "execution_count": 7
        }
      ],
      "source": [
        "!pip install wandb --upgrade\n",
        "import wandb\n",
        "wandb.login()"
      ]
    },
    {
      "cell_type": "code",
      "execution_count": 8,
      "metadata": {
        "id": "PTcJFnLf42iK"
      },
      "outputs": [],
      "source": [
        "class FFSN_MultiClass:\n",
        "  \n",
        "  def __init__(self, n_inputs, n_outputs, hidden_sizes=[3],init_method = 'random', activation_function = 'sigmoid'):\n",
        "    self.nx = n_inputs\n",
        "    self.ny = n_outputs\n",
        "    self.nh = len(hidden_sizes)\n",
        "    self.sizes = [self.nx] + hidden_sizes + [self.ny]\n",
        "    self.activation_function = activation_function\n",
        "\n",
        "    self.W = {}\n",
        "    self.B = {}\n",
        "    np.random.seed(0)\n",
        "\n",
        "    if init_method == \"random\":\n",
        "      for i in range(self.nh+1):\n",
        "        self.W[i+1] = np.random.randn(self.sizes[i], self.sizes[i+1])\n",
        "        self.B[i+1] = np.random.randn(1, self.sizes[i+1])\n",
        "    elif init_method == \"xavier\":\n",
        "      for i in range(self.nh+1):\n",
        "        self.W[i+1] = np.random.randn(self.sizes[i], self.sizes[i+1])*np.sqrt(1/self.sizes[i])\n",
        "        self.B[i+1] = np.random.randn(1, self.sizes[i+1])\n",
        "    elif init_method == \"he\":\n",
        "      for i in range(self.nh+1):\n",
        "        self.W[i+1] = np.random.randn(self.sizes[i], self.sizes[i+1])*np.sqrt(2/self.sizes[i])\n",
        "        self.B[i+1] = np.random.randn(1, self.sizes[i+1])\n",
        "\n",
        "  def forward_activation(self, X): \n",
        "    if self.activation_function == \"sigmoid\":\n",
        "      return 1.0/(1.0 + np.exp(-X))\n",
        "    elif self.activation_function == \"tanh\":\n",
        "      return np.tanh(X)\n",
        "    elif self.activation_function == \"relu\":\n",
        "      return np.maximum(0,X)\n",
        "    elif self.activation_function == \"leaky_relu\":\n",
        "      return np.maximum(self.leaky_slope*X,X)\n",
        "      \n",
        "  def grad_activation(self, X):\n",
        "    if self.activation_function == \"sigmoid\":\n",
        "      return X*(1-X) \n",
        "    elif self.activation_function == \"tanh\":\n",
        "      return (1-np.square(X))\n",
        "    elif self.activation_function == \"relu\":\n",
        "      return 1.0*(X>0)\n",
        "    elif self.activation_function == \"leaky_relu\":\n",
        "      d=np.zeros_like(X)\n",
        "      d[X<=0]=self.leaky_slope\n",
        "      d[X>0]=1\n",
        "      return d\n",
        "  \n",
        "  def softmax(self, x):\n",
        "    exps = np.exp(x)\n",
        "    return exps / np.sum(exps)\n",
        "\n",
        "  def forward_pass(self, x):\n",
        "    self.A = {}\n",
        "    self.H = {}\n",
        "    self.H[0] = x.reshape(1, -1)\n",
        "    for i in range(self.nh):\n",
        "      self.A[i+1] = np.matmul(self.H[i], self.W[i+1]) + self.B[i+1]\n",
        "      self.H[i+1] = self.forward_activation(self.A[i+1])\n",
        "    self.A[self.nh+1] = np.matmul(self.H[self.nh], self.W[self.nh+1]) + self.B[self.nh+1]\n",
        "    self.H[self.nh+1] = self.softmax(self.A[self.nh+1])\n",
        "    return self.H[self.nh+1]\n",
        "  \n",
        "  def predict(self, X):\n",
        "    Y_pred = []\n",
        "    for x in X:\n",
        "      y_pred = self.forward_pass(x)\n",
        "      Y_pred.append(y_pred)\n",
        "    return np.array(Y_pred).squeeze()\n",
        "  \n",
        "  def cross_entropy(self,label,pred):\n",
        "    yl=np.multiply(pred,label)\n",
        "    yl=yl[yl!=0]\n",
        "    yl=-np.log(yl)\n",
        "    yl=np.mean(yl)\n",
        "    return yl\n",
        " \n",
        "  def grad(self, x, y):\n",
        "    self.forward_pass(x)\n",
        "    self.dW = {}\n",
        "    self.dB = {}\n",
        "    self.dH = {}\n",
        "    self.dA = {}\n",
        "    L = self.nh + 1\n",
        "    self.dA[L] = (self.H[L] - y)\n",
        "    for k in range(L, 0, -1):\n",
        "      self.dW[k] = np.matmul(self.H[k-1].T, self.dA[k])\n",
        "      self.dB[k] = self.dA[k]\n",
        "      self.dH[k-1] = np.matmul(self.dA[k], self.W[k].T)\n",
        "      self.dA[k-1] = np.multiply(self.dH[k-1], self.grad_activation(self.H[k-1])) \n",
        "    \n",
        "  def fit(self, X, Y, epochs=100, algo= \"GD\", learning_rate=0.01, display_loss=True,\n",
        "          mini_batch_size=60000, eps=1e-8, beta=0.9, beta1=0.9, beta2=0.9, gamma=0.9,lambda_val=0.5,l2_norm=True):\n",
        "      \n",
        "    if display_loss:\n",
        "      loss = {}\n",
        "    V_W = {}\n",
        "    V_B = {}\n",
        "    M_W = {}\n",
        "    M_B = {}\n",
        "    num_updates = 0\n",
        "    for i in range(self.nh+1):\n",
        "      V_W[i+1] = np.zeros((self.sizes[i], self.sizes[i+1]))\n",
        "      V_B[i+1] = np.zeros((1, self.sizes[i+1]))\n",
        "      M_W[i+1] = np.zeros((self.sizes[i], self.sizes[i+1]))\n",
        "      M_B[i+1] = np.zeros((1, self.sizes[i+1]))\n",
        "    if algo == 'SGD':\n",
        "        for epoch in tqdm_notebook(range(epochs), total=epochs, unit=\"epoch\"):\n",
        "          dW = {}\n",
        "          dB = {}\n",
        "          points_seen = 0\n",
        "          for i in range(self.nh+1):\n",
        "            dW[i+1] = np.zeros((self.sizes[i], self.sizes[i+1]))\n",
        "            dB[i+1] = np.zeros((1, self.sizes[i+1]))\n",
        "          for x, y in zip(X, Y):\n",
        "            self.grad(x, y)\n",
        "            for i in range(self.nh+1):\n",
        "              dW[i+1] += self.dW[i+1]\n",
        "              dB[i+1] += self.dB[i+1]\n",
        "            points_seen += 1\n",
        "            if points_seen % mini_batch_size == 0:\n",
        "              m = X.shape[1]\n",
        "              for i in range(self.nh+1):\n",
        "                if l2_norm:\n",
        "                  self.W[i+1] -= (learning_rate * lambda_val)/m * self.W[i+1] + learning_rate * (dW[i+1]/m)\n",
        "                else:\n",
        "                  self.W[i+1] -= learning_rate * (dW[i+1]/m)\n",
        "                self.B[i+1] -= learning_rate * (dB[i+1]/m)\n",
        "                dW[i+1] = np.zeros((self.sizes[i], self.sizes[i+1]))\n",
        "                dB[i+1] = np.zeros((1, self.sizes[i+1]))\n",
        "            \n",
        "          if display_loss:\n",
        "            Y_pred = self.predict(X) \n",
        "            loss[epoch] = self.cross_entropy(Y, Y_pred)\n",
        "    \n",
        "    \n",
        "    if algo == 'Momentum':\n",
        "      for epoch in tqdm_notebook(range(epochs), total=epochs, unit=\"epoch\"):\n",
        "        dW = {}\n",
        "        dB = {}\n",
        "        points_seen = 0\n",
        "        for i in range(self.nh+1):\n",
        "          dW[i+1] = np.zeros((self.sizes[i], self.sizes[i+1]))\n",
        "          dB[i+1] = np.zeros((1, self.sizes[i+1]))\n",
        "        for x, y in zip(X, Y):\n",
        "          self.grad(x, y)\n",
        "          for i in range(self.nh+1):\n",
        "            dW[i+1] += self.dW[i+1]\n",
        "            dB[i+1] += self.dB[i+1]\n",
        "          points_seen += 1\n",
        "          if points_seen % mini_batch_size == 0:\n",
        "            m = X.shape[1]\n",
        "            for i in range(self.nh+1):\n",
        "              V_W[i+1] = gamma * V_W[i+1] + learning_rate * (dW[i+1]/m)\n",
        "              V_B[i+1] = gamma * V_B[i+1] + learning_rate * (dB[i+1]/m)\n",
        "                    \n",
        "            m = X.shape[1]\n",
        "            for i in range(self.nh+1):\n",
        "              if l2_norm:\n",
        "                self.W[i+1] -= (learning_rate * lambda_val)/m * self.W[i+1] + V_W[i+1]\n",
        "              else:\n",
        "                self.W[i+1] -= V_W[i+1]\n",
        "              self.B[i+1] -= V_B[i+1]\n",
        "              dW[i+1] = np.zeros((self.sizes[i], self.sizes[i+1]))\n",
        "              dB[i+1] = np.zeros((1, self.sizes[i+1]))\n",
        "            \n",
        "        if display_loss:\n",
        "          Y_pred = self.predict(X) \n",
        "          loss[epoch] = self.cross_entropy(Y, Y_pred)\n",
        "\n",
        "    if algo == 'NAG':\n",
        "      for epoch in tqdm_notebook(range(epochs), total=epochs, unit=\"epoch\"):\n",
        "        dW = {}\n",
        "        dB = {}\n",
        "        points_seen = 0\n",
        "        for i in range(self.nh+1):\n",
        "          dW[i+1] = np.zeros((self.sizes[i], self.sizes[i+1]))\n",
        "          dB[i+1] = np.zeros((1, self.sizes[i+1]))\n",
        "        m = X.shape[1]\n",
        "        for i in range(self.nh+1):\n",
        "          self.W[i+1] -= gamma*V_W[i+1]\n",
        "          self.B[i+1] -= gamma*V_B[i+1]\n",
        "      \n",
        "        for x, y in zip(X, Y):\n",
        "          self.grad(x, y)\n",
        "          for i in range(self.nh+1):\n",
        "            dW[i+1] += self.dW[i+1]\n",
        "            dB[i+1] += self.dB[i+1]\n",
        "          points_seen += 1\n",
        "          if points_seen % mini_batch_size == 0:\n",
        "            m = X.shape[1]\n",
        "            for i in range(self.nh+1):\n",
        "              V_W[i+1] = gamma*V_W[i+1] + learning_rate * (dW[i+1]/m)\n",
        "              V_B[i+1] = gamma*V_B[i+1] + learning_rate * (dB[i+1]/m)\n",
        "            m = X.shape[1]\n",
        "            for i in range(self.nh+1):\n",
        "              dW[i+1] = np.zeros((self.sizes[i], self.sizes[i+1]))\n",
        "              dB[i+1] = np.zeros((1, self.sizes[i+1]))\n",
        "              if l2_norm:\n",
        "                self.W[i+1] -= (learning_rate * lambda_val)/m * self.W[i+1] + gamma*V_W[i+1]\n",
        "              else:\n",
        "                self.W[i+1] -= gamma*V_W[i+1]\n",
        "              self.B[i+1] -= gamma*V_B[i+1]\n",
        "        \n",
        "        if display_loss:\n",
        "          Y_pred = self.predict(X) \n",
        "          loss[epoch] = self.cross_entropy(Y, Y_pred)  \n",
        "\n",
        "    if algo == 'RMSProp':\n",
        "      for epoch in tqdm_notebook(range(epochs), total=epochs, unit=\"epoch\"):\n",
        "        dW = {}\n",
        "        dB = {}\n",
        "        points_seen = 0\n",
        "        for i in range(self.nh+1):\n",
        "          dW[i+1] = np.zeros((self.sizes[i], self.sizes[i+1]))\n",
        "          dB[i+1] = np.zeros((1, self.sizes[i+1]))\n",
        "      \n",
        "        for x, y in zip(X, Y):\n",
        "          self.grad(x, y)\n",
        "          for i in range(self.nh+1):\n",
        "            dW[i+1] += self.dW[i+1]\n",
        "            dB[i+1] += self.dB[i+1]\n",
        "          points_seen += 1\n",
        "          if points_seen % mini_batch_size == 0:\n",
        "            m = X.shape[1]\n",
        "            for i in range(self.nh+1):\n",
        "              V_W[i+1] = beta*V_W[i+1] + (1-beta) * ((dW[i+1]/m)**2)\n",
        "              V_B[i+1] = beta*V_B[i+1] + (1-beta) * ((dB[i+1]/m)**2)\n",
        "            m = X.shape[1]\n",
        "            for i in range(self.nh+1):\n",
        "              if l2_norm:\n",
        "                self.W[i+1] -= (learning_rate * lambda_val)/m * self.W[i+1] + (learning_rate / np.sqrt(V_W[i+1]+ eps))* (dW[i+1]/m)\n",
        "              else:\n",
        "                self.W[i+1] -= (learning_rate / np.sqrt(V_W[i+1]+ eps))* (dW[i+1]/m)\n",
        "              self.B[i+1] -= (learning_rate / np.sqrt(V_B[i+1]+ eps))* (dB[i+1]/m)\n",
        "              dW[i+1] = np.zeros((self.sizes[i], self.sizes[i+1]))\n",
        "              dB[i+1] = np.zeros((1, self.sizes[i+1]))\n",
        "        \n",
        "        if display_loss:\n",
        "          Y_pred = self.predict(X) \n",
        "          loss[epoch] = self.cross_entropy(Y, Y_pred)\n",
        "\n",
        "    if algo == 'Nadam':\n",
        "      for epoch in tqdm_notebook(range(epochs), total=epochs, unit=\"epoch\"):\n",
        "        dW = {}\n",
        "        dB = {}\n",
        "        points_seen = 0\n",
        "        for i in range(self.nh+1):\n",
        "          dW[i+1] = np.zeros((self.sizes[i], self.sizes[i+1]))\n",
        "          dB[i+1] = np.zeros((1, self.sizes[i+1]))\n",
        "      \n",
        "        for x, y in zip(X, Y):\n",
        "          self.grad(x, y)\n",
        "          for i in range(self.nh+1):\n",
        "            dW[i+1] += self.dW[i+1]\n",
        "            dB[i+1] += self.dB[i+1]\n",
        "          points_seen += 1\n",
        "          if points_seen % mini_batch_size == 0:\n",
        "            m = X.shape[1]\n",
        "            num_updates += 1\n",
        "            for i in range(self.nh+1):\n",
        "              M_W[i+1] = beta1*M_W[i+1] + (1-beta1) * (dW[i+1]/m)\n",
        "              M_B[i+1] = beta1*M_B[i+1] + (1-beta1) * (dB[i+1]/m)\n",
        "              V_W[i+1] = beta2*V_W[i+1] + (1-beta2) * ((dW[i+1]/m)**2)\n",
        "              V_B[i+1] = beta2*V_B[i+1] + (1-beta2) * ((dB[i+1]/m)**2)\n",
        "              M_W_C = M_W[i+1] / (1 - np.power(beta1, num_updates))\n",
        "              M_B_C = M_B[i+1] / (1 - np.power(beta1, num_updates))\n",
        "              V_W_C = V_W[i+1] / (1 - np.power(beta2, num_updates))\n",
        "              V_B_C = V_B[i+1] / (1 - np.power(beta2, num_updates))\n",
        "              if l2_norm:\n",
        "                self.W[i+1] -= (learning_rate * lambda_val)/m * self.W[i+1] + (learning_rate / np.sqrt(V_W_C + eps))* (beta1*M_W_C + (1-beta1)/(1-np.power(beta1,num_updates))* (dW[i+1]/m))\n",
        "              else:\n",
        "                self.W[i+1] -= (learning_rate / np.sqrt(V_W_C + eps))* (beta1*M_W_C + (1-beta1)/(1-np.power(beta1,num_updates))* (dW[i+1]/m) )\n",
        "              self.B[i+1] -= (learning_rate / np.sqrt(V_B_C + eps)) * (beta1*M_B_C + (1-beta1)/(1-np.power(beta1,num_updates))* (dB[i+1]/m))\n",
        "              dW[i+1] = np.zeros((self.sizes[i], self.sizes[i+1]))\n",
        "              dB[i+1] = np.zeros((1, self.sizes[i+1]))\n",
        "       \n",
        "        if display_loss:\n",
        "          Y_pred = self.predict(X) \n",
        "          loss[epoch] = self.cross_entropy(Y, Y_pred)\n",
        "\n",
        "    if algo == 'Adam':\n",
        "      for epoch in tqdm_notebook(range(epochs), total=epochs, unit=\"epoch\"):\n",
        "        dW = {}\n",
        "        dB = {}\n",
        "        points_seen = 0\n",
        "        for i in range(self.nh+1):\n",
        "          dW[i+1] = np.zeros((self.sizes[i], self.sizes[i+1]))\n",
        "          dB[i+1] = np.zeros((1, self.sizes[i+1]))\n",
        "      \n",
        "        for x, y in zip(X, Y):\n",
        "          self.grad(x, y)\n",
        "          for i in range(self.nh+1):\n",
        "            dW[i+1] += self.dW[i+1]\n",
        "            dB[i+1] += self.dB[i+1]\n",
        "          points_seen += 1\n",
        "          if points_seen % mini_batch_size == 0:\n",
        "            m = X.shape[1]\n",
        "            num_updates += 1\n",
        "            for i in range(self.nh+1):\n",
        "              M_W[i+1] = beta1*M_W[i+1] + (1-beta1) * (dW[i+1]/m)\n",
        "              M_B[i+1] = beta1*M_B[i+1] + (1-beta1) * (dB[i+1]/m)\n",
        "              V_W[i+1] = beta2*V_W[i+1] + (1-beta2) * ((dW[i+1]/m)**2)\n",
        "              V_B[i+1] = beta2*V_B[i+1] + (1-beta2) * ((dB[i+1]/m)**2)\n",
        "              M_W_C = M_W[i+1] / (1 - np.power(beta1, num_updates))\n",
        "              M_B_C = M_B[i+1] / (1 - np.power(beta1, num_updates))\n",
        "              V_W_C = V_W[i+1] / (1 - np.power(beta2, num_updates))\n",
        "              V_B_C = V_B[i+1] / (1 - np.power(beta2, num_updates))\n",
        "              if l2_norm:\n",
        "                self.W[i+1] -= (learning_rate * lambda_val)/m * self.W[i+1] + (learning_rate / np.sqrt(V_W_C + eps))* M_W_C\n",
        "              else:\n",
        "                self.W[i+1] -= (learning_rate / np.sqrt(V_W_C + eps))* M_W_C\n",
        "              self.B[i+1] -= (learning_rate / np.sqrt(V_B_C + eps)) * M_B_C\n",
        "              dW[i+1] = np.zeros((self.sizes[i], self.sizes[i+1]))\n",
        "              dB[i+1] = np.zeros((1, self.sizes[i+1]))\n",
        "        \n",
        "        if display_loss:\n",
        "          Y_pred = self.predict(X) \n",
        "          loss[epoch] = self.cross_entropy(Y, Y_pred)\n",
        "    \n",
        "    if display_loss:\n",
        "        plt.plot(np.array(list(loss.values())).astype(float))\n",
        "        plt.xlabel('Epochs')\n",
        "        plt.ylabel('CE')\n",
        "        plt.show()\n",
        "    Y_pred_train = self.predict(x_train)\n",
        "    train_loss = self.cross_entropy(y_OH_train, Y_pred_train)\n",
        "    Y_pred_train = np.argmax(Y_pred_train,1)\n",
        "\n",
        "    Y_pred_val = self.predict(x_test)\n",
        "    test_loss = self.cross_entropy(y_OH_val, Y_pred_val)\n",
        "    Y_pred_val = np.argmax(Y_pred_val,1)\n",
        "\n",
        "\n",
        "    accuracy_train = accuracy_score(Y_pred_train, y_train)\n",
        "    accuracy_val = accuracy_score(Y_pred_val, y_test)\n",
        "    print(accuracy_train,accuracy_val)"
      ]
    },
    {
      "cell_type": "code",
      "execution_count": 9,
      "metadata": {
        "colab": {
          "base_uri": "https://localhost:8080/",
          "height": 366,
          "referenced_widgets": [
            "6976d074c7f74aba85a3e910fc71ab55",
            "a43eb8607d8e4e3f8d46a33f5f36f17c",
            "0ca875746f5a4375be61ee5e0baca7c6",
            "cc4ccc52bbe0489196729301668d6b97",
            "cdb18700739043839958696bac67f734",
            "2d56f6fc366f41d9941ae3fe2398660f",
            "8500e8c6cd5943d08e4f23649ef180c6",
            "bec2a65e15c74548b1ccd0e82326f16c",
            "ac0a6323f3c14759b56d10dd64c6eb58",
            "df3500ba03444d19adf213b887816b8d",
            "a39c983719de4d8aabc2a10d8ba33ede"
          ]
        },
        "id": "iFxs32Wd44o9",
        "outputId": "c27e2829-2317-4100-b754-5815825a7622"
      },
      "outputs": [
        {
          "output_type": "stream",
          "name": "stderr",
          "text": [
            "/usr/local/lib/python3.7/dist-packages/ipykernel_launcher.py:288: TqdmDeprecationWarning: This function will be removed in tqdm==5.0.0\n",
            "Please use `tqdm.notebook.tqdm` instead of `tqdm.tqdm_notebook`\n"
          ]
        },
        {
          "output_type": "display_data",
          "data": {
            "application/vnd.jupyter.widget-view+json": {
              "model_id": "6976d074c7f74aba85a3e910fc71ab55",
              "version_minor": 0,
              "version_major": 2
            },
            "text/plain": [
              "  0%|          | 0/10 [00:00<?, ?epoch/s]"
            ]
          },
          "metadata": {}
        },
        {
          "output_type": "display_data",
          "data": {
            "image/png": "[encoded data removed]",
            "text/plain": [
              "<Figure size 432x288 with 1 Axes>"
            ]
          },
          "metadata": {
            "needs_background": "light"
          }
        },
        {
          "output_type": "stream",
          "name": "stdout",
          "text": [
            "0.9117777777777778 0.8896666666666667\n"
          ]
        }
      ],
      "source": [
        "ffsn_multi = FFSN_MultiClass(784,10,[128,128,128],init_method='he', activation_function='relu')\n",
        "ffsn_multi.fit(x_train,y_OH_train,epochs=10,learning_rate=0.0005,algo= \"Nadam\",mini_batch_size=128,lambda_val=0.0005)"
      ]
    },
    {
      "cell_type": "markdown",
      "source": [
        "## Confustion Matrix"
      ],
      "metadata": {
        "id": "WrDdSapMuTRZ"
      }
    },
    {
      "cell_type": "code",
      "source": [
        "from sklearn.metrics import confusion_matrix\n",
        "import seaborn as sns\n",
        "class_names = ['T-shirt','Trouser','Pullover','Dress','Coat','Sandal','Shirt','Sneaker','Bag','Ankle']\n",
        "Y_pred_train = ffsn_multi.predict(x_train)\n",
        "Y_pred_train = np.argmax(Y_pred_train,1)\n",
        "\n",
        "Y_pred_val = ffsn_multi.predict(x_test)\n",
        "Y_pred_val = np.argmax(Y_pred_val,1)\n",
        "\n",
        "\n",
        "accuracy_train = accuracy_score(Y_pred_train, y_train)\n",
        "accuracy_val = accuracy_score(Y_pred_val, y_test)\n",
        "\n",
        "print(\"Training accuracy\", round(accuracy_train, 2))\n",
        "print(\"Validation accuracy\", round(accuracy_val, 2))\n",
        "\n",
        "wandb.init(project=\"DL 1.1\", entity=\"cs21m009\",name='plotting_confusion_matrix')\n",
        "table = pd.DataFrame(confusion_matrix(y_test,Y_pred_val),columns=class_names,index=class_names)\n",
        "con_mat=sns.heatmap(table,annot=False,fmt='d',cmap='viridis')\n",
        "con_mat.set(xlabel='Y_True', ylabel='Y-Predicted')\n",
        "con_mat\n",
        "wandb.log({\"Confusion_Matrix \":[wandb.Image(con_mat, caption='y_true')]})\n",
        "wandb.log({\"conf_mat\" : wandb.sklearn.plot_confusion_matrix(y_test,Y_pred_val,class_names,)})"
      ],
      "metadata": {
        "colab": {
          "base_uri": "https://localhost:8080/",
          "height": 508,
          "referenced_widgets": [
            "c2d76d2332244d36ae9b424a33e1eaee",
            "4f3273fa4ac142a5b0e85be10cedcfa4",
            "b291bbed5a7e4a21b1f1f8517e93a242",
            "29844583bf0c47a2b5c72362d46b4fd4",
            "df463fb244f74f568d3a7055613e676c",
            "6732a209b5204972afb0baf2ca1391df",
            "b8ef1b9aa5bc40adad7f61279fc2b4df",
            "9fcbf80b505f47b19586eda228f5e1f5"
          ]
        },
        "id": "ItR1tlP_t6hj",
        "outputId": "34548aa6-87ce-49b0-a5f8-9ea8f33eef6a"
      },
      "execution_count": 32,
      "outputs": [
        {
          "output_type": "stream",
          "name": "stdout",
          "text": [
            "Training accuracy 0.91\n",
            "Validation accuracy 0.89\n"
          ]
        },
        {
          "output_type": "display_data",
          "data": {
            "text/html": [
              "Finishing last run (ID:39eis2n6) before initializing another..."
            ],
            "text/plain": [
              "<IPython.core.display.HTML object>"
            ]
          },
          "metadata": {}
        },
        {
          "output_type": "display_data",
          "data": {
            "text/html": [
              "<br/>Waiting for W&B process to finish, PID 1163... <strong style=\"color:green\">(success).</strong>"
            ],
            "text/plain": [
              "<IPython.core.display.HTML object>"
            ]
          },
          "metadata": {}
        },
        {
          "output_type": "display_data",
          "data": {
            "application/vnd.jupyter.widget-view+json": {
              "model_id": "c2d76d2332244d36ae9b424a33e1eaee",
              "version_minor": 0,
              "version_major": 2
            },
            "text/plain": [
              "VBox(children=(Label(value=' 0.02MB of 0.02MB uploaded (0.00MB deduped)\\r'), FloatProgress(value=1.0, max=1.0)…"
            ]
          },
          "metadata": {}
        },
        {
          "output_type": "display_data",
          "data": {
            "text/html": [
              "<style>\n",
              "    table.wandb td:nth-child(1) { padding: 0 10px; text-align: right }\n",
              "    .wandb-row { display: flex; flex-direction: row; flex-wrap: wrap; width: 100% }\n",
              "    .wandb-col { display: flex; flex-direction: column; flex-basis: 100%; flex: 1; padding: 10px; }\n",
              "    </style>\n",
              "<div class=\"wandb-row\"><div class=\"wandb-col\">\n",
              "</div><div class=\"wandb-col\">\n",
              "</div></div>\n",
              "Synced 5 W&B file(s), 2 media file(s), 1 artifact file(s) and 0 other file(s)\n",
              "<br/>Synced <strong style=\"color:#cdcd00\">plotting_confusion_matrix</strong>: <a href=\"https://wandb.ai/cs21m009/DL%201.1/runs/39eis2n6\" target=\"_blank\">https://wandb.ai/cs21m009/DL%201.1/runs/39eis2n6</a><br/>\n",
              "Find logs at: <code>./wandb/run-20220222_161055-39eis2n6/logs</code><br/>\n"
            ],
            "text/plain": [
              "<IPython.core.display.HTML object>"
            ]
          },
          "metadata": {}
        },
        {
          "output_type": "display_data",
          "data": {
            "text/html": [
              "Successfully finished last run (ID:39eis2n6). Initializing new run:<br/>"
            ],
            "text/plain": [
              "<IPython.core.display.HTML object>"
            ]
          },
          "metadata": {}
        },
        {
          "output_type": "display_data",
          "data": {
            "text/html": [
              "\n",
              "                    Syncing run <strong><a href=\"https://wandb.ai/cs21m009/DL%201.1/runs/32lt6a4d\" target=\"_blank\">plotting_confusion_matrix</a></strong> to <a href=\"https://wandb.ai/cs21m009/DL%201.1\" target=\"_blank\">Weights & Biases</a> (<a href=\"https://docs.wandb.com/integrations/jupyter.html\" target=\"_blank\">docs</a>).<br/>\n",
              "\n",
              "                "
            ],
            "text/plain": [
              "<IPython.core.display.HTML object>"
            ]
          },
          "metadata": {}
        },
        {
          "output_type": "display_data",
          "data": {
            "image/png": "[encoded data removed]",
            "text/plain": [
              "<Figure size 432x288 with 2 Axes>"
            ]
          },
          "metadata": {
            "needs_background": "light"
          }
        }
      ]
    },
    {
      "cell_type": "code",
      "execution_count": null,
      "metadata": {
        "id": "gWw9G9MZa4rO"
      },
      "outputs": [],
      "source": [
        "'''\n",
        "reasons :\n",
        "increasing learning rate will lead to fluctuations in the epochs vs loss curve\n",
        "'''"
      ]
    }
  ],
  "metadata": {
    "colab": {
      "collapsed_sections": [],
      "name": "DL 1.4.ipynb",
      "provenance": []
    },
    "kernelspec": {
      "display_name": "Python 3",
      "name": "python3"
    },
    "language_info": {
      "name": "python"
    },
    "widgets": {
      "application/vnd.jupyter.widget-state+json": {
        "6976d074c7f74aba85a3e910fc71ab55": {
          "model_module": "@jupyter-widgets/controls",
          "model_name": "HBoxModel",
          "model_module_version": "1.5.0",
          "state": {
            "_view_name": "HBoxView",
            "_dom_classes": [],
            "_model_name": "HBoxModel",
            "_view_module": "@jupyter-widgets/controls",
            "_model_module_version": "1.5.0",
            "_view_count": null,
            "_view_module_version": "1.5.0",
            "box_style": "",
            "layout": "IPY_MODEL_a43eb8607d8e4e3f8d46a33f5f36f17c",
            "_model_module": "@jupyter-widgets/controls",
            "children": [
              "IPY_MODEL_0ca875746f5a4375be61ee5e0baca7c6",
              "IPY_MODEL_cc4ccc52bbe0489196729301668d6b97",
              "IPY_MODEL_cdb18700739043839958696bac67f734"
            ]
          }
        },
        "a43eb8607d8e4e3f8d46a33f5f36f17c": {
          "model_module": "@jupyter-widgets/base",
          "model_name": "LayoutModel",
          "model_module_version": "1.2.0",
          "state": {
            "_view_name": "LayoutView",
            "grid_template_rows": null,
            "right": null,
            "justify_content": null,
            "_view_module": "@jupyter-widgets/base",
            "overflow": null,
            "_model_module_version": "1.2.0",
            "_view_count": null,
            "flex_flow": null,
            "width": null,
            "min_width": null,
            "border": null,
            "align_items": null,
            "bottom": null,
            "_model_module": "@jupyter-widgets/base",
            "top": null,
            "grid_column": null,
            "overflow_y": null,
            "overflow_x": null,
            "grid_auto_flow": null,
            "grid_area": null,
            "grid_template_columns": null,
            "flex": null,
            "_model_name": "LayoutModel",
            "justify_items": null,
            "grid_row": null,
            "max_height": null,
            "align_content": null,
            "visibility": null,
            "align_self": null,
            "height": null,
            "min_height": null,
            "padding": null,
            "grid_auto_rows": null,
            "grid_gap": null,
            "max_width": null,
            "order": null,
            "_view_module_version": "1.2.0",
            "grid_template_areas": null,
            "object_position": null,
            "object_fit": null,
            "grid_auto_columns": null,
            "margin": null,
            "display": null,
            "left": null
          }
        },
        "0ca875746f5a4375be61ee5e0baca7c6": {
          "model_module": "@jupyter-widgets/controls",
          "model_name": "HTMLModel",
          "model_module_version": "1.5.0",
          "state": {
            "_view_name": "HTMLView",
            "style": "IPY_MODEL_2d56f6fc366f41d9941ae3fe2398660f",
            "_dom_classes": [],
            "description": "",
            "_model_name": "HTMLModel",
            "placeholder": "​",
            "_view_module": "@jupyter-widgets/controls",
            "_model_module_version": "1.5.0",
            "value": "100%",
            "_view_count": null,
            "_view_module_version": "1.5.0",
            "description_tooltip": null,
            "_model_module": "@jupyter-widgets/controls",
            "layout": "IPY_MODEL_8500e8c6cd5943d08e4f23649ef180c6"
          }
        },
        "cc4ccc52bbe0489196729301668d6b97": {
          "model_module": "@jupyter-widgets/controls",
          "model_name": "FloatProgressModel",
          "model_module_version": "1.5.0",
          "state": {
            "_view_name": "ProgressView",
            "style": "IPY_MODEL_bec2a65e15c74548b1ccd0e82326f16c",
            "_dom_classes": [],
            "description": "",
            "_model_name": "FloatProgressModel",
            "bar_style": "success",
            "max": 10,
            "_view_module": "@jupyter-widgets/controls",
            "_model_module_version": "1.5.0",
            "value": 10,
            "_view_count": null,
            "_view_module_version": "1.5.0",
            "orientation": "horizontal",
            "min": 0,
            "description_tooltip": null,
            "_model_module": "@jupyter-widgets/controls",
            "layout": "IPY_MODEL_ac0a6323f3c14759b56d10dd64c6eb58"
          }
        },
        "cdb18700739043839958696bac67f734": {
          "model_module": "@jupyter-widgets/controls",
          "model_name": "HTMLModel",
          "model_module_version": "1.5.0",
          "state": {
            "_view_name": "HTMLView",
            "style": "IPY_MODEL_df3500ba03444d19adf213b887816b8d",
            "_dom_classes": [],
            "description": "",
            "_model_name": "HTMLModel",
            "placeholder": "​",
            "_view_module": "@jupyter-widgets/controls",
            "_model_module_version": "1.5.0",
            "value": " 10/10 [12:05&lt;00:00, 72.44s/epoch]",
            "_view_count": null,
            "_view_module_version": "1.5.0",
            "description_tooltip": null,
            "_model_module": "@jupyter-widgets/controls",
            "layout": "IPY_MODEL_a39c983719de4d8aabc2a10d8ba33ede"
          }
        },
        "2d56f6fc366f41d9941ae3fe2398660f": {
          "model_module": "@jupyter-widgets/controls",
          "model_name": "DescriptionStyleModel",
          "model_module_version": "1.5.0",
          "state": {
            "_view_name": "StyleView",
            "_model_name": "DescriptionStyleModel",
            "description_width": "",
            "_view_module": "@jupyter-widgets/base",
            "_model_module_version": "1.5.0",
            "_view_count": null,
            "_view_module_version": "1.2.0",
            "_model_module": "@jupyter-widgets/controls"
          }
        },
        "8500e8c6cd5943d08e4f23649ef180c6": {
          "model_module": "@jupyter-widgets/base",
          "model_name": "LayoutModel",
          "model_module_version": "1.2.0",
          "state": {
            "_view_name": "LayoutView",
            "grid_template_rows": null,
            "right": null,
            "justify_content": null,
            "_view_module": "@jupyter-widgets/base",
            "overflow": null,
            "_model_module_version": "1.2.0",
            "_view_count": null,
            "flex_flow": null,
            "width": null,
            "min_width": null,
            "border": null,
            "align_items": null,
            "bottom": null,
            "_model_module": "@jupyter-widgets/base",
            "top": null,
            "grid_column": null,
            "overflow_y": null,
            "overflow_x": null,
            "grid_auto_flow": null,
            "grid_area": null,
            "grid_template_columns": null,
            "flex": null,
            "_model_name": "LayoutModel",
            "justify_items": null,
            "grid_row": null,
            "max_height": null,
            "align_content": null,
            "visibility": null,
            "align_self": null,
            "height": null,
            "min_height": null,
            "padding": null,
            "grid_auto_rows": null,
            "grid_gap": null,
            "max_width": null,
            "order": null,
            "_view_module_version": "1.2.0",
            "grid_template_areas": null,
            "object_position": null,
            "object_fit": null,
            "grid_auto_columns": null,
            "margin": null,
            "display": null,
            "left": null
          }
        },
        "bec2a65e15c74548b1ccd0e82326f16c": {
          "model_module": "@jupyter-widgets/controls",
          "model_name": "ProgressStyleModel",
          "model_module_version": "1.5.0",
          "state": {
            "_view_name": "StyleView",
            "_model_name": "ProgressStyleModel",
            "description_width": "",
            "_view_module": "@jupyter-widgets/base",
            "_model_module_version": "1.5.0",
            "_view_count": null,
            "_view_module_version": "1.2.0",
            "bar_color": null,
            "_model_module": "@jupyter-widgets/controls"
          }
        },
        "ac0a6323f3c14759b56d10dd64c6eb58": {
          "model_module": "@jupyter-widgets/base",
          "model_name": "LayoutModel",
          "model_module_version": "1.2.0",
          "state": {
            "_view_name": "LayoutView",
            "grid_template_rows": null,
            "right": null,
            "justify_content": null,
            "_view_module": "@jupyter-widgets/base",
            "overflow": null,
            "_model_module_version": "1.2.0",
            "_view_count": null,
            "flex_flow": null,
            "width": null,
            "min_width": null,
            "border": null,
            "align_items": null,
            "bottom": null,
            "_model_module": "@jupyter-widgets/base",
            "top": null,
            "grid_column": null,
            "overflow_y": null,
            "overflow_x": null,
            "grid_auto_flow": null,
            "grid_area": null,
            "grid_template_columns": null,
            "flex": null,
            "_model_name": "LayoutModel",
            "justify_items": null,
            "grid_row": null,
            "max_height": null,
            "align_content": null,
            "visibility": null,
            "align_self": null,
            "height": null,
            "min_height": null,
            "padding": null,
            "grid_auto_rows": null,
            "grid_gap": null,
            "max_width": null,
            "order": null,
            "_view_module_version": "1.2.0",
            "grid_template_areas": null,
            "object_position": null,
            "object_fit": null,
            "grid_auto_columns": null,
            "margin": null,
            "display": null,
            "left": null
          }
        },
        "df3500ba03444d19adf213b887816b8d": {
          "model_module": "@jupyter-widgets/controls",
          "model_name": "DescriptionStyleModel",
          "model_module_version": "1.5.0",
          "state": {
            "_view_name": "StyleView",
            "_model_name": "DescriptionStyleModel",
            "description_width": "",
            "_view_module": "@jupyter-widgets/base",
            "_model_module_version": "1.5.0",
            "_view_count": null,
            "_view_module_version": "1.2.0",
            "_model_module": "@jupyter-widgets/controls"
          }
        },
        "a39c983719de4d8aabc2a10d8ba33ede": {
          "model_module": "@jupyter-widgets/base",
          "model_name": "LayoutModel",
          "model_module_version": "1.2.0",
          "state": {
            "_view_name": "LayoutView",
            "grid_template_rows": null,
            "right": null,
            "justify_content": null,
            "_view_module": "@jupyter-widgets/base",
            "overflow": null,
            "_model_module_version": "1.2.0",
            "_view_count": null,
            "flex_flow": null,
            "width": null,
            "min_width": null,
            "border": null,
            "align_items": null,
            "bottom": null,
            "_model_module": "@jupyter-widgets/base",
            "top": null,
            "grid_column": null,
            "overflow_y": null,
            "overflow_x": null,
            "grid_auto_flow": null,
            "grid_area": null,
            "grid_template_columns": null,
            "flex": null,
            "_model_name": "LayoutModel",
            "justify_items": null,
            "grid_row": null,
            "max_height": null,
            "align_content": null,
            "visibility": null,
            "align_self": null,
            "height": null,
            "min_height": null,
            "padding": null,
            "grid_auto_rows": null,
            "grid_gap": null,
            "max_width": null,
            "order": null,
            "_view_module_version": "1.2.0",
            "grid_template_areas": null,
            "object_position": null,
            "object_fit": null,
            "grid_auto_columns": null,
            "margin": null,
            "display": null,
            "left": null
          }
        },
        "c2d76d2332244d36ae9b424a33e1eaee": {
          "model_module": "@jupyter-widgets/controls",
          "model_name": "VBoxModel",
          "model_module_version": "1.5.0",
          "state": {
            "_view_name": "VBoxView",
            "_dom_classes": [],
            "_model_name": "VBoxModel",
            "_view_module": "@jupyter-widgets/controls",
            "_model_module_version": "1.5.0",
            "_view_count": null,
            "_view_module_version": "1.5.0",
            "box_style": "",
            "layout": "IPY_MODEL_4f3273fa4ac142a5b0e85be10cedcfa4",
            "_model_module": "@jupyter-widgets/controls",
            "children": [
              "IPY_MODEL_b291bbed5a7e4a21b1f1f8517e93a242",
              "IPY_MODEL_29844583bf0c47a2b5c72362d46b4fd4"
            ]
          }
        },
        "4f3273fa4ac142a5b0e85be10cedcfa4": {
          "model_module": "@jupyter-widgets/base",
          "model_name": "LayoutModel",
          "model_module_version": "1.2.0",
          "state": {
            "_view_name": "LayoutView",
            "grid_template_rows": null,
            "right": null,
            "justify_content": null,
            "_view_module": "@jupyter-widgets/base",
            "overflow": null,
            "_model_module_version": "1.2.0",
            "_view_count": null,
            "flex_flow": null,
            "width": null,
            "min_width": null,
            "border": null,
            "align_items": null,
            "bottom": null,
            "_model_module": "@jupyter-widgets/base",
            "top": null,
            "grid_column": null,
            "overflow_y": null,
            "overflow_x": null,
            "grid_auto_flow": null,
            "grid_area": null,
            "grid_template_columns": null,
            "flex": null,
            "_model_name": "LayoutModel",
            "justify_items": null,
            "grid_row": null,
            "max_height": null,
            "align_content": null,
            "visibility": null,
            "align_self": null,
            "height": null,
            "min_height": null,
            "padding": null,
            "grid_auto_rows": null,
            "grid_gap": null,
            "max_width": null,
            "order": null,
            "_view_module_version": "1.2.0",
            "grid_template_areas": null,
            "object_position": null,
            "object_fit": null,
            "grid_auto_columns": null,
            "margin": null,
            "display": null,
            "left": null
          }
        },
        "b291bbed5a7e4a21b1f1f8517e93a242": {
          "model_module": "@jupyter-widgets/controls",
          "model_name": "LabelModel",
          "model_module_version": "1.5.0",
          "state": {
            "_view_name": "LabelView",
            "style": "IPY_MODEL_df463fb244f74f568d3a7055613e676c",
            "_dom_classes": [],
            "description": "",
            "_model_name": "LabelModel",
            "placeholder": "​",
            "_view_module": "@jupyter-widgets/controls",
            "_model_module_version": "1.5.0",
            "value": " 0.03MB of 0.03MB uploaded (0.00MB deduped)\r",
            "_view_count": null,
            "_view_module_version": "1.5.0",
            "description_tooltip": null,
            "_model_module": "@jupyter-widgets/controls",
            "layout": "IPY_MODEL_6732a209b5204972afb0baf2ca1391df"
          }
        },
        "29844583bf0c47a2b5c72362d46b4fd4": {
          "model_module": "@jupyter-widgets/controls",
          "model_name": "FloatProgressModel",
          "model_module_version": "1.5.0",
          "state": {
            "_view_name": "ProgressView",
            "style": "IPY_MODEL_b8ef1b9aa5bc40adad7f61279fc2b4df",
            "_dom_classes": [],
            "description": "",
            "_model_name": "FloatProgressModel",
            "bar_style": "",
            "max": 1,
            "_view_module": "@jupyter-widgets/controls",
            "_model_module_version": "1.5.0",
            "value": 1,
            "_view_count": null,
            "_view_module_version": "1.5.0",
            "orientation": "horizontal",
            "min": 0,
            "description_tooltip": null,
            "_model_module": "@jupyter-widgets/controls",
            "layout": "IPY_MODEL_9fcbf80b505f47b19586eda228f5e1f5"
          }
        },
        "df463fb244f74f568d3a7055613e676c": {
          "model_module": "@jupyter-widgets/controls",
          "model_name": "DescriptionStyleModel",
          "model_module_version": "1.5.0",
          "state": {
            "_view_name": "StyleView",
            "_model_name": "DescriptionStyleModel",
            "description_width": "",
            "_view_module": "@jupyter-widgets/base",
            "_model_module_version": "1.5.0",
            "_view_count": null,
            "_view_module_version": "1.2.0",
            "_model_module": "@jupyter-widgets/controls"
          }
        },
        "6732a209b5204972afb0baf2ca1391df": {
          "model_module": "@jupyter-widgets/base",
          "model_name": "LayoutModel",
          "model_module_version": "1.2.0",
          "state": {
            "_view_name": "LayoutView",
            "grid_template_rows": null,
            "right": null,
            "justify_content": null,
            "_view_module": "@jupyter-widgets/base",
            "overflow": null,
            "_model_module_version": "1.2.0",
            "_view_count": null,
            "flex_flow": null,
            "width": null,
            "min_width": null,
            "border": null,
            "align_items": null,
            "bottom": null,
            "_model_module": "@jupyter-widgets/base",
            "top": null,
            "grid_column": null,
            "overflow_y": null,
            "overflow_x": null,
            "grid_auto_flow": null,
            "grid_area": null,
            "grid_template_columns": null,
            "flex": null,
            "_model_name": "LayoutModel",
            "justify_items": null,
            "grid_row": null,
            "max_height": null,
            "align_content": null,
            "visibility": null,
            "align_self": null,
            "height": null,
            "min_height": null,
            "padding": null,
            "grid_auto_rows": null,
            "grid_gap": null,
            "max_width": null,
            "order": null,
            "_view_module_version": "1.2.0",
            "grid_template_areas": null,
            "object_position": null,
            "object_fit": null,
            "grid_auto_columns": null,
            "margin": null,
            "display": null,
            "left": null
          }
        },
        "b8ef1b9aa5bc40adad7f61279fc2b4df": {
          "model_module": "@jupyter-widgets/controls",
          "model_name": "ProgressStyleModel",
          "model_module_version": "1.5.0",
          "state": {
            "_view_name": "StyleView",
            "_model_name": "ProgressStyleModel",
            "description_width": "",
            "_view_module": "@jupyter-widgets/base",
            "_model_module_version": "1.5.0",
            "_view_count": null,
            "_view_module_version": "1.2.0",
            "bar_color": null,
            "_model_module": "@jupyter-widgets/controls"
          }
        },
        "9fcbf80b505f47b19586eda228f5e1f5": {
          "model_module": "@jupyter-widgets/base",
          "model_name": "LayoutModel",
          "model_module_version": "1.2.0",
          "state": {
            "_view_name": "LayoutView",
            "grid_template_rows": null,
            "right": null,
            "justify_content": null,
            "_view_module": "@jupyter-widgets/base",
            "overflow": null,
            "_model_module_version": "1.2.0",
            "_view_count": null,
            "flex_flow": null,
            "width": null,
            "min_width": null,
            "border": null,
            "align_items": null,
            "bottom": null,
            "_model_module": "@jupyter-widgets/base",
            "top": null,
            "grid_column": null,
            "overflow_y": null,
            "overflow_x": null,
            "grid_auto_flow": null,
            "grid_area": null,
            "grid_template_columns": null,
            "flex": null,
            "_model_name": "LayoutModel",
            "justify_items": null,
            "grid_row": null,
            "max_height": null,
            "align_content": null,
            "visibility": null,
            "align_self": null,
            "height": null,
            "min_height": null,
            "padding": null,
            "grid_auto_rows": null,
            "grid_gap": null,
            "max_width": null,
            "order": null,
            "_view_module_version": "1.2.0",
            "grid_template_areas": null,
            "object_position": null,
            "object_fit": null,
            "grid_auto_columns": null,
            "margin": null,
            "display": null,
            "left": null
          }
        }
      }
    }
  },
  "nbformat": 4,
  "nbformat_minor": 0
}