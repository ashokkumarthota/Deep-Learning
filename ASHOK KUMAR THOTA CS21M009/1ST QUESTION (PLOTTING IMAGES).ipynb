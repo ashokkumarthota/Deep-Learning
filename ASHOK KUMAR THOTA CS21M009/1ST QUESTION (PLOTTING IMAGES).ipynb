{
  "nbformat": 4,
  "nbformat_minor": 0,
  "metadata": {
    "colab": {
      "name": "DL 1.1.ipynb",
      "provenance": [],
      "collapsed_sections": []
    },
    "kernelspec": {
      "name": "python3",
      "display_name": "Python 3"
    },
    "language_info": {
      "name": "python"
    }
  },
  "cells": [
    {
      "cell_type": "code",
      "execution_count": 1,
      "metadata": {
        "colab": {
          "base_uri": "https://localhost:8080/",
          "height": 1000
        },
        "id": "YJEhKGh_jppI",
        "outputId": "dbda7052-2a77-4f19-b9cf-e8f0d444738b"
      },
      "outputs": [
        {
          "output_type": "stream",
          "name": "stdout",
          "text": [
            "Collecting wandb\n",
            "  Downloading wandb-0.12.10-py2.py3-none-any.whl (1.7 MB)\n",
            "\u001b[?25l\r\u001b[K     |▏                               | 10 kB 27.2 MB/s eta 0:00:01\r\u001b[K     |▍                               | 20 kB 35.9 MB/s eta 0:00:01\r\u001b[K     |▋                               | 30 kB 24.7 MB/s eta 0:00:01\r\u001b[K     |▊                               | 40 kB 13.4 MB/s eta 0:00:01\r\u001b[K     |█                               | 51 kB 12.1 MB/s eta 0:00:01\r\u001b[K     |█▏                              | 61 kB 14.0 MB/s eta 0:00:01\r\u001b[K     |█▍                              | 71 kB 13.4 MB/s eta 0:00:01\r\u001b[K     |█▌                              | 81 kB 13.2 MB/s eta 0:00:01\r\u001b[K     |█▊                              | 92 kB 14.4 MB/s eta 0:00:01\r\u001b[K     |██                              | 102 kB 12.2 MB/s eta 0:00:01\r\u001b[K     |██                              | 112 kB 12.2 MB/s eta 0:00:01\r\u001b[K     |██▎                             | 122 kB 12.2 MB/s eta 0:00:01\r\u001b[K     |██▌                             | 133 kB 12.2 MB/s eta 0:00:01\r\u001b[K     |██▊                             | 143 kB 12.2 MB/s eta 0:00:01\r\u001b[K     |██▉                             | 153 kB 12.2 MB/s eta 0:00:01\r\u001b[K     |███                             | 163 kB 12.2 MB/s eta 0:00:01\r\u001b[K     |███▎                            | 174 kB 12.2 MB/s eta 0:00:01\r\u001b[K     |███▍                            | 184 kB 12.2 MB/s eta 0:00:01\r\u001b[K     |███▋                            | 194 kB 12.2 MB/s eta 0:00:01\r\u001b[K     |███▉                            | 204 kB 12.2 MB/s eta 0:00:01\r\u001b[K     |████                            | 215 kB 12.2 MB/s eta 0:00:01\r\u001b[K     |████▏                           | 225 kB 12.2 MB/s eta 0:00:01\r\u001b[K     |████▍                           | 235 kB 12.2 MB/s eta 0:00:01\r\u001b[K     |████▋                           | 245 kB 12.2 MB/s eta 0:00:01\r\u001b[K     |████▊                           | 256 kB 12.2 MB/s eta 0:00:01\r\u001b[K     |█████                           | 266 kB 12.2 MB/s eta 0:00:01\r\u001b[K     |█████▏                          | 276 kB 12.2 MB/s eta 0:00:01\r\u001b[K     |█████▍                          | 286 kB 12.2 MB/s eta 0:00:01\r\u001b[K     |█████▌                          | 296 kB 12.2 MB/s eta 0:00:01\r\u001b[K     |█████▊                          | 307 kB 12.2 MB/s eta 0:00:01\r\u001b[K     |██████                          | 317 kB 12.2 MB/s eta 0:00:01\r\u001b[K     |██████                          | 327 kB 12.2 MB/s eta 0:00:01\r\u001b[K     |██████▎                         | 337 kB 12.2 MB/s eta 0:00:01\r\u001b[K     |██████▌                         | 348 kB 12.2 MB/s eta 0:00:01\r\u001b[K     |██████▊                         | 358 kB 12.2 MB/s eta 0:00:01\r\u001b[K     |██████▉                         | 368 kB 12.2 MB/s eta 0:00:01\r\u001b[K     |███████                         | 378 kB 12.2 MB/s eta 0:00:01\r\u001b[K     |███████▎                        | 389 kB 12.2 MB/s eta 0:00:01\r\u001b[K     |███████▍                        | 399 kB 12.2 MB/s eta 0:00:01\r\u001b[K     |███████▋                        | 409 kB 12.2 MB/s eta 0:00:01\r\u001b[K     |███████▉                        | 419 kB 12.2 MB/s eta 0:00:01\r\u001b[K     |████████                        | 430 kB 12.2 MB/s eta 0:00:01\r\u001b[K     |████████▏                       | 440 kB 12.2 MB/s eta 0:00:01\r\u001b[K     |████████▍                       | 450 kB 12.2 MB/s eta 0:00:01\r\u001b[K     |████████▋                       | 460 kB 12.2 MB/s eta 0:00:01\r\u001b[K     |████████▊                       | 471 kB 12.2 MB/s eta 0:00:01\r\u001b[K     |█████████                       | 481 kB 12.2 MB/s eta 0:00:01\r\u001b[K     |█████████▏                      | 491 kB 12.2 MB/s eta 0:00:01\r\u001b[K     |█████████▍                      | 501 kB 12.2 MB/s eta 0:00:01\r\u001b[K     |█████████▌                      | 512 kB 12.2 MB/s eta 0:00:01\r\u001b[K     |█████████▊                      | 522 kB 12.2 MB/s eta 0:00:01\r\u001b[K     |██████████                      | 532 kB 12.2 MB/s eta 0:00:01\r\u001b[K     |██████████                      | 542 kB 12.2 MB/s eta 0:00:01\r\u001b[K     |██████████▎                     | 552 kB 12.2 MB/s eta 0:00:01\r\u001b[K     |██████████▌                     | 563 kB 12.2 MB/s eta 0:00:01\r\u001b[K     |██████████▊                     | 573 kB 12.2 MB/s eta 0:00:01\r\u001b[K     |██████████▉                     | 583 kB 12.2 MB/s eta 0:00:01\r\u001b[K     |███████████                     | 593 kB 12.2 MB/s eta 0:00:01\r\u001b[K     |███████████▎                    | 604 kB 12.2 MB/s eta 0:00:01\r\u001b[K     |███████████▍                    | 614 kB 12.2 MB/s eta 0:00:01\r\u001b[K     |███████████▋                    | 624 kB 12.2 MB/s eta 0:00:01\r\u001b[K     |███████████▉                    | 634 kB 12.2 MB/s eta 0:00:01\r\u001b[K     |████████████                    | 645 kB 12.2 MB/s eta 0:00:01\r\u001b[K     |████████████▏                   | 655 kB 12.2 MB/s eta 0:00:01\r\u001b[K     |████████████▍                   | 665 kB 12.2 MB/s eta 0:00:01\r\u001b[K     |████████████▋                   | 675 kB 12.2 MB/s eta 0:00:01\r\u001b[K     |████████████▊                   | 686 kB 12.2 MB/s eta 0:00:01\r\u001b[K     |█████████████                   | 696 kB 12.2 MB/s eta 0:00:01\r\u001b[K     |█████████████▏                  | 706 kB 12.2 MB/s eta 0:00:01\r\u001b[K     |█████████████▍                  | 716 kB 12.2 MB/s eta 0:00:01\r\u001b[K     |█████████████▌                  | 727 kB 12.2 MB/s eta 0:00:01\r\u001b[K     |█████████████▊                  | 737 kB 12.2 MB/s eta 0:00:01\r\u001b[K     |██████████████                  | 747 kB 12.2 MB/s eta 0:00:01\r\u001b[K     |██████████████                  | 757 kB 12.2 MB/s eta 0:00:01\r\u001b[K     |██████████████▎                 | 768 kB 12.2 MB/s eta 0:00:01\r\u001b[K     |██████████████▌                 | 778 kB 12.2 MB/s eta 0:00:01\r\u001b[K     |██████████████▊                 | 788 kB 12.2 MB/s eta 0:00:01\r\u001b[K     |██████████████▉                 | 798 kB 12.2 MB/s eta 0:00:01\r\u001b[K     |███████████████                 | 808 kB 12.2 MB/s eta 0:00:01\r\u001b[K     |███████████████▎                | 819 kB 12.2 MB/s eta 0:00:01\r\u001b[K     |███████████████▍                | 829 kB 12.2 MB/s eta 0:00:01\r\u001b[K     |███████████████▋                | 839 kB 12.2 MB/s eta 0:00:01\r\u001b[K     |███████████████▉                | 849 kB 12.2 MB/s eta 0:00:01\r\u001b[K     |████████████████                | 860 kB 12.2 MB/s eta 0:00:01\r\u001b[K     |████████████████▏               | 870 kB 12.2 MB/s eta 0:00:01\r\u001b[K     |████████████████▍               | 880 kB 12.2 MB/s eta 0:00:01\r\u001b[K     |████████████████▋               | 890 kB 12.2 MB/s eta 0:00:01\r\u001b[K     |████████████████▊               | 901 kB 12.2 MB/s eta 0:00:01\r\u001b[K     |█████████████████               | 911 kB 12.2 MB/s eta 0:00:01\r\u001b[K     |█████████████████▏              | 921 kB 12.2 MB/s eta 0:00:01\r\u001b[K     |█████████████████▍              | 931 kB 12.2 MB/s eta 0:00:01\r\u001b[K     |█████████████████▌              | 942 kB 12.2 MB/s eta 0:00:01\r\u001b[K     |█████████████████▊              | 952 kB 12.2 MB/s eta 0:00:01\r\u001b[K     |██████████████████              | 962 kB 12.2 MB/s eta 0:00:01\r\u001b[K     |██████████████████              | 972 kB 12.2 MB/s eta 0:00:01\r\u001b[K     |██████████████████▎             | 983 kB 12.2 MB/s eta 0:00:01\r\u001b[K     |██████████████████▌             | 993 kB 12.2 MB/s eta 0:00:01\r\u001b[K     |██████████████████▊             | 1.0 MB 12.2 MB/s eta 0:00:01\r\u001b[K     |██████████████████▉             | 1.0 MB 12.2 MB/s eta 0:00:01\r\u001b[K     |███████████████████             | 1.0 MB 12.2 MB/s eta 0:00:01\r\u001b[K     |███████████████████▎            | 1.0 MB 12.2 MB/s eta 0:00:01\r\u001b[K     |███████████████████▍            | 1.0 MB 12.2 MB/s eta 0:00:01\r\u001b[K     |███████████████████▋            | 1.1 MB 12.2 MB/s eta 0:00:01\r\u001b[K     |███████████████████▉            | 1.1 MB 12.2 MB/s eta 0:00:01\r\u001b[K     |████████████████████            | 1.1 MB 12.2 MB/s eta 0:00:01\r\u001b[K     |████████████████████▏           | 1.1 MB 12.2 MB/s eta 0:00:01\r\u001b[K     |████████████████████▍           | 1.1 MB 12.2 MB/s eta 0:00:01\r\u001b[K     |████████████████████▋           | 1.1 MB 12.2 MB/s eta 0:00:01\r\u001b[K     |████████████████████▊           | 1.1 MB 12.2 MB/s eta 0:00:01\r\u001b[K     |█████████████████████           | 1.1 MB 12.2 MB/s eta 0:00:01\r\u001b[K     |█████████████████████▏          | 1.1 MB 12.2 MB/s eta 0:00:01\r\u001b[K     |█████████████████████▍          | 1.1 MB 12.2 MB/s eta 0:00:01\r\u001b[K     |█████████████████████▌          | 1.2 MB 12.2 MB/s eta 0:00:01\r\u001b[K     |█████████████████████▊          | 1.2 MB 12.2 MB/s eta 0:00:01\r\u001b[K     |██████████████████████          | 1.2 MB 12.2 MB/s eta 0:00:01\r\u001b[K     |██████████████████████          | 1.2 MB 12.2 MB/s eta 0:00:01\r\u001b[K     |██████████████████████▎         | 1.2 MB 12.2 MB/s eta 0:00:01\r\u001b[K     |██████████████████████▌         | 1.2 MB 12.2 MB/s eta 0:00:01\r\u001b[K     |██████████████████████▊         | 1.2 MB 12.2 MB/s eta 0:00:01\r\u001b[K     |██████████████████████▉         | 1.2 MB 12.2 MB/s eta 0:00:01\r\u001b[K     |███████████████████████         | 1.2 MB 12.2 MB/s eta 0:00:01\r\u001b[K     |███████████████████████▎        | 1.2 MB 12.2 MB/s eta 0:00:01\r\u001b[K     |███████████████████████▍        | 1.3 MB 12.2 MB/s eta 0:00:01\r\u001b[K     |███████████████████████▋        | 1.3 MB 12.2 MB/s eta 0:00:01\r\u001b[K     |███████████████████████▉        | 1.3 MB 12.2 MB/s eta 0:00:01\r\u001b[K     |████████████████████████        | 1.3 MB 12.2 MB/s eta 0:00:01\r\u001b[K     |████████████████████████▏       | 1.3 MB 12.2 MB/s eta 0:00:01\r\u001b[K     |████████████████████████▍       | 1.3 MB 12.2 MB/s eta 0:00:01\r\u001b[K     |████████████████████████▋       | 1.3 MB 12.2 MB/s eta 0:00:01\r\u001b[K     |████████████████████████▊       | 1.3 MB 12.2 MB/s eta 0:00:01\r\u001b[K     |█████████████████████████       | 1.3 MB 12.2 MB/s eta 0:00:01\r\u001b[K     |█████████████████████████▏      | 1.4 MB 12.2 MB/s eta 0:00:01\r\u001b[K     |█████████████████████████▍      | 1.4 MB 12.2 MB/s eta 0:00:01\r\u001b[K     |█████████████████████████▌      | 1.4 MB 12.2 MB/s eta 0:00:01\r\u001b[K     |█████████████████████████▊      | 1.4 MB 12.2 MB/s eta 0:00:01\r\u001b[K     |██████████████████████████      | 1.4 MB 12.2 MB/s eta 0:00:01\r\u001b[K     |██████████████████████████▏     | 1.4 MB 12.2 MB/s eta 0:00:01\r\u001b[K     |██████████████████████████▎     | 1.4 MB 12.2 MB/s eta 0:00:01\r\u001b[K     |██████████████████████████▌     | 1.4 MB 12.2 MB/s eta 0:00:01\r\u001b[K     |██████████████████████████▊     | 1.4 MB 12.2 MB/s eta 0:00:01\r\u001b[K     |██████████████████████████▉     | 1.4 MB 12.2 MB/s eta 0:00:01\r\u001b[K     |███████████████████████████     | 1.5 MB 12.2 MB/s eta 0:00:01\r\u001b[K     |███████████████████████████▎    | 1.5 MB 12.2 MB/s eta 0:00:01\r\u001b[K     |███████████████████████████▌    | 1.5 MB 12.2 MB/s eta 0:00:01\r\u001b[K     |███████████████████████████▋    | 1.5 MB 12.2 MB/s eta 0:00:01\r\u001b[K     |███████████████████████████▉    | 1.5 MB 12.2 MB/s eta 0:00:01\r\u001b[K     |████████████████████████████    | 1.5 MB 12.2 MB/s eta 0:00:01\r\u001b[K     |████████████████████████████▏   | 1.5 MB 12.2 MB/s eta 0:00:01\r\u001b[K     |████████████████████████████▍   | 1.5 MB 12.2 MB/s eta 0:00:01\r\u001b[K     |████████████████████████████▋   | 1.5 MB 12.2 MB/s eta 0:00:01\r\u001b[K     |████████████████████████████▉   | 1.5 MB 12.2 MB/s eta 0:00:01\r\u001b[K     |█████████████████████████████   | 1.6 MB 12.2 MB/s eta 0:00:01\r\u001b[K     |█████████████████████████████▏  | 1.6 MB 12.2 MB/s eta 0:00:01\r\u001b[K     |█████████████████████████████▍  | 1.6 MB 12.2 MB/s eta 0:00:01\r\u001b[K     |█████████████████████████████▌  | 1.6 MB 12.2 MB/s eta 0:00:01\r\u001b[K     |█████████████████████████████▊  | 1.6 MB 12.2 MB/s eta 0:00:01\r\u001b[K     |██████████████████████████████  | 1.6 MB 12.2 MB/s eta 0:00:01\r\u001b[K     |██████████████████████████████▏ | 1.6 MB 12.2 MB/s eta 0:00:01\r\u001b[K     |██████████████████████████████▎ | 1.6 MB 12.2 MB/s eta 0:00:01\r\u001b[K     |██████████████████████████████▌ | 1.6 MB 12.2 MB/s eta 0:00:01\r\u001b[K     |██████████████████████████████▊ | 1.6 MB 12.2 MB/s eta 0:00:01\r\u001b[K     |██████████████████████████████▉ | 1.7 MB 12.2 MB/s eta 0:00:01\r\u001b[K     |███████████████████████████████ | 1.7 MB 12.2 MB/s eta 0:00:01\r\u001b[K     |███████████████████████████████▎| 1.7 MB 12.2 MB/s eta 0:00:01\r\u001b[K     |███████████████████████████████▌| 1.7 MB 12.2 MB/s eta 0:00:01\r\u001b[K     |███████████████████████████████▋| 1.7 MB 12.2 MB/s eta 0:00:01\r\u001b[K     |███████████████████████████████▉| 1.7 MB 12.2 MB/s eta 0:00:01\r\u001b[K     |████████████████████████████████| 1.7 MB 12.2 MB/s \n",
            "\u001b[?25hRequirement already satisfied: python-dateutil>=2.6.1 in /usr/local/lib/python3.7/dist-packages (from wandb) (2.8.2)\n",
            "Requirement already satisfied: requests<3,>=2.0.0 in /usr/local/lib/python3.7/dist-packages (from wandb) (2.23.0)\n",
            "Collecting GitPython>=1.0.0\n",
            "  Downloading GitPython-3.1.27-py3-none-any.whl (181 kB)\n",
            "\u001b[K     |████████████████████████████████| 181 kB 67.3 MB/s \n",
            "\u001b[?25hCollecting yaspin>=1.0.0\n",
            "  Downloading yaspin-2.1.0-py3-none-any.whl (18 kB)\n",
            "Collecting shortuuid>=0.5.0\n",
            "  Downloading shortuuid-1.0.8-py3-none-any.whl (9.5 kB)\n",
            "Requirement already satisfied: six>=1.13.0 in /usr/local/lib/python3.7/dist-packages (from wandb) (1.15.0)\n",
            "Collecting docker-pycreds>=0.4.0\n",
            "  Downloading docker_pycreds-0.4.0-py2.py3-none-any.whl (9.0 kB)\n",
            "Requirement already satisfied: protobuf>=3.12.0 in /usr/local/lib/python3.7/dist-packages (from wandb) (3.17.3)\n",
            "Requirement already satisfied: PyYAML in /usr/local/lib/python3.7/dist-packages (from wandb) (3.13)\n",
            "Requirement already satisfied: promise<3,>=2.0 in /usr/local/lib/python3.7/dist-packages (from wandb) (2.3)\n",
            "Collecting pathtools\n",
            "  Downloading pathtools-0.1.2.tar.gz (11 kB)\n",
            "Requirement already satisfied: Click!=8.0.0,>=7.0 in /usr/local/lib/python3.7/dist-packages (from wandb) (7.1.2)\n",
            "Requirement already satisfied: psutil>=5.0.0 in /usr/local/lib/python3.7/dist-packages (from wandb) (5.4.8)\n",
            "Collecting sentry-sdk>=1.0.0\n",
            "  Downloading sentry_sdk-1.5.5-py2.py3-none-any.whl (144 kB)\n",
            "\u001b[K     |████████████████████████████████| 144 kB 87.7 MB/s \n",
            "\u001b[?25hRequirement already satisfied: typing-extensions>=3.7.4.3 in /usr/local/lib/python3.7/dist-packages (from GitPython>=1.0.0->wandb) (3.10.0.2)\n",
            "Collecting gitdb<5,>=4.0.1\n",
            "  Downloading gitdb-4.0.9-py3-none-any.whl (63 kB)\n",
            "\u001b[K     |████████████████████████████████| 63 kB 1.4 MB/s \n",
            "\u001b[?25hCollecting smmap<6,>=3.0.1\n",
            "  Downloading smmap-5.0.0-py3-none-any.whl (24 kB)\n",
            "Requirement already satisfied: certifi>=2017.4.17 in /usr/local/lib/python3.7/dist-packages (from requests<3,>=2.0.0->wandb) (2021.10.8)\n",
            "Requirement already satisfied: chardet<4,>=3.0.2 in /usr/local/lib/python3.7/dist-packages (from requests<3,>=2.0.0->wandb) (3.0.4)\n",
            "Requirement already satisfied: idna<3,>=2.5 in /usr/local/lib/python3.7/dist-packages (from requests<3,>=2.0.0->wandb) (2.10)\n",
            "Requirement already satisfied: urllib3!=1.25.0,!=1.25.1,<1.26,>=1.21.1 in /usr/local/lib/python3.7/dist-packages (from requests<3,>=2.0.0->wandb) (1.24.3)\n",
            "Requirement already satisfied: termcolor<2.0.0,>=1.1.0 in /usr/local/lib/python3.7/dist-packages (from yaspin>=1.0.0->wandb) (1.1.0)\n",
            "Building wheels for collected packages: pathtools\n",
            "  Building wheel for pathtools (setup.py) ... \u001b[?25l\u001b[?25hdone\n",
            "  Created wheel for pathtools: filename=pathtools-0.1.2-py3-none-any.whl size=8806 sha256=1d3e50b5e668ae2a364023829b5118b2cbda22bb1e298e5647c07deb037166af\n",
            "  Stored in directory: /root/.cache/pip/wheels/3e/31/09/fa59cef12cdcfecc627b3d24273699f390e71828921b2cbba2\n",
            "Successfully built pathtools\n",
            "Installing collected packages: smmap, gitdb, yaspin, shortuuid, sentry-sdk, pathtools, GitPython, docker-pycreds, wandb\n",
            "Successfully installed GitPython-3.1.27 docker-pycreds-0.4.0 gitdb-4.0.9 pathtools-0.1.2 sentry-sdk-1.5.5 shortuuid-1.0.8 smmap-5.0.0 wandb-0.12.10 yaspin-2.1.0\n"
          ]
        },
        {
          "output_type": "display_data",
          "data": {
            "application/javascript": [
              "\n",
              "        window._wandbApiKey = new Promise((resolve, reject) => {\n",
              "            function loadScript(url) {\n",
              "            return new Promise(function(resolve, reject) {\n",
              "                let newScript = document.createElement(\"script\");\n",
              "                newScript.onerror = reject;\n",
              "                newScript.onload = resolve;\n",
              "                document.body.appendChild(newScript);\n",
              "                newScript.src = url;\n",
              "            });\n",
              "            }\n",
              "            loadScript(\"https://cdn.jsdelivr.net/npm/postmate/build/postmate.min.js\").then(() => {\n",
              "            const iframe = document.createElement('iframe')\n",
              "            iframe.style.cssText = \"width:0;height:0;border:none\"\n",
              "            document.body.appendChild(iframe)\n",
              "            const handshake = new Postmate({\n",
              "                container: iframe,\n",
              "                url: 'https://wandb.ai/authorize'\n",
              "            });\n",
              "            const timeout = setTimeout(() => reject(\"Couldn't auto authenticate\"), 5000)\n",
              "            handshake.then(function(child) {\n",
              "                child.on('authorize', data => {\n",
              "                    clearTimeout(timeout)\n",
              "                    resolve(data)\n",
              "                });\n",
              "            });\n",
              "            })\n",
              "        });\n",
              "    "
            ],
            "text/plain": [
              "<IPython.core.display.Javascript object>"
            ]
          },
          "metadata": {}
        },
        {
          "output_type": "stream",
          "name": "stderr",
          "text": [
            "\u001b[34m\u001b[1mwandb\u001b[0m: You can find your API key in your browser here: https://wandb.ai/authorize\n"
          ]
        },
        {
          "name": "stdout",
          "output_type": "stream",
          "text": [
            "wandb: Paste an API key from your profile and hit enter, or press ctrl+c to quit: ··········\n"
          ]
        },
        {
          "output_type": "stream",
          "name": "stderr",
          "text": [
            "\u001b[34m\u001b[1mwandb\u001b[0m: Appending key for api.wandb.ai to your netrc file: /root/.netrc\n",
            "\u001b[34m\u001b[1mwandb\u001b[0m: Currently logged in as: \u001b[33m026-and-009\u001b[0m (use `wandb login --relogin` to force relogin)\n"
          ]
        },
        {
          "output_type": "display_data",
          "data": {
            "text/html": [
              "\n",
              "                    Syncing run <strong><a href=\"https://wandb.ai/cs21m009/DL%201.1/runs/3stva62o\" target=\"_blank\">plotting_images</a></strong> to <a href=\"https://wandb.ai/cs21m009/DL%201.1\" target=\"_blank\">Weights & Biases</a> (<a href=\"https://docs.wandb.com/integrations/jupyter.html\" target=\"_blank\">docs</a>).<br/>\n",
              "\n",
              "                "
            ],
            "text/plain": [
              "<IPython.core.display.HTML object>"
            ]
          },
          "metadata": {}
        },
        {
          "output_type": "stream",
          "name": "stdout",
          "text": [
            "Downloading data from https://storage.googleapis.com/tensorflow/tf-keras-datasets/train-labels-idx1-ubyte.gz\n",
            "32768/29515 [=================================] - 0s 0us/step\n",
            "40960/29515 [=========================================] - 0s 0us/step\n",
            "Downloading data from https://storage.googleapis.com/tensorflow/tf-keras-datasets/train-images-idx3-ubyte.gz\n",
            "26427392/26421880 [==============================] - 0s 0us/step\n",
            "26435584/26421880 [==============================] - 0s 0us/step\n",
            "Downloading data from https://storage.googleapis.com/tensorflow/tf-keras-datasets/t10k-labels-idx1-ubyte.gz\n",
            "16384/5148 [===============================================================================================] - 0s 0us/step\n",
            "Downloading data from https://storage.googleapis.com/tensorflow/tf-keras-datasets/t10k-images-idx3-ubyte.gz\n",
            "4423680/4422102 [==============================] - 0s 0us/step\n",
            "4431872/4422102 [==============================] - 0s 0us/step\n"
          ]
        }
      ],
      "source": [
        "!pip install wandb\n",
        "import numpy as np\n",
        "import wandb\n",
        "from keras.datasets import fashion_mnist\n",
        "wandb.login()\n",
        "wandb.init(project=\"DL 1.1\", entity=\"cs21m009\",name='plotting_images')\n",
        "(x_train,y_train),(x_test,y_test)=fashion_mnist.load_data()\n",
        "names = ['T-shirt/top','Trouser','Pullover','Dress','Coat','Sandal','Shirt','Sneaker','Bag','Ankle','boot']\n",
        "images=[]\n",
        "labels=[]\n",
        "for i in range(len(x_train)):\n",
        "    if len(labels)==10:\n",
        "        break\n",
        "    if names[y_train[i]] not in labels:\n",
        "        images.append(x_train[i])\n",
        "        labels.append(names[y_train[i]])\n",
        "wandb.log({\"Photos \":[wandb.Image(img, caption=caption) for img,caption in zip(images,labels)]})"
      ]
    },
    {
      "cell_type": "code",
      "source": [
        ""
      ],
      "metadata": {
        "id": "fquWTkJBjvOA"
      },
      "execution_count": null,
      "outputs": []
    }
  ]
}