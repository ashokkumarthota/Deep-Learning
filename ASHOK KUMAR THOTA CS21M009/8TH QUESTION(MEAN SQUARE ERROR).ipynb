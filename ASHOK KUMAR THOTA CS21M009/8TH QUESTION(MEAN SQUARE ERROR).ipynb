{
  "cells": [
    {
      "cell_type": "markdown",
      "metadata": {
        "id": "ieGdgnLcDJYv"
      },
      "source": [
        "## Required Packages"
      ]
    },
    {
      "cell_type": "code",
      "execution_count": 1,
      "metadata": {
        "id": "mhx7ACF64r1J"
      },
      "outputs": [],
      "source": [
        "#Real Code\n",
        "import numpy as np\n",
        "from keras.datasets import fashion_mnist\n",
        "import matplotlib.pyplot as plt\n",
        "import pandas as pd\n",
        "from sklearn.model_selection import train_test_split\n",
        "from sklearn.metrics import accuracy_score, mean_squared_error\n",
        "from tqdm import tqdm_notebook \n",
        "from sklearn.preprocessing import OneHotEncoder\n",
        "from numpy.linalg import norm"
      ]
    },
    {
      "cell_type": "markdown",
      "metadata": {
        "id": "3uRBEDbEDQ7e"
      },
      "source": [
        "## Setting random seed"
      ]
    },
    {
      "cell_type": "code",
      "execution_count": 2,
      "metadata": {
        "id": "PZkuZF9tO1nP"
      },
      "outputs": [],
      "source": [
        "np.random.seed(0)"
      ]
    },
    {
      "cell_type": "markdown",
      "metadata": {
        "id": "VJ5EAI99DVG8"
      },
      "source": [
        "## Splitting and Normalising"
      ]
    },
    {
      "cell_type": "code",
      "execution_count": 3,
      "metadata": {
        "colab": {
          "base_uri": "https://localhost:8080/"
        },
        "id": "CPhLysrE4yXL",
        "outputId": "4b689883-bb1c-4f68-e937-da7983b66ee2"
      },
      "outputs": [
        {
          "name": "stdout",
          "output_type": "stream",
          "text": [
            "Downloading data from https://storage.googleapis.com/tensorflow/tf-keras-datasets/train-labels-idx1-ubyte.gz\n",
            "32768/29515 [=================================] - 0s 0us/step\n",
            "40960/29515 [=========================================] - 0s 0us/step\n",
            "Downloading data from https://storage.googleapis.com/tensorflow/tf-keras-datasets/train-images-idx3-ubyte.gz\n",
            "26427392/26421880 [==============================] - 0s 0us/step\n",
            "26435584/26421880 [==============================] - 0s 0us/step\n",
            "Downloading data from https://storage.googleapis.com/tensorflow/tf-keras-datasets/t10k-labels-idx1-ubyte.gz\n",
            "16384/5148 [===============================================================================================] - 0s 0us/step\n",
            "Downloading data from https://storage.googleapis.com/tensorflow/tf-keras-datasets/t10k-images-idx3-ubyte.gz\n",
            "4423680/4422102 [==============================] - 0s 0us/step\n",
            "4431872/4422102 [==============================] - 0s 0us/step\n",
            "(60000, 28, 28) (10000, 28, 28) (60000,) (10000,) <class 'numpy.ndarray'> [0. 0. 0. 0. 0. 0. 0. 0. 0. 0. 0. 0. 0. 0. 0. 0. 0. 0. 0. 0. 0. 0. 0. 0.\n",
            " 0. 0. 0. 0.]\n",
            "(60000, 784) (10000, 784) (60000,) (10000,) <class 'numpy.float64'> 0.0\n"
          ]
        }
      ],
      "source": [
        "(x_train,y_train),(x_val,y_val)=fashion_mnist.load_data()\n",
        "x_train = x_train.astype('float')/ 255.0\n",
        "x_val = x_val.astype('float')/ 255.0\n",
        "print(x_train.shape, x_val.shape,y_train.shape,y_val.shape,type(x_train[0][0]),x_train[0][0])\n",
        "x_train = x_train.reshape(60000,784)\n",
        "x_val = x_val.reshape(10000,784)\n",
        "print(x_train.shape, x_val.shape,y_train.shape,y_val.shape,type(x_train[0][0]),x_train[0][0])"
      ]
    },
    {
      "cell_type": "markdown",
      "metadata": {
        "id": "whMSoRgmDamG"
      },
      "source": [
        "## 10% for testing from training data"
      ]
    },
    {
      "cell_type": "code",
      "execution_count": 4,
      "metadata": {
        "colab": {
          "base_uri": "https://localhost:8080/"
        },
        "id": "6qcOe9ME-E1O",
        "outputId": "3453f948-5dd8-44f2-9df3-bf9dde300678"
      },
      "outputs": [
        {
          "name": "stdout",
          "output_type": "stream",
          "text": [
            "(54000, 784) (6000, 784) (54000,) (6000,) <class 'numpy.float64'> 0.0\n"
          ]
        }
      ],
      "source": [
        "x_train, x_test, y_train, y_test = train_test_split(x_train, y_train, test_size=0.1,stratify=y_train, random_state=0)\n",
        "print(x_train.shape, x_test.shape,y_train.shape,y_test.shape,type(x_train[0][0]),x_train[0][0])"
      ]
    },
    {
      "cell_type": "code",
      "execution_count": 5,
      "metadata": {
        "colab": {
          "base_uri": "https://localhost:8080/"
        },
        "id": "2yE0CD9lekr4",
        "outputId": "1e013080-cf03-4b45-92f9-9f8b2f3ada9d"
      },
      "outputs": [
        {
          "name": "stdout",
          "output_type": "stream",
          "text": [
            "float64\n"
          ]
        }
      ],
      "source": [
        "print(x_train.dtype) #arr = arr.astype('float128')"
      ]
    },
    {
      "cell_type": "markdown",
      "metadata": {
        "id": "8m2jEJWgDlSa"
      },
      "source": [
        "## One Hot Encoding"
      ]
    },
    {
      "cell_type": "code",
      "execution_count": 6,
      "metadata": {
        "colab": {
          "base_uri": "https://localhost:8080/"
        },
        "id": "L91K_2Yt40Wq",
        "outputId": "95d234cf-7331-4426-8b90-17c2ab255863"
      },
      "outputs": [
        {
          "name": "stdout",
          "output_type": "stream",
          "text": [
            "(54000, 10) (6000, 10)\n"
          ]
        }
      ],
      "source": [
        "enc = OneHotEncoder()\n",
        "# 0 -> (1, 0, 0, 0), 1 -> (0, 1, 0, 0), 2 -> (0, 0, 1, 0), 3 -> (0, 0, 0, 1)\n",
        "y_OH_train = enc.fit_transform(np.expand_dims(y_train,1)).toarray()\n",
        "y_OH_val = enc.fit_transform(np.expand_dims(y_test,1)).toarray()\n",
        "print(y_OH_train.shape, y_OH_val.shape)"
      ]
    },
    {
      "cell_type": "markdown",
      "metadata": {
        "id": "uadXKvvRDpwk"
      },
      "source": [
        "## Wandb Configuration"
      ]
    },
    {
      "cell_type": "code",
      "execution_count": 7,
      "metadata": {
        "colab": {
          "base_uri": "https://localhost:8080/",
          "height": 881
        },
        "id": "uzfvtWfX5uCj",
        "outputId": "31069a5d-9a33-42c8-ca2e-c504d4de6f11"
      },
      "outputs": [
        {
          "name": "stdout",
          "output_type": "stream",
          "text": [
            "Collecting wandb\n",
            "  Downloading wandb-0.12.10-py2.py3-none-any.whl (1.7 MB)\n",
            "\u001b[K     |████████████████████████████████| 1.7 MB 4.1 MB/s \n",
            "\u001b[?25hCollecting sentry-sdk>=1.0.0\n",
            "  Downloading sentry_sdk-1.5.6-py2.py3-none-any.whl (144 kB)\n",
            "\u001b[K     |████████████████████████████████| 144 kB 50.8 MB/s \n",
            "\u001b[?25hCollecting yaspin>=1.0.0\n",
            "  Downloading yaspin-2.1.0-py3-none-any.whl (18 kB)\n",
            "Requirement already satisfied: python-dateutil>=2.6.1 in /usr/local/lib/python3.7/dist-packages (from wandb) (2.8.2)\n",
            "Requirement already satisfied: six>=1.13.0 in /usr/local/lib/python3.7/dist-packages (from wandb) (1.15.0)\n",
            "Requirement already satisfied: requests<3,>=2.0.0 in /usr/local/lib/python3.7/dist-packages (from wandb) (2.23.0)\n",
            "Collecting GitPython>=1.0.0\n",
            "  Downloading GitPython-3.1.27-py3-none-any.whl (181 kB)\n",
            "\u001b[K     |████████████████████████████████| 181 kB 58.4 MB/s \n",
            "\u001b[?25hRequirement already satisfied: Click!=8.0.0,>=7.0 in /usr/local/lib/python3.7/dist-packages (from wandb) (7.1.2)\n",
            "Collecting shortuuid>=0.5.0\n",
            "  Downloading shortuuid-1.0.8-py3-none-any.whl (9.5 kB)\n",
            "Requirement already satisfied: protobuf>=3.12.0 in /usr/local/lib/python3.7/dist-packages (from wandb) (3.17.3)\n",
            "Collecting pathtools\n",
            "  Downloading pathtools-0.1.2.tar.gz (11 kB)\n",
            "Requirement already satisfied: psutil>=5.0.0 in /usr/local/lib/python3.7/dist-packages (from wandb) (5.4.8)\n",
            "Requirement already satisfied: PyYAML in /usr/local/lib/python3.7/dist-packages (from wandb) (3.13)\n",
            "Collecting docker-pycreds>=0.4.0\n",
            "  Downloading docker_pycreds-0.4.0-py2.py3-none-any.whl (9.0 kB)\n",
            "Requirement already satisfied: promise<3,>=2.0 in /usr/local/lib/python3.7/dist-packages (from wandb) (2.3)\n",
            "Requirement already satisfied: typing-extensions>=3.7.4.3 in /usr/local/lib/python3.7/dist-packages (from GitPython>=1.0.0->wandb) (3.10.0.2)\n",
            "Collecting gitdb<5,>=4.0.1\n",
            "  Downloading gitdb-4.0.9-py3-none-any.whl (63 kB)\n",
            "\u001b[K     |████████████████████████████████| 63 kB 2.0 MB/s \n",
            "\u001b[?25hCollecting smmap<6,>=3.0.1\n",
            "  Downloading smmap-5.0.0-py3-none-any.whl (24 kB)\n",
            "Requirement already satisfied: chardet<4,>=3.0.2 in /usr/local/lib/python3.7/dist-packages (from requests<3,>=2.0.0->wandb) (3.0.4)\n",
            "Requirement already satisfied: idna<3,>=2.5 in /usr/local/lib/python3.7/dist-packages (from requests<3,>=2.0.0->wandb) (2.10)\n",
            "Requirement already satisfied: urllib3!=1.25.0,!=1.25.1,<1.26,>=1.21.1 in /usr/local/lib/python3.7/dist-packages (from requests<3,>=2.0.0->wandb) (1.24.3)\n",
            "Requirement already satisfied: certifi>=2017.4.17 in /usr/local/lib/python3.7/dist-packages (from requests<3,>=2.0.0->wandb) (2021.10.8)\n",
            "Requirement already satisfied: termcolor<2.0.0,>=1.1.0 in /usr/local/lib/python3.7/dist-packages (from yaspin>=1.0.0->wandb) (1.1.0)\n",
            "Building wheels for collected packages: pathtools\n",
            "  Building wheel for pathtools (setup.py) ... \u001b[?25l\u001b[?25hdone\n",
            "  Created wheel for pathtools: filename=pathtools-0.1.2-py3-none-any.whl size=8806 sha256=2bb84ad0f01f53a342e17e1287e67216837d09b995fb385c7baf01cdb387cbe6\n",
            "  Stored in directory: /root/.cache/pip/wheels/3e/31/09/fa59cef12cdcfecc627b3d24273699f390e71828921b2cbba2\n",
            "Successfully built pathtools\n",
            "Installing collected packages: smmap, gitdb, yaspin, shortuuid, sentry-sdk, pathtools, GitPython, docker-pycreds, wandb\n",
            "Successfully installed GitPython-3.1.27 docker-pycreds-0.4.0 gitdb-4.0.9 pathtools-0.1.2 sentry-sdk-1.5.6 shortuuid-1.0.8 smmap-5.0.0 wandb-0.12.10 yaspin-2.1.0\n"
          ]
        },
        {
          "data": {
            "application/javascript": "\n        window._wandbApiKey = new Promise((resolve, reject) => {\n            function loadScript(url) {\n            return new Promise(function(resolve, reject) {\n                let newScript = document.createElement(\"script\");\n                newScript.onerror = reject;\n                newScript.onload = resolve;\n                document.body.appendChild(newScript);\n                newScript.src = url;\n            });\n            }\n            loadScript(\"https://cdn.jsdelivr.net/npm/postmate/build/postmate.min.js\").then(() => {\n            const iframe = document.createElement('iframe')\n            iframe.style.cssText = \"width:0;height:0;border:none\"\n            document.body.appendChild(iframe)\n            const handshake = new Postmate({\n                container: iframe,\n                url: 'https://wandb.ai/authorize'\n            });\n            const timeout = setTimeout(() => reject(\"Couldn't auto authenticate\"), 5000)\n            handshake.then(function(child) {\n                child.on('authorize', data => {\n                    clearTimeout(timeout)\n                    resolve(data)\n                });\n            });\n            })\n        });\n    ",
            "text/plain": [
              "<IPython.core.display.Javascript object>"
            ]
          },
          "metadata": {},
          "output_type": "display_data"
        },
        {
          "name": "stderr",
          "output_type": "stream",
          "text": [
            "\u001b[34m\u001b[1mwandb\u001b[0m: Appending key for api.wandb.ai to your netrc file: /root/.netrc\n"
          ]
        },
        {
          "data": {
            "text/plain": [
              "True"
            ]
          },
          "execution_count": 7,
          "metadata": {},
          "output_type": "execute_result"
        }
      ],
      "source": [
        "!pip install wandb --upgrade\n",
        "import wandb\n",
        "wandb.login()"
      ]
    },
    {
      "cell_type": "markdown",
      "metadata": {
        "id": "wGua_Q-xDuRm"
      },
      "source": [
        "## sweep configuration"
      ]
    },
    {
      "cell_type": "code",
      "execution_count": 17,
      "metadata": {
        "id": "haCcBWa952Yq"
      },
      "outputs": [],
      "source": [
        "# These are the parameters for whch the model is giving 91.6 accuracy with cross entropy loss funcion\n",
        "sweep_config = {\n",
        "    'method': 'grid',\n",
        "    'metric' : {\n",
        "    'name': 'accuracy',\n",
        "    'goal': 'maximize'   \n",
        "    },\n",
        "    'parameters' : {\n",
        "        'epochs' : {\n",
        "            'values' : [10]\n",
        "        },\n",
        "        'batch_size' : {\n",
        "            'values' : [128]\n",
        "        },\n",
        "        'optimizer' : {\n",
        "            'values' : ['Nadam']\n",
        "        },\n",
        "        'learing_rate' : {\n",
        "            'values' : [0.0005]\n",
        "        },\n",
        "        'weight_initialisation' : {\n",
        "            'values' : ['he']\n",
        "        },\n",
        "        'activation_functions' : {\n",
        "            'values' : ['sigmoid']\n",
        "        },\n",
        "        'weight_decay' : {\n",
        "            'values' : [0.0005]\n",
        "        },\n",
        "        'noof_hidden' : {\n",
        "            'values' : [3]\n",
        "        },\n",
        "        'size_of_every_hidden' : {\n",
        "            'values' : [128]\n",
        "        }\n",
        "    }\n",
        "}"
      ]
    },
    {
      "cell_type": "code",
      "execution_count": 18,
      "metadata": {
        "colab": {
          "base_uri": "https://localhost:8080/"
        },
        "id": "OyizsYkN6hbZ",
        "outputId": "c9110fc7-2288-45fa-8e77-a4287d1e51b4"
      },
      "outputs": [
        {
          "name": "stdout",
          "output_type": "stream",
          "text": [
            "Create sweep with ID: 952a8v45\n",
            "Sweep URL: https://wandb.ai/cs21m009/DL%201.1%20mse/sweeps/952a8v45\n"
          ]
        }
      ],
      "source": [
        "sweep_id = wandb.sweep(sweep_config, project=\"DL 1.1 mse\")"
      ]
    },
    {
      "cell_type": "code",
      "execution_count": 19,
      "metadata": {
        "id": "PTcJFnLf42iK"
      },
      "outputs": [],
      "source": [
        "class FFSN_MultiClass:\n",
        "  \n",
        "  def __init__(self, n_inputs, n_outputs, noof_hidden, size_of_every_hidden, \n",
        "               init_method = 'random', activation_function = 'sigmoid'):\n",
        "    hidden_sizes=[]\n",
        "    for i in range(noof_hidden):\n",
        "        hidden_sizes.append(size_of_every_hidden)\n",
        "    self.nx = n_inputs\n",
        "    self.ny = n_outputs\n",
        "    self.nh = len(hidden_sizes)\n",
        "    self.sizes = [self.nx] + hidden_sizes + [self.ny]\n",
        "    self.activation_function = activation_function\n",
        "\n",
        "    self.W = {}\n",
        "    self.B = {}\n",
        "    np.random.seed(0)\n",
        "\n",
        "    if init_method == \"random\":\n",
        "      for i in range(self.nh+1):\n",
        "        self.W[i+1] = np.random.randn(self.sizes[i], self.sizes[i+1])\n",
        "        self.B[i+1] = np.random.randn(1, self.sizes[i+1])\n",
        "    elif init_method == \"xavier\":\n",
        "      for i in range(self.nh+1):\n",
        "        self.W[i+1] = np.random.randn(self.sizes[i], self.sizes[i+1])*np.sqrt(1/self.sizes[i])\n",
        "        self.B[i+1] = np.random.randn(1, self.sizes[i+1])\n",
        "    elif init_method == \"he\":\n",
        "      for i in range(self.nh+1):\n",
        "        self.W[i+1] = np.random.randn(self.sizes[i], self.sizes[i+1])*np.sqrt(2/self.sizes[i])\n",
        "        self.B[i+1] = np.random.randn(1, self.sizes[i+1])\n",
        "\n",
        "  def forward_activation(self, X): \n",
        "    if self.activation_function == \"sigmoid\":\n",
        "      return 1.0/(1.0 + np.exp(-X))\n",
        "    elif self.activation_function == \"tanh\":\n",
        "      return np.tanh(X)\n",
        "    elif self.activation_function == \"relu\":\n",
        "      return np.maximum(0,X)\n",
        "    elif self.activation_function == \"leaky_relu\":\n",
        "      return np.maximum(self.leaky_slope*X,X)\n",
        "      \n",
        "  def grad_activation(self, X):\n",
        "    if self.activation_function == \"sigmoid\":\n",
        "      return X*(1-X) \n",
        "    elif self.activation_function == \"tanh\":\n",
        "      return (1-np.square(X))\n",
        "    elif self.activation_function == \"relu\":\n",
        "      return 1.0*(X>0)\n",
        "    elif self.activation_function == \"leaky_relu\":\n",
        "      d=np.zeros_like(X)\n",
        "      d[X<=0]=self.leaky_slope\n",
        "      d[X>0]=1\n",
        "      return d\n",
        "  \n",
        "  def softmax(self, x):\n",
        "    exps = np.exp(x)\n",
        "    return exps / np.sum(exps, axis=1).reshape(-1,1) \n",
        "\n",
        "  def forward_pass(self, x):\n",
        "    self.A = {}\n",
        "    self.H = {}\n",
        "    self.H[0] = x\n",
        "    for i in range(self.nh):\n",
        "      self.A[i+1] = np.matmul(self.H[i], self.W[i+1]) + self.B[i+1]\n",
        "      self.H[i+1] = self.forward_activation(self.A[i+1])\n",
        "    self.A[self.nh+1] = np.matmul(self.H[self.nh], self.W[self.nh+1]) + self.B[self.nh+1]\n",
        "    self.H[self.nh+1] = self.forward_activation(self.A[self.nh+1])\n",
        "    return self.H[self.nh+1]\n",
        "  \n",
        "  def predict(self, X):\n",
        "    Y_pred = []\n",
        "    for x in X:\n",
        "      y_pred = self.forward_pass(x)\n",
        "      Y_pred.append(y_pred)\n",
        "    return np.array(Y_pred).squeeze()\n",
        "  \n",
        "  def cross_entropy(self,label,pred):\n",
        "    yl=np.multiply(pred,label)\n",
        "    yl=yl[yl!=0]\n",
        "    yl=-np.log(yl)\n",
        "    yl=np.mean(yl)\n",
        "    return yl\n",
        " \n",
        "  def grad(self, x, y):\n",
        "    self.forward_pass(x)\n",
        "    self.dW = {}\n",
        "    self.dB = {}\n",
        "    self.dH = {}\n",
        "    self.dA = {}\n",
        "    L = self.nh + 1\n",
        "    self.dA[L] = (self.H[L] - y)*self.H[L]*(1-self.H[L])\n",
        "    for k in range(L, 0, -1):\n",
        "      self.dW[k] = np.matmul(self.H[k-1].T, self.dA[k])\n",
        "      self.dB[k] = np.sum(self.dA[k],axis=0).reshape(1,-1)\n",
        "      self.dH[k-1] = np.matmul(self.dA[k], self.W[k].T)\n",
        "      self.dA[k-1] = np.multiply(self.dH[k-1], self.grad_activation(self.H[k-1])) \n",
        "    \n",
        "  def fit(self, X, Y, epochs=100, algo= \"GD\", learning_rate=0.01, display_loss=True,\n",
        "          mini_batch_size=60000, eps=1e-8, beta=0.9, beta1=0.9, beta2=0.9, gamma=0.9,lambda_val=0.5,l2_norm=True):\n",
        "      \n",
        "    if display_loss:\n",
        "      loss = {}\n",
        "    V_W = {}\n",
        "    V_B = {}\n",
        "    M_W = {}\n",
        "    M_B = {}\n",
        "    num_updates = 0\n",
        "    for i in range(self.nh+1):\n",
        "      V_W[i+1] = np.zeros((self.sizes[i], self.sizes[i+1]))\n",
        "      V_B[i+1] = np.zeros((1, self.sizes[i+1]))\n",
        "      M_W[i+1] = np.zeros((self.sizes[i], self.sizes[i+1]))\n",
        "      M_B[i+1] = np.zeros((1, self.sizes[i+1]))\n",
        "    if algo == 'SGD':\n",
        "        for epoch in tqdm_notebook(range(epochs), total=epochs, unit=\"epoch\"):\n",
        "          points_seen = 0\n",
        "          m = X.shape[0]\n",
        "          mini_batch_size=1\n",
        "          while(points_seen<X.shape[0]):\n",
        "            self.grad(X[points_seen:points_seen+mini_batch_size,:], Y[points_seen:points_seen+mini_batch_size,:])\n",
        "            for i in range(self.nh+1):\n",
        "              if l2_norm:\n",
        "                self.W[i+1] -= (learning_rate * lambda_val)/m * self.W[i+1] + learning_rate * (self.dW[i+1]/m)\n",
        "              else:\n",
        "                self.W[i+1] -= learning_rate * (self.dW[i+1]/m)\n",
        "              self.B[i+1] -= learning_rate * (self.dB[i+1]/m)\n",
        "            points_seen=points_seen+mini_batch_size\n",
        "            \n",
        "          if display_loss:\n",
        "            Y_pred = self.predict(X) \n",
        "            loss[epoch] = mean_squared_error(Y, Y_pred)\n",
        "          Y_pred_train = self.predict(x_train)\n",
        "          train_loss = mean_squared_error(y_OH_train, Y_pred_train)\n",
        "          Y_pred_train = np.argmax(Y_pred_train,1)\n",
        "\n",
        "          Y_pred_val = self.predict(x_test)\n",
        "          test_loss = mean_squared_error(y_OH_val, Y_pred_val)\n",
        "          Y_pred_val = np.argmax(Y_pred_val,1)\n",
        "\n",
        "\n",
        "          accuracy_train = accuracy_score(Y_pred_train, y_train)\n",
        "          accuracy_val = accuracy_score(Y_pred_val, y_test)\n",
        "          #print(accuracy_train,accuracy_val)\n",
        "          wandb.log({\"val_accuracy\": accuracy_val,\"val_loss\": test_loss, \n",
        "               \"loss\": train_loss,\"epochs\": epoch+1, \"accuracy\": accuracy_train})\n",
        "    \n",
        "    \n",
        "    if algo == 'Momentum':\n",
        "      for epoch in tqdm_notebook(range(epochs), total=epochs, unit=\"epoch\"):\n",
        "        points_seen = 0\n",
        "        m = mini_batch_size\n",
        "        while(points_seen<X.shape[0]):\n",
        "          self.grad(X[points_seen:points_seen+mini_batch_size,:], Y[points_seen:points_seen+mini_batch_size,:])\n",
        "          for i in range(self.nh+1):\n",
        "            V_W[i+1] = gamma * V_W[i+1] + learning_rate * (self.dW[i+1]/m)\n",
        "            V_B[i+1] = gamma * V_B[i+1] + learning_rate * (self.dB[i+1]/m)\n",
        "                    \n",
        "          for i in range(self.nh+1):\n",
        "            if l2_norm:\n",
        "              self.W[i+1] -= (learning_rate * lambda_val)/m * self.W[i+1] + V_W[i+1]\n",
        "            else:\n",
        "              self.W[i+1] -= V_W[i+1]\n",
        "            self.B[i+1] -= V_B[i+1]\n",
        "          points_seen=points_seen+mini_batch_size\n",
        "            \n",
        "        if display_loss:\n",
        "          Y_pred = self.predict(X) \n",
        "          loss[epoch] = mean_squared_error(Y, Y_pred)\n",
        "        Y_pred_train = self.predict(x_train)\n",
        "        train_loss = mean_squared_error(y_OH_train, Y_pred_train)\n",
        "        Y_pred_train = np.argmax(Y_pred_train,1)\n",
        "\n",
        "        Y_pred_val = self.predict(x_test)\n",
        "        test_loss = mean_squared_error(y_OH_val, Y_pred_val)\n",
        "        Y_pred_val = np.argmax(Y_pred_val,1)\n",
        "\n",
        "\n",
        "        accuracy_train = accuracy_score(Y_pred_train, y_train)\n",
        "        accuracy_val = accuracy_score(Y_pred_val, y_test)\n",
        "        #print(accuracy_train,accuracy_val)\n",
        "        wandb.log({\"val_accuracy\": accuracy_val,\"val_loss\": test_loss, \n",
        "               \"loss\": train_loss,\"epochs\": epoch+1, \"accuracy\": accuracy_train})\n",
        "\n",
        "    if algo == 'NAG':\n",
        "      for epoch in tqdm_notebook(range(epochs), total=epochs, unit=\"epoch\"):\n",
        "        points_seen = 0\n",
        "        m = mini_batch_size\n",
        "        for i in range(self.nh+1):\n",
        "          self.W[i+1] -= gamma*V_W[i+1]\n",
        "          self.B[i+1] -= gamma*V_B[i+1]\n",
        "        while(points_seen<X.shape[0]):\n",
        "          self.grad(X[points_seen:points_seen+mini_batch_size,:], Y[points_seen:points_seen+mini_batch_size,:])\n",
        "          for i in range(self.nh+1):\n",
        "            self.W[i+1] -= learning_rate * (self.dW[i+1]/m)\n",
        "            self.B[i+1] -= learning_rate * (self.dB[i+1]/m)\n",
        "          for i in range(self.nh+1):\n",
        "            V_W[i+1] = gamma*V_W[i+1] + learning_rate * (self.dW[i+1]/m)\n",
        "            V_B[i+1] = gamma*V_B[i+1] + learning_rate * (self.dB[i+1]/m)\n",
        "            if l2_norm:\n",
        "              self.W[i+1] -= (learning_rate * lambda_val)/m * self.W[i+1] + gamma*V_W[i+1]\n",
        "            else:\n",
        "              self.W[i+1] -= gamma*V_W[i+1]\n",
        "            self.B[i+1] -= gamma*V_B[i+1]\n",
        "          points_seen=points_seen+mini_batch_size\n",
        "\n",
        "        if display_loss:\n",
        "          Y_pred = self.predict(X) \n",
        "          loss[epoch] = mean_squared_error(Y, Y_pred)  \n",
        "        Y_pred_train = self.predict(x_train)\n",
        "        train_loss = mean_squared_error(y_OH_train, Y_pred_train)\n",
        "        Y_pred_train = np.argmax(Y_pred_train,1)\n",
        "\n",
        "        Y_pred_val = self.predict(x_test)\n",
        "        test_loss = mean_squared_error(y_OH_val, Y_pred_val)\n",
        "        Y_pred_val = np.argmax(Y_pred_val,1)\n",
        "\n",
        "\n",
        "        accuracy_train = accuracy_score(Y_pred_train, y_train)\n",
        "        accuracy_val = accuracy_score(Y_pred_val, y_test)\n",
        "        #print(accuracy_train,accuracy_val)\n",
        "        wandb.log({\"val_accuracy\": accuracy_val,\"val_loss\": test_loss, \n",
        "               \"loss\": train_loss,\"epochs\": epoch+1, \"accuracy\": accuracy_train})\n",
        "\n",
        "    if algo == 'RMSProp':\n",
        "      for epoch in tqdm_notebook(range(epochs), total=epochs, unit=\"epoch\"):\n",
        "        points_seen = 0\n",
        "        m = mini_batch_size\n",
        "        while(points_seen<X.shape[0]):\n",
        "          self.grad(X[points_seen:points_seen+mini_batch_size,:], Y[points_seen:points_seen+mini_batch_size,:])\n",
        "          for i in range(self.nh+1):\n",
        "            V_W[i+1] = beta*V_W[i+1] + (1-beta) * ((self.dW[i+1]/m)**2)\n",
        "            V_B[i+1] = beta*V_B[i+1] + (1-beta) * ((self.dB[i+1]/m)**2)\n",
        "          for i in range(self.nh+1):\n",
        "            if l2_norm:\n",
        "              self.W[i+1] -= (learning_rate * lambda_val)/m * self.W[i+1] + (learning_rate / np.sqrt(V_W[i+1]+ eps))* (self.dW[i+1]/m)\n",
        "            else:\n",
        "              self.W[i+1] -= (learning_rate / np.sqrt(V_W[i+1]+ eps))* (self.dW[i+1]/m)\n",
        "            self.B[i+1] -= (learning_rate / np.sqrt(V_B[i+1]+ eps))* (self.dB[i+1]/m)\n",
        "          points_seen=points_seen+mini_batch_size\n",
        "        \n",
        "        if display_loss:\n",
        "          Y_pred = self.predict(X) \n",
        "          loss[epoch] = mean_squared_error(Y, Y_pred)\n",
        "        Y_pred_train = self.predict(x_train)\n",
        "        train_loss = mean_squared_error(y_OH_train, Y_pred_train)\n",
        "        Y_pred_train = np.argmax(Y_pred_train,1)\n",
        "\n",
        "        Y_pred_val = self.predict(x_test)\n",
        "        test_loss = mean_squared_error(y_OH_val, Y_pred_val)\n",
        "        Y_pred_val = np.argmax(Y_pred_val,1)\n",
        "\n",
        "\n",
        "        accuracy_train = accuracy_score(Y_pred_train, y_train)\n",
        "        accuracy_val = accuracy_score(Y_pred_val, y_test)\n",
        "        #print(accuracy_train,accuracy_val)\n",
        "        wandb.log({\"val_accuracy\": accuracy_val,\"val_loss\": test_loss, \n",
        "               \"loss\": train_loss,\"epochs\": epoch+1, \"accuracy\": accuracy_train})\n",
        "\n",
        "    if algo == 'Adam':\n",
        "      for epoch in tqdm_notebook(range(epochs), total=epochs, unit=\"epoch\"):\n",
        "        points_seen = 0\n",
        "        m = mini_batch_size\n",
        "        while(points_seen<X.shape[0]):\n",
        "          self.grad(X[points_seen:points_seen+mini_batch_size,:], Y[points_seen:points_seen+mini_batch_size,:])\n",
        "          for i in range(self.nh+1):\n",
        "            num_updates += 1\n",
        "            M_W[i+1] = beta1*M_W[i+1] + (1-beta1) * (self.dW[i+1]/m)\n",
        "            M_B[i+1] = beta1*M_B[i+1] + (1-beta1) * (self.dB[i+1]/m)\n",
        "            V_W[i+1] = beta2*V_W[i+1] + (1-beta2) * ((self.dW[i+1]/m)**2)\n",
        "            V_B[i+1] = beta2*V_B[i+1] + (1-beta2) * ((self.dB[i+1]/m)**2)\n",
        "            M_W_C = M_W[i+1] / (1 - np.power(beta1, num_updates))\n",
        "            M_B_C = M_B[i+1] / (1 - np.power(beta1, num_updates))\n",
        "            V_W_C = V_W[i+1] / (1 - np.power(beta2, num_updates))\n",
        "            V_B_C = V_B[i+1] / (1 - np.power(beta2, num_updates))\n",
        "            if l2_norm:\n",
        "              self.W[i+1] -= (learning_rate * lambda_val)/m * self.W[i+1] + (learning_rate / np.sqrt(V_W_C + eps))* M_W_C\n",
        "            else:\n",
        "              self.W[i+1] -= (learning_rate / np.sqrt(V_W_C + eps))* M_W_C\n",
        "            self.B[i+1] -= (learning_rate / np.sqrt(V_B_C + eps)) * M_B_C\n",
        "          points_seen=points_seen+mini_batch_size\n",
        "        \n",
        "        if display_loss:\n",
        "          Y_pred = self.predict(X) \n",
        "          loss[epoch] = mean_squared_error(Y, Y_pred)\n",
        "        Y_pred_train = self.predict(x_train)\n",
        "        train_loss = mean_squared_error(y_OH_train, Y_pred_train)\n",
        "        Y_pred_train = np.argmax(Y_pred_train,1)\n",
        "\n",
        "        Y_pred_val = self.predict(x_test)\n",
        "        test_loss = mean_squared_error(y_OH_val, Y_pred_val)\n",
        "        Y_pred_val = np.argmax(Y_pred_val,1)\n",
        "\n",
        "\n",
        "        accuracy_train = accuracy_score(Y_pred_train, y_train)\n",
        "        accuracy_val = accuracy_score(Y_pred_val, y_test)\n",
        "        #print(accuracy_train,accuracy_val)\n",
        "        wandb.log({\"val_accuracy\": accuracy_val,\"val_loss\": test_loss, \n",
        "               \"loss\": train_loss,\"epochs\": epoch+1, \"accuracy\": accuracy_train})\n",
        "    if algo == 'Nadam':\n",
        "      for epoch in tqdm_notebook(range(epochs), total=epochs, unit=\"epoch\"):\n",
        "        points_seen = 0\n",
        "        m = mini_batch_size\n",
        "        while(points_seen<X.shape[0]):\n",
        "          num_updates += 1\n",
        "          self.grad(X[points_seen:points_seen+mini_batch_size,:], Y[points_seen:points_seen+mini_batch_size,:])\n",
        "          for i in range(self.nh+1):\n",
        "            M_W[i+1] = beta1*M_W[i+1] + (1-beta1) * (self.dW[i+1]/m)\n",
        "            M_B[i+1] = beta1*M_B[i+1] + (1-beta1) * (self.dB[i+1]/m)\n",
        "            V_W[i+1] = beta2*V_W[i+1] + (1-beta2) * ((self.dW[i+1]/m)**2)\n",
        "            V_B[i+1] = beta2*V_B[i+1] + (1-beta2) * ((self.dB[i+1]/m)**2)\n",
        "            M_W_C = M_W[i+1] / (1 - np.power(beta1, num_updates))\n",
        "            M_B_C = M_B[i+1] / (1 - np.power(beta1, num_updates))\n",
        "            V_W_C = V_W[i+1] / (1 - np.power(beta2, num_updates))\n",
        "            V_B_C = V_B[i+1] / (1 - np.power(beta2, num_updates))\n",
        "            if l2_norm:\n",
        "              self.W[i+1] -= (learning_rate * lambda_val)/m * self.W[i+1] + (learning_rate / np.sqrt(V_W_C + eps))* (beta1*M_W_C + (1-beta1)/(1-np.power(beta1,num_updates))* (self.dW[i+1]/m))\n",
        "            else:\n",
        "              self.W[i+1] -= (learning_rate / np.sqrt(V_W_C + eps))* (beta1*M_W_C + (1-beta1)/(1-np.power(beta1,num_updates))* (self.dW[i+1]/m) )\n",
        "            self.B[i+1] -= (learning_rate / np.sqrt(V_B_C + eps)) * (beta1*M_B_C + (1-beta1)/(1-np.power(beta1,num_updates))* (self.dB[i+1]/m))\n",
        "          points_seen=points_seen+mini_batch_size\n",
        "        \n",
        "        if display_loss:\n",
        "          Y_pred = self.predict(X) \n",
        "          loss[epoch] = mean_squared_error(Y, Y_pred)\n",
        "        Y_pred_train = self.predict(x_train)\n",
        "        train_loss = mean_squared_error(y_OH_train, Y_pred_train)\n",
        "        Y_pred_train = np.argmax(Y_pred_train,1)\n",
        "\n",
        "        Y_pred_val = self.predict(x_test)\n",
        "        test_loss = mean_squared_error(y_OH_val, Y_pred_val)\n",
        "        Y_pred_val = np.argmax(Y_pred_val,1)\n",
        "\n",
        "\n",
        "        accuracy_train = accuracy_score(Y_pred_train, y_train)\n",
        "        accuracy_val = accuracy_score(Y_pred_val, y_test)\n",
        "        #print(accuracy_train,accuracy_val)\n",
        "        wandb.log({\"val_accuracy\": accuracy_val,\"val_loss\": test_loss, \n",
        "               \"loss\": train_loss,\"epochs\": epoch+1, \"accuracy\": accuracy_train})\n",
        "    \n",
        "    if display_loss:\n",
        "        plt.plot(np.array(list(loss.values())).astype(float))\n",
        "        plt.xlabel('Epochs')\n",
        "        plt.ylabel('CE')\n",
        "        plt.show()\n",
        "    print(accuracy_train,accuracy_val)"
      ]
    },
    {
      "cell_type": "code",
      "execution_count": 20,
      "metadata": {
        "id": "NY7TfY6S6qRe"
      },
      "outputs": [],
      "source": [
        "#code\n",
        "def train():\n",
        "    config_defaluts = {\n",
        "        'epochs' :5,\n",
        "        'learing_rate' : 1e-3,\n",
        "        'batch_size' : 64,\n",
        "        'optimizer' : 'RMSProp',\n",
        "        'weight_initialisation' : 'random',\n",
        "        'activation_functions' : 'sigmoid',\n",
        "        'weight_decay' : 0.0005,\n",
        "        'noof_hidden' : 2,\n",
        "        'size_of_every_hidden' : 10\n",
        "\n",
        "    }\n",
        "    wandb.init(config=config_defaluts)\n",
        "    config=wandb.config\n",
        "    wandb.init(name=\"hl_\"+str(config.noof_hidden)+\"_bs_\"+str(config.batch_size)+\"_ac_\"+str(config.activation_functions)+\"_MSE_\")\n",
        "    ffsn_multi = FFSN_MultiClass(784,10,config.noof_hidden,config.size_of_every_hidden,init_method=config.weight_initialisation, \n",
        "                                 activation_function=config.activation_functions)\n",
        "    ffsn_multi.fit(x_train,y_OH_train,epochs=config.epochs,learning_rate=config.learing_rate,\n",
        "                   algo= config.optimizer,mini_batch_size=config.batch_size,lambda_val=config.weight_decay)"
      ]
    },
    {
      "cell_type": "code",
      "execution_count": 21,
      "metadata": {
        "colab": {
          "base_uri": "https://localhost:8080/",
          "height": 1000,
          "referenced_widgets": [
            "8b87e7bafbe74994909e256442ca7cde",
            "b59115c1636942acb58c1976c3775497",
            "d3b1fc1572ea4da0842b8ed93db65e50",
            "e4ab990902a84364950000653d409438",
            "3d884b34b9764270a59eecaccd56a355",
            "a0a3e88d805242bf90aa88b5ddea466b",
            "8ea898a450164380a0d259efafb88daf",
            "d6555efbd122408180711e3968f3ee09",
            "bfde91d20242466f843eeba191030281",
            "8da0507e71eb4759b045eb9a3be6b8c3",
            "27f23cfbcd8d46d88087e2d0ad682c11",
            "c9d667b269be4c098a5e432dd9c61a8c",
            "69924c40af724ab684d6397bbd419531",
            "4bb7614e633d4e5190747bdde0803137",
            "6b920a1faa3b49e8ad044c5c945b35bc",
            "69a8e0d1ee8848929f0919195b29fa18",
            "293780f6c94240ca99f5e38692b5ae1e",
            "778adc0fce2243159eed737ca0c484f9",
            "f0e8244ee96a442191c64020eb9d2404",
            "40b9e3cc5ba7419798dc88e3fde60099",
            "9db8204dacfe4707a253be36c626d56a",
            "9ea99a06d84b4ca0bdae2f21314c7d32",
            "ff87d76723eb442fbc35f9aed8a166d5",
            "f26bb493e6ad4c59ae24c7a3caab0670",
            "bab26b7e1cb14e33b967ca0b1c01f47e",
            "52490cccac964a5abd36839373c08780",
            "70374a9f3ac24360af2c58633c61c249"
          ]
        },
        "id": "GNCOAdHG7WK6",
        "outputId": "13ff8672-3e04-4489-e382-9e10914667dc"
      },
      "outputs": [
        {
          "name": "stderr",
          "output_type": "stream",
          "text": [
            "\u001b[34m\u001b[1mwandb\u001b[0m: Agent Starting Run: yt72xrfn with config:\n",
            "\u001b[34m\u001b[1mwandb\u001b[0m: \tactivation_functions: sigmoid\n",
            "\u001b[34m\u001b[1mwandb\u001b[0m: \tbatch_size: 128\n",
            "\u001b[34m\u001b[1mwandb\u001b[0m: \tepochs: 10\n",
            "\u001b[34m\u001b[1mwandb\u001b[0m: \tlearing_rate: 0.0005\n",
            "\u001b[34m\u001b[1mwandb\u001b[0m: \tnoof_hidden: 3\n",
            "\u001b[34m\u001b[1mwandb\u001b[0m: \toptimizer: Nadam\n",
            "\u001b[34m\u001b[1mwandb\u001b[0m: \tsize_of_every_hidden: 128\n",
            "\u001b[34m\u001b[1mwandb\u001b[0m: \tweight_decay: 0.0005\n",
            "\u001b[34m\u001b[1mwandb\u001b[0m: \tweight_initialisation: he\n"
          ]
        },
        {
          "data": {
            "text/html": [
              "\n",
              "                    Syncing run <strong><a href=\"https://wandb.ai/cs21m009/DL%201.1%20mse/runs/yt72xrfn\" target=\"_blank\">smart-sweep-1</a></strong> to <a href=\"https://wandb.ai/cs21m009/DL%201.1%20mse\" target=\"_blank\">Weights & Biases</a> (<a href=\"https://docs.wandb.com/integrations/jupyter.html\" target=\"_blank\">docs</a>).<br/>\n",
              "Sweep page: <a href=\"https://wandb.ai/cs21m009/DL%201.1%20mse/sweeps/952a8v45\" target=\"_blank\">https://wandb.ai/cs21m009/DL%201.1%20mse/sweeps/952a8v45</a><br/>\n",
              "\n",
              "                "
            ],
            "text/plain": [
              "<IPython.core.display.HTML object>"
            ]
          },
          "metadata": {},
          "output_type": "display_data"
        },
        {
          "data": {
            "text/html": [
              "Finishing last run (ID:yt72xrfn) before initializing another..."
            ],
            "text/plain": [
              "<IPython.core.display.HTML object>"
            ]
          },
          "metadata": {},
          "output_type": "display_data"
        },
        {
          "data": {
            "text/html": [
              "<br/>Waiting for W&B process to finish, PID 311... <strong style=\"color:green\">(success).</strong>"
            ],
            "text/plain": [
              "<IPython.core.display.HTML object>"
            ]
          },
          "metadata": {},
          "output_type": "display_data"
        },
        {
          "data": {
            "application/vnd.jupyter.widget-view+json": {
              "model_id": "8b87e7bafbe74994909e256442ca7cde",
              "version_major": 2,
              "version_minor": 0
            },
            "text/plain": [
              "VBox(children=(Label(value=' 0.00MB of 0.00MB uploaded (0.00MB deduped)\\r'), FloatProgress(value=1.0, max=1.0)…"
            ]
          },
          "metadata": {},
          "output_type": "display_data"
        },
        {
          "data": {
            "text/html": [
              "<style>\n",
              "    table.wandb td:nth-child(1) { padding: 0 10px; text-align: right }\n",
              "    .wandb-row { display: flex; flex-direction: row; flex-wrap: wrap; width: 100% }\n",
              "    .wandb-col { display: flex; flex-direction: column; flex-basis: 100%; flex: 1; padding: 10px; }\n",
              "    </style>\n",
              "<div class=\"wandb-row\"><div class=\"wandb-col\">\n",
              "</div><div class=\"wandb-col\">\n",
              "</div></div>\n",
              "Synced 4 W&B file(s), 0 media file(s), 0 artifact file(s) and 0 other file(s)\n",
              "<br/>Synced <strong style=\"color:#cdcd00\">smart-sweep-1</strong>: <a href=\"https://wandb.ai/cs21m009/DL%201.1%20mse/runs/yt72xrfn\" target=\"_blank\">https://wandb.ai/cs21m009/DL%201.1%20mse/runs/yt72xrfn</a><br/>\n",
              "Find logs at: <code>./wandb/run-20220225_142701-yt72xrfn/logs</code><br/>\n"
            ],
            "text/plain": [
              "<IPython.core.display.HTML object>"
            ]
          },
          "metadata": {},
          "output_type": "display_data"
        },
        {
          "data": {
            "text/html": [
              "Successfully finished last run (ID:yt72xrfn). Initializing new run:<br/>"
            ],
            "text/plain": [
              "<IPython.core.display.HTML object>"
            ]
          },
          "metadata": {},
          "output_type": "display_data"
        },
        {
          "data": {
            "text/html": [
              "\n",
              "                    Syncing run <strong><a href=\"https://wandb.ai/cs21m009/DL%201.1%20mse/runs/yt72xrfn\" target=\"_blank\">hl_3_bs_128_ac_sigmoid_MSE_</a></strong> to <a href=\"https://wandb.ai/cs21m009/DL%201.1%20mse\" target=\"_blank\">Weights & Biases</a> (<a href=\"https://docs.wandb.com/integrations/jupyter.html\" target=\"_blank\">docs</a>).<br/>\n",
              "Sweep page: <a href=\"https://wandb.ai/cs21m009/DL%201.1%20mse/sweeps/952a8v45\" target=\"_blank\">https://wandb.ai/cs21m009/DL%201.1%20mse/sweeps/952a8v45</a><br/>\n",
              "\n",
              "                "
            ],
            "text/plain": [
              "<IPython.core.display.HTML object>"
            ]
          },
          "metadata": {},
          "output_type": "display_data"
        },
        {
          "name": "stderr",
          "output_type": "stream",
          "text": [
            "/usr/local/lib/python3.7/dist-packages/ipykernel_launcher.py:298: TqdmDeprecationWarning: This function will be removed in tqdm==5.0.0\n",
            "Please use `tqdm.notebook.tqdm` instead of `tqdm.tqdm_notebook`\n"
          ]
        },
        {
          "data": {
            "application/vnd.jupyter.widget-view+json": {
              "model_id": "bfde91d20242466f843eeba191030281",
              "version_major": 2,
              "version_minor": 0
            },
            "text/plain": [
              "  0%|          | 0/10 [00:00<?, ?epoch/s]"
            ]
          },
          "metadata": {},
          "output_type": "display_data"
        },
        {
          "data": {
            "image/png": "[encoded data removed]",
            "text/plain": [
              "<Figure size 432x288 with 1 Axes>"
            ]
          },
          "metadata": {
            "needs_background": "light"
          },
          "output_type": "display_data"
        },
        {
          "name": "stdout",
          "output_type": "stream",
          "text": [
            "0.8721111111111111 0.8648333333333333\n"
          ]
        },
        {
          "data": {
            "text/html": [
              "<br/>Waiting for W&B process to finish, PID 348... <strong style=\"color:green\">(success).</strong>"
            ],
            "text/plain": [
              "<IPython.core.display.HTML object>"
            ]
          },
          "metadata": {},
          "output_type": "display_data"
        },
        {
          "data": {
            "application/vnd.jupyter.widget-view+json": {
              "model_id": "40b9e3cc5ba7419798dc88e3fde60099",
              "version_major": 2,
              "version_minor": 0
            },
            "text/plain": [
              "VBox(children=(Label(value=' 0.00MB of 0.00MB uploaded (0.00MB deduped)\\r'), FloatProgress(value=1.0, max=1.0)…"
            ]
          },
          "metadata": {},
          "output_type": "display_data"
        },
        {
          "data": {
            "text/html": [
              "<style>\n",
              "    table.wandb td:nth-child(1) { padding: 0 10px; text-align: right }\n",
              "    .wandb-row { display: flex; flex-direction: row; flex-wrap: wrap; width: 100% }\n",
              "    .wandb-col { display: flex; flex-direction: column; flex-basis: 100%; flex: 1; padding: 10px; }\n",
              "    </style>\n",
              "<div class=\"wandb-row\"><div class=\"wandb-col\">\n",
              "<h3>Run history:</h3><br/><table class=\"wandb\"><tr><td>accuracy</td><td>▁▅▆▇▇█████</td></tr><tr><td>epochs</td><td>▁▂▃▃▄▅▆▆▇█</td></tr><tr><td>loss</td><td>█▄▃▂▂▁▁▁▁▁</td></tr><tr><td>val_accuracy</td><td>▁▅▆▇▇█████</td></tr><tr><td>val_loss</td><td>█▄▃▂▂▁▁▁▁▁</td></tr></table><br/></div><div class=\"wandb-col\">\n",
              "<h3>Run summary:</h3><br/><table class=\"wandb\"><tr><td>accuracy</td><td>0.87211</td></tr><tr><td>epochs</td><td>10</td></tr><tr><td>loss</td><td>0.0191</td></tr><tr><td>val_accuracy</td><td>0.86483</td></tr><tr><td>val_loss</td><td>0.02002</td></tr></table>\n",
              "</div></div>\n",
              "Synced 5 W&B file(s), 0 media file(s), 0 artifact file(s) and 0 other file(s)\n",
              "<br/>Synced <strong style=\"color:#cdcd00\">hl_3_bs_128_ac_sigmoid_MSE_</strong>: <a href=\"https://wandb.ai/cs21m009/DL%201.1%20mse/runs/yt72xrfn\" target=\"_blank\">https://wandb.ai/cs21m009/DL%201.1%20mse/runs/yt72xrfn</a><br/>\n",
              "Find logs at: <code>./wandb/run-20220225_142705-yt72xrfn/logs</code><br/>\n"
            ],
            "text/plain": [
              "<IPython.core.display.HTML object>"
            ]
          },
          "metadata": {},
          "output_type": "display_data"
        },
        {
          "name": "stderr",
          "output_type": "stream",
          "text": [
            "\u001b[34m\u001b[1mwandb\u001b[0m: Sweep Agent: Waiting for job.\n",
            "\u001b[34m\u001b[1mwandb\u001b[0m: Sweep Agent: Exiting.\n"
          ]
        }
      ],
      "source": [
        "wandb.agent(sweep_id, train)"
      ]
    },
    {
      "cell_type": "code",
      "execution_count": null,
      "metadata": {},
      "outputs": [],
      "source": [
        "# For a good hyper parametric combination cross entropy loss function is giving 91.1 accuracy and mean squared error loss function giving\n",
        "# 87.21 accuracy. we got same results for all the optimizers "
      ]
    },
    {
      "cell_type": "code",
      "execution_count": null,
      "metadata": {
        "id": "iFxs32Wd44o9"
      },
      "outputs": [],
      "source": [
        "#ffsn_multi = FFSN_MultiClass(784,10,2,32,init_method='xavier', activation_function='sigmoid')\n",
        "#ffsn_multi.fit(x_train,y_OH_train,epochs=10,learning_rate=0.001,algo= \"RMSProp\",mini_batch_size=256)"
      ]
    },
    {
      "cell_type": "code",
      "execution_count": null,
      "metadata": {
        "id": "gWw9G9MZa4rO"
      },
      "outputs": [],
      "source": [
        "'''\n",
        "reasons :\n",
        "increasing learning rate will lead to fluctuations in the epochs vs loss curve\n",
        "'''"
      ]
    },
    {
      "cell_type": "code",
      "execution_count": null,
      "metadata": {
        "id": "mUfQtv2UbXM0"
      },
      "outputs": [],
      "source": []
    },
    {
      "cell_type": "code",
      "execution_count": null,
      "metadata": {
        "id": "hD00YqZmbfJE"
      },
      "outputs": [],
      "source": []
    }
  ],
  "metadata": {
    "colab": {
      "collapsed_sections": [],
      "name": "DL_1_7.ipynb",
      "provenance": []
    },
    "kernelspec": {
      "display_name": "Python 3",
      "name": "python3"
    },
    "language_info": {
      "name": "python"
    },
    "widgets": {
      "application/vnd.jupyter.widget-state+json": {
        "27f23cfbcd8d46d88087e2d0ad682c11": {
          "model_module": "@jupyter-widgets/controls",
          "model_module_version": "1.5.0",
          "model_name": "HTMLModel",
          "state": {
            "_dom_classes": [],
            "_model_module": "@jupyter-widgets/controls",
            "_model_module_version": "1.5.0",
            "_model_name": "HTMLModel",
            "_view_count": null,
            "_view_module": "@jupyter-widgets/controls",
            "_view_module_version": "1.5.0",
            "_view_name": "HTMLView",
            "description": "",
            "description_tooltip": null,
            "layout": "IPY_MODEL_6b920a1faa3b49e8ad044c5c945b35bc",
            "placeholder": "​",
            "style": "IPY_MODEL_4bb7614e633d4e5190747bdde0803137",
            "value": "100%"
          }
        },
        "293780f6c94240ca99f5e38692b5ae1e": {
          "model_module": "@jupyter-widgets/base",
          "model_module_version": "1.2.0",
          "model_name": "LayoutModel",
          "state": {
            "_model_module": "@jupyter-widgets/base",
            "_model_module_version": "1.2.0",
            "_model_name": "LayoutModel",
            "_view_count": null,
            "_view_module": "@jupyter-widgets/base",
            "_view_module_version": "1.2.0",
            "_view_name": "LayoutView",
            "align_content": null,
            "align_items": null,
            "align_self": null,
            "border": null,
            "bottom": null,
            "display": null,
            "flex": null,
            "flex_flow": null,
            "grid_area": null,
            "grid_auto_columns": null,
            "grid_auto_flow": null,
            "grid_auto_rows": null,
            "grid_column": null,
            "grid_gap": null,
            "grid_row": null,
            "grid_template_areas": null,
            "grid_template_columns": null,
            "grid_template_rows": null,
            "height": null,
            "justify_content": null,
            "justify_items": null,
            "left": null,
            "margin": null,
            "max_height": null,
            "max_width": null,
            "min_height": null,
            "min_width": null,
            "object_fit": null,
            "object_position": null,
            "order": null,
            "overflow": null,
            "overflow_x": null,
            "overflow_y": null,
            "padding": null,
            "right": null,
            "top": null,
            "visibility": null,
            "width": null
          }
        },
        "3d884b34b9764270a59eecaccd56a355": {
          "model_module": "@jupyter-widgets/controls",
          "model_module_version": "1.5.0",
          "model_name": "DescriptionStyleModel",
          "state": {
            "_model_module": "@jupyter-widgets/controls",
            "_model_module_version": "1.5.0",
            "_model_name": "DescriptionStyleModel",
            "_view_count": null,
            "_view_module": "@jupyter-widgets/base",
            "_view_module_version": "1.2.0",
            "_view_name": "StyleView",
            "description_width": ""
          }
        },
        "40b9e3cc5ba7419798dc88e3fde60099": {
          "model_module": "@jupyter-widgets/controls",
          "model_module_version": "1.5.0",
          "model_name": "VBoxModel",
          "state": {
            "_dom_classes": [],
            "_model_module": "@jupyter-widgets/controls",
            "_model_module_version": "1.5.0",
            "_model_name": "VBoxModel",
            "_view_count": null,
            "_view_module": "@jupyter-widgets/controls",
            "_view_module_version": "1.5.0",
            "_view_name": "VBoxView",
            "box_style": "",
            "children": [
              "IPY_MODEL_9ea99a06d84b4ca0bdae2f21314c7d32",
              "IPY_MODEL_ff87d76723eb442fbc35f9aed8a166d5"
            ],
            "layout": "IPY_MODEL_9db8204dacfe4707a253be36c626d56a"
          }
        },
        "4bb7614e633d4e5190747bdde0803137": {
          "model_module": "@jupyter-widgets/controls",
          "model_module_version": "1.5.0",
          "model_name": "DescriptionStyleModel",
          "state": {
            "_model_module": "@jupyter-widgets/controls",
            "_model_module_version": "1.5.0",
            "_model_name": "DescriptionStyleModel",
            "_view_count": null,
            "_view_module": "@jupyter-widgets/base",
            "_view_module_version": "1.2.0",
            "_view_name": "StyleView",
            "description_width": ""
          }
        },
        "52490cccac964a5abd36839373c08780": {
          "model_module": "@jupyter-widgets/controls",
          "model_module_version": "1.5.0",
          "model_name": "ProgressStyleModel",
          "state": {
            "_model_module": "@jupyter-widgets/controls",
            "_model_module_version": "1.5.0",
            "_model_name": "ProgressStyleModel",
            "_view_count": null,
            "_view_module": "@jupyter-widgets/base",
            "_view_module_version": "1.2.0",
            "_view_name": "StyleView",
            "bar_color": null,
            "description_width": ""
          }
        },
        "69924c40af724ab684d6397bbd419531": {
          "model_module": "@jupyter-widgets/controls",
          "model_module_version": "1.5.0",
          "model_name": "HTMLModel",
          "state": {
            "_dom_classes": [],
            "_model_module": "@jupyter-widgets/controls",
            "_model_module_version": "1.5.0",
            "_model_name": "HTMLModel",
            "_view_count": null,
            "_view_module": "@jupyter-widgets/controls",
            "_view_module_version": "1.5.0",
            "_view_name": "HTMLView",
            "description": "",
            "description_tooltip": null,
            "layout": "IPY_MODEL_f0e8244ee96a442191c64020eb9d2404",
            "placeholder": "​",
            "style": "IPY_MODEL_778adc0fce2243159eed737ca0c484f9",
            "value": " 10/10 [02:30&lt;00:00, 15.00s/epoch]"
          }
        },
        "69a8e0d1ee8848929f0919195b29fa18": {
          "model_module": "@jupyter-widgets/controls",
          "model_module_version": "1.5.0",
          "model_name": "ProgressStyleModel",
          "state": {
            "_model_module": "@jupyter-widgets/controls",
            "_model_module_version": "1.5.0",
            "_model_name": "ProgressStyleModel",
            "_view_count": null,
            "_view_module": "@jupyter-widgets/base",
            "_view_module_version": "1.2.0",
            "_view_name": "StyleView",
            "bar_color": null,
            "description_width": ""
          }
        },
        "6b920a1faa3b49e8ad044c5c945b35bc": {
          "model_module": "@jupyter-widgets/base",
          "model_module_version": "1.2.0",
          "model_name": "LayoutModel",
          "state": {
            "_model_module": "@jupyter-widgets/base",
            "_model_module_version": "1.2.0",
            "_model_name": "LayoutModel",
            "_view_count": null,
            "_view_module": "@jupyter-widgets/base",
            "_view_module_version": "1.2.0",
            "_view_name": "LayoutView",
            "align_content": null,
            "align_items": null,
            "align_self": null,
            "border": null,
            "bottom": null,
            "display": null,
            "flex": null,
            "flex_flow": null,
            "grid_area": null,
            "grid_auto_columns": null,
            "grid_auto_flow": null,
            "grid_auto_rows": null,
            "grid_column": null,
            "grid_gap": null,
            "grid_row": null,
            "grid_template_areas": null,
            "grid_template_columns": null,
            "grid_template_rows": null,
            "height": null,
            "justify_content": null,
            "justify_items": null,
            "left": null,
            "margin": null,
            "max_height": null,
            "max_width": null,
            "min_height": null,
            "min_width": null,
            "object_fit": null,
            "object_position": null,
            "order": null,
            "overflow": null,
            "overflow_x": null,
            "overflow_y": null,
            "padding": null,
            "right": null,
            "top": null,
            "visibility": null,
            "width": null
          }
        },
        "70374a9f3ac24360af2c58633c61c249": {
          "model_module": "@jupyter-widgets/base",
          "model_module_version": "1.2.0",
          "model_name": "LayoutModel",
          "state": {
            "_model_module": "@jupyter-widgets/base",
            "_model_module_version": "1.2.0",
            "_model_name": "LayoutModel",
            "_view_count": null,
            "_view_module": "@jupyter-widgets/base",
            "_view_module_version": "1.2.0",
            "_view_name": "LayoutView",
            "align_content": null,
            "align_items": null,
            "align_self": null,
            "border": null,
            "bottom": null,
            "display": null,
            "flex": null,
            "flex_flow": null,
            "grid_area": null,
            "grid_auto_columns": null,
            "grid_auto_flow": null,
            "grid_auto_rows": null,
            "grid_column": null,
            "grid_gap": null,
            "grid_row": null,
            "grid_template_areas": null,
            "grid_template_columns": null,
            "grid_template_rows": null,
            "height": null,
            "justify_content": null,
            "justify_items": null,
            "left": null,
            "margin": null,
            "max_height": null,
            "max_width": null,
            "min_height": null,
            "min_width": null,
            "object_fit": null,
            "object_position": null,
            "order": null,
            "overflow": null,
            "overflow_x": null,
            "overflow_y": null,
            "padding": null,
            "right": null,
            "top": null,
            "visibility": null,
            "width": null
          }
        },
        "778adc0fce2243159eed737ca0c484f9": {
          "model_module": "@jupyter-widgets/controls",
          "model_module_version": "1.5.0",
          "model_name": "DescriptionStyleModel",
          "state": {
            "_model_module": "@jupyter-widgets/controls",
            "_model_module_version": "1.5.0",
            "_model_name": "DescriptionStyleModel",
            "_view_count": null,
            "_view_module": "@jupyter-widgets/base",
            "_view_module_version": "1.2.0",
            "_view_name": "StyleView",
            "description_width": ""
          }
        },
        "8b87e7bafbe74994909e256442ca7cde": {
          "model_module": "@jupyter-widgets/controls",
          "model_module_version": "1.5.0",
          "model_name": "VBoxModel",
          "state": {
            "_dom_classes": [],
            "_model_module": "@jupyter-widgets/controls",
            "_model_module_version": "1.5.0",
            "_model_name": "VBoxModel",
            "_view_count": null,
            "_view_module": "@jupyter-widgets/controls",
            "_view_module_version": "1.5.0",
            "_view_name": "VBoxView",
            "box_style": "",
            "children": [
              "IPY_MODEL_d3b1fc1572ea4da0842b8ed93db65e50",
              "IPY_MODEL_e4ab990902a84364950000653d409438"
            ],
            "layout": "IPY_MODEL_b59115c1636942acb58c1976c3775497"
          }
        },
        "8da0507e71eb4759b045eb9a3be6b8c3": {
          "model_module": "@jupyter-widgets/base",
          "model_module_version": "1.2.0",
          "model_name": "LayoutModel",
          "state": {
            "_model_module": "@jupyter-widgets/base",
            "_model_module_version": "1.2.0",
            "_model_name": "LayoutModel",
            "_view_count": null,
            "_view_module": "@jupyter-widgets/base",
            "_view_module_version": "1.2.0",
            "_view_name": "LayoutView",
            "align_content": null,
            "align_items": null,
            "align_self": null,
            "border": null,
            "bottom": null,
            "display": null,
            "flex": null,
            "flex_flow": null,
            "grid_area": null,
            "grid_auto_columns": null,
            "grid_auto_flow": null,
            "grid_auto_rows": null,
            "grid_column": null,
            "grid_gap": null,
            "grid_row": null,
            "grid_template_areas": null,
            "grid_template_columns": null,
            "grid_template_rows": null,
            "height": null,
            "justify_content": null,
            "justify_items": null,
            "left": null,
            "margin": null,
            "max_height": null,
            "max_width": null,
            "min_height": null,
            "min_width": null,
            "object_fit": null,
            "object_position": null,
            "order": null,
            "overflow": null,
            "overflow_x": null,
            "overflow_y": null,
            "padding": null,
            "right": null,
            "top": null,
            "visibility": null,
            "width": null
          }
        },
        "8ea898a450164380a0d259efafb88daf": {
          "model_module": "@jupyter-widgets/controls",
          "model_module_version": "1.5.0",
          "model_name": "ProgressStyleModel",
          "state": {
            "_model_module": "@jupyter-widgets/controls",
            "_model_module_version": "1.5.0",
            "_model_name": "ProgressStyleModel",
            "_view_count": null,
            "_view_module": "@jupyter-widgets/base",
            "_view_module_version": "1.2.0",
            "_view_name": "StyleView",
            "bar_color": null,
            "description_width": ""
          }
        },
        "9db8204dacfe4707a253be36c626d56a": {
          "model_module": "@jupyter-widgets/base",
          "model_module_version": "1.2.0",
          "model_name": "LayoutModel",
          "state": {
            "_model_module": "@jupyter-widgets/base",
            "_model_module_version": "1.2.0",
            "_model_name": "LayoutModel",
            "_view_count": null,
            "_view_module": "@jupyter-widgets/base",
            "_view_module_version": "1.2.0",
            "_view_name": "LayoutView",
            "align_content": null,
            "align_items": null,
            "align_self": null,
            "border": null,
            "bottom": null,
            "display": null,
            "flex": null,
            "flex_flow": null,
            "grid_area": null,
            "grid_auto_columns": null,
            "grid_auto_flow": null,
            "grid_auto_rows": null,
            "grid_column": null,
            "grid_gap": null,
            "grid_row": null,
            "grid_template_areas": null,
            "grid_template_columns": null,
            "grid_template_rows": null,
            "height": null,
            "justify_content": null,
            "justify_items": null,
            "left": null,
            "margin": null,
            "max_height": null,
            "max_width": null,
            "min_height": null,
            "min_width": null,
            "object_fit": null,
            "object_position": null,
            "order": null,
            "overflow": null,
            "overflow_x": null,
            "overflow_y": null,
            "padding": null,
            "right": null,
            "top": null,
            "visibility": null,
            "width": null
          }
        },
        "9ea99a06d84b4ca0bdae2f21314c7d32": {
          "model_module": "@jupyter-widgets/controls",
          "model_module_version": "1.5.0",
          "model_name": "LabelModel",
          "state": {
            "_dom_classes": [],
            "_model_module": "@jupyter-widgets/controls",
            "_model_module_version": "1.5.0",
            "_model_name": "LabelModel",
            "_view_count": null,
            "_view_module": "@jupyter-widgets/controls",
            "_view_module_version": "1.5.0",
            "_view_name": "LabelView",
            "description": "",
            "description_tooltip": null,
            "layout": "IPY_MODEL_bab26b7e1cb14e33b967ca0b1c01f47e",
            "placeholder": "​",
            "style": "IPY_MODEL_f26bb493e6ad4c59ae24c7a3caab0670",
            "value": " 0.01MB of 0.01MB uploaded (0.00MB deduped)\r"
          }
        },
        "a0a3e88d805242bf90aa88b5ddea466b": {
          "model_module": "@jupyter-widgets/base",
          "model_module_version": "1.2.0",
          "model_name": "LayoutModel",
          "state": {
            "_model_module": "@jupyter-widgets/base",
            "_model_module_version": "1.2.0",
            "_model_name": "LayoutModel",
            "_view_count": null,
            "_view_module": "@jupyter-widgets/base",
            "_view_module_version": "1.2.0",
            "_view_name": "LayoutView",
            "align_content": null,
            "align_items": null,
            "align_self": null,
            "border": null,
            "bottom": null,
            "display": null,
            "flex": null,
            "flex_flow": null,
            "grid_area": null,
            "grid_auto_columns": null,
            "grid_auto_flow": null,
            "grid_auto_rows": null,
            "grid_column": null,
            "grid_gap": null,
            "grid_row": null,
            "grid_template_areas": null,
            "grid_template_columns": null,
            "grid_template_rows": null,
            "height": null,
            "justify_content": null,
            "justify_items": null,
            "left": null,
            "margin": null,
            "max_height": null,
            "max_width": null,
            "min_height": null,
            "min_width": null,
            "object_fit": null,
            "object_position": null,
            "order": null,
            "overflow": null,
            "overflow_x": null,
            "overflow_y": null,
            "padding": null,
            "right": null,
            "top": null,
            "visibility": null,
            "width": null
          }
        },
        "b59115c1636942acb58c1976c3775497": {
          "model_module": "@jupyter-widgets/base",
          "model_module_version": "1.2.0",
          "model_name": "LayoutModel",
          "state": {
            "_model_module": "@jupyter-widgets/base",
            "_model_module_version": "1.2.0",
            "_model_name": "LayoutModel",
            "_view_count": null,
            "_view_module": "@jupyter-widgets/base",
            "_view_module_version": "1.2.0",
            "_view_name": "LayoutView",
            "align_content": null,
            "align_items": null,
            "align_self": null,
            "border": null,
            "bottom": null,
            "display": null,
            "flex": null,
            "flex_flow": null,
            "grid_area": null,
            "grid_auto_columns": null,
            "grid_auto_flow": null,
            "grid_auto_rows": null,
            "grid_column": null,
            "grid_gap": null,
            "grid_row": null,
            "grid_template_areas": null,
            "grid_template_columns": null,
            "grid_template_rows": null,
            "height": null,
            "justify_content": null,
            "justify_items": null,
            "left": null,
            "margin": null,
            "max_height": null,
            "max_width": null,
            "min_height": null,
            "min_width": null,
            "object_fit": null,
            "object_position": null,
            "order": null,
            "overflow": null,
            "overflow_x": null,
            "overflow_y": null,
            "padding": null,
            "right": null,
            "top": null,
            "visibility": null,
            "width": null
          }
        },
        "bab26b7e1cb14e33b967ca0b1c01f47e": {
          "model_module": "@jupyter-widgets/base",
          "model_module_version": "1.2.0",
          "model_name": "LayoutModel",
          "state": {
            "_model_module": "@jupyter-widgets/base",
            "_model_module_version": "1.2.0",
            "_model_name": "LayoutModel",
            "_view_count": null,
            "_view_module": "@jupyter-widgets/base",
            "_view_module_version": "1.2.0",
            "_view_name": "LayoutView",
            "align_content": null,
            "align_items": null,
            "align_self": null,
            "border": null,
            "bottom": null,
            "display": null,
            "flex": null,
            "flex_flow": null,
            "grid_area": null,
            "grid_auto_columns": null,
            "grid_auto_flow": null,
            "grid_auto_rows": null,
            "grid_column": null,
            "grid_gap": null,
            "grid_row": null,
            "grid_template_areas": null,
            "grid_template_columns": null,
            "grid_template_rows": null,
            "height": null,
            "justify_content": null,
            "justify_items": null,
            "left": null,
            "margin": null,
            "max_height": null,
            "max_width": null,
            "min_height": null,
            "min_width": null,
            "object_fit": null,
            "object_position": null,
            "order": null,
            "overflow": null,
            "overflow_x": null,
            "overflow_y": null,
            "padding": null,
            "right": null,
            "top": null,
            "visibility": null,
            "width": null
          }
        },
        "bfde91d20242466f843eeba191030281": {
          "model_module": "@jupyter-widgets/controls",
          "model_module_version": "1.5.0",
          "model_name": "HBoxModel",
          "state": {
            "_dom_classes": [],
            "_model_module": "@jupyter-widgets/controls",
            "_model_module_version": "1.5.0",
            "_model_name": "HBoxModel",
            "_view_count": null,
            "_view_module": "@jupyter-widgets/controls",
            "_view_module_version": "1.5.0",
            "_view_name": "HBoxView",
            "box_style": "",
            "children": [
              "IPY_MODEL_27f23cfbcd8d46d88087e2d0ad682c11",
              "IPY_MODEL_c9d667b269be4c098a5e432dd9c61a8c",
              "IPY_MODEL_69924c40af724ab684d6397bbd419531"
            ],
            "layout": "IPY_MODEL_8da0507e71eb4759b045eb9a3be6b8c3"
          }
        },
        "c9d667b269be4c098a5e432dd9c61a8c": {
          "model_module": "@jupyter-widgets/controls",
          "model_module_version": "1.5.0",
          "model_name": "FloatProgressModel",
          "state": {
            "_dom_classes": [],
            "_model_module": "@jupyter-widgets/controls",
            "_model_module_version": "1.5.0",
            "_model_name": "FloatProgressModel",
            "_view_count": null,
            "_view_module": "@jupyter-widgets/controls",
            "_view_module_version": "1.5.0",
            "_view_name": "ProgressView",
            "bar_style": "success",
            "description": "",
            "description_tooltip": null,
            "layout": "IPY_MODEL_293780f6c94240ca99f5e38692b5ae1e",
            "max": 10,
            "min": 0,
            "orientation": "horizontal",
            "style": "IPY_MODEL_69a8e0d1ee8848929f0919195b29fa18",
            "value": 10
          }
        },
        "d3b1fc1572ea4da0842b8ed93db65e50": {
          "model_module": "@jupyter-widgets/controls",
          "model_module_version": "1.5.0",
          "model_name": "LabelModel",
          "state": {
            "_dom_classes": [],
            "_model_module": "@jupyter-widgets/controls",
            "_model_module_version": "1.5.0",
            "_model_name": "LabelModel",
            "_view_count": null,
            "_view_module": "@jupyter-widgets/controls",
            "_view_module_version": "1.5.0",
            "_view_name": "LabelView",
            "description": "",
            "description_tooltip": null,
            "layout": "IPY_MODEL_a0a3e88d805242bf90aa88b5ddea466b",
            "placeholder": "​",
            "style": "IPY_MODEL_3d884b34b9764270a59eecaccd56a355",
            "value": " 0.01MB of 0.01MB uploaded (0.00MB deduped)\r"
          }
        },
        "d6555efbd122408180711e3968f3ee09": {
          "model_module": "@jupyter-widgets/base",
          "model_module_version": "1.2.0",
          "model_name": "LayoutModel",
          "state": {
            "_model_module": "@jupyter-widgets/base",
            "_model_module_version": "1.2.0",
            "_model_name": "LayoutModel",
            "_view_count": null,
            "_view_module": "@jupyter-widgets/base",
            "_view_module_version": "1.2.0",
            "_view_name": "LayoutView",
            "align_content": null,
            "align_items": null,
            "align_self": null,
            "border": null,
            "bottom": null,
            "display": null,
            "flex": null,
            "flex_flow": null,
            "grid_area": null,
            "grid_auto_columns": null,
            "grid_auto_flow": null,
            "grid_auto_rows": null,
            "grid_column": null,
            "grid_gap": null,
            "grid_row": null,
            "grid_template_areas": null,
            "grid_template_columns": null,
            "grid_template_rows": null,
            "height": null,
            "justify_content": null,
            "justify_items": null,
            "left": null,
            "margin": null,
            "max_height": null,
            "max_width": null,
            "min_height": null,
            "min_width": null,
            "object_fit": null,
            "object_position": null,
            "order": null,
            "overflow": null,
            "overflow_x": null,
            "overflow_y": null,
            "padding": null,
            "right": null,
            "top": null,
            "visibility": null,
            "width": null
          }
        },
        "e4ab990902a84364950000653d409438": {
          "model_module": "@jupyter-widgets/controls",
          "model_module_version": "1.5.0",
          "model_name": "FloatProgressModel",
          "state": {
            "_dom_classes": [],
            "_model_module": "@jupyter-widgets/controls",
            "_model_module_version": "1.5.0",
            "_model_name": "FloatProgressModel",
            "_view_count": null,
            "_view_module": "@jupyter-widgets/controls",
            "_view_module_version": "1.5.0",
            "_view_name": "ProgressView",
            "bar_style": "",
            "description": "",
            "description_tooltip": null,
            "layout": "IPY_MODEL_d6555efbd122408180711e3968f3ee09",
            "max": 1,
            "min": 0,
            "orientation": "horizontal",
            "style": "IPY_MODEL_8ea898a450164380a0d259efafb88daf",
            "value": 1
          }
        },
        "f0e8244ee96a442191c64020eb9d2404": {
          "model_module": "@jupyter-widgets/base",
          "model_module_version": "1.2.0",
          "model_name": "LayoutModel",
          "state": {
            "_model_module": "@jupyter-widgets/base",
            "_model_module_version": "1.2.0",
            "_model_name": "LayoutModel",
            "_view_count": null,
            "_view_module": "@jupyter-widgets/base",
            "_view_module_version": "1.2.0",
            "_view_name": "LayoutView",
            "align_content": null,
            "align_items": null,
            "align_self": null,
            "border": null,
            "bottom": null,
            "display": null,
            "flex": null,
            "flex_flow": null,
            "grid_area": null,
            "grid_auto_columns": null,
            "grid_auto_flow": null,
            "grid_auto_rows": null,
            "grid_column": null,
            "grid_gap": null,
            "grid_row": null,
            "grid_template_areas": null,
            "grid_template_columns": null,
            "grid_template_rows": null,
            "height": null,
            "justify_content": null,
            "justify_items": null,
            "left": null,
            "margin": null,
            "max_height": null,
            "max_width": null,
            "min_height": null,
            "min_width": null,
            "object_fit": null,
            "object_position": null,
            "order": null,
            "overflow": null,
            "overflow_x": null,
            "overflow_y": null,
            "padding": null,
            "right": null,
            "top": null,
            "visibility": null,
            "width": null
          }
        },
        "f26bb493e6ad4c59ae24c7a3caab0670": {
          "model_module": "@jupyter-widgets/controls",
          "model_module_version": "1.5.0",
          "model_name": "DescriptionStyleModel",
          "state": {
            "_model_module": "@jupyter-widgets/controls",
            "_model_module_version": "1.5.0",
            "_model_name": "DescriptionStyleModel",
            "_view_count": null,
            "_view_module": "@jupyter-widgets/base",
            "_view_module_version": "1.2.0",
            "_view_name": "StyleView",
            "description_width": ""
          }
        },
        "ff87d76723eb442fbc35f9aed8a166d5": {
          "model_module": "@jupyter-widgets/controls",
          "model_module_version": "1.5.0",
          "model_name": "FloatProgressModel",
          "state": {
            "_dom_classes": [],
            "_model_module": "@jupyter-widgets/controls",
            "_model_module_version": "1.5.0",
            "_model_name": "FloatProgressModel",
            "_view_count": null,
            "_view_module": "@jupyter-widgets/controls",
            "_view_module_version": "1.5.0",
            "_view_name": "ProgressView",
            "bar_style": "",
            "description": "",
            "description_tooltip": null,
            "layout": "IPY_MODEL_70374a9f3ac24360af2c58633c61c249",
            "max": 1,
            "min": 0,
            "orientation": "horizontal",
            "style": "IPY_MODEL_52490cccac964a5abd36839373c08780",
            "value": 1
          }
        }
      }
    }
  },
  "nbformat": 4,
  "nbformat_minor": 0
}
