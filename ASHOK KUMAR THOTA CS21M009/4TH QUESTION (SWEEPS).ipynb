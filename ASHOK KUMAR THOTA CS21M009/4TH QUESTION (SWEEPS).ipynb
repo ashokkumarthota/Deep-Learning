{
  "cells": [
    {
      "cell_type": "markdown",
      "metadata": {
        "id": "ieGdgnLcDJYv"
      },
      "source": [
        "## Required Packages"
      ]
    },
    {
      "cell_type": "code",
      "execution_count": 1,
      "metadata": {
        "id": "mhx7ACF64r1J"
      },
      "outputs": [],
      "source": [
        "#Real Code\n",
        "import numpy as np\n",
        "from keras.datasets import fashion_mnist\n",
        "import matplotlib.pyplot as plt\n",
        "import pandas as pd\n",
        "from sklearn.model_selection import train_test_split\n",
        "from sklearn.metrics import accuracy_score, mean_squared_error\n",
        "from tqdm import tqdm_notebook \n",
        "from sklearn.preprocessing import OneHotEncoder\n",
        "from numpy.linalg import norm"
      ]
    },
    {
      "cell_type": "markdown",
      "metadata": {
        "id": "3uRBEDbEDQ7e"
      },
      "source": [
        "## Setting random seed"
      ]
    },
    {
      "cell_type": "code",
      "execution_count": 2,
      "metadata": {
        "id": "PZkuZF9tO1nP"
      },
      "outputs": [],
      "source": [
        "np.random.seed(0)"
      ]
    },
    {
      "cell_type": "markdown",
      "metadata": {
        "id": "VJ5EAI99DVG8"
      },
      "source": [
        "## Splitting and Normalising"
      ]
    },
    {
      "cell_type": "code",
      "execution_count": 3,
      "metadata": {
        "colab": {
          "base_uri": "https://localhost:8080/"
        },
        "id": "CPhLysrE4yXL",
        "outputId": "b0153099-ea60-4f2d-e80e-2791bad99d58"
      },
      "outputs": [
        {
          "output_type": "stream",
          "name": "stdout",
          "text": [
            "Downloading data from https://storage.googleapis.com/tensorflow/tf-keras-datasets/train-labels-idx1-ubyte.gz\n",
            "32768/29515 [=================================] - 0s 0us/step\n",
            "40960/29515 [=========================================] - 0s 0us/step\n",
            "Downloading data from https://storage.googleapis.com/tensorflow/tf-keras-datasets/train-images-idx3-ubyte.gz\n",
            "26427392/26421880 [==============================] - 0s 0us/step\n",
            "26435584/26421880 [==============================] - 0s 0us/step\n",
            "Downloading data from https://storage.googleapis.com/tensorflow/tf-keras-datasets/t10k-labels-idx1-ubyte.gz\n",
            "16384/5148 [===============================================================================================] - 0s 0us/step\n",
            "Downloading data from https://storage.googleapis.com/tensorflow/tf-keras-datasets/t10k-images-idx3-ubyte.gz\n",
            "4423680/4422102 [==============================] - 0s 0us/step\n",
            "4431872/4422102 [==============================] - 0s 0us/step\n",
            "(60000, 28, 28) (10000, 28, 28) (60000,) (10000,) <class 'numpy.ndarray'> [0. 0. 0. 0. 0. 0. 0. 0. 0. 0. 0. 0. 0. 0. 0. 0. 0. 0. 0. 0. 0. 0. 0. 0.\n",
            " 0. 0. 0. 0.]\n",
            "(60000, 784) (10000, 784) (60000,) (10000,) <class 'numpy.float64'> 0.0\n"
          ]
        }
      ],
      "source": [
        "(x_train,y_train),(x_val,y_val)=fashion_mnist.load_data()\n",
        "x_train = x_train.astype('float')/ 255.0\n",
        "x_val = x_val.astype('float')/ 255.0\n",
        "print(x_train.shape, x_val.shape,y_train.shape,y_val.shape,type(x_train[0][0]),x_train[0][0])\n",
        "x_train = x_train.reshape(60000,784)\n",
        "x_val = x_val.reshape(10000,784)\n",
        "print(x_train.shape, x_val.shape,y_train.shape,y_val.shape,type(x_train[0][0]),x_train[0][0])"
      ]
    },
    {
      "cell_type": "markdown",
      "metadata": {
        "id": "whMSoRgmDamG"
      },
      "source": [
        "## 10% for testing from training data"
      ]
    },
    {
      "cell_type": "code",
      "execution_count": 4,
      "metadata": {
        "colab": {
          "base_uri": "https://localhost:8080/"
        },
        "id": "6qcOe9ME-E1O",
        "outputId": "6de4d2ad-00e6-45a7-a3f8-dc9a4c715593"
      },
      "outputs": [
        {
          "output_type": "stream",
          "name": "stdout",
          "text": [
            "(54000, 784) (6000, 784) (54000,) (6000,) <class 'numpy.float64'> 0.0\n"
          ]
        }
      ],
      "source": [
        "x_train, x_test, y_train, y_test = train_test_split(x_train, y_train, test_size=0.1,stratify=y_train, random_state=0)\n",
        "print(x_train.shape, x_test.shape,y_train.shape,y_test.shape,type(x_train[0][0]),x_train[0][0])"
      ]
    },
    {
      "cell_type": "code",
      "execution_count": 5,
      "metadata": {
        "colab": {
          "base_uri": "https://localhost:8080/"
        },
        "id": "2yE0CD9lekr4",
        "outputId": "b8850b13-dfcb-4cee-b5ab-ac300c0eac6b"
      },
      "outputs": [
        {
          "output_type": "stream",
          "name": "stdout",
          "text": [
            "float64\n"
          ]
        }
      ],
      "source": [
        "print(x_train.dtype) #arr = arr.astype('float128')"
      ]
    },
    {
      "cell_type": "markdown",
      "metadata": {
        "id": "8m2jEJWgDlSa"
      },
      "source": [
        "## One Hot Encoding"
      ]
    },
    {
      "cell_type": "code",
      "execution_count": 6,
      "metadata": {
        "colab": {
          "base_uri": "https://localhost:8080/"
        },
        "id": "L91K_2Yt40Wq",
        "outputId": "69efbde1-5680-4251-8793-5e17a49f2acf"
      },
      "outputs": [
        {
          "output_type": "stream",
          "name": "stdout",
          "text": [
            "(54000, 10) (6000, 10)\n"
          ]
        }
      ],
      "source": [
        "enc = OneHotEncoder()\n",
        "# 0 -> (1, 0, 0, 0), 1 -> (0, 1, 0, 0), 2 -> (0, 0, 1, 0), 3 -> (0, 0, 0, 1)\n",
        "y_OH_train = enc.fit_transform(np.expand_dims(y_train,1)).toarray()\n",
        "y_OH_val = enc.fit_transform(np.expand_dims(y_test,1)).toarray()\n",
        "print(y_OH_train.shape, y_OH_val.shape)"
      ]
    },
    {
      "cell_type": "markdown",
      "metadata": {
        "id": "uadXKvvRDpwk"
      },
      "source": [
        "## Wandb Configuration"
      ]
    },
    {
      "cell_type": "code",
      "execution_count": 7,
      "metadata": {
        "colab": {
          "base_uri": "https://localhost:8080/",
          "height": 918
        },
        "id": "uzfvtWfX5uCj",
        "outputId": "866267fc-9f27-468a-a342-0023096d67c1"
      },
      "outputs": [
        {
          "output_type": "stream",
          "name": "stdout",
          "text": [
            "Collecting wandb\n",
            "  Downloading wandb-0.12.10-py2.py3-none-any.whl (1.7 MB)\n",
            "\u001b[?25l\r\u001b[K     |▏                               | 10 kB 23.3 MB/s eta 0:00:01\r\u001b[K     |▍                               | 20 kB 27.9 MB/s eta 0:00:01\r\u001b[K     |▋                               | 30 kB 16.5 MB/s eta 0:00:01\r\u001b[K     |▊                               | 40 kB 6.7 MB/s eta 0:00:01\r\u001b[K     |█                               | 51 kB 6.1 MB/s eta 0:00:01\r\u001b[K     |█▏                              | 61 kB 7.2 MB/s eta 0:00:01\r\u001b[K     |█▍                              | 71 kB 7.7 MB/s eta 0:00:01\r\u001b[K     |█▌                              | 81 kB 6.1 MB/s eta 0:00:01\r\u001b[K     |█▊                              | 92 kB 6.7 MB/s eta 0:00:01\r\u001b[K     |██                              | 102 kB 7.3 MB/s eta 0:00:01\r\u001b[K     |██                              | 112 kB 7.3 MB/s eta 0:00:01\r\u001b[K     |██▎                             | 122 kB 7.3 MB/s eta 0:00:01\r\u001b[K     |██▌                             | 133 kB 7.3 MB/s eta 0:00:01\r\u001b[K     |██▊                             | 143 kB 7.3 MB/s eta 0:00:01\r\u001b[K     |██▉                             | 153 kB 7.3 MB/s eta 0:00:01\r\u001b[K     |███                             | 163 kB 7.3 MB/s eta 0:00:01\r\u001b[K     |███▎                            | 174 kB 7.3 MB/s eta 0:00:01\r\u001b[K     |███▍                            | 184 kB 7.3 MB/s eta 0:00:01\r\u001b[K     |███▋                            | 194 kB 7.3 MB/s eta 0:00:01\r\u001b[K     |███▉                            | 204 kB 7.3 MB/s eta 0:00:01\r\u001b[K     |████                            | 215 kB 7.3 MB/s eta 0:00:01\r\u001b[K     |████▏                           | 225 kB 7.3 MB/s eta 0:00:01\r\u001b[K     |████▍                           | 235 kB 7.3 MB/s eta 0:00:01\r\u001b[K     |████▋                           | 245 kB 7.3 MB/s eta 0:00:01\r\u001b[K     |████▊                           | 256 kB 7.3 MB/s eta 0:00:01\r\u001b[K     |█████                           | 266 kB 7.3 MB/s eta 0:00:01\r\u001b[K     |█████▏                          | 276 kB 7.3 MB/s eta 0:00:01\r\u001b[K     |█████▍                          | 286 kB 7.3 MB/s eta 0:00:01\r\u001b[K     |█████▌                          | 296 kB 7.3 MB/s eta 0:00:01\r\u001b[K     |█████▊                          | 307 kB 7.3 MB/s eta 0:00:01\r\u001b[K     |██████                          | 317 kB 7.3 MB/s eta 0:00:01\r\u001b[K     |██████                          | 327 kB 7.3 MB/s eta 0:00:01\r\u001b[K     |██████▎                         | 337 kB 7.3 MB/s eta 0:00:01\r\u001b[K     |██████▌                         | 348 kB 7.3 MB/s eta 0:00:01\r\u001b[K     |██████▊                         | 358 kB 7.3 MB/s eta 0:00:01\r\u001b[K     |██████▉                         | 368 kB 7.3 MB/s eta 0:00:01\r\u001b[K     |███████                         | 378 kB 7.3 MB/s eta 0:00:01\r\u001b[K     |███████▎                        | 389 kB 7.3 MB/s eta 0:00:01\r\u001b[K     |███████▍                        | 399 kB 7.3 MB/s eta 0:00:01\r\u001b[K     |███████▋                        | 409 kB 7.3 MB/s eta 0:00:01\r\u001b[K     |███████▉                        | 419 kB 7.3 MB/s eta 0:00:01\r\u001b[K     |████████                        | 430 kB 7.3 MB/s eta 0:00:01\r\u001b[K     |████████▏                       | 440 kB 7.3 MB/s eta 0:00:01\r\u001b[K     |████████▍                       | 450 kB 7.3 MB/s eta 0:00:01\r\u001b[K     |████████▋                       | 460 kB 7.3 MB/s eta 0:00:01\r\u001b[K     |████████▊                       | 471 kB 7.3 MB/s eta 0:00:01\r\u001b[K     |█████████                       | 481 kB 7.3 MB/s eta 0:00:01\r\u001b[K     |█████████▏                      | 491 kB 7.3 MB/s eta 0:00:01\r\u001b[K     |█████████▍                      | 501 kB 7.3 MB/s eta 0:00:01\r\u001b[K     |█████████▌                      | 512 kB 7.3 MB/s eta 0:00:01\r\u001b[K     |█████████▊                      | 522 kB 7.3 MB/s eta 0:00:01\r\u001b[K     |██████████                      | 532 kB 7.3 MB/s eta 0:00:01\r\u001b[K     |██████████                      | 542 kB 7.3 MB/s eta 0:00:01\r\u001b[K     |██████████▎                     | 552 kB 7.3 MB/s eta 0:00:01\r\u001b[K     |██████████▌                     | 563 kB 7.3 MB/s eta 0:00:01\r\u001b[K     |██████████▊                     | 573 kB 7.3 MB/s eta 0:00:01\r\u001b[K     |██████████▉                     | 583 kB 7.3 MB/s eta 0:00:01\r\u001b[K     |███████████                     | 593 kB 7.3 MB/s eta 0:00:01\r\u001b[K     |███████████▎                    | 604 kB 7.3 MB/s eta 0:00:01\r\u001b[K     |███████████▍                    | 614 kB 7.3 MB/s eta 0:00:01\r\u001b[K     |███████████▋                    | 624 kB 7.3 MB/s eta 0:00:01\r\u001b[K     |███████████▉                    | 634 kB 7.3 MB/s eta 0:00:01\r\u001b[K     |████████████                    | 645 kB 7.3 MB/s eta 0:00:01\r\u001b[K     |████████████▏                   | 655 kB 7.3 MB/s eta 0:00:01\r\u001b[K     |████████████▍                   | 665 kB 7.3 MB/s eta 0:00:01\r\u001b[K     |████████████▋                   | 675 kB 7.3 MB/s eta 0:00:01\r\u001b[K     |████████████▊                   | 686 kB 7.3 MB/s eta 0:00:01\r\u001b[K     |█████████████                   | 696 kB 7.3 MB/s eta 0:00:01\r\u001b[K     |█████████████▏                  | 706 kB 7.3 MB/s eta 0:00:01\r\u001b[K     |█████████████▍                  | 716 kB 7.3 MB/s eta 0:00:01\r\u001b[K     |█████████████▌                  | 727 kB 7.3 MB/s eta 0:00:01\r\u001b[K     |█████████████▊                  | 737 kB 7.3 MB/s eta 0:00:01\r\u001b[K     |██████████████                  | 747 kB 7.3 MB/s eta 0:00:01\r\u001b[K     |██████████████                  | 757 kB 7.3 MB/s eta 0:00:01\r\u001b[K     |██████████████▎                 | 768 kB 7.3 MB/s eta 0:00:01\r\u001b[K     |██████████████▌                 | 778 kB 7.3 MB/s eta 0:00:01\r\u001b[K     |██████████████▊                 | 788 kB 7.3 MB/s eta 0:00:01\r\u001b[K     |██████████████▉                 | 798 kB 7.3 MB/s eta 0:00:01\r\u001b[K     |███████████████                 | 808 kB 7.3 MB/s eta 0:00:01\r\u001b[K     |███████████████▎                | 819 kB 7.3 MB/s eta 0:00:01\r\u001b[K     |███████████████▍                | 829 kB 7.3 MB/s eta 0:00:01\r\u001b[K     |███████████████▋                | 839 kB 7.3 MB/s eta 0:00:01\r\u001b[K     |███████████████▉                | 849 kB 7.3 MB/s eta 0:00:01\r\u001b[K     |████████████████                | 860 kB 7.3 MB/s eta 0:00:01\r\u001b[K     |████████████████▏               | 870 kB 7.3 MB/s eta 0:00:01\r\u001b[K     |████████████████▍               | 880 kB 7.3 MB/s eta 0:00:01\r\u001b[K     |████████████████▋               | 890 kB 7.3 MB/s eta 0:00:01\r\u001b[K     |████████████████▊               | 901 kB 7.3 MB/s eta 0:00:01\r\u001b[K     |█████████████████               | 911 kB 7.3 MB/s eta 0:00:01\r\u001b[K     |█████████████████▏              | 921 kB 7.3 MB/s eta 0:00:01\r\u001b[K     |█████████████████▍              | 931 kB 7.3 MB/s eta 0:00:01\r\u001b[K     |█████████████████▌              | 942 kB 7.3 MB/s eta 0:00:01\r\u001b[K     |█████████████████▊              | 952 kB 7.3 MB/s eta 0:00:01\r\u001b[K     |██████████████████              | 962 kB 7.3 MB/s eta 0:00:01\r\u001b[K     |██████████████████              | 972 kB 7.3 MB/s eta 0:00:01\r\u001b[K     |██████████████████▎             | 983 kB 7.3 MB/s eta 0:00:01\r\u001b[K     |██████████████████▌             | 993 kB 7.3 MB/s eta 0:00:01\r\u001b[K     |██████████████████▊             | 1.0 MB 7.3 MB/s eta 0:00:01\r\u001b[K     |██████████████████▉             | 1.0 MB 7.3 MB/s eta 0:00:01\r\u001b[K     |███████████████████             | 1.0 MB 7.3 MB/s eta 0:00:01\r\u001b[K     |███████████████████▎            | 1.0 MB 7.3 MB/s eta 0:00:01\r\u001b[K     |███████████████████▍            | 1.0 MB 7.3 MB/s eta 0:00:01\r\u001b[K     |███████████████████▋            | 1.1 MB 7.3 MB/s eta 0:00:01\r\u001b[K     |███████████████████▉            | 1.1 MB 7.3 MB/s eta 0:00:01\r\u001b[K     |████████████████████            | 1.1 MB 7.3 MB/s eta 0:00:01\r\u001b[K     |████████████████████▏           | 1.1 MB 7.3 MB/s eta 0:00:01\r\u001b[K     |████████████████████▍           | 1.1 MB 7.3 MB/s eta 0:00:01\r\u001b[K     |████████████████████▋           | 1.1 MB 7.3 MB/s eta 0:00:01\r\u001b[K     |████████████████████▊           | 1.1 MB 7.3 MB/s eta 0:00:01\r\u001b[K     |█████████████████████           | 1.1 MB 7.3 MB/s eta 0:00:01\r\u001b[K     |█████████████████████▏          | 1.1 MB 7.3 MB/s eta 0:00:01\r\u001b[K     |█████████████████████▍          | 1.1 MB 7.3 MB/s eta 0:00:01\r\u001b[K     |█████████████████████▌          | 1.2 MB 7.3 MB/s eta 0:00:01\r\u001b[K     |█████████████████████▊          | 1.2 MB 7.3 MB/s eta 0:00:01\r\u001b[K     |██████████████████████          | 1.2 MB 7.3 MB/s eta 0:00:01\r\u001b[K     |██████████████████████          | 1.2 MB 7.3 MB/s eta 0:00:01\r\u001b[K     |██████████████████████▎         | 1.2 MB 7.3 MB/s eta 0:00:01\r\u001b[K     |██████████████████████▌         | 1.2 MB 7.3 MB/s eta 0:00:01\r\u001b[K     |██████████████████████▊         | 1.2 MB 7.3 MB/s eta 0:00:01\r\u001b[K     |██████████████████████▉         | 1.2 MB 7.3 MB/s eta 0:00:01\r\u001b[K     |███████████████████████         | 1.2 MB 7.3 MB/s eta 0:00:01\r\u001b[K     |███████████████████████▎        | 1.2 MB 7.3 MB/s eta 0:00:01\r\u001b[K     |███████████████████████▍        | 1.3 MB 7.3 MB/s eta 0:00:01\r\u001b[K     |███████████████████████▋        | 1.3 MB 7.3 MB/s eta 0:00:01\r\u001b[K     |███████████████████████▉        | 1.3 MB 7.3 MB/s eta 0:00:01\r\u001b[K     |████████████████████████        | 1.3 MB 7.3 MB/s eta 0:00:01\r\u001b[K     |████████████████████████▏       | 1.3 MB 7.3 MB/s eta 0:00:01\r\u001b[K     |████████████████████████▍       | 1.3 MB 7.3 MB/s eta 0:00:01\r\u001b[K     |████████████████████████▋       | 1.3 MB 7.3 MB/s eta 0:00:01\r\u001b[K     |████████████████████████▊       | 1.3 MB 7.3 MB/s eta 0:00:01\r\u001b[K     |█████████████████████████       | 1.3 MB 7.3 MB/s eta 0:00:01\r\u001b[K     |█████████████████████████▏      | 1.4 MB 7.3 MB/s eta 0:00:01\r\u001b[K     |█████████████████████████▍      | 1.4 MB 7.3 MB/s eta 0:00:01\r\u001b[K     |█████████████████████████▌      | 1.4 MB 7.3 MB/s eta 0:00:01\r\u001b[K     |█████████████████████████▊      | 1.4 MB 7.3 MB/s eta 0:00:01\r\u001b[K     |██████████████████████████      | 1.4 MB 7.3 MB/s eta 0:00:01\r\u001b[K     |██████████████████████████▏     | 1.4 MB 7.3 MB/s eta 0:00:01\r\u001b[K     |██████████████████████████▎     | 1.4 MB 7.3 MB/s eta 0:00:01\r\u001b[K     |██████████████████████████▌     | 1.4 MB 7.3 MB/s eta 0:00:01\r\u001b[K     |██████████████████████████▊     | 1.4 MB 7.3 MB/s eta 0:00:01\r\u001b[K     |██████████████████████████▉     | 1.4 MB 7.3 MB/s eta 0:00:01\r\u001b[K     |███████████████████████████     | 1.5 MB 7.3 MB/s eta 0:00:01\r\u001b[K     |███████████████████████████▎    | 1.5 MB 7.3 MB/s eta 0:00:01\r\u001b[K     |███████████████████████████▌    | 1.5 MB 7.3 MB/s eta 0:00:01\r\u001b[K     |███████████████████████████▋    | 1.5 MB 7.3 MB/s eta 0:00:01\r\u001b[K     |███████████████████████████▉    | 1.5 MB 7.3 MB/s eta 0:00:01\r\u001b[K     |████████████████████████████    | 1.5 MB 7.3 MB/s eta 0:00:01\r\u001b[K     |████████████████████████████▏   | 1.5 MB 7.3 MB/s eta 0:00:01\r\u001b[K     |████████████████████████████▍   | 1.5 MB 7.3 MB/s eta 0:00:01\r\u001b[K     |████████████████████████████▋   | 1.5 MB 7.3 MB/s eta 0:00:01\r\u001b[K     |████████████████████████████▉   | 1.5 MB 7.3 MB/s eta 0:00:01\r\u001b[K     |█████████████████████████████   | 1.6 MB 7.3 MB/s eta 0:00:01\r\u001b[K     |█████████████████████████████▏  | 1.6 MB 7.3 MB/s eta 0:00:01\r\u001b[K     |█████████████████████████████▍  | 1.6 MB 7.3 MB/s eta 0:00:01\r\u001b[K     |█████████████████████████████▌  | 1.6 MB 7.3 MB/s eta 0:00:01\r\u001b[K     |█████████████████████████████▊  | 1.6 MB 7.3 MB/s eta 0:00:01\r\u001b[K     |██████████████████████████████  | 1.6 MB 7.3 MB/s eta 0:00:01\r\u001b[K     |██████████████████████████████▏ | 1.6 MB 7.3 MB/s eta 0:00:01\r\u001b[K     |██████████████████████████████▎ | 1.6 MB 7.3 MB/s eta 0:00:01\r\u001b[K     |██████████████████████████████▌ | 1.6 MB 7.3 MB/s eta 0:00:01\r\u001b[K     |██████████████████████████████▊ | 1.6 MB 7.3 MB/s eta 0:00:01\r\u001b[K     |██████████████████████████████▉ | 1.7 MB 7.3 MB/s eta 0:00:01\r\u001b[K     |███████████████████████████████ | 1.7 MB 7.3 MB/s eta 0:00:01\r\u001b[K     |███████████████████████████████▎| 1.7 MB 7.3 MB/s eta 0:00:01\r\u001b[K     |███████████████████████████████▌| 1.7 MB 7.3 MB/s eta 0:00:01\r\u001b[K     |███████████████████████████████▋| 1.7 MB 7.3 MB/s eta 0:00:01\r\u001b[K     |███████████████████████████████▉| 1.7 MB 7.3 MB/s eta 0:00:01\r\u001b[K     |████████████████████████████████| 1.7 MB 7.3 MB/s \n",
            "\u001b[?25hRequirement already satisfied: requests<3,>=2.0.0 in /usr/local/lib/python3.7/dist-packages (from wandb) (2.23.0)\n",
            "Collecting shortuuid>=0.5.0\n",
            "  Downloading shortuuid-1.0.8-py3-none-any.whl (9.5 kB)\n",
            "Collecting pathtools\n",
            "  Downloading pathtools-0.1.2.tar.gz (11 kB)\n",
            "Requirement already satisfied: promise<3,>=2.0 in /usr/local/lib/python3.7/dist-packages (from wandb) (2.3)\n",
            "Requirement already satisfied: Click!=8.0.0,>=7.0 in /usr/local/lib/python3.7/dist-packages (from wandb) (7.1.2)\n",
            "Requirement already satisfied: protobuf>=3.12.0 in /usr/local/lib/python3.7/dist-packages (from wandb) (3.17.3)\n",
            "Collecting sentry-sdk>=1.0.0\n",
            "  Downloading sentry_sdk-1.5.5-py2.py3-none-any.whl (144 kB)\n",
            "\u001b[K     |████████████████████████████████| 144 kB 71.5 MB/s \n",
            "\u001b[?25hCollecting yaspin>=1.0.0\n",
            "  Downloading yaspin-2.1.0-py3-none-any.whl (18 kB)\n",
            "Collecting GitPython>=1.0.0\n",
            "  Downloading GitPython-3.1.27-py3-none-any.whl (181 kB)\n",
            "\u001b[K     |████████████████████████████████| 181 kB 63.8 MB/s \n",
            "\u001b[?25hCollecting docker-pycreds>=0.4.0\n",
            "  Downloading docker_pycreds-0.4.0-py2.py3-none-any.whl (9.0 kB)\n",
            "Requirement already satisfied: PyYAML in /usr/local/lib/python3.7/dist-packages (from wandb) (3.13)\n",
            "Requirement already satisfied: six>=1.13.0 in /usr/local/lib/python3.7/dist-packages (from wandb) (1.15.0)\n",
            "Requirement already satisfied: psutil>=5.0.0 in /usr/local/lib/python3.7/dist-packages (from wandb) (5.4.8)\n",
            "Requirement already satisfied: python-dateutil>=2.6.1 in /usr/local/lib/python3.7/dist-packages (from wandb) (2.8.2)\n",
            "Collecting gitdb<5,>=4.0.1\n",
            "  Downloading gitdb-4.0.9-py3-none-any.whl (63 kB)\n",
            "\u001b[K     |████████████████████████████████| 63 kB 1.9 MB/s \n",
            "\u001b[?25hRequirement already satisfied: typing-extensions>=3.7.4.3 in /usr/local/lib/python3.7/dist-packages (from GitPython>=1.0.0->wandb) (3.10.0.2)\n",
            "Collecting smmap<6,>=3.0.1\n",
            "  Downloading smmap-5.0.0-py3-none-any.whl (24 kB)\n",
            "Requirement already satisfied: certifi>=2017.4.17 in /usr/local/lib/python3.7/dist-packages (from requests<3,>=2.0.0->wandb) (2021.10.8)\n",
            "Requirement already satisfied: idna<3,>=2.5 in /usr/local/lib/python3.7/dist-packages (from requests<3,>=2.0.0->wandb) (2.10)\n",
            "Requirement already satisfied: urllib3!=1.25.0,!=1.25.1,<1.26,>=1.21.1 in /usr/local/lib/python3.7/dist-packages (from requests<3,>=2.0.0->wandb) (1.24.3)\n",
            "Requirement already satisfied: chardet<4,>=3.0.2 in /usr/local/lib/python3.7/dist-packages (from requests<3,>=2.0.0->wandb) (3.0.4)\n",
            "Requirement already satisfied: termcolor<2.0.0,>=1.1.0 in /usr/local/lib/python3.7/dist-packages (from yaspin>=1.0.0->wandb) (1.1.0)\n",
            "Building wheels for collected packages: pathtools\n",
            "  Building wheel for pathtools (setup.py) ... \u001b[?25l\u001b[?25hdone\n",
            "  Created wheel for pathtools: filename=pathtools-0.1.2-py3-none-any.whl size=8806 sha256=a110e729ef6e2fae62b3c42bb81035636b4fa4b64c8c3220775adc967028a587\n",
            "  Stored in directory: /root/.cache/pip/wheels/3e/31/09/fa59cef12cdcfecc627b3d24273699f390e71828921b2cbba2\n",
            "Successfully built pathtools\n",
            "Installing collected packages: smmap, gitdb, yaspin, shortuuid, sentry-sdk, pathtools, GitPython, docker-pycreds, wandb\n",
            "Successfully installed GitPython-3.1.27 docker-pycreds-0.4.0 gitdb-4.0.9 pathtools-0.1.2 sentry-sdk-1.5.5 shortuuid-1.0.8 smmap-5.0.0 wandb-0.12.10 yaspin-2.1.0\n"
          ]
        },
        {
          "output_type": "display_data",
          "data": {
            "application/javascript": [
              "\n",
              "        window._wandbApiKey = new Promise((resolve, reject) => {\n",
              "            function loadScript(url) {\n",
              "            return new Promise(function(resolve, reject) {\n",
              "                let newScript = document.createElement(\"script\");\n",
              "                newScript.onerror = reject;\n",
              "                newScript.onload = resolve;\n",
              "                document.body.appendChild(newScript);\n",
              "                newScript.src = url;\n",
              "            });\n",
              "            }\n",
              "            loadScript(\"https://cdn.jsdelivr.net/npm/postmate/build/postmate.min.js\").then(() => {\n",
              "            const iframe = document.createElement('iframe')\n",
              "            iframe.style.cssText = \"width:0;height:0;border:none\"\n",
              "            document.body.appendChild(iframe)\n",
              "            const handshake = new Postmate({\n",
              "                container: iframe,\n",
              "                url: 'https://wandb.ai/authorize'\n",
              "            });\n",
              "            const timeout = setTimeout(() => reject(\"Couldn't auto authenticate\"), 5000)\n",
              "            handshake.then(function(child) {\n",
              "                child.on('authorize', data => {\n",
              "                    clearTimeout(timeout)\n",
              "                    resolve(data)\n",
              "                });\n",
              "            });\n",
              "            })\n",
              "        });\n",
              "    "
            ],
            "text/plain": [
              "<IPython.core.display.Javascript object>"
            ]
          },
          "metadata": {}
        },
        {
          "output_type": "stream",
          "name": "stderr",
          "text": [
            "\u001b[34m\u001b[1mwandb\u001b[0m: You can find your API key in your browser here: https://wandb.ai/authorize\n"
          ]
        },
        {
          "name": "stdout",
          "output_type": "stream",
          "text": [
            "wandb: Paste an API key from your profile and hit enter, or press ctrl+c to quit: ··········\n"
          ]
        },
        {
          "output_type": "stream",
          "name": "stderr",
          "text": [
            "\u001b[34m\u001b[1mwandb\u001b[0m: Appending key for api.wandb.ai to your netrc file: /root/.netrc\n"
          ]
        },
        {
          "output_type": "execute_result",
          "data": {
            "text/plain": [
              "True"
            ]
          },
          "metadata": {},
          "execution_count": 7
        }
      ],
      "source": [
        "!pip install wandb --upgrade\n",
        "import wandb\n",
        "wandb.login()"
      ]
    },
    {
      "cell_type": "markdown",
      "metadata": {
        "id": "wGua_Q-xDuRm"
      },
      "source": [
        "## sweep configuration"
      ]
    },
    {
      "cell_type": "code",
      "execution_count": 32,
      "metadata": {
        "id": "haCcBWa952Yq"
      },
      "outputs": [],
      "source": [
        "sweep_config = {\n",
        "    'method': 'grid', #random, bayes\n",
        "    'metric' : {\n",
        "    'name': 'accuracy',\n",
        "    'goal': 'maximize'   \n",
        "    },\n",
        "    'parameters' : {\n",
        "        'epochs' : {\n",
        "            'values' : [10]\n",
        "        },\n",
        "        'batch_size' : {\n",
        "            'values' : [128]\n",
        "        },\n",
        "        'optimizer' : {\n",
        "            'values' : ['Nadam']\n",
        "        },\n",
        "        'learing_rate' : {\n",
        "            'values' : [0.0005]\n",
        "        },\n",
        "        'weight_initialisation' : {\n",
        "            'values' : ['he']\n",
        "        },\n",
        "        'activation_functions' : {\n",
        "            'values' : ['relu']\n",
        "        },\n",
        "        'weight_decay' : {\n",
        "            'values' : [0.0005]\n",
        "        },\n",
        "        'noof_hidden' : {\n",
        "            'values' : [3]\n",
        "        },\n",
        "        'size_of_every_hidden' : {\n",
        "            'values' : [128]\n",
        "        }\n",
        "    }\n",
        "}"
      ]
    },
    {
      "cell_type": "code",
      "execution_count": 33,
      "metadata": {
        "colab": {
          "base_uri": "https://localhost:8080/"
        },
        "id": "OyizsYkN6hbZ",
        "outputId": "b6233954-492b-4690-83cb-37c881efaab6"
      },
      "outputs": [
        {
          "output_type": "stream",
          "name": "stdout",
          "text": [
            "Create sweep with ID: 9v7blprn\n",
            "Sweep URL: https://wandb.ai/026-and-009/DL%201.1/sweeps/9v7blprn\n"
          ]
        }
      ],
      "source": [
        "sweep_id = wandb.sweep(sweep_config, project=\"DL 1.1\")"
      ]
    },
    {
      "cell_type": "code",
      "execution_count": 34,
      "metadata": {
        "id": "PTcJFnLf42iK"
      },
      "outputs": [],
      "source": [
        "class FFSN_MultiClass:\n",
        "  \n",
        "  def __init__(self, n_inputs, n_outputs, noof_hidden, size_of_every_hidden, \n",
        "               init_method = 'random', activation_function = 'sigmoid'):\n",
        "    hidden_sizes=[]\n",
        "    for i in range(noof_hidden):\n",
        "        hidden_sizes.append(size_of_every_hidden)\n",
        "    self.nx = n_inputs\n",
        "    self.ny = n_outputs\n",
        "    self.nh = len(hidden_sizes)\n",
        "    self.sizes = [self.nx] + hidden_sizes + [self.ny]\n",
        "    self.activation_function = activation_function\n",
        "\n",
        "    self.W = {}\n",
        "    self.B = {}\n",
        "    np.random.seed(0)\n",
        "\n",
        "    if init_method == \"random\":\n",
        "      for i in range(self.nh+1):\n",
        "        self.W[i+1] = np.random.randn(self.sizes[i], self.sizes[i+1])\n",
        "        self.B[i+1] = np.random.randn(1, self.sizes[i+1])\n",
        "    elif init_method == \"xavier\":\n",
        "      for i in range(self.nh+1):\n",
        "        self.W[i+1] = np.random.randn(self.sizes[i], self.sizes[i+1])*np.sqrt(1/self.sizes[i])\n",
        "        self.B[i+1] = np.random.randn(1, self.sizes[i+1])\n",
        "    elif init_method == \"he\":\n",
        "      for i in range(self.nh+1):\n",
        "        self.W[i+1] = np.random.randn(self.sizes[i], self.sizes[i+1])*np.sqrt(2/self.sizes[i])\n",
        "        self.B[i+1] = np.random.randn(1, self.sizes[i+1])\n",
        "\n",
        "  def forward_activation(self, X): \n",
        "    if self.activation_function == \"sigmoid\":\n",
        "      return 1.0/(1.0 + np.exp(-X))\n",
        "    elif self.activation_function == \"tanh\":\n",
        "      return np.tanh(X)\n",
        "    elif self.activation_function == \"relu\":\n",
        "      return np.maximum(0,X)\n",
        "    elif self.activation_function == \"leaky_relu\":\n",
        "      return np.maximum(self.leaky_slope*X,X)\n",
        "      \n",
        "  def grad_activation(self, X):\n",
        "    if self.activation_function == \"sigmoid\":\n",
        "      return X*(1-X) \n",
        "    elif self.activation_function == \"tanh\":\n",
        "      return (1-np.square(X))\n",
        "    elif self.activation_function == \"relu\":\n",
        "      return 1.0*(X>0)\n",
        "    elif self.activation_function == \"leaky_relu\":\n",
        "      d=np.zeros_like(X)\n",
        "      d[X<=0]=self.leaky_slope\n",
        "      d[X>0]=1\n",
        "      return d\n",
        "  \n",
        "  def softmax(self, x):\n",
        "    exps = np.exp(x)\n",
        "    return exps / np.sum(exps)\n",
        "\n",
        "  def forward_pass(self, x):\n",
        "    self.A = {}\n",
        "    self.H = {}\n",
        "    self.H[0] = x.reshape(1, -1)\n",
        "    for i in range(self.nh):\n",
        "      self.A[i+1] = np.matmul(self.H[i], self.W[i+1]) + self.B[i+1]\n",
        "      self.H[i+1] = self.forward_activation(self.A[i+1])\n",
        "    self.A[self.nh+1] = np.matmul(self.H[self.nh], self.W[self.nh+1]) + self.B[self.nh+1]\n",
        "    self.H[self.nh+1] = self.softmax(self.A[self.nh+1])\n",
        "    return self.H[self.nh+1]\n",
        "  \n",
        "  def predict(self, X):\n",
        "    Y_pred = []\n",
        "    for x in X:\n",
        "      y_pred = self.forward_pass(x)\n",
        "      Y_pred.append(y_pred)\n",
        "    return np.array(Y_pred).squeeze()\n",
        "  \n",
        "  def cross_entropy(self,label,pred):\n",
        "    yl=np.multiply(pred,label)\n",
        "    yl=yl[yl!=0]\n",
        "    yl=-np.log(yl)\n",
        "    yl=np.mean(yl)\n",
        "    return yl\n",
        " \n",
        "  def grad(self, x, y):\n",
        "    self.forward_pass(x)\n",
        "    self.dW = {}\n",
        "    self.dB = {}\n",
        "    self.dH = {}\n",
        "    self.dA = {}\n",
        "    L = self.nh + 1\n",
        "    self.dA[L] = (self.H[L] - y)\n",
        "    for k in range(L, 0, -1):\n",
        "      self.dW[k] = np.matmul(self.H[k-1].T, self.dA[k])\n",
        "      self.dB[k] = self.dA[k]\n",
        "      self.dH[k-1] = np.matmul(self.dA[k], self.W[k].T)\n",
        "      self.dA[k-1] = np.multiply(self.dH[k-1], self.grad_activation(self.H[k-1])) \n",
        "    \n",
        "  def fit(self, X, Y, epochs=100, algo= \"GD\", learning_rate=0.01, display_loss=True,\n",
        "          mini_batch_size=60000, eps=1e-8, beta=0.9, beta1=0.9, beta2=0.9, gamma=0.9,lambda_val=0.5,l2_norm=True):\n",
        "      \n",
        "    if display_loss:\n",
        "      loss = {}\n",
        "    V_W = {}\n",
        "    V_B = {}\n",
        "    M_W = {}\n",
        "    M_B = {}\n",
        "    num_updates = 0\n",
        "    for i in range(self.nh+1):\n",
        "      V_W[i+1] = np.zeros((self.sizes[i], self.sizes[i+1]))\n",
        "      V_B[i+1] = np.zeros((1, self.sizes[i+1]))\n",
        "      M_W[i+1] = np.zeros((self.sizes[i], self.sizes[i+1]))\n",
        "      M_B[i+1] = np.zeros((1, self.sizes[i+1]))\n",
        "    if algo == 'SGD':\n",
        "        for epoch in tqdm_notebook(range(epochs), total=epochs, unit=\"epoch\"):\n",
        "          dW = {}\n",
        "          dB = {}\n",
        "          points_seen = 0\n",
        "          for i in range(self.nh+1):\n",
        "            dW[i+1] = np.zeros((self.sizes[i], self.sizes[i+1]))\n",
        "            dB[i+1] = np.zeros((1, self.sizes[i+1]))\n",
        "          for x, y in zip(X, Y):\n",
        "            self.grad(x, y)\n",
        "            for i in range(self.nh+1):\n",
        "              dW[i+1] += self.dW[i+1]\n",
        "              dB[i+1] += self.dB[i+1]\n",
        "            points_seen += 1\n",
        "            if points_seen % mini_batch_size == 0:\n",
        "              m = X.shape[1]\n",
        "              for i in range(self.nh+1):\n",
        "                if l2_norm:\n",
        "                  self.W[i+1] -= (learning_rate * lambda_val)/m * self.W[i+1] + learning_rate * (dW[i+1]/m)\n",
        "                else:\n",
        "                  self.W[i+1] -= learning_rate * (dW[i+1]/m)\n",
        "                self.B[i+1] -= learning_rate * (dB[i+1]/m)\n",
        "                dW[i+1] = np.zeros((self.sizes[i], self.sizes[i+1]))\n",
        "                dB[i+1] = np.zeros((1, self.sizes[i+1]))\n",
        "            \n",
        "          if display_loss:\n",
        "            Y_pred = self.predict(X) \n",
        "            loss[epoch] = self.cross_entropy(Y, Y_pred)\n",
        "          Y_pred_train = self.predict(x_train)\n",
        "          train_loss = self.cross_entropy(y_OH_train, Y_pred_train)\n",
        "          Y_pred_train = np.argmax(Y_pred_train,1)\n",
        "\n",
        "          Y_pred_val = self.predict(x_test)\n",
        "          test_loss = self.cross_entropy(y_OH_val, Y_pred_val)\n",
        "          Y_pred_val = np.argmax(Y_pred_val,1)\n",
        "\n",
        "\n",
        "          accuracy_train = accuracy_score(Y_pred_train, y_train)\n",
        "          accuracy_val = accuracy_score(Y_pred_val, y_test)\n",
        "          #print(accuracy_train,accuracy_val)\n",
        "          wandb.log({\"val_accuracy\": accuracy_val,\"val_loss\": test_loss, \n",
        "               \"loss\": train_loss,\"epochs\": epoch+1, \"accuracy\": accuracy_train})\n",
        "    \n",
        "    \n",
        "    if algo == 'Momentum':\n",
        "      for epoch in tqdm_notebook(range(epochs), total=epochs, unit=\"epoch\"):\n",
        "        dW = {}\n",
        "        dB = {}\n",
        "        points_seen = 0\n",
        "        for i in range(self.nh+1):\n",
        "          dW[i+1] = np.zeros((self.sizes[i], self.sizes[i+1]))\n",
        "          dB[i+1] = np.zeros((1, self.sizes[i+1]))\n",
        "        for x, y in zip(X, Y):\n",
        "          self.grad(x, y)\n",
        "          for i in range(self.nh+1):\n",
        "            dW[i+1] += self.dW[i+1]\n",
        "            dB[i+1] += self.dB[i+1]\n",
        "          points_seen += 1\n",
        "          if points_seen % mini_batch_size == 0:\n",
        "            m = X.shape[1]\n",
        "            for i in range(self.nh+1):\n",
        "              V_W[i+1] = gamma * V_W[i+1] + learning_rate * (dW[i+1]/m)\n",
        "              V_B[i+1] = gamma * V_B[i+1] + learning_rate * (dB[i+1]/m)\n",
        "                    \n",
        "            m = X.shape[1]\n",
        "            for i in range(self.nh+1):\n",
        "              if l2_norm:\n",
        "                self.W[i+1] -= (learning_rate * lambda_val)/m * self.W[i+1] + V_W[i+1]\n",
        "              else:\n",
        "                self.W[i+1] -= V_W[i+1]\n",
        "              self.B[i+1] -= V_B[i+1]\n",
        "              dW[i+1] = np.zeros((self.sizes[i], self.sizes[i+1]))\n",
        "              dB[i+1] = np.zeros((1, self.sizes[i+1]))\n",
        "            \n",
        "        if display_loss:\n",
        "          Y_pred = self.predict(X) \n",
        "          loss[epoch] = self.cross_entropy(Y, Y_pred)\n",
        "        Y_pred_train = self.predict(x_train)\n",
        "        train_loss = self.cross_entropy(y_OH_train, Y_pred_train)\n",
        "        Y_pred_train = np.argmax(Y_pred_train,1)\n",
        "\n",
        "        Y_pred_val = self.predict(x_test)\n",
        "        test_loss = self.cross_entropy(y_OH_val, Y_pred_val)\n",
        "        Y_pred_val = np.argmax(Y_pred_val,1)\n",
        "\n",
        "\n",
        "        accuracy_train = accuracy_score(Y_pred_train, y_train)\n",
        "        accuracy_val = accuracy_score(Y_pred_val, y_test)\n",
        "        #print(accuracy_train,accuracy_val)\n",
        "        wandb.log({\"val_accuracy\": accuracy_val,\"val_loss\": test_loss, \n",
        "               \"loss\": train_loss,\"epochs\": epoch+1, \"accuracy\": accuracy_train})\n",
        "\n",
        "    if algo == 'NAG':\n",
        "      for epoch in tqdm_notebook(range(epochs), total=epochs, unit=\"epoch\"):\n",
        "        dW = {}\n",
        "        dB = {}\n",
        "        points_seen = 0\n",
        "        for i in range(self.nh+1):\n",
        "          dW[i+1] = np.zeros((self.sizes[i], self.sizes[i+1]))\n",
        "          dB[i+1] = np.zeros((1, self.sizes[i+1]))\n",
        "        m = X.shape[1]\n",
        "        for i in range(self.nh+1):\n",
        "          self.W[i+1] -= gamma*V_W[i+1]\n",
        "          self.B[i+1] -= gamma*V_B[i+1]\n",
        "      \n",
        "        for x, y in zip(X, Y):\n",
        "          self.grad(x, y)\n",
        "          for i in range(self.nh+1):\n",
        "            dW[i+1] += self.dW[i+1]\n",
        "            dB[i+1] += self.dB[i+1]\n",
        "          points_seen += 1\n",
        "          if points_seen % mini_batch_size == 0:\n",
        "            m = X.shape[1]\n",
        "            for i in range(self.nh+1):\n",
        "              self.W[i+1] -= learning_rate * (dW[i+1]/m)\n",
        "              self.B[i+1] -= learning_rate * (dB[i+1]/m)\n",
        "            m = X.shape[1]\n",
        "            for i in range(self.nh+1):\n",
        "              V_W[i+1] = gamma*V_W[i+1] + learning_rate * (dW[i+1]/m)\n",
        "              V_B[i+1] = gamma*V_B[i+1] + learning_rate * (dB[i+1]/m)\n",
        "            m = X.shape[1]\n",
        "            for i in range(self.nh+1):\n",
        "              dW[i+1] = np.zeros((self.sizes[i], self.sizes[i+1]))\n",
        "              dB[i+1] = np.zeros((1, self.sizes[i+1]))\n",
        "              if l2_norm:\n",
        "                self.W[i+1] -= (learning_rate * lambda_val)/m * self.W[i+1] + gamma*V_W[i+1]\n",
        "              else:\n",
        "                self.W[i+1] -= gamma*V_W[i+1]\n",
        "              self.B[i+1] -= gamma*V_B[i+1]\n",
        "\n",
        "        if display_loss:\n",
        "          Y_pred = self.predict(X) \n",
        "          loss[epoch] = self.cross_entropy(Y, Y_pred)  \n",
        "        Y_pred_train = self.predict(x_train)\n",
        "        train_loss = self.cross_entropy(y_OH_train, Y_pred_train)\n",
        "        Y_pred_train = np.argmax(Y_pred_train,1)\n",
        "\n",
        "        Y_pred_val = self.predict(x_test)\n",
        "        test_loss = self.cross_entropy(y_OH_val, Y_pred_val)\n",
        "        Y_pred_val = np.argmax(Y_pred_val,1)\n",
        "\n",
        "\n",
        "        accuracy_train = accuracy_score(Y_pred_train, y_train)\n",
        "        accuracy_val = accuracy_score(Y_pred_val, y_test)\n",
        "        #print(accuracy_train,accuracy_val)\n",
        "        wandb.log({\"val_accuracy\": accuracy_val,\"val_loss\": test_loss, \n",
        "               \"loss\": train_loss,\"epochs\": epoch+1, \"accuracy\": accuracy_train})\n",
        "\n",
        "    if algo == 'RMSProp':\n",
        "      for epoch in tqdm_notebook(range(epochs), total=epochs, unit=\"epoch\"):\n",
        "        dW = {}\n",
        "        dB = {}\n",
        "        points_seen = 0\n",
        "        for i in range(self.nh+1):\n",
        "          dW[i+1] = np.zeros((self.sizes[i], self.sizes[i+1]))\n",
        "          dB[i+1] = np.zeros((1, self.sizes[i+1]))\n",
        "      \n",
        "        for x, y in zip(X, Y):\n",
        "          self.grad(x, y)\n",
        "          for i in range(self.nh+1):\n",
        "            dW[i+1] += self.dW[i+1]\n",
        "            dB[i+1] += self.dB[i+1]\n",
        "          points_seen += 1\n",
        "          if points_seen % mini_batch_size == 0:\n",
        "            m = X.shape[1]\n",
        "            for i in range(self.nh+1):\n",
        "              V_W[i+1] = beta*V_W[i+1] + (1-beta) * ((dW[i+1]/m)**2)\n",
        "              V_B[i+1] = beta*V_B[i+1] + (1-beta) * ((dB[i+1]/m)**2)\n",
        "            m = X.shape[1]\n",
        "            for i in range(self.nh+1):\n",
        "              if l2_norm:\n",
        "                self.W[i+1] -= (learning_rate * lambda_val)/m * self.W[i+1] + (learning_rate / np.sqrt(V_W[i+1]+ eps))* (dW[i+1]/m)\n",
        "              else:\n",
        "                self.W[i+1] -= (learning_rate / np.sqrt(V_W[i+1]+ eps))* (dW[i+1]/m)\n",
        "              self.B[i+1] -= (learning_rate / np.sqrt(V_B[i+1]+ eps))* (dB[i+1]/m)\n",
        "              dW[i+1] = np.zeros((self.sizes[i], self.sizes[i+1]))\n",
        "              dB[i+1] = np.zeros((1, self.sizes[i+1]))\n",
        "        \n",
        "        if display_loss:\n",
        "          Y_pred = self.predict(X) \n",
        "          loss[epoch] = self.cross_entropy(Y, Y_pred)\n",
        "        Y_pred_train = self.predict(x_train)\n",
        "        train_loss = self.cross_entropy(y_OH_train, Y_pred_train)\n",
        "        Y_pred_train = np.argmax(Y_pred_train,1)\n",
        "\n",
        "        Y_pred_val = self.predict(x_test)\n",
        "        test_loss = self.cross_entropy(y_OH_val, Y_pred_val)\n",
        "        Y_pred_val = np.argmax(Y_pred_val,1)\n",
        "\n",
        "\n",
        "        accuracy_train = accuracy_score(Y_pred_train, y_train)\n",
        "        accuracy_val = accuracy_score(Y_pred_val, y_test)\n",
        "        #print(accuracy_train,accuracy_val)\n",
        "        wandb.log({\"val_accuracy\": accuracy_val,\"val_loss\": test_loss, \n",
        "               \"loss\": train_loss,\"epochs\": epoch+1, \"accuracy\": accuracy_train})\n",
        "\n",
        "    if algo == 'Adam':\n",
        "      for epoch in tqdm_notebook(range(epochs), total=epochs, unit=\"epoch\"):\n",
        "        dW = {}\n",
        "        dB = {}\n",
        "        points_seen = 0\n",
        "        for i in range(self.nh+1):\n",
        "          dW[i+1] = np.zeros((self.sizes[i], self.sizes[i+1]))\n",
        "          dB[i+1] = np.zeros((1, self.sizes[i+1]))\n",
        "      \n",
        "        for x, y in zip(X, Y):\n",
        "          self.grad(x, y)\n",
        "          for i in range(self.nh+1):\n",
        "            dW[i+1] += self.dW[i+1]\n",
        "            dB[i+1] += self.dB[i+1]\n",
        "          points_seen += 1\n",
        "          if points_seen % mini_batch_size == 0:\n",
        "            m = X.shape[1]\n",
        "            num_updates += 1\n",
        "            for i in range(self.nh+1):\n",
        "              M_W[i+1] = beta1*M_W[i+1] + (1-beta1) * (dW[i+1]/m)\n",
        "              M_B[i+1] = beta1*M_B[i+1] + (1-beta1) * (dB[i+1]/m)\n",
        "              V_W[i+1] = beta2*V_W[i+1] + (1-beta2) * ((dW[i+1]/m)**2)\n",
        "              V_B[i+1] = beta2*V_B[i+1] + (1-beta2) * ((dB[i+1]/m)**2)\n",
        "              M_W_C = M_W[i+1] / (1 - np.power(beta1, num_updates))\n",
        "              M_B_C = M_B[i+1] / (1 - np.power(beta1, num_updates))\n",
        "              V_W_C = V_W[i+1] / (1 - np.power(beta2, num_updates))\n",
        "              V_B_C = V_B[i+1] / (1 - np.power(beta2, num_updates))\n",
        "              if l2_norm:\n",
        "                self.W[i+1] -= (learning_rate * lambda_val)/m * self.W[i+1] + (learning_rate / np.sqrt(V_W_C + eps))* M_W_C\n",
        "              else:\n",
        "                self.W[i+1] -= (learning_rate / np.sqrt(V_W_C + eps))* M_W_C\n",
        "              self.B[i+1] -= (learning_rate / np.sqrt(V_B_C + eps)) * M_B_C\n",
        "              dW[i+1] = np.zeros((self.sizes[i], self.sizes[i+1]))\n",
        "              dB[i+1] = np.zeros((1, self.sizes[i+1]))\n",
        "        \n",
        "        if display_loss:\n",
        "          Y_pred = self.predict(X) \n",
        "          loss[epoch] = self.cross_entropy(Y, Y_pred)\n",
        "        Y_pred_train = self.predict(x_train)\n",
        "        train_loss = self.cross_entropy(y_OH_train, Y_pred_train)\n",
        "        Y_pred_train = np.argmax(Y_pred_train,1)\n",
        "\n",
        "        Y_pred_val = self.predict(x_test)\n",
        "        test_loss = self.cross_entropy(y_OH_val, Y_pred_val)\n",
        "        Y_pred_val = np.argmax(Y_pred_val,1)\n",
        "\n",
        "\n",
        "        accuracy_train = accuracy_score(Y_pred_train, y_train)\n",
        "        accuracy_val = accuracy_score(Y_pred_val, y_test)\n",
        "        #print(accuracy_train,accuracy_val)\n",
        "        wandb.log({\"val_accuracy\": accuracy_val,\"val_loss\": test_loss, \n",
        "               \"loss\": train_loss,\"epochs\": epoch+1, \"accuracy\": accuracy_train})\n",
        "    if algo == 'Nadam':\n",
        "      for epoch in tqdm_notebook(range(epochs), total=epochs, unit=\"epoch\"):\n",
        "        dW = {}\n",
        "        dB = {}\n",
        "        points_seen = 0\n",
        "        for i in range(self.nh+1):\n",
        "          dW[i+1] = np.zeros((self.sizes[i], self.sizes[i+1]))\n",
        "          dB[i+1] = np.zeros((1, self.sizes[i+1]))\n",
        "      \n",
        "        for x, y in zip(X, Y):\n",
        "          self.grad(x, y)\n",
        "          for i in range(self.nh+1):\n",
        "            dW[i+1] += self.dW[i+1]\n",
        "            dB[i+1] += self.dB[i+1]\n",
        "          points_seen += 1\n",
        "          if points_seen % mini_batch_size == 0:\n",
        "            m = X.shape[1]\n",
        "            num_updates += 1\n",
        "            for i in range(self.nh+1):\n",
        "              M_W[i+1] = beta1*M_W[i+1] + (1-beta1) * (dW[i+1]/m)\n",
        "              M_B[i+1] = beta1*M_B[i+1] + (1-beta1) * (dB[i+1]/m)\n",
        "              V_W[i+1] = beta2*V_W[i+1] + (1-beta2) * ((dW[i+1]/m)**2)\n",
        "              V_B[i+1] = beta2*V_B[i+1] + (1-beta2) * ((dB[i+1]/m)**2)\n",
        "              M_W_C = M_W[i+1] / (1 - np.power(beta1, num_updates))\n",
        "              M_B_C = M_B[i+1] / (1 - np.power(beta1, num_updates))\n",
        "              V_W_C = V_W[i+1] / (1 - np.power(beta2, num_updates))\n",
        "              V_B_C = V_B[i+1] / (1 - np.power(beta2, num_updates))\n",
        "              if l2_norm:\n",
        "                self.W[i+1] -= (learning_rate * lambda_val)/m * self.W[i+1] + (learning_rate / np.sqrt(V_W_C + eps))* (beta1*M_W_C + (1-beta1)/(1-np.power(beta1,num_updates))* (dW[i+1]/m))\n",
        "              else:\n",
        "                self.W[i+1] -= (learning_rate / np.sqrt(V_W_C + eps))* (beta1*M_W_C + (1-beta1)/(1-np.power(beta1,num_updates))* (dW[i+1]/m) )\n",
        "              self.B[i+1] -= (learning_rate / np.sqrt(V_B_C + eps)) * (beta1*M_B_C + (1-beta1)/(1-np.power(beta1,num_updates))* (dB[i+1]/m))\n",
        "              dW[i+1] = np.zeros((self.sizes[i], self.sizes[i+1]))\n",
        "              dB[i+1] = np.zeros((1, self.sizes[i+1]))\n",
        "        \n",
        "        if display_loss:\n",
        "          Y_pred = self.predict(X) \n",
        "          loss[epoch] = self.cross_entropy(Y, Y_pred)\n",
        "        Y_pred_train = self.predict(x_train)\n",
        "        train_loss = self.cross_entropy(y_OH_train, Y_pred_train)\n",
        "        Y_pred_train = np.argmax(Y_pred_train,1)\n",
        "\n",
        "        Y_pred_val = self.predict(x_test)\n",
        "        test_loss = self.cross_entropy(y_OH_val, Y_pred_val)\n",
        "        Y_pred_val = np.argmax(Y_pred_val,1)\n",
        "\n",
        "\n",
        "        accuracy_train = accuracy_score(Y_pred_train, y_train)\n",
        "        accuracy_val = accuracy_score(Y_pred_val, y_test)\n",
        "        #print(accuracy_train,accuracy_val)\n",
        "        wandb.log({\"val_accuracy\": accuracy_val,\"val_loss\": test_loss, \n",
        "               \"loss\": train_loss,\"epochs\": epoch+1, \"accuracy\": accuracy_train})\n",
        "    \n",
        "    if display_loss:\n",
        "        plt.plot(np.array(list(loss.values())).astype(float))\n",
        "        plt.xlabel('Epochs')\n",
        "        plt.ylabel('CE')\n",
        "        plt.show()\n",
        "    print(accuracy_train,accuracy_val)"
      ]
    },
    {
      "cell_type": "code",
      "execution_count": 35,
      "metadata": {
        "id": "NY7TfY6S6qRe"
      },
      "outputs": [],
      "source": [
        "#code\n",
        "def train():\n",
        "    config_defaluts = {\n",
        "        'epochs' :5,\n",
        "        'learing_rate' : 1e-3,\n",
        "        'batch_size' : 64,\n",
        "        'optimizer' : 'RMSProp',\n",
        "        'weight_initialisation' : 'random',\n",
        "        'activation_functions' : 'sigmoid',\n",
        "        'weight_decay' : 0.0005,\n",
        "        'noof_hidden' : 2,\n",
        "        'size_of_every_hidden' : 10\n",
        "\n",
        "    }\n",
        "    wandb.init(config=config_defaluts)\n",
        "    config=wandb.config\n",
        "    wandb.init(name=\"hl_\"+str(config.noof_hidden)+\"_bs_\"+str(config.batch_size)+\"_ac_\"+str(config.activation_functions)+\"_Cross_Entropy\")\n",
        "    ffsn_multi = FFSN_MultiClass(784,10,config.noof_hidden,config.size_of_every_hidden,init_method=config.weight_initialisation, \n",
        "                                 activation_function=config.activation_functions)\n",
        "    ffsn_multi.fit(x_train,y_OH_train,epochs=config.epochs,learning_rate=config.learing_rate,\n",
        "                   algo= config.optimizer,mini_batch_size=config.batch_size,lambda_val=config.weight_decay)"
      ]
    },
    {
      "cell_type": "code",
      "execution_count": 36,
      "metadata": {
        "colab": {
          "base_uri": "https://localhost:8080/",
          "height": 1000,
          "referenced_widgets": [
            "cd16714fcd8b49bfa3a8f2a5d22b5a0e",
            "88bdd49eb03d46bdb250dfbd51e49d94",
            "946360c8e07f46708028f2d798526799",
            "b64b8caed1a943fc8c3e61940ac481b3",
            "c9fa9f5000334c58ac37fe49463dc048",
            "6d3c5445b1dc41e9947a8ec686506372",
            "1bd60b09af954a8f9fdcff4061a21566",
            "dc90dc40c7484b78b9cc388143342dc9",
            "c6391004a3fe4c5a9e2f74c7d15d68d8",
            "5f5a1678542349449f37a1c07f6fad0d",
            "049b86be2a394381baa0b71e3cb367dc",
            "3b527c8adac641ee8c0a0e0b635855de",
            "2266714eaeac4f6288de4fe00fb82d9a",
            "392ab088a42242e098f4f8016d77c70b",
            "364f157ce9f64ef0a6d64ff9298445ec",
            "ed433c2c4be54c7eb010e17b60e8e3a9",
            "6766288d7c024da5bdb3eadb3dfeee45",
            "773d8da50bc9494d83d5025e9a35380e",
            "e5c72460e08d42c79656d6e2ad4a8b6f",
            "8741efdf741e4815bf7fe06c4af8e901",
            "c7efaad431174c898c1b47f87bf5aaa0",
            "78bea490204c480a8e1590aa813ac9b4",
            "84de895ecd08427d8e1b67e6c2ff4c77",
            "fc925e78fecd44f8b0856a5620d21fd7",
            "6a75bb7f58eb4436bfdc0f488c2f48d1",
            "71e4f3fa582040d7bafeac295e4ea74e",
            "c224fdb7fabf4dbabf1237a5c2564eaf"
          ]
        },
        "id": "GNCOAdHG7WK6",
        "outputId": "e0de25fe-03fb-4987-afc7-711d8b883841"
      },
      "outputs": [
        {
          "output_type": "stream",
          "name": "stderr",
          "text": [
            "\u001b[34m\u001b[1mwandb\u001b[0m: Agent Starting Run: 8v73lqr8 with config:\n",
            "\u001b[34m\u001b[1mwandb\u001b[0m: \tactivation_functions: relu\n",
            "\u001b[34m\u001b[1mwandb\u001b[0m: \tbatch_size: 128\n",
            "\u001b[34m\u001b[1mwandb\u001b[0m: \tepochs: 10\n",
            "\u001b[34m\u001b[1mwandb\u001b[0m: \tlearing_rate: 0.0005\n",
            "\u001b[34m\u001b[1mwandb\u001b[0m: \tnoof_hidden: 3\n",
            "\u001b[34m\u001b[1mwandb\u001b[0m: \toptimizer: Nadam\n",
            "\u001b[34m\u001b[1mwandb\u001b[0m: \tsize_of_every_hidden: 128\n",
            "\u001b[34m\u001b[1mwandb\u001b[0m: \tweight_decay: 0.0005\n",
            "\u001b[34m\u001b[1mwandb\u001b[0m: \tweight_initialisation: he\n"
          ]
        },
        {
          "output_type": "display_data",
          "data": {
            "text/html": [
              "\n",
              "                    Syncing run <strong><a href=\"https://wandb.ai/026-and-009/DL%201.1/runs/8v73lqr8\" target=\"_blank\">deft-sweep-1</a></strong> to <a href=\"https://wandb.ai/026-and-009/DL%201.1\" target=\"_blank\">Weights & Biases</a> (<a href=\"https://docs.wandb.com/integrations/jupyter.html\" target=\"_blank\">docs</a>).<br/>\n",
              "Sweep page: <a href=\"https://wandb.ai/026-and-009/DL%201.1/sweeps/9v7blprn\" target=\"_blank\">https://wandb.ai/026-and-009/DL%201.1/sweeps/9v7blprn</a><br/>\n",
              "\n",
              "                "
            ],
            "text/plain": [
              "<IPython.core.display.HTML object>"
            ]
          },
          "metadata": {}
        },
        {
          "output_type": "display_data",
          "data": {
            "text/html": [
              "Finishing last run (ID:8v73lqr8) before initializing another..."
            ],
            "text/plain": [
              "<IPython.core.display.HTML object>"
            ]
          },
          "metadata": {}
        },
        {
          "output_type": "display_data",
          "data": {
            "text/html": [
              "<br/>Waiting for W&B process to finish, PID 1477... <strong style=\"color:green\">(success).</strong>"
            ],
            "text/plain": [
              "<IPython.core.display.HTML object>"
            ]
          },
          "metadata": {}
        },
        {
          "output_type": "display_data",
          "data": {
            "application/vnd.jupyter.widget-view+json": {
              "model_id": "cd16714fcd8b49bfa3a8f2a5d22b5a0e",
              "version_minor": 0,
              "version_major": 2
            },
            "text/plain": [
              "VBox(children=(Label(value=' 0.00MB of 0.00MB uploaded (0.00MB deduped)\\r'), FloatProgress(value=1.0, max=1.0)…"
            ]
          },
          "metadata": {}
        },
        {
          "output_type": "display_data",
          "data": {
            "text/html": [
              "<style>\n",
              "    table.wandb td:nth-child(1) { padding: 0 10px; text-align: right }\n",
              "    .wandb-row { display: flex; flex-direction: row; flex-wrap: wrap; width: 100% }\n",
              "    .wandb-col { display: flex; flex-direction: column; flex-basis: 100%; flex: 1; padding: 10px; }\n",
              "    </style>\n",
              "<div class=\"wandb-row\"><div class=\"wandb-col\">\n",
              "</div><div class=\"wandb-col\">\n",
              "</div></div>\n",
              "Synced 4 W&B file(s), 0 media file(s), 0 artifact file(s) and 0 other file(s)\n",
              "<br/>Synced <strong style=\"color:#cdcd00\">deft-sweep-1</strong>: <a href=\"https://wandb.ai/026-and-009/DL%201.1/runs/8v73lqr8\" target=\"_blank\">https://wandb.ai/026-and-009/DL%201.1/runs/8v73lqr8</a><br/>\n",
              "Find logs at: <code>./wandb/run-20220222_114226-8v73lqr8/logs</code><br/>\n"
            ],
            "text/plain": [
              "<IPython.core.display.HTML object>"
            ]
          },
          "metadata": {}
        },
        {
          "output_type": "display_data",
          "data": {
            "text/html": [
              "Successfully finished last run (ID:8v73lqr8). Initializing new run:<br/>"
            ],
            "text/plain": [
              "<IPython.core.display.HTML object>"
            ]
          },
          "metadata": {}
        },
        {
          "output_type": "display_data",
          "data": {
            "text/html": [
              "\n",
              "                    Syncing run <strong><a href=\"https://wandb.ai/026-and-009/DL%201.1/runs/8v73lqr8\" target=\"_blank\">hl_3_bs_128_ac_relu_Cross_Entropy</a></strong> to <a href=\"https://wandb.ai/026-and-009/DL%201.1\" target=\"_blank\">Weights & Biases</a> (<a href=\"https://docs.wandb.com/integrations/jupyter.html\" target=\"_blank\">docs</a>).<br/>\n",
              "Sweep page: <a href=\"https://wandb.ai/026-and-009/DL%201.1/sweeps/9v7blprn\" target=\"_blank\">https://wandb.ai/026-and-009/DL%201.1/sweeps/9v7blprn</a><br/>\n",
              "\n",
              "                "
            ],
            "text/plain": [
              "<IPython.core.display.HTML object>"
            ]
          },
          "metadata": {}
        },
        {
          "output_type": "stream",
          "name": "stderr",
          "text": [
            "/usr/local/lib/python3.7/dist-packages/ipykernel_launcher.py:361: TqdmDeprecationWarning: This function will be removed in tqdm==5.0.0\n",
            "Please use `tqdm.notebook.tqdm` instead of `tqdm.tqdm_notebook`\n"
          ]
        },
        {
          "output_type": "display_data",
          "data": {
            "application/vnd.jupyter.widget-view+json": {
              "model_id": "c6391004a3fe4c5a9e2f74c7d15d68d8",
              "version_minor": 0,
              "version_major": 2
            },
            "text/plain": [
              "  0%|          | 0/10 [00:00<?, ?epoch/s]"
            ]
          },
          "metadata": {}
        },
        {
          "output_type": "display_data",
          "data": {
            "image/png": "[encoded data removed]",
            "text/plain": [
              "<Figure size 432x288 with 1 Axes>"
            ]
          },
          "metadata": {
            "needs_background": "light"
          }
        },
        {
          "output_type": "stream",
          "name": "stdout",
          "text": [
            "0.9117777777777778 0.8896666666666667\n"
          ]
        },
        {
          "output_type": "display_data",
          "data": {
            "text/html": [
              "<br/>Waiting for W&B process to finish, PID 1512... <strong style=\"color:green\">(success).</strong>"
            ],
            "text/plain": [
              "<IPython.core.display.HTML object>"
            ]
          },
          "metadata": {}
        },
        {
          "output_type": "display_data",
          "data": {
            "application/vnd.jupyter.widget-view+json": {
              "model_id": "8741efdf741e4815bf7fe06c4af8e901",
              "version_minor": 0,
              "version_major": 2
            },
            "text/plain": [
              "VBox(children=(Label(value=' 0.00MB of 0.00MB uploaded (0.00MB deduped)\\r'), FloatProgress(value=1.0, max=1.0)…"
            ]
          },
          "metadata": {}
        },
        {
          "output_type": "display_data",
          "data": {
            "text/html": [
              "<style>\n",
              "    table.wandb td:nth-child(1) { padding: 0 10px; text-align: right }\n",
              "    .wandb-row { display: flex; flex-direction: row; flex-wrap: wrap; width: 100% }\n",
              "    .wandb-col { display: flex; flex-direction: column; flex-basis: 100%; flex: 1; padding: 10px; }\n",
              "    </style>\n",
              "<div class=\"wandb-row\"><div class=\"wandb-col\">\n",
              "<h3>Run history:</h3><br/><table class=\"wandb\"><tr><td>accuracy</td><td>▁▃▄▅▆▆▇▇██</td></tr><tr><td>epochs</td><td>▁▂▃▃▄▅▆▆▇█</td></tr><tr><td>loss</td><td>█▆▅▄▃▃▂▂▁▁</td></tr><tr><td>val_accuracy</td><td>▁▃▅▆▇▇▇███</td></tr><tr><td>val_loss</td><td>█▅▄▃▂▂▂▁▁▁</td></tr></table><br/></div><div class=\"wandb-col\">\n",
              "<h3>Run summary:</h3><br/><table class=\"wandb\"><tr><td>accuracy</td><td>0.91178</td></tr><tr><td>epochs</td><td>10</td></tr><tr><td>loss</td><td>0.23793</td></tr><tr><td>val_accuracy</td><td>0.88967</td></tr><tr><td>val_loss</td><td>0.30123</td></tr></table>\n",
              "</div></div>\n",
              "Synced 5 W&B file(s), 0 media file(s), 0 artifact file(s) and 0 other file(s)\n",
              "<br/>Synced <strong style=\"color:#cdcd00\">hl_3_bs_128_ac_relu_Cross_Entropy</strong>: <a href=\"https://wandb.ai/026-and-009/DL%201.1/runs/8v73lqr8\" target=\"_blank\">https://wandb.ai/026-and-009/DL%201.1/runs/8v73lqr8</a><br/>\n",
              "Find logs at: <code>./wandb/run-20220222_114231-8v73lqr8/logs</code><br/>\n"
            ],
            "text/plain": [
              "<IPython.core.display.HTML object>"
            ]
          },
          "metadata": {}
        },
        {
          "output_type": "stream",
          "name": "stderr",
          "text": [
            "\u001b[34m\u001b[1mwandb\u001b[0m: Sweep Agent: Waiting for job.\n",
            "\u001b[34m\u001b[1mwandb\u001b[0m: Sweep Agent: Exiting.\n"
          ]
        }
      ],
      "source": [
        "wandb.agent(sweep_id, train)"
      ]
    },
    {
      "cell_type": "code",
      "execution_count": null,
      "metadata": {
        "id": "iFxs32Wd44o9"
      },
      "outputs": [],
      "source": [
        "#ffsn_multi = FFSN_MultiClass(784,10,2,32,init_method='xavier', activation_function='sigmoid')\n",
        "#ffsn_multi.fit(x_train,y_OH_train,epochs=5,learning_rate=0.001,algo= \"RMSProp\",mini_batch_size=32)"
      ]
    },
    {
      "cell_type": "code",
      "execution_count": null,
      "metadata": {
        "id": "gWw9G9MZa4rO"
      },
      "outputs": [],
      "source": [
        "'''\n",
        "reasons :\n",
        "increasing learning rate will lead to fluctuations in the epochs vs loss curve\n",
        "'''"
      ]
    }
  ],
  "metadata": {
    "colab": {
      "collapsed_sections": [],
      "name": "DL_1_4 for graphs.ipynb",
      "provenance": []
    },
    "kernelspec": {
      "display_name": "Python 3",
      "name": "python3"
    },
    "language_info": {
      "name": "python"
    },
    "widgets": {
      "application/vnd.jupyter.widget-state+json": {
        "cd16714fcd8b49bfa3a8f2a5d22b5a0e": {
          "model_module": "@jupyter-widgets/controls",
          "model_name": "VBoxModel",
          "model_module_version": "1.5.0",
          "state": {
            "_view_name": "VBoxView",
            "_dom_classes": [],
            "_model_name": "VBoxModel",
            "_view_module": "@jupyter-widgets/controls",
            "_model_module_version": "1.5.0",
            "_view_count": null,
            "_view_module_version": "1.5.0",
            "box_style": "",
            "layout": "IPY_MODEL_88bdd49eb03d46bdb250dfbd51e49d94",
            "_model_module": "@jupyter-widgets/controls",
            "children": [
              "IPY_MODEL_946360c8e07f46708028f2d798526799",
              "IPY_MODEL_b64b8caed1a943fc8c3e61940ac481b3"
            ]
          }
        },
        "88bdd49eb03d46bdb250dfbd51e49d94": {
          "model_module": "@jupyter-widgets/base",
          "model_name": "LayoutModel",
          "model_module_version": "1.2.0",
          "state": {
            "_view_name": "LayoutView",
            "grid_template_rows": null,
            "right": null,
            "justify_content": null,
            "_view_module": "@jupyter-widgets/base",
            "overflow": null,
            "_model_module_version": "1.2.0",
            "_view_count": null,
            "flex_flow": null,
            "width": null,
            "min_width": null,
            "border": null,
            "align_items": null,
            "bottom": null,
            "_model_module": "@jupyter-widgets/base",
            "top": null,
            "grid_column": null,
            "overflow_y": null,
            "overflow_x": null,
            "grid_auto_flow": null,
            "grid_area": null,
            "grid_template_columns": null,
            "flex": null,
            "_model_name": "LayoutModel",
            "justify_items": null,
            "grid_row": null,
            "max_height": null,
            "align_content": null,
            "visibility": null,
            "align_self": null,
            "height": null,
            "min_height": null,
            "padding": null,
            "grid_auto_rows": null,
            "grid_gap": null,
            "max_width": null,
            "order": null,
            "_view_module_version": "1.2.0",
            "grid_template_areas": null,
            "object_position": null,
            "object_fit": null,
            "grid_auto_columns": null,
            "margin": null,
            "display": null,
            "left": null
          }
        },
        "946360c8e07f46708028f2d798526799": {
          "model_module": "@jupyter-widgets/controls",
          "model_name": "LabelModel",
          "model_module_version": "1.5.0",
          "state": {
            "_view_name": "LabelView",
            "style": "IPY_MODEL_c9fa9f5000334c58ac37fe49463dc048",
            "_dom_classes": [],
            "description": "",
            "_model_name": "LabelModel",
            "placeholder": "​",
            "_view_module": "@jupyter-widgets/controls",
            "_model_module_version": "1.5.0",
            "value": " 0.01MB of 0.01MB uploaded (0.00MB deduped)\r",
            "_view_count": null,
            "_view_module_version": "1.5.0",
            "description_tooltip": null,
            "_model_module": "@jupyter-widgets/controls",
            "layout": "IPY_MODEL_6d3c5445b1dc41e9947a8ec686506372"
          }
        },
        "b64b8caed1a943fc8c3e61940ac481b3": {
          "model_module": "@jupyter-widgets/controls",
          "model_name": "FloatProgressModel",
          "model_module_version": "1.5.0",
          "state": {
            "_view_name": "ProgressView",
            "style": "IPY_MODEL_1bd60b09af954a8f9fdcff4061a21566",
            "_dom_classes": [],
            "description": "",
            "_model_name": "FloatProgressModel",
            "bar_style": "",
            "max": 1,
            "_view_module": "@jupyter-widgets/controls",
            "_model_module_version": "1.5.0",
            "value": 1,
            "_view_count": null,
            "_view_module_version": "1.5.0",
            "orientation": "horizontal",
            "min": 0,
            "description_tooltip": null,
            "_model_module": "@jupyter-widgets/controls",
            "layout": "IPY_MODEL_dc90dc40c7484b78b9cc388143342dc9"
          }
        },
        "c9fa9f5000334c58ac37fe49463dc048": {
          "model_module": "@jupyter-widgets/controls",
          "model_name": "DescriptionStyleModel",
          "model_module_version": "1.5.0",
          "state": {
            "_view_name": "StyleView",
            "_model_name": "DescriptionStyleModel",
            "description_width": "",
            "_view_module": "@jupyter-widgets/base",
            "_model_module_version": "1.5.0",
            "_view_count": null,
            "_view_module_version": "1.2.0",
            "_model_module": "@jupyter-widgets/controls"
          }
        },
        "6d3c5445b1dc41e9947a8ec686506372": {
          "model_module": "@jupyter-widgets/base",
          "model_name": "LayoutModel",
          "model_module_version": "1.2.0",
          "state": {
            "_view_name": "LayoutView",
            "grid_template_rows": null,
            "right": null,
            "justify_content": null,
            "_view_module": "@jupyter-widgets/base",
            "overflow": null,
            "_model_module_version": "1.2.0",
            "_view_count": null,
            "flex_flow": null,
            "width": null,
            "min_width": null,
            "border": null,
            "align_items": null,
            "bottom": null,
            "_model_module": "@jupyter-widgets/base",
            "top": null,
            "grid_column": null,
            "overflow_y": null,
            "overflow_x": null,
            "grid_auto_flow": null,
            "grid_area": null,
            "grid_template_columns": null,
            "flex": null,
            "_model_name": "LayoutModel",
            "justify_items": null,
            "grid_row": null,
            "max_height": null,
            "align_content": null,
            "visibility": null,
            "align_self": null,
            "height": null,
            "min_height": null,
            "padding": null,
            "grid_auto_rows": null,
            "grid_gap": null,
            "max_width": null,
            "order": null,
            "_view_module_version": "1.2.0",
            "grid_template_areas": null,
            "object_position": null,
            "object_fit": null,
            "grid_auto_columns": null,
            "margin": null,
            "display": null,
            "left": null
          }
        },
        "1bd60b09af954a8f9fdcff4061a21566": {
          "model_module": "@jupyter-widgets/controls",
          "model_name": "ProgressStyleModel",
          "model_module_version": "1.5.0",
          "state": {
            "_view_name": "StyleView",
            "_model_name": "ProgressStyleModel",
            "description_width": "",
            "_view_module": "@jupyter-widgets/base",
            "_model_module_version": "1.5.0",
            "_view_count": null,
            "_view_module_version": "1.2.0",
            "bar_color": null,
            "_model_module": "@jupyter-widgets/controls"
          }
        },
        "dc90dc40c7484b78b9cc388143342dc9": {
          "model_module": "@jupyter-widgets/base",
          "model_name": "LayoutModel",
          "model_module_version": "1.2.0",
          "state": {
            "_view_name": "LayoutView",
            "grid_template_rows": null,
            "right": null,
            "justify_content": null,
            "_view_module": "@jupyter-widgets/base",
            "overflow": null,
            "_model_module_version": "1.2.0",
            "_view_count": null,
            "flex_flow": null,
            "width": null,
            "min_width": null,
            "border": null,
            "align_items": null,
            "bottom": null,
            "_model_module": "@jupyter-widgets/base",
            "top": null,
            "grid_column": null,
            "overflow_y": null,
            "overflow_x": null,
            "grid_auto_flow": null,
            "grid_area": null,
            "grid_template_columns": null,
            "flex": null,
            "_model_name": "LayoutModel",
            "justify_items": null,
            "grid_row": null,
            "max_height": null,
            "align_content": null,
            "visibility": null,
            "align_self": null,
            "height": null,
            "min_height": null,
            "padding": null,
            "grid_auto_rows": null,
            "grid_gap": null,
            "max_width": null,
            "order": null,
            "_view_module_version": "1.2.0",
            "grid_template_areas": null,
            "object_position": null,
            "object_fit": null,
            "grid_auto_columns": null,
            "margin": null,
            "display": null,
            "left": null
          }
        },
        "c6391004a3fe4c5a9e2f74c7d15d68d8": {
          "model_module": "@jupyter-widgets/controls",
          "model_name": "HBoxModel",
          "model_module_version": "1.5.0",
          "state": {
            "_view_name": "HBoxView",
            "_dom_classes": [],
            "_model_name": "HBoxModel",
            "_view_module": "@jupyter-widgets/controls",
            "_model_module_version": "1.5.0",
            "_view_count": null,
            "_view_module_version": "1.5.0",
            "box_style": "",
            "layout": "IPY_MODEL_5f5a1678542349449f37a1c07f6fad0d",
            "_model_module": "@jupyter-widgets/controls",
            "children": [
              "IPY_MODEL_049b86be2a394381baa0b71e3cb367dc",
              "IPY_MODEL_3b527c8adac641ee8c0a0e0b635855de",
              "IPY_MODEL_2266714eaeac4f6288de4fe00fb82d9a"
            ]
          }
        },
        "5f5a1678542349449f37a1c07f6fad0d": {
          "model_module": "@jupyter-widgets/base",
          "model_name": "LayoutModel",
          "model_module_version": "1.2.0",
          "state": {
            "_view_name": "LayoutView",
            "grid_template_rows": null,
            "right": null,
            "justify_content": null,
            "_view_module": "@jupyter-widgets/base",
            "overflow": null,
            "_model_module_version": "1.2.0",
            "_view_count": null,
            "flex_flow": null,
            "width": null,
            "min_width": null,
            "border": null,
            "align_items": null,
            "bottom": null,
            "_model_module": "@jupyter-widgets/base",
            "top": null,
            "grid_column": null,
            "overflow_y": null,
            "overflow_x": null,
            "grid_auto_flow": null,
            "grid_area": null,
            "grid_template_columns": null,
            "flex": null,
            "_model_name": "LayoutModel",
            "justify_items": null,
            "grid_row": null,
            "max_height": null,
            "align_content": null,
            "visibility": null,
            "align_self": null,
            "height": null,
            "min_height": null,
            "padding": null,
            "grid_auto_rows": null,
            "grid_gap": null,
            "max_width": null,
            "order": null,
            "_view_module_version": "1.2.0",
            "grid_template_areas": null,
            "object_position": null,
            "object_fit": null,
            "grid_auto_columns": null,
            "margin": null,
            "display": null,
            "left": null
          }
        },
        "049b86be2a394381baa0b71e3cb367dc": {
          "model_module": "@jupyter-widgets/controls",
          "model_name": "HTMLModel",
          "model_module_version": "1.5.0",
          "state": {
            "_view_name": "HTMLView",
            "style": "IPY_MODEL_392ab088a42242e098f4f8016d77c70b",
            "_dom_classes": [],
            "description": "",
            "_model_name": "HTMLModel",
            "placeholder": "​",
            "_view_module": "@jupyter-widgets/controls",
            "_model_module_version": "1.5.0",
            "value": "100%",
            "_view_count": null,
            "_view_module_version": "1.5.0",
            "description_tooltip": null,
            "_model_module": "@jupyter-widgets/controls",
            "layout": "IPY_MODEL_364f157ce9f64ef0a6d64ff9298445ec"
          }
        },
        "3b527c8adac641ee8c0a0e0b635855de": {
          "model_module": "@jupyter-widgets/controls",
          "model_name": "FloatProgressModel",
          "model_module_version": "1.5.0",
          "state": {
            "_view_name": "ProgressView",
            "style": "IPY_MODEL_ed433c2c4be54c7eb010e17b60e8e3a9",
            "_dom_classes": [],
            "description": "",
            "_model_name": "FloatProgressModel",
            "bar_style": "success",
            "max": 10,
            "_view_module": "@jupyter-widgets/controls",
            "_model_module_version": "1.5.0",
            "value": 10,
            "_view_count": null,
            "_view_module_version": "1.5.0",
            "orientation": "horizontal",
            "min": 0,
            "description_tooltip": null,
            "_model_module": "@jupyter-widgets/controls",
            "layout": "IPY_MODEL_6766288d7c024da5bdb3eadb3dfeee45"
          }
        },
        "2266714eaeac4f6288de4fe00fb82d9a": {
          "model_module": "@jupyter-widgets/controls",
          "model_name": "HTMLModel",
          "model_module_version": "1.5.0",
          "state": {
            "_view_name": "HTMLView",
            "style": "IPY_MODEL_773d8da50bc9494d83d5025e9a35380e",
            "_dom_classes": [],
            "description": "",
            "_model_name": "HTMLModel",
            "placeholder": "​",
            "_view_module": "@jupyter-widgets/controls",
            "_model_module_version": "1.5.0",
            "value": " 10/10 [12:03&lt;00:00, 72.30s/epoch]",
            "_view_count": null,
            "_view_module_version": "1.5.0",
            "description_tooltip": null,
            "_model_module": "@jupyter-widgets/controls",
            "layout": "IPY_MODEL_e5c72460e08d42c79656d6e2ad4a8b6f"
          }
        },
        "392ab088a42242e098f4f8016d77c70b": {
          "model_module": "@jupyter-widgets/controls",
          "model_name": "DescriptionStyleModel",
          "model_module_version": "1.5.0",
          "state": {
            "_view_name": "StyleView",
            "_model_name": "DescriptionStyleModel",
            "description_width": "",
            "_view_module": "@jupyter-widgets/base",
            "_model_module_version": "1.5.0",
            "_view_count": null,
            "_view_module_version": "1.2.0",
            "_model_module": "@jupyter-widgets/controls"
          }
        },
        "364f157ce9f64ef0a6d64ff9298445ec": {
          "model_module": "@jupyter-widgets/base",
          "model_name": "LayoutModel",
          "model_module_version": "1.2.0",
          "state": {
            "_view_name": "LayoutView",
            "grid_template_rows": null,
            "right": null,
            "justify_content": null,
            "_view_module": "@jupyter-widgets/base",
            "overflow": null,
            "_model_module_version": "1.2.0",
            "_view_count": null,
            "flex_flow": null,
            "width": null,
            "min_width": null,
            "border": null,
            "align_items": null,
            "bottom": null,
            "_model_module": "@jupyter-widgets/base",
            "top": null,
            "grid_column": null,
            "overflow_y": null,
            "overflow_x": null,
            "grid_auto_flow": null,
            "grid_area": null,
            "grid_template_columns": null,
            "flex": null,
            "_model_name": "LayoutModel",
            "justify_items": null,
            "grid_row": null,
            "max_height": null,
            "align_content": null,
            "visibility": null,
            "align_self": null,
            "height": null,
            "min_height": null,
            "padding": null,
            "grid_auto_rows": null,
            "grid_gap": null,
            "max_width": null,
            "order": null,
            "_view_module_version": "1.2.0",
            "grid_template_areas": null,
            "object_position": null,
            "object_fit": null,
            "grid_auto_columns": null,
            "margin": null,
            "display": null,
            "left": null
          }
        },
        "ed433c2c4be54c7eb010e17b60e8e3a9": {
          "model_module": "@jupyter-widgets/controls",
          "model_name": "ProgressStyleModel",
          "model_module_version": "1.5.0",
          "state": {
            "_view_name": "StyleView",
            "_model_name": "ProgressStyleModel",
            "description_width": "",
            "_view_module": "@jupyter-widgets/base",
            "_model_module_version": "1.5.0",
            "_view_count": null,
            "_view_module_version": "1.2.0",
            "bar_color": null,
            "_model_module": "@jupyter-widgets/controls"
          }
        },
        "6766288d7c024da5bdb3eadb3dfeee45": {
          "model_module": "@jupyter-widgets/base",
          "model_name": "LayoutModel",
          "model_module_version": "1.2.0",
          "state": {
            "_view_name": "LayoutView",
            "grid_template_rows": null,
            "right": null,
            "justify_content": null,
            "_view_module": "@jupyter-widgets/base",
            "overflow": null,
            "_model_module_version": "1.2.0",
            "_view_count": null,
            "flex_flow": null,
            "width": null,
            "min_width": null,
            "border": null,
            "align_items": null,
            "bottom": null,
            "_model_module": "@jupyter-widgets/base",
            "top": null,
            "grid_column": null,
            "overflow_y": null,
            "overflow_x": null,
            "grid_auto_flow": null,
            "grid_area": null,
            "grid_template_columns": null,
            "flex": null,
            "_model_name": "LayoutModel",
            "justify_items": null,
            "grid_row": null,
            "max_height": null,
            "align_content": null,
            "visibility": null,
            "align_self": null,
            "height": null,
            "min_height": null,
            "padding": null,
            "grid_auto_rows": null,
            "grid_gap": null,
            "max_width": null,
            "order": null,
            "_view_module_version": "1.2.0",
            "grid_template_areas": null,
            "object_position": null,
            "object_fit": null,
            "grid_auto_columns": null,
            "margin": null,
            "display": null,
            "left": null
          }
        },
        "773d8da50bc9494d83d5025e9a35380e": {
          "model_module": "@jupyter-widgets/controls",
          "model_name": "DescriptionStyleModel",
          "model_module_version": "1.5.0",
          "state": {
            "_view_name": "StyleView",
            "_model_name": "DescriptionStyleModel",
            "description_width": "",
            "_view_module": "@jupyter-widgets/base",
            "_model_module_version": "1.5.0",
            "_view_count": null,
            "_view_module_version": "1.2.0",
            "_model_module": "@jupyter-widgets/controls"
          }
        },
        "e5c72460e08d42c79656d6e2ad4a8b6f": {
          "model_module": "@jupyter-widgets/base",
          "model_name": "LayoutModel",
          "model_module_version": "1.2.0",
          "state": {
            "_view_name": "LayoutView",
            "grid_template_rows": null,
            "right": null,
            "justify_content": null,
            "_view_module": "@jupyter-widgets/base",
            "overflow": null,
            "_model_module_version": "1.2.0",
            "_view_count": null,
            "flex_flow": null,
            "width": null,
            "min_width": null,
            "border": null,
            "align_items": null,
            "bottom": null,
            "_model_module": "@jupyter-widgets/base",
            "top": null,
            "grid_column": null,
            "overflow_y": null,
            "overflow_x": null,
            "grid_auto_flow": null,
            "grid_area": null,
            "grid_template_columns": null,
            "flex": null,
            "_model_name": "LayoutModel",
            "justify_items": null,
            "grid_row": null,
            "max_height": null,
            "align_content": null,
            "visibility": null,
            "align_self": null,
            "height": null,
            "min_height": null,
            "padding": null,
            "grid_auto_rows": null,
            "grid_gap": null,
            "max_width": null,
            "order": null,
            "_view_module_version": "1.2.0",
            "grid_template_areas": null,
            "object_position": null,
            "object_fit": null,
            "grid_auto_columns": null,
            "margin": null,
            "display": null,
            "left": null
          }
        },
        "8741efdf741e4815bf7fe06c4af8e901": {
          "model_module": "@jupyter-widgets/controls",
          "model_name": "VBoxModel",
          "model_module_version": "1.5.0",
          "state": {
            "_view_name": "VBoxView",
            "_dom_classes": [],
            "_model_name": "VBoxModel",
            "_view_module": "@jupyter-widgets/controls",
            "_model_module_version": "1.5.0",
            "_view_count": null,
            "_view_module_version": "1.5.0",
            "box_style": "",
            "layout": "IPY_MODEL_c7efaad431174c898c1b47f87bf5aaa0",
            "_model_module": "@jupyter-widgets/controls",
            "children": [
              "IPY_MODEL_78bea490204c480a8e1590aa813ac9b4",
              "IPY_MODEL_84de895ecd08427d8e1b67e6c2ff4c77"
            ]
          }
        },
        "c7efaad431174c898c1b47f87bf5aaa0": {
          "model_module": "@jupyter-widgets/base",
          "model_name": "LayoutModel",
          "model_module_version": "1.2.0",
          "state": {
            "_view_name": "LayoutView",
            "grid_template_rows": null,
            "right": null,
            "justify_content": null,
            "_view_module": "@jupyter-widgets/base",
            "overflow": null,
            "_model_module_version": "1.2.0",
            "_view_count": null,
            "flex_flow": null,
            "width": null,
            "min_width": null,
            "border": null,
            "align_items": null,
            "bottom": null,
            "_model_module": "@jupyter-widgets/base",
            "top": null,
            "grid_column": null,
            "overflow_y": null,
            "overflow_x": null,
            "grid_auto_flow": null,
            "grid_area": null,
            "grid_template_columns": null,
            "flex": null,
            "_model_name": "LayoutModel",
            "justify_items": null,
            "grid_row": null,
            "max_height": null,
            "align_content": null,
            "visibility": null,
            "align_self": null,
            "height": null,
            "min_height": null,
            "padding": null,
            "grid_auto_rows": null,
            "grid_gap": null,
            "max_width": null,
            "order": null,
            "_view_module_version": "1.2.0",
            "grid_template_areas": null,
            "object_position": null,
            "object_fit": null,
            "grid_auto_columns": null,
            "margin": null,
            "display": null,
            "left": null
          }
        },
        "78bea490204c480a8e1590aa813ac9b4": {
          "model_module": "@jupyter-widgets/controls",
          "model_name": "LabelModel",
          "model_module_version": "1.5.0",
          "state": {
            "_view_name": "LabelView",
            "style": "IPY_MODEL_fc925e78fecd44f8b0856a5620d21fd7",
            "_dom_classes": [],
            "description": "",
            "_model_name": "LabelModel",
            "placeholder": "​",
            "_view_module": "@jupyter-widgets/controls",
            "_model_module_version": "1.5.0",
            "value": " 0.01MB of 0.01MB uploaded (0.00MB deduped)\r",
            "_view_count": null,
            "_view_module_version": "1.5.0",
            "description_tooltip": null,
            "_model_module": "@jupyter-widgets/controls",
            "layout": "IPY_MODEL_6a75bb7f58eb4436bfdc0f488c2f48d1"
          }
        },
        "84de895ecd08427d8e1b67e6c2ff4c77": {
          "model_module": "@jupyter-widgets/controls",
          "model_name": "FloatProgressModel",
          "model_module_version": "1.5.0",
          "state": {
            "_view_name": "ProgressView",
            "style": "IPY_MODEL_71e4f3fa582040d7bafeac295e4ea74e",
            "_dom_classes": [],
            "description": "",
            "_model_name": "FloatProgressModel",
            "bar_style": "",
            "max": 1,
            "_view_module": "@jupyter-widgets/controls",
            "_model_module_version": "1.5.0",
            "value": 1,
            "_view_count": null,
            "_view_module_version": "1.5.0",
            "orientation": "horizontal",
            "min": 0,
            "description_tooltip": null,
            "_model_module": "@jupyter-widgets/controls",
            "layout": "IPY_MODEL_c224fdb7fabf4dbabf1237a5c2564eaf"
          }
        },
        "fc925e78fecd44f8b0856a5620d21fd7": {
          "model_module": "@jupyter-widgets/controls",
          "model_name": "DescriptionStyleModel",
          "model_module_version": "1.5.0",
          "state": {
            "_view_name": "StyleView",
            "_model_name": "DescriptionStyleModel",
            "description_width": "",
            "_view_module": "@jupyter-widgets/base",
            "_model_module_version": "1.5.0",
            "_view_count": null,
            "_view_module_version": "1.2.0",
            "_model_module": "@jupyter-widgets/controls"
          }
        },
        "6a75bb7f58eb4436bfdc0f488c2f48d1": {
          "model_module": "@jupyter-widgets/base",
          "model_name": "LayoutModel",
          "model_module_version": "1.2.0",
          "state": {
            "_view_name": "LayoutView",
            "grid_template_rows": null,
            "right": null,
            "justify_content": null,
            "_view_module": "@jupyter-widgets/base",
            "overflow": null,
            "_model_module_version": "1.2.0",
            "_view_count": null,
            "flex_flow": null,
            "width": null,
            "min_width": null,
            "border": null,
            "align_items": null,
            "bottom": null,
            "_model_module": "@jupyter-widgets/base",
            "top": null,
            "grid_column": null,
            "overflow_y": null,
            "overflow_x": null,
            "grid_auto_flow": null,
            "grid_area": null,
            "grid_template_columns": null,
            "flex": null,
            "_model_name": "LayoutModel",
            "justify_items": null,
            "grid_row": null,
            "max_height": null,
            "align_content": null,
            "visibility": null,
            "align_self": null,
            "height": null,
            "min_height": null,
            "padding": null,
            "grid_auto_rows": null,
            "grid_gap": null,
            "max_width": null,
            "order": null,
            "_view_module_version": "1.2.0",
            "grid_template_areas": null,
            "object_position": null,
            "object_fit": null,
            "grid_auto_columns": null,
            "margin": null,
            "display": null,
            "left": null
          }
        },
        "71e4f3fa582040d7bafeac295e4ea74e": {
          "model_module": "@jupyter-widgets/controls",
          "model_name": "ProgressStyleModel",
          "model_module_version": "1.5.0",
          "state": {
            "_view_name": "StyleView",
            "_model_name": "ProgressStyleModel",
            "description_width": "",
            "_view_module": "@jupyter-widgets/base",
            "_model_module_version": "1.5.0",
            "_view_count": null,
            "_view_module_version": "1.2.0",
            "bar_color": null,
            "_model_module": "@jupyter-widgets/controls"
          }
        },
        "c224fdb7fabf4dbabf1237a5c2564eaf": {
          "model_module": "@jupyter-widgets/base",
          "model_name": "LayoutModel",
          "model_module_version": "1.2.0",
          "state": {
            "_view_name": "LayoutView",
            "grid_template_rows": null,
            "right": null,
            "justify_content": null,
            "_view_module": "@jupyter-widgets/base",
            "overflow": null,
            "_model_module_version": "1.2.0",
            "_view_count": null,
            "flex_flow": null,
            "width": null,
            "min_width": null,
            "border": null,
            "align_items": null,
            "bottom": null,
            "_model_module": "@jupyter-widgets/base",
            "top": null,
            "grid_column": null,
            "overflow_y": null,
            "overflow_x": null,
            "grid_auto_flow": null,
            "grid_area": null,
            "grid_template_columns": null,
            "flex": null,
            "_model_name": "LayoutModel",
            "justify_items": null,
            "grid_row": null,
            "max_height": null,
            "align_content": null,
            "visibility": null,
            "align_self": null,
            "height": null,
            "min_height": null,
            "padding": null,
            "grid_auto_rows": null,
            "grid_gap": null,
            "max_width": null,
            "order": null,
            "_view_module_version": "1.2.0",
            "grid_template_areas": null,
            "object_position": null,
            "object_fit": null,
            "grid_auto_columns": null,
            "margin": null,
            "display": null,
            "left": null
          }
        }
      }
    }
  },
  "nbformat": 4,
  "nbformat_minor": 0
}